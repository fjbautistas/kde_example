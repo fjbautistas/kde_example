{
 "cells": [
  {
   "cell_type": "markdown",
   "metadata": {},
   "source": [
    "# Posterior and Marginal distributions\n",
    "\n",
    "This notebook is the continuation of `bandwidths.ipynb` notebook, apliying the bw results and the class for get the n-dimentional PDF. \n",
    "\n",
    "#### Some considerations: \n",
    "1. As **prior** information we will take the cleaned (without NaN or inf values) information from exoplanet.eu, this is the first part of notebook.\n",
    "\n",
    "2. The PDF from `oiptimal_pdf` class  fulfills the functions of **likelihood** for a certain number of variables in synthetic systems with no-pertutbation, low perturbation and high perturbation. \n",
    "\n",
    "3. To get the **marginal** distributions of a variable of interest, we go in the same way that the example marginalization in the notebook `3D.ipynb`."
   ]
  },
  {
   "cell_type": "code",
   "execution_count": 5,
   "metadata": {},
   "outputs": [],
   "source": [
    "import numpy as np\n",
    "import pandas as pd\n",
    "from scipy import stats\n",
    "import matplotlib.pyplot as plt\n",
    "import warnings; warnings.simplefilter('ignore')"
   ]
  },
  {
   "cell_type": "code",
   "execution_count": 6,
   "metadata": {},
   "outputs": [
    {
     "data": {
      "text/html": [
       "\n",
       "<style>\n",
       ".output_png {\n",
       "    display: table-cell;\n",
       "    text-align: center;\n",
       "    vertical-align: middle;\n",
       "}\n",
       "</style>\n"
      ],
      "text/plain": [
       "<IPython.core.display.HTML object>"
      ]
     },
     "execution_count": 6,
     "metadata": {},
     "output_type": "execute_result"
    }
   ],
   "source": [
    "from IPython.core.display import HTML\n",
    "HTML(\"\"\"\n",
    "<style>\n",
    ".output_png {\n",
    "    display: table-cell;\n",
    "    text-align: center;\n",
    "    vertical-align: middle;\n",
    "}\n",
    "</style>\n",
    "\"\"\")"
   ]
  },
  {
   "cell_type": "markdown",
   "metadata": {},
   "source": [
    "## 1. Data Cleaning\n",
    "\n",
    "### 1.1 Simulation data   \n",
    "\n",
    "see the notation according to <a href=\"https://github.com/saint-germain/population_synthesis/blob/master/README.md \">Readme.md</a> from `Population_synthesis` project.\n",
    "\n",
    "\n",
    "\n"
   ]
  },
  {
   "cell_type": "code",
   "execution_count": 7,
   "metadata": {},
   "outputs": [],
   "source": [
    "#========================== Simulation Data ==========================\n",
    "dn=pd.read_csv('data/proc_no_pert.csv',index_col=None); dn[\"gia\"]=dn.ngi>0 #without pertubtations \n",
    "dl=pd.read_csv('data/proc_lo_pert.csv',index_col=None); dl[\"gia\"]=dl.ngi>0 #with low pertubtations \n",
    "dh=pd.read_csv('data/proc_hi_pert.csv',index_col=None); dh[\"gia\"]=dh.ngi>0 #with high pertubtations"
   ]
  },
  {
   "cell_type": "code",
   "execution_count": 8,
   "metadata": {},
   "outputs": [
    {
     "data": {
      "text/html": [
       "<div>\n",
       "<style scoped>\n",
       "    .dataframe tbody tr th:only-of-type {\n",
       "        vertical-align: middle;\n",
       "    }\n",
       "\n",
       "    .dataframe tbody tr th {\n",
       "        vertical-align: top;\n",
       "    }\n",
       "\n",
       "    .dataframe thead th {\n",
       "        text-align: right;\n",
       "    }\n",
       "</style>\n",
       "<table border=\"1\" class=\"dataframe\">\n",
       "  <thead>\n",
       "    <tr style=\"text-align: right;\">\n",
       "      <th></th>\n",
       "      <th>Unnamed: 0</th>\n",
       "      <th>ident</th>\n",
       "      <th>com</th>\n",
       "      <th>nplanets</th>\n",
       "      <th>massbudget</th>\n",
       "      <th>massefficiency</th>\n",
       "      <th>sigmag0</th>\n",
       "      <th>md</th>\n",
       "      <th>rc</th>\n",
       "      <th>ms</th>\n",
       "      <th>metal</th>\n",
       "      <th>taugas</th>\n",
       "      <th>qest</th>\n",
       "      <th>ngi</th>\n",
       "      <th>mtr</th>\n",
       "      <th>apert</th>\n",
       "      <th>gia</th>\n",
       "    </tr>\n",
       "  </thead>\n",
       "  <tbody>\n",
       "    <tr>\n",
       "      <th>0</th>\n",
       "      <td>0</td>\n",
       "      <td>3.0</td>\n",
       "      <td>0.528895</td>\n",
       "      <td>12.0</td>\n",
       "      <td>5818.115137</td>\n",
       "      <td>0.311685</td>\n",
       "      <td>90.793337</td>\n",
       "      <td>0.056</td>\n",
       "      <td>29.539343</td>\n",
       "      <td>0.880114</td>\n",
       "      <td>0.328146</td>\n",
       "      <td>1.644711e+06</td>\n",
       "      <td>8.421395</td>\n",
       "      <td>3.0</td>\n",
       "      <td>9.132650</td>\n",
       "      <td>0.3</td>\n",
       "      <td>True</td>\n",
       "    </tr>\n",
       "    <tr>\n",
       "      <th>1</th>\n",
       "      <td>1</td>\n",
       "      <td>5.0</td>\n",
       "      <td>2.406300</td>\n",
       "      <td>13.0</td>\n",
       "      <td>31.567339</td>\n",
       "      <td>0.000861</td>\n",
       "      <td>102.431593</td>\n",
       "      <td>0.110</td>\n",
       "      <td>38.977428</td>\n",
       "      <td>1.075269</td>\n",
       "      <td>-0.150160</td>\n",
       "      <td>1.014449e+06</td>\n",
       "      <td>5.464831</td>\n",
       "      <td>1.0</td>\n",
       "      <td>17.678581</td>\n",
       "      <td>0.3</td>\n",
       "      <td>True</td>\n",
       "    </tr>\n",
       "    <tr>\n",
       "      <th>2</th>\n",
       "      <td>2</td>\n",
       "      <td>6.0</td>\n",
       "      <td>1.082299</td>\n",
       "      <td>9.0</td>\n",
       "      <td>5886.747227</td>\n",
       "      <td>0.147169</td>\n",
       "      <td>75.740878</td>\n",
       "      <td>0.120</td>\n",
       "      <td>47.343380</td>\n",
       "      <td>0.861595</td>\n",
       "      <td>0.021273</td>\n",
       "      <td>1.790533e+06</td>\n",
       "      <td>4.412694</td>\n",
       "      <td>1.0</td>\n",
       "      <td>8.262408</td>\n",
       "      <td>0.3</td>\n",
       "      <td>True</td>\n",
       "    </tr>\n",
       "    <tr>\n",
       "      <th>3</th>\n",
       "      <td>3</td>\n",
       "      <td>8.0</td>\n",
       "      <td>7.503351</td>\n",
       "      <td>9.0</td>\n",
       "      <td>7.884462</td>\n",
       "      <td>0.000158</td>\n",
       "      <td>62.737337</td>\n",
       "      <td>0.150</td>\n",
       "      <td>58.158928</td>\n",
       "      <td>1.076658</td>\n",
       "      <td>-0.282408</td>\n",
       "      <td>6.017040e+06</td>\n",
       "      <td>4.704798</td>\n",
       "      <td>0.0</td>\n",
       "      <td>7.884462</td>\n",
       "      <td>0.3</td>\n",
       "      <td>False</td>\n",
       "    </tr>\n",
       "    <tr>\n",
       "      <th>4</th>\n",
       "      <td>4</td>\n",
       "      <td>13.0</td>\n",
       "      <td>5.247285</td>\n",
       "      <td>12.0</td>\n",
       "      <td>33.730980</td>\n",
       "      <td>0.000595</td>\n",
       "      <td>178.830700</td>\n",
       "      <td>0.170</td>\n",
       "      <td>36.672222</td>\n",
       "      <td>1.206445</td>\n",
       "      <td>-0.174039</td>\n",
       "      <td>3.956708e+06</td>\n",
       "      <td>3.998513</td>\n",
       "      <td>1.0</td>\n",
       "      <td>8.003117</td>\n",
       "      <td>0.3</td>\n",
       "      <td>True</td>\n",
       "    </tr>\n",
       "    <tr>\n",
       "      <th>...</th>\n",
       "      <td>...</td>\n",
       "      <td>...</td>\n",
       "      <td>...</td>\n",
       "      <td>...</td>\n",
       "      <td>...</td>\n",
       "      <td>...</td>\n",
       "      <td>...</td>\n",
       "      <td>...</td>\n",
       "      <td>...</td>\n",
       "      <td>...</td>\n",
       "      <td>...</td>\n",
       "      <td>...</td>\n",
       "      <td>...</td>\n",
       "      <td>...</td>\n",
       "      <td>...</td>\n",
       "      <td>...</td>\n",
       "      <td>...</td>\n",
       "    </tr>\n",
       "    <tr>\n",
       "      <th>1215</th>\n",
       "      <td>1215</td>\n",
       "      <td>1986.0</td>\n",
       "      <td>12.440745</td>\n",
       "      <td>9.0</td>\n",
       "      <td>8.044003</td>\n",
       "      <td>0.000186</td>\n",
       "      <td>67.259972</td>\n",
       "      <td>0.130</td>\n",
       "      <td>52.291023</td>\n",
       "      <td>1.311738</td>\n",
       "      <td>0.433273</td>\n",
       "      <td>1.676370e+06</td>\n",
       "      <td>6.083371</td>\n",
       "      <td>0.0</td>\n",
       "      <td>8.044003</td>\n",
       "      <td>0.3</td>\n",
       "      <td>False</td>\n",
       "    </tr>\n",
       "    <tr>\n",
       "      <th>1216</th>\n",
       "      <td>1216</td>\n",
       "      <td>2000.0</td>\n",
       "      <td>6.628033</td>\n",
       "      <td>8.0</td>\n",
       "      <td>5.800044</td>\n",
       "      <td>0.000260</td>\n",
       "      <td>49.970648</td>\n",
       "      <td>0.067</td>\n",
       "      <td>43.552563</td>\n",
       "      <td>0.931718</td>\n",
       "      <td>-0.024903</td>\n",
       "      <td>4.133365e+06</td>\n",
       "      <td>8.211275</td>\n",
       "      <td>0.0</td>\n",
       "      <td>5.800044</td>\n",
       "      <td>0.3</td>\n",
       "      <td>False</td>\n",
       "    </tr>\n",
       "    <tr>\n",
       "      <th>1217</th>\n",
       "      <td>1217</td>\n",
       "      <td>2016.0</td>\n",
       "      <td>4.683206</td>\n",
       "      <td>15.0</td>\n",
       "      <td>15.961819</td>\n",
       "      <td>0.000737</td>\n",
       "      <td>25.713642</td>\n",
       "      <td>0.065</td>\n",
       "      <td>59.801033</td>\n",
       "      <td>0.769634</td>\n",
       "      <td>0.089832</td>\n",
       "      <td>3.428934e+06</td>\n",
       "      <td>7.552914</td>\n",
       "      <td>0.0</td>\n",
       "      <td>15.961819</td>\n",
       "      <td>0.3</td>\n",
       "      <td>False</td>\n",
       "    </tr>\n",
       "    <tr>\n",
       "      <th>1218</th>\n",
       "      <td>1218</td>\n",
       "      <td>2032.0</td>\n",
       "      <td>9.047363</td>\n",
       "      <td>10.0</td>\n",
       "      <td>7.994991</td>\n",
       "      <td>0.000171</td>\n",
       "      <td>139.990476</td>\n",
       "      <td>0.140</td>\n",
       "      <td>37.613918</td>\n",
       "      <td>0.891085</td>\n",
       "      <td>-0.186370</td>\n",
       "      <td>4.892052e+06</td>\n",
       "      <td>3.538260</td>\n",
       "      <td>0.0</td>\n",
       "      <td>7.994991</td>\n",
       "      <td>0.3</td>\n",
       "      <td>False</td>\n",
       "    </tr>\n",
       "    <tr>\n",
       "      <th>1219</th>\n",
       "      <td>1219</td>\n",
       "      <td>2048.0</td>\n",
       "      <td>4.463533</td>\n",
       "      <td>14.0</td>\n",
       "      <td>12.219107</td>\n",
       "      <td>0.000436</td>\n",
       "      <td>44.686977</td>\n",
       "      <td>0.084</td>\n",
       "      <td>51.568317</td>\n",
       "      <td>1.296964</td>\n",
       "      <td>-0.249767</td>\n",
       "      <td>8.787253e+06</td>\n",
       "      <td>9.493392</td>\n",
       "      <td>0.0</td>\n",
       "      <td>12.219107</td>\n",
       "      <td>0.3</td>\n",
       "      <td>False</td>\n",
       "    </tr>\n",
       "  </tbody>\n",
       "</table>\n",
       "<p>1220 rows × 17 columns</p>\n",
       "</div>"
      ],
      "text/plain": [
       "      Unnamed: 0   ident        com  nplanets   massbudget  massefficiency  \\\n",
       "0              0     3.0   0.528895      12.0  5818.115137        0.311685   \n",
       "1              1     5.0   2.406300      13.0    31.567339        0.000861   \n",
       "2              2     6.0   1.082299       9.0  5886.747227        0.147169   \n",
       "3              3     8.0   7.503351       9.0     7.884462        0.000158   \n",
       "4              4    13.0   5.247285      12.0    33.730980        0.000595   \n",
       "...          ...     ...        ...       ...          ...             ...   \n",
       "1215        1215  1986.0  12.440745       9.0     8.044003        0.000186   \n",
       "1216        1216  2000.0   6.628033       8.0     5.800044        0.000260   \n",
       "1217        1217  2016.0   4.683206      15.0    15.961819        0.000737   \n",
       "1218        1218  2032.0   9.047363      10.0     7.994991        0.000171   \n",
       "1219        1219  2048.0   4.463533      14.0    12.219107        0.000436   \n",
       "\n",
       "         sigmag0     md         rc        ms     metal        taugas  \\\n",
       "0      90.793337  0.056  29.539343  0.880114  0.328146  1.644711e+06   \n",
       "1     102.431593  0.110  38.977428  1.075269 -0.150160  1.014449e+06   \n",
       "2      75.740878  0.120  47.343380  0.861595  0.021273  1.790533e+06   \n",
       "3      62.737337  0.150  58.158928  1.076658 -0.282408  6.017040e+06   \n",
       "4     178.830700  0.170  36.672222  1.206445 -0.174039  3.956708e+06   \n",
       "...          ...    ...        ...       ...       ...           ...   \n",
       "1215   67.259972  0.130  52.291023  1.311738  0.433273  1.676370e+06   \n",
       "1216   49.970648  0.067  43.552563  0.931718 -0.024903  4.133365e+06   \n",
       "1217   25.713642  0.065  59.801033  0.769634  0.089832  3.428934e+06   \n",
       "1218  139.990476  0.140  37.613918  0.891085 -0.186370  4.892052e+06   \n",
       "1219   44.686977  0.084  51.568317  1.296964 -0.249767  8.787253e+06   \n",
       "\n",
       "          qest  ngi        mtr  apert    gia  \n",
       "0     8.421395  3.0   9.132650    0.3   True  \n",
       "1     5.464831  1.0  17.678581    0.3   True  \n",
       "2     4.412694  1.0   8.262408    0.3   True  \n",
       "3     4.704798  0.0   7.884462    0.3  False  \n",
       "4     3.998513  1.0   8.003117    0.3   True  \n",
       "...        ...  ...        ...    ...    ...  \n",
       "1215  6.083371  0.0   8.044003    0.3  False  \n",
       "1216  8.211275  0.0   5.800044    0.3  False  \n",
       "1217  7.552914  0.0  15.961819    0.3  False  \n",
       "1218  3.538260  0.0   7.994991    0.3  False  \n",
       "1219  9.493392  0.0  12.219107    0.3  False  \n",
       "\n",
       "[1220 rows x 17 columns]"
      ]
     },
     "execution_count": 8,
     "metadata": {},
     "output_type": "execute_result"
    }
   ],
   "source": [
    "dh"
   ]
  },
  {
   "cell_type": "code",
   "execution_count": 9,
   "metadata": {},
   "outputs": [],
   "source": [
    "#======================= Simulation variables ========================\n",
    "##Terrestrial: t; giant;g\n",
    "dnt=dn[~dn[\"gia\"]]; dng=dn[dn[\"gia\"]] # without pertubtations \n",
    "dlt=dl[~dl[\"gia\"]]; dlg=dl[dl[\"gia\"]] # low pertubtations \n",
    "dht=dh[~dh[\"gia\"]]; dhg=dh[dh[\"gia\"]] # high pertubtations \n",
    "\n",
    "x_variables = [dng,dlg,dhg,dnt,dlt,dht,dn,dl,dh]\n",
    "\n",
    "for i, var in enumerate(x_variables):\n",
    "    var['logeff'] = np.log10(var.massefficiency)\n",
    "    var['logcom'] = np.log10(var.com)"
   ]
  },
  {
   "cell_type": "code",
   "execution_count": 10,
   "metadata": {},
   "outputs": [
    {
     "data": {
      "text/html": [
       "<div>\n",
       "<style scoped>\n",
       "    .dataframe tbody tr th:only-of-type {\n",
       "        vertical-align: middle;\n",
       "    }\n",
       "\n",
       "    .dataframe tbody tr th {\n",
       "        vertical-align: top;\n",
       "    }\n",
       "\n",
       "    .dataframe thead th {\n",
       "        text-align: right;\n",
       "    }\n",
       "</style>\n",
       "<table border=\"1\" class=\"dataframe\">\n",
       "  <thead>\n",
       "    <tr style=\"text-align: right;\">\n",
       "      <th></th>\n",
       "      <th>Unnamed: 0</th>\n",
       "      <th>ident</th>\n",
       "      <th>com</th>\n",
       "      <th>nplanets</th>\n",
       "      <th>massbudget</th>\n",
       "      <th>massefficiency</th>\n",
       "      <th>sigmag0</th>\n",
       "      <th>md</th>\n",
       "      <th>rc</th>\n",
       "      <th>ms</th>\n",
       "      <th>metal</th>\n",
       "      <th>taugas</th>\n",
       "      <th>qest</th>\n",
       "      <th>ngi</th>\n",
       "      <th>mtr</th>\n",
       "      <th>apert</th>\n",
       "      <th>gia</th>\n",
       "      <th>logeff</th>\n",
       "      <th>logcom</th>\n",
       "    </tr>\n",
       "  </thead>\n",
       "  <tbody>\n",
       "    <tr>\n",
       "      <th>0</th>\n",
       "      <td>0</td>\n",
       "      <td>3.0</td>\n",
       "      <td>1.081461</td>\n",
       "      <td>10.0</td>\n",
       "      <td>10770.309627</td>\n",
       "      <td>0.576981</td>\n",
       "      <td>90.793337</td>\n",
       "      <td>0.056</td>\n",
       "      <td>29.539343</td>\n",
       "      <td>0.880114</td>\n",
       "      <td>0.328146</td>\n",
       "      <td>1644710.625</td>\n",
       "      <td>8.421395</td>\n",
       "      <td>4.0</td>\n",
       "      <td>12.004623</td>\n",
       "      <td>0.0</td>\n",
       "      <td>True</td>\n",
       "      <td>-0.238839</td>\n",
       "      <td>0.034011</td>\n",
       "    </tr>\n",
       "    <tr>\n",
       "      <th>2</th>\n",
       "      <td>2</td>\n",
       "      <td>6.0</td>\n",
       "      <td>0.110789</td>\n",
       "      <td>12.0</td>\n",
       "      <td>2422.342359</td>\n",
       "      <td>0.060559</td>\n",
       "      <td>75.740878</td>\n",
       "      <td>0.120</td>\n",
       "      <td>47.343380</td>\n",
       "      <td>0.861595</td>\n",
       "      <td>0.021273</td>\n",
       "      <td>1790533.125</td>\n",
       "      <td>4.412694</td>\n",
       "      <td>1.0</td>\n",
       "      <td>29.771089</td>\n",
       "      <td>0.0</td>\n",
       "      <td>True</td>\n",
       "      <td>-1.217824</td>\n",
       "      <td>-0.955504</td>\n",
       "    </tr>\n",
       "    <tr>\n",
       "      <th>4</th>\n",
       "      <td>4</td>\n",
       "      <td>13.0</td>\n",
       "      <td>0.172211</td>\n",
       "      <td>13.0</td>\n",
       "      <td>2905.457535</td>\n",
       "      <td>0.051273</td>\n",
       "      <td>178.830700</td>\n",
       "      <td>0.170</td>\n",
       "      <td>36.672222</td>\n",
       "      <td>1.206445</td>\n",
       "      <td>-0.174039</td>\n",
       "      <td>3956707.500</td>\n",
       "      <td>3.998513</td>\n",
       "      <td>1.0</td>\n",
       "      <td>14.220447</td>\n",
       "      <td>0.0</td>\n",
       "      <td>True</td>\n",
       "      <td>-1.290113</td>\n",
       "      <td>-0.763939</td>\n",
       "    </tr>\n",
       "    <tr>\n",
       "      <th>16</th>\n",
       "      <td>16</td>\n",
       "      <td>31.0</td>\n",
       "      <td>4.377862</td>\n",
       "      <td>11.0</td>\n",
       "      <td>41.578462</td>\n",
       "      <td>0.001299</td>\n",
       "      <td>86.546084</td>\n",
       "      <td>0.096</td>\n",
       "      <td>39.613728</td>\n",
       "      <td>0.993549</td>\n",
       "      <td>-0.031508</td>\n",
       "      <td>1439538.875</td>\n",
       "      <td>5.991912</td>\n",
       "      <td>1.0</td>\n",
       "      <td>17.716253</td>\n",
       "      <td>0.0</td>\n",
       "      <td>True</td>\n",
       "      <td>-2.886282</td>\n",
       "      <td>0.641262</td>\n",
       "    </tr>\n",
       "    <tr>\n",
       "      <th>23</th>\n",
       "      <td>23</td>\n",
       "      <td>40.0</td>\n",
       "      <td>2.144859</td>\n",
       "      <td>13.0</td>\n",
       "      <td>181.982608</td>\n",
       "      <td>0.006578</td>\n",
       "      <td>57.698437</td>\n",
       "      <td>0.083</td>\n",
       "      <td>45.111870</td>\n",
       "      <td>1.037112</td>\n",
       "      <td>0.039315</td>\n",
       "      <td>2374519.750</td>\n",
       "      <td>7.413428</td>\n",
       "      <td>1.0</td>\n",
       "      <td>14.782324</td>\n",
       "      <td>0.0</td>\n",
       "      <td>True</td>\n",
       "      <td>-2.181927</td>\n",
       "      <td>0.331399</td>\n",
       "    </tr>\n",
       "  </tbody>\n",
       "</table>\n",
       "</div>"
      ],
      "text/plain": [
       "    Unnamed: 0  ident       com  nplanets    massbudget  massefficiency  \\\n",
       "0            0    3.0  1.081461      10.0  10770.309627        0.576981   \n",
       "2            2    6.0  0.110789      12.0   2422.342359        0.060559   \n",
       "4            4   13.0  0.172211      13.0   2905.457535        0.051273   \n",
       "16          16   31.0  4.377862      11.0     41.578462        0.001299   \n",
       "23          23   40.0  2.144859      13.0    181.982608        0.006578   \n",
       "\n",
       "       sigmag0     md         rc        ms     metal       taugas      qest  \\\n",
       "0    90.793337  0.056  29.539343  0.880114  0.328146  1644710.625  8.421395   \n",
       "2    75.740878  0.120  47.343380  0.861595  0.021273  1790533.125  4.412694   \n",
       "4   178.830700  0.170  36.672222  1.206445 -0.174039  3956707.500  3.998513   \n",
       "16   86.546084  0.096  39.613728  0.993549 -0.031508  1439538.875  5.991912   \n",
       "23   57.698437  0.083  45.111870  1.037112  0.039315  2374519.750  7.413428   \n",
       "\n",
       "    ngi        mtr  apert   gia    logeff    logcom  \n",
       "0   4.0  12.004623    0.0  True -0.238839  0.034011  \n",
       "2   1.0  29.771089    0.0  True -1.217824 -0.955504  \n",
       "4   1.0  14.220447    0.0  True -1.290113 -0.763939  \n",
       "16  1.0  17.716253    0.0  True -2.886282  0.641262  \n",
       "23  1.0  14.782324    0.0  True -2.181927  0.331399  "
      ]
     },
     "execution_count": 10,
     "metadata": {},
     "output_type": "execute_result"
    }
   ],
   "source": [
    "dng.head()"
   ]
  },
  {
   "cell_type": "markdown",
   "metadata": {},
   "source": [
    "### 1.2 Observational data \n",
    "\n",
    "Data get from <a href=\"http://exoplanet.eu/\">exoplanet.eu</a>"
   ]
  },
  {
   "cell_type": "code",
   "execution_count": 11,
   "metadata": {},
   "outputs": [],
   "source": [
    "data_o = pd.read_csv('data/exoplanet.eu_catalog.csv', \n",
    "                       usecols = ['mass','mass_error_min','semi_major_axis','semi_major_axis_error_min','star_name',\n",
    "                                  'star_metallicity','star_metallicity_error_min','star_mass','star_mass_error_min'])\n",
    "\n",
    "data_o = data_o.replace([np.inf, -np.inf], np.nan) \n",
    "data_o = data_o.replace([0], np.nan)\n",
    "data_o = data_o.dropna()"
   ]
  },
  {
   "cell_type": "code",
   "execution_count": 12,
   "metadata": {},
   "outputs": [],
   "source": [
    "data_o = data_o[['star_name','mass','mass_error_min', 'semi_major_axis', 'semi_major_axis_error_min', \n",
    "                 'star_metallicity', 'star_metallicity_error_min', 'star_mass', 'star_mass_error_min']]\n",
    "\n",
    "data_o = data_o.assign(CM_i = data_o[\"semi_major_axis\"]*data_o[\"mass\"])\n",
    "data_o = data_o.assign(dCM_i= data_o[\"CM_i\"]*(data_o[\"mass_error_min\"].divide(data_o[\"mass\"])+data_o[\"semi_major_axis_error_min\"].divide(data_o[\"semi_major_axis\"])))"
   ]
  },
  {
   "cell_type": "code",
   "execution_count": 13,
   "metadata": {},
   "outputs": [],
   "source": [
    "number=(data_o[\"star_name\"].value_counts()).to_frame()"
   ]
  },
  {
   "cell_type": "code",
   "execution_count": 14,
   "metadata": {},
   "outputs": [],
   "source": [
    "def NewData(data):\n",
    "   \n",
    "    p_system = data.groupby(\"star_name\")\n",
    "    \n",
    "    Mtp   = p_system['mass'].sum();             dMtp   = p_system['mass_error_min'].sum();  \n",
    "    ms    = p_system['star_mass'].mean();        dms    = p_system['star_mass_error_min'].mean()\n",
    "    metal = p_system['star_metallicity'].mean(); dmetal = p_system['star_metallicity_error_min'].mean()\n",
    "    \n",
    "    \n",
    "    CoM  = p_system['CM_i'].sum().divide(p_system[\"mass\"].sum())\n",
    "    dCoM = CoM*((p_system['dCM_i'].sum()/p_system['CM_i'].sum()) + (p_system['mass_error_min'].sum())/p_system['mass'].sum())\n",
    "    \n",
    "    NewData = pd.DataFrame({'sys_name':list(p_system.groups.keys()),\n",
    "                            'Mtp':Mtp, 'dMtp':dMtp,\n",
    "                            'com':CoM.tolist(), 'dcom':dCoM.tolist(), \n",
    "                            'ms':ms, 'dms':dms, 'metal':metal, 'dmetal':dmetal})\n",
    "    return NewData"
   ]
  },
  {
   "cell_type": "code",
   "execution_count": 15,
   "metadata": {},
   "outputs": [
    {
     "data": {
      "text/html": [
       "<div>\n",
       "<style scoped>\n",
       "    .dataframe tbody tr th:only-of-type {\n",
       "        vertical-align: middle;\n",
       "    }\n",
       "\n",
       "    .dataframe tbody tr th {\n",
       "        vertical-align: top;\n",
       "    }\n",
       "\n",
       "    .dataframe thead th {\n",
       "        text-align: right;\n",
       "    }\n",
       "</style>\n",
       "<table border=\"1\" class=\"dataframe\">\n",
       "  <thead>\n",
       "    <tr style=\"text-align: right;\">\n",
       "      <th></th>\n",
       "      <th>sys_name</th>\n",
       "      <th>Mtp</th>\n",
       "      <th>dMtp</th>\n",
       "      <th>com</th>\n",
       "      <th>dcom</th>\n",
       "      <th>ms</th>\n",
       "      <th>dms</th>\n",
       "      <th>metal</th>\n",
       "      <th>dmetal</th>\n",
       "      <th>n_planets</th>\n",
       "    </tr>\n",
       "    <tr>\n",
       "      <th>star_name</th>\n",
       "      <th></th>\n",
       "      <th></th>\n",
       "      <th></th>\n",
       "      <th></th>\n",
       "      <th></th>\n",
       "      <th></th>\n",
       "      <th></th>\n",
       "      <th></th>\n",
       "      <th></th>\n",
       "      <th></th>\n",
       "    </tr>\n",
       "  </thead>\n",
       "  <tbody>\n",
       "    <tr>\n",
       "      <th>TRAPPIST-1</th>\n",
       "      <td>TRAPPIST-1</td>\n",
       "      <td>0.017701</td>\n",
       "      <td>0.010374</td>\n",
       "      <td>0.029040</td>\n",
       "      <td>0.034407</td>\n",
       "      <td>0.080</td>\n",
       "      <td>0.007</td>\n",
       "      <td>0.04</td>\n",
       "      <td>0.08</td>\n",
       "      <td>7</td>\n",
       "    </tr>\n",
       "    <tr>\n",
       "      <th>K2-138</th>\n",
       "      <td>K2-138</td>\n",
       "      <td>0.113900</td>\n",
       "      <td>0.030500</td>\n",
       "      <td>0.083596</td>\n",
       "      <td>0.053756</td>\n",
       "      <td>0.930</td>\n",
       "      <td>0.060</td>\n",
       "      <td>0.16</td>\n",
       "      <td>0.04</td>\n",
       "      <td>6</td>\n",
       "    </tr>\n",
       "    <tr>\n",
       "      <th>GJ 876</th>\n",
       "      <td>GJ 876</td>\n",
       "      <td>2.861000</td>\n",
       "      <td>0.045000</td>\n",
       "      <td>0.185302</td>\n",
       "      <td>0.005413</td>\n",
       "      <td>0.334</td>\n",
       "      <td>0.030</td>\n",
       "      <td>0.05</td>\n",
       "      <td>0.20</td>\n",
       "      <td>4</td>\n",
       "    </tr>\n",
       "    <tr>\n",
       "      <th>WASP-47</th>\n",
       "      <td>WASP-47</td>\n",
       "      <td>2.511800</td>\n",
       "      <td>0.097400</td>\n",
       "      <td>0.760462</td>\n",
       "      <td>0.220362</td>\n",
       "      <td>1.110</td>\n",
       "      <td>0.490</td>\n",
       "      <td>0.18</td>\n",
       "      <td>0.07</td>\n",
       "      <td>4</td>\n",
       "    </tr>\n",
       "    <tr>\n",
       "      <th>Kepler-289</th>\n",
       "      <td>Kepler-289</td>\n",
       "      <td>0.451000</td>\n",
       "      <td>0.077000</td>\n",
       "      <td>0.489512</td>\n",
       "      <td>0.184174</td>\n",
       "      <td>1.080</td>\n",
       "      <td>0.020</td>\n",
       "      <td>0.05</td>\n",
       "      <td>0.04</td>\n",
       "      <td>3</td>\n",
       "    </tr>\n",
       "  </tbody>\n",
       "</table>\n",
       "</div>"
      ],
      "text/plain": [
       "              sys_name       Mtp      dMtp       com      dcom     ms    dms  \\\n",
       "star_name                                                                      \n",
       "TRAPPIST-1  TRAPPIST-1  0.017701  0.010374  0.029040  0.034407  0.080  0.007   \n",
       "K2-138          K2-138  0.113900  0.030500  0.083596  0.053756  0.930  0.060   \n",
       "GJ 876          GJ 876  2.861000  0.045000  0.185302  0.005413  0.334  0.030   \n",
       "WASP-47        WASP-47  2.511800  0.097400  0.760462  0.220362  1.110  0.490   \n",
       "Kepler-289  Kepler-289  0.451000  0.077000  0.489512  0.184174  1.080  0.020   \n",
       "\n",
       "            metal  dmetal  n_planets  \n",
       "star_name                             \n",
       "TRAPPIST-1   0.04    0.08          7  \n",
       "K2-138       0.16    0.04          6  \n",
       "GJ 876       0.05    0.20          4  \n",
       "WASP-47      0.18    0.07          4  \n",
       "Kepler-289   0.05    0.04          3  "
      ]
     },
     "execution_count": 15,
     "metadata": {},
     "output_type": "execute_result"
    }
   ],
   "source": [
    "obs_data = NewData(data_o)\n",
    "obs_data = obs_data.assign(n_planets = number)\n",
    "obs_data = obs_data.sort_values(by=['n_planets'], ascending=False)\n",
    "obs_data.head()"
   ]
  },
  {
   "cell_type": "code",
   "execution_count": 16,
   "metadata": {},
   "outputs": [],
   "source": [
    "#system_i = data_o[data_o.star_name == \"Kepler-289\"]  \n",
    "#system_i"
   ]
  },
  {
   "cell_type": "markdown",
   "metadata": {},
   "source": [
    "## 2. Posterior probability \n",
    "\n",
    "At first example we take the system \"Kepler-289\" to get the prior information of stellar mass `ms` and its metallicity `metal`, reported in the catalog of <a href=\"http://exoplanet.eu/\">exoplanet.eu</a>"
   ]
  },
  {
   "cell_type": "code",
   "execution_count": 17,
   "metadata": {},
   "outputs": [
    {
     "data": {
      "text/html": [
       "<div>\n",
       "<style scoped>\n",
       "    .dataframe tbody tr th:only-of-type {\n",
       "        vertical-align: middle;\n",
       "    }\n",
       "\n",
       "    .dataframe tbody tr th {\n",
       "        vertical-align: top;\n",
       "    }\n",
       "\n",
       "    .dataframe thead th {\n",
       "        text-align: right;\n",
       "    }\n",
       "</style>\n",
       "<table border=\"1\" class=\"dataframe\">\n",
       "  <thead>\n",
       "    <tr style=\"text-align: right;\">\n",
       "      <th></th>\n",
       "      <th>sys_name</th>\n",
       "      <th>Mtp</th>\n",
       "      <th>dMtp</th>\n",
       "      <th>com</th>\n",
       "      <th>dcom</th>\n",
       "      <th>ms</th>\n",
       "      <th>dms</th>\n",
       "      <th>metal</th>\n",
       "      <th>dmetal</th>\n",
       "      <th>n_planets</th>\n",
       "    </tr>\n",
       "    <tr>\n",
       "      <th>star_name</th>\n",
       "      <th></th>\n",
       "      <th></th>\n",
       "      <th></th>\n",
       "      <th></th>\n",
       "      <th></th>\n",
       "      <th></th>\n",
       "      <th></th>\n",
       "      <th></th>\n",
       "      <th></th>\n",
       "      <th></th>\n",
       "    </tr>\n",
       "  </thead>\n",
       "  <tbody>\n",
       "    <tr>\n",
       "      <th>Kepler-289</th>\n",
       "      <td>Kepler-289</td>\n",
       "      <td>0.451</td>\n",
       "      <td>0.077</td>\n",
       "      <td>0.489512</td>\n",
       "      <td>0.184174</td>\n",
       "      <td>1.08</td>\n",
       "      <td>0.02</td>\n",
       "      <td>0.05</td>\n",
       "      <td>0.04</td>\n",
       "      <td>3</td>\n",
       "    </tr>\n",
       "  </tbody>\n",
       "</table>\n",
       "</div>"
      ],
      "text/plain": [
       "              sys_name    Mtp   dMtp       com      dcom    ms   dms  metal  \\\n",
       "star_name                                                                     \n",
       "Kepler-289  Kepler-289  0.451  0.077  0.489512  0.184174  1.08  0.02   0.05   \n",
       "\n",
       "            dmetal  n_planets  \n",
       "star_name                      \n",
       "Kepler-289    0.04          3  "
      ]
     },
     "execution_count": 17,
     "metadata": {},
     "output_type": "execute_result"
    }
   ],
   "source": [
    "systm = obs_data[obs_data.sys_name == \"Kepler-289\"] \n",
    "systm"
   ]
  },
  {
   "cell_type": "markdown",
   "metadata": {},
   "source": [
    "### 2.1 Likelihood\n",
    "In our formalism, for a variable of interest $x^i_k$, the likelihood of $x^i_k$ given $\\boldsymbol\\gamma^i$, comes from the model as the sum over unknown parameters $\\boldsymbol\\alpha^i_k$,\n",
    "\n",
    "$$p\\left(x^{i}_k \\mid \\boldsymbol\\gamma^{i}\\right)= \\int p_{\\text{model}}\\left(x^{i}_k, \\boldsymbol\\alpha^{i}_k \\mid \\boldsymbol\\gamma^{i}\\right) d\\boldsymbol\\alpha^{i}_k.$$\n",
    "\n",
    "This is implemented in the notebook `optimal_pdf`."
   ]
  },
  {
   "cell_type": "code",
   "execution_count": 18,
   "metadata": {},
   "outputs": [
    {
     "name": "stdout",
     "output_type": "stream",
     "text": [
      "Importing Jupyter notebook from bandwidths.ipynb\n"
     ]
    }
   ],
   "source": [
    "import nbimporter\n",
    "from bandwidths import optimal_pdf #import the class for get the pdf."
   ]
  },
  {
   "cell_type": "markdown",
   "metadata": {},
   "source": [
    "In this example we take the variables `dng.ms`, `dng.metal` and `dng.nplanets` "
   ]
  },
  {
   "cell_type": "code",
   "execution_count": 19,
   "metadata": {},
   "outputs": [],
   "source": [
    "likelihood = optimal_pdf(dng.ms, dng.metal, dng.nplanets)\n",
    "likelihood.pdf()"
   ]
  },
  {
   "cell_type": "code",
   "execution_count": 20,
   "metadata": {},
   "outputs": [],
   "source": [
    "#likelihood.pdf_std"
   ]
  },
  {
   "cell_type": "markdown",
   "metadata": {},
   "source": [
    "### 2.2 Prior infromation\n",
    "\n",
    "The prior information $p(\\boldsymbol\\gamma^{i})$ comes from observations of individual known properties in the pseudovector $\\boldsymbol\\gamma^{i}$."
   ]
  },
  {
   "cell_type": "markdown",
   "metadata": {},
   "source": [
    "To generate a 2D prior $p(\\boldsymbol\\gamma^{i})$, we multiply a 2D matrix of ones times each prior. Here, we multiply the first prior normaly but for the second prior it is necessary to transpose the previous result. \n",
    "\n",
    "$$\\text{prior} = ((1_{n\\times n}\\times Px_n)^{t}\\times Py_n)^{t}$$\n",
    "\n",
    "Finally, we transpose the result to get the prior distribution. For more dimensions the process is the same"
   ]
  },
  {
   "cell_type": "code",
   "execution_count": 21,
   "metadata": {},
   "outputs": [],
   "source": [
    "from scipy.stats import truncnorm"
   ]
  },
  {
   "cell_type": "code",
   "execution_count": 22,
   "metadata": {},
   "outputs": [],
   "source": [
    "# per data needs a list with [mu, sigma]: \n",
    "#var1 nd var 2 are the variables from simulations args are the list [mu, sigma]:\n",
    "class prior():\n",
    "    \n",
    "    def __init__(self, var1, var2, *args):\n",
    "        self.lenght = 150\n",
    "        self.org_data = np.array(args)\n",
    "        self.pdfs = []         \n",
    "        self.data = np.vstack([var1,var2]).T\n",
    "        self.data_std = (self.data-np.mean(self.data, axis=0))/np.std(self.data, axis=0) # standarization     \n",
    "            \n",
    "    def prior_pdf(self):\n",
    "        for i in range(len(self.org_data)):\n",
    "            x = np.linspace(self.data_std[:,i].min(),\n",
    "                            self.data_std[:,i].max(),\n",
    "                            self.lenght)\n",
    "            pdf = stats.norm.pdf(x,loc = self.org_data[i][0], \n",
    "                                 scale = self.org_data[i][1])       \n",
    "            self.pdfs.append(pdf)\n",
    "            \n",
    "        if len(self.org_data) == 2:\n",
    "            M_ones = np.ones([self.lenght, self.lenght]) \n",
    "            prior = ((M_ones*self.pdfs[0]).T*self.pdfs[1]).T     \n",
    "            \n",
    "            self.pdf_prior = prior\n",
    "        \n",
    "        #return self.pdf_prior \n",
    "        #elif len(self.org_data) == 3: \n",
    "            #M_ones = np.ones([likelihood.lenght, likelihood.lenght, likelihood.lenght])    \n",
    "            #prior = (((M_ones*self.pdfs[0]).T*self.pdfs[1]).T*self.pdfs[2]).T \n",
    "            #self.pdf_prior = prior"
   ]
  },
  {
   "cell_type": "code",
   "execution_count": 23,
   "metadata": {},
   "outputs": [],
   "source": [
    "prueba = prior(dng.ms, dng.metal, [systm.ms, systm.dms], [systm.metal,systm.dmetal])\n",
    "prueba.prior_pdf()"
   ]
  },
  {
   "cell_type": "code",
   "execution_count": 24,
   "metadata": {},
   "outputs": [
    {
     "data": {
      "text/plain": [
       "Text(0, 0.5, 'metallicity')"
      ]
     },
     "execution_count": 24,
     "metadata": {},
     "output_type": "execute_result"
    },
    {
     "data": {
      "image/png": "[encoded data removed]",
      "text/plain": [
       "<Figure size 1080x288 with 3 Axes>"
      ]
     },
     "metadata": {
      "needs_background": "light"
     },
     "output_type": "display_data"
    }
   ],
   "source": [
    "fig, ax = plt.subplots(1, 3, figsize=(15,4))\n",
    "fig.subplots_adjust(wspace=.3)\n",
    "lat = 13\n",
    "#1\n",
    "ax[0].plot(likelihood.std_interval[0], prueba.pdfs[0], label = \"prior stellar mass\")\n",
    "ax[0].set_xlabel(\"stellar mass\", fontsize =lat)\n",
    "ax[0].legend(fontsize =lat)\n",
    "#2\n",
    "ax[1].plot(prueba.pdfs[1], likelihood.std_interval[1], label = \"prior metallicity\")\n",
    "ax[1].legend(fontsize =lat)\n",
    "#3\n",
    "ax[2].contour(likelihood.real_interval[0], likelihood.real_interval[1], prueba.pdf_prior)\n",
    "ax[2].set_xlabel(\"stellar mass\", fontsize =lat)\n",
    "ax[2].set_ylabel(\"metallicity\", fontsize =lat)\n"
   ]
  },
  {
   "cell_type": "markdown",
   "metadata": {},
   "source": [
    "### 2.3 Posterior and marginal distributions\n",
    "\n",
    "#### Posterior\n",
    "\n",
    "The posterior distribution comes form Bayes Theorem, then in our formalims:\n",
    "\n",
    "$$p^\\prime\\left(x^{i}_k \\mid \\boldsymbol\\gamma^{i}\\right) \\propto p\\left(x^{i}_k \\mid \\boldsymbol\\gamma^{i}\\right) p(\\boldsymbol\\gamma^{i})$$\n",
    "\n",
    "In therms of the length of data \n",
    "\n",
    "$$\\boxed{\\text{posterior}_{lmn} \\propto \\text{likelihood}_{lmn} \\times \\text{prior}_{mn}}$$\n",
    "\n",
    "Sum the posterior over $l$ is the `axis=0`, $n$ means the `axis=1` and $n$ is the `axis=2`. Finally if we normalize the posterior the above equation becomes into equality.  \n",
    "\n",
    "So, the posterior is the product of a likelihood with shape $l=100$, $m=100$ and $n=100$ times the prior with shape $m=100$ and $n=100$: "
   ]
  },
  {
   "cell_type": "code",
   "execution_count": 25,
   "metadata": {},
   "outputs": [],
   "source": [
    "# likelihood is an object from \"class optimal_pdf\"\n",
    "# prior is an object from class \"prior\"\n",
    "\n",
    "def posterior(likelihood,prior):\n",
    "    \n",
    "    diff = [np.abs(likelihood.data_std[:,i][1] - likelihood.data_std[:,i][0]) for i in range(len(likelihood.data_std[0]))] \n",
    "\n",
    "    post = (likelihood.pdf_std.T*prior.pdf_prior.T).T\n",
    "    \n",
    "    \n",
    "    if likelihood.dim == 3:\n",
    "        norm = ((post.sum(axis=0)*(diff[0])).sum(axis=0)*(diff[1])).sum()*(diff[2])\n",
    "    \n",
    "    elif likelihood.dim == 4:\n",
    "        norm = (((post.sum(axis=0)*(diff[0])).sum(axis=0)*(diff[1])).sum(axis=0)*(diff[2])).sum()*diff[3]\n",
    "    \n",
    "    #print((((post/norm)*diff[0]).sum(axis=0)*diff[1]).sum()*diff[2])\n",
    "    \n",
    "    return post/norm"
   ]
  },
  {
   "cell_type": "code",
   "execution_count": 26,
   "metadata": {},
   "outputs": [],
   "source": [
    "pr = prior(dng.ms, dng.metal, [systm.ms, systm.dms], [systm.metal,systm.dmetal])\n",
    "pr.prior_pdf()"
   ]
  },
  {
   "cell_type": "code",
   "execution_count": 27,
   "metadata": {},
   "outputs": [],
   "source": [
    "post = posterior(likelihood, pr)"
   ]
  },
  {
   "cell_type": "code",
   "execution_count": 28,
   "metadata": {},
   "outputs": [],
   "source": [
    "#import plotly.graph_objects as go\n",
    "#from plotly.subplots import make_subplots\n",
    "\n",
    "#fig = go.Figure(data=go.Volume(\n",
    "#    x=likelihood.std_grid[0].flatten(),\n",
    "#    y=likelihood.std_grid[0].flatten(),\n",
    "#    z=likelihood.std_grid[0].flatten(),\n",
    "#    value=post.flatten(),\n",
    "#    opacity=0.15,     # needs to be small to see through all surfaces\n",
    "#    surface_count=20, # needs to be a large number for good volume rendering\n",
    "#    ))\n",
    "#fig.write_image(\"images/fig1.pdf\")"
   ]
  },
  {
   "cell_type": "markdown",
   "metadata": {},
   "source": [
    "#### Marginal distriution \n",
    "\n",
    "The parginal distribution for a variable of interest is, \n",
    "\n",
    "$$p\\left(x^{i}_{k}\\right)=\\int p\\left(x^{i}_{k} \\mid \\boldsymbol\\gamma^{i}\\right) p(\\boldsymbol\\gamma^{i})\\ d\\boldsymbol\\gamma^{i}.$$\n",
    "\n",
    "in other words, \n",
    "\n",
    "$$p\\left(x^{i}_{k}\\right)=\\sum_{j=1}^{n} p\\left(x^{i}_{k_j} \\mid \\boldsymbol\\gamma^{i}_j\\right) p\\left(\\boldsymbol\\gamma^{i}_j\\right)\\ \\Delta \\boldsymbol\\gamma^{i}_j.$$\n",
    "\n",
    "\n",
    "\n",
    "In our example, we take stellar mass, metallicity and number of planets. The likelihood came from giant planets obervations without perturbations in its disk structure. \n",
    "\n",
    "We will get the marginal distribution $p(x^i_k)$ for our variable of interest $x^{i}_k$ which is the number of planets in the system \"Kepler-289\".\n",
    "\n",
    "\n",
    "\n",
    "\n",
    "\n"
   ]
  },
  {
   "cell_type": "code",
   "execution_count": 25,
   "metadata": {},
   "outputs": [],
   "source": [
    "def marginal(posterior, likelihood):\n",
    "    \n",
    "    diff = [np.abs(likelihood.data_std[:,i][1] - likelihood.data_std[:,i][0]) for i in range(len(likelihood.data_std[0]))] \n",
    "    #print(diff)\n",
    "    M  = (posterior.sum(axis=0)*diff[0]).sum(axis=0)*diff[1]\n",
    "    \n",
    "    dz = np.abs(likelihood.real_interval[2][1]-likelihood.real_interval[2][0])\n",
    "    #dz=diff[2] \n",
    "    \n",
    "    norm = (M*dz).sum()\n",
    "    marginal = M/norm # norm in the real space to work the variable in it space\n",
    "    \n",
    "    #print((marginal*dz).sum())\n",
    "    \n",
    "    return marginal"
   ]
  },
  {
   "cell_type": "code",
   "execution_count": 26,
   "metadata": {},
   "outputs": [],
   "source": [
    "Np_marginal = marginal(post, likelihood)"
   ]
  },
  {
   "cell_type": "code",
   "execution_count": 27,
   "metadata": {},
   "outputs": [],
   "source": [
    "dz = likelihood.real_interval[2][1]-likelihood.real_interval[2][0]\n",
    "mean = (Np_marginal*likelihood.real_interval[2]*(dz)).sum()"
   ]
  },
  {
   "cell_type": "code",
   "execution_count": 28,
   "metadata": {},
   "outputs": [],
   "source": [
    "std = ((Np_marginal)*((likelihood.real_interval[2]-mean)**2)*dz).sum()**(1/2.)"
   ]
  },
  {
   "cell_type": "code",
   "execution_count": 29,
   "metadata": {},
   "outputs": [],
   "source": [
    "inte = np.cumsum(Np_marginal)*dz\n",
    "\n",
    "p_25 = likelihood.real_interval[2][np.argmin((inte-0.25)**2)]\n",
    "p_50 = likelihood.real_interval[2][np.argmin((inte-0.50)**2)]\n",
    "p_75 = likelihood.real_interval[2][np.argmin((inte-0.75)**2)]"
   ]
  },
  {
   "cell_type": "code",
   "execution_count": 30,
   "metadata": {
    "scrolled": true
   },
   "outputs": [
    {
     "data": {
      "text/plain": [
       "<matplotlib.legend.Legend at 0x7f33b2a2d340>"
      ]
     },
     "execution_count": 30,
     "metadata": {},
     "output_type": "execute_result"
    },
    {
     "data": {
      "image/png": "[encoded data removed]",
      "text/plain": [
       "<Figure size 1080x288 with 2 Axes>"
      ]
     },
     "metadata": {
      "needs_background": "light"
     },
     "output_type": "display_data"
    }
   ],
   "source": [
    "fig, ax = plt.subplots(1, 2, figsize=(15,4))\n",
    "\n",
    "ax[0].plot(likelihood.real_interval[2], Np_marginal/Np_marginal.max(), label=\"p(nplanets)\")\n",
    "ax[0].set_xlabel(\"nplanets\")\n",
    "ax[0].set_ylabel(\"Normal distribution\")\n",
    "ax[0].axvline(x = systm.n_planets.values, ls='--', c=\"k\", label = \"Observed planets = 3\")\n",
    "ax[0].axvline(x = mean, ls='--', c=\"C1\", label = r\"$\\mu = 11$\")\n",
    "ax[0].axvline(x = mean+std, ls=':', c=\"C1\", label = r\"$\\sigma$\")\n",
    "ax[0].axvline(x = mean+2*std, ls=':', c=\"C2\", label = r\"$2\\sigma$\")\n",
    "ax[0].axvline(x = mean-2*std, ls=':', c=\"C2\")\n",
    "ax[0].legend()\n",
    "\n",
    "\n",
    "ax[1].plot(likelihood.real_interval[2], Np_marginal/Np_marginal.max(), label=\"p(nplanets)\")\n",
    "ax[1].set_xlabel(\"nplanets\")\n",
    "ax[1].set_ylabel(\"Normal distribution\")\n",
    "\n",
    "ax[1].axvline(x = systm.n_planets.values, ls='--', c=\"k\", label = \"Observed planets = 3\")\n",
    "ax[1].axvline(x = p_25, ls='--', c=\"C1\", label = r\"$25\\%$\")\n",
    "ax[1].axvline(x = p_50, ls='--', c=\"C2\", label = r\"$50\\%$\")\n",
    "ax[1].axvline(x = p_75, ls='--', c=\"C3\", label = r\"$75\\%$\")\n",
    "\n",
    "ax[1].legend()"
   ]
  },
  {
   "cell_type": "markdown",
   "metadata": {},
   "source": [
    "#### Posterior and marginal distributions - A class and plot functions"
   ]
  },
  {
   "cell_type": "code",
   "execution_count": 64,
   "metadata": {},
   "outputs": [],
   "source": [
    "#like and prior are pdfs no more\n",
    "\n",
    "class Marginal():\n",
    "    \n",
    "    def __init__(self, like, prior, *args):\n",
    "                \n",
    "        self.like = like; self.prior= prior \n",
    "        self.space = [np.linspace(args[i].min(),args[i].max(), \n",
    "                                  150) for i in range(len(args))]\n",
    "    \n",
    "        self.data = np.vstack([*args]).T\n",
    "        self.data_std = (self.data-np.mean(self.data, axis=0))/np.std(self.data, axis=0) # standarization\n",
    "        \n",
    "        self.diff  = [np.abs(self.data_std[:,i][1]-self.data_std[:,i][0]) for i in range(len(self.data_std[0]))] \n",
    "        self.dz = np.abs(self.space[2][1]-self.space[2][0])\n",
    "        self.z = self.space[2]\n",
    "        \n",
    "    def posterior(self):\n",
    "        post = (self.like.T*self.prior.T).T\n",
    "        norm = ((post.sum(axis=0)*(self.diff[0])).sum(axis=0)*(self.diff[1])).sum()*(self.diff[2])\n",
    "        self.post = post/norm\n",
    "    \n",
    "    def marginal(self):\n",
    "        self.posterior()\n",
    "        M  = (self.post.sum(axis=0)*self.diff[0]).sum(axis=0)*self.diff[1]\n",
    "        norm = (M*self.dz).sum()\n",
    "        self.marginal = M/norm\n",
    "\n",
    "        inte = np.cumsum(self.marginal)*self.dz\n",
    "\n",
    "        self.z_mean = (self.marginal*self.z*self.dz).sum()\n",
    "        self.z_std  = ((self.marginal)*((self.z-self.z_mean)**2)*self.dz).sum()**(1/2.)\n",
    "        \n",
    "        self.p_25 = self.z[np.argmin((inte-0.25)**2)]\n",
    "        self.p_50 = self.z[np.argmin((inte-0.50)**2)]\n",
    "        self.p_75 = self.z[np.argmin((inte-0.75)**2)]"
   ]
  },
  {
   "cell_type": "code",
   "execution_count": 68,
   "metadata": {},
   "outputs": [],
   "source": [
    "def m_plot(like_z, marginal, name):\n",
    "    \n",
    "    lat = 12\n",
    "    plt.plot(like_z, marginal.marginal/marginal.marginal.max(), \n",
    "             label = \"PDF distribution\")\n",
    "    \n",
    "    plt.axvline(x = marginal.p_25, ls='--', c=\"C1\", label = r\"$25\\%$\")\n",
    "    plt.axvline(x = marginal.p_50, ls='--', c=\"C2\", label = r\"$50\\%$\")\n",
    "    plt.axvline(x = marginal.p_75, ls='--', c=\"C3\", label = r\"$75\\%$\")\n",
    "    \n",
    "    plt.xlabel(str(name), fontsize=lat)\n",
    "    plt.tick_params(axis='both', which='minor', labelsize=lat-2)\n",
    "    plt.legend(fontsize=lat-1)"
   ]
  },
  {
   "cell_type": "markdown",
   "metadata": {},
   "source": [
    "# Marginal plots\n",
    "\n",
    "Below are marginal plots of the selected systems.\n",
    "\n",
    "## Kepler-289 "
   ]
  },
  {
   "cell_type": "code",
   "execution_count": 70,
   "metadata": {},
   "outputs": [],
   "source": [
    "# System and Prior:\n",
    "systm = obs_data[obs_data.sys_name == \"Kepler-289\"] \n",
    "prior_kepler = prior(dng.ms, dng.metal, \n",
    "                     [systm.ms, systm.dms], \n",
    "                     [systm.metal,systm.dmetal])\n",
    "\n",
    "prior_kepler.prior_pdf()\n",
    "prior_kepler = prior_kepler.pdf_prior"
   ]
  },
  {
   "cell_type": "code",
   "execution_count": 72,
   "metadata": {},
   "outputs": [],
   "source": [
    "# likelihoods: no-perturbartion \n",
    "liken_1 = optimal_pdf(dn.ms, dn.metal, dn.nplanets); liken_1.pdf()\n",
    "liken_2 = optimal_pdf(dn.ms, dn.metal, dn.md);       liken_2.pdf()\n",
    "liken_3 = optimal_pdf(dn.ms, dn.metal, dn.com);      liken_3.pdf()"
   ]
  },
  {
   "cell_type": "code",
   "execution_count": 73,
   "metadata": {},
   "outputs": [],
   "source": [
    "# likelihoods: low-perturbartion \n",
    "likel_1 = optimal_pdf(dl.ms, dl.metal, dl.nplanets); likel_1.pdf()\n",
    "likel_2 = optimal_pdf(dl.ms, dl.metal, dl.md);       likel_2.pdf()\n",
    "likel_3 = optimal_pdf(dl.ms, dl.metal, dl.com);      likel_3.pdf()"
   ]
  },
  {
   "cell_type": "code",
   "execution_count": 74,
   "metadata": {},
   "outputs": [],
   "source": [
    "# likelihoods: no-perturbartion \n",
    "likeh_1 = optimal_pdf(dh.ms, dh.metal, dh.nplanets); likeh_1.pdf()\n",
    "likeh_2 = optimal_pdf(dh.ms, dh.metal, dh.md);       likeh_2.pdf()\n",
    "likeh_3 = optimal_pdf(dh.ms, dh.metal, dh.com);      likeh_3.pdf()"
   ]
  },
  {
   "cell_type": "code",
   "execution_count": 77,
   "metadata": {},
   "outputs": [],
   "source": [
    "#nplanets \n",
    "m1 = Marginal(liken_1.pdf_std, prior_kepler, dn.ms, dn.metal, dn.nplanets)\n",
    "m1.marginal()\n",
    "m2 = Marginal(likel_1.pdf_std, prior_kepler, dl.ms, dl.metal, dl.nplanets)\n",
    "m2.marginal()\n",
    "m3 = Marginal(likeh_1.pdf_std, prior_kepler, dh.ms, dh.metal, dh.nplanets)\n",
    "m3.marginal()"
   ]
  },
  {
   "cell_type": "code",
   "execution_count": 78,
   "metadata": {},
   "outputs": [],
   "source": [
    "#mass disk \n",
    "m4 = Marginal(liken_2.pdf_std, prior_kepler, dn.ms, dn.metal, dn.md)\n",
    "m4.marginal()\n",
    "m5 = Marginal(likel_2.pdf_std, prior_kepler, dl.ms, dl.metal, dl.md)\n",
    "m5.marginal()\n",
    "m6 = Marginal(likeh_2.pdf_std, prior_kepler, dh.ms, dh.metal, dh.md)\n",
    "m6.marginal()"
   ]
  },
  {
   "cell_type": "code",
   "execution_count": 79,
   "metadata": {},
   "outputs": [
    {
     "ename": "AttributeError",
     "evalue": "'optimal_pdf' object has no attribute 'T'",
     "output_type": "error",
     "traceback": [
      "\u001b[0;31m---------------------------------------------------------------------------\u001b[0m",
      "\u001b[0;31mAttributeError\u001b[0m                            Traceback (most recent call last)",
      "\u001b[0;32m<ipython-input-79-5940573c95b3>\u001b[0m in \u001b[0;36m<module>\u001b[0;34m\u001b[0m\n\u001b[1;32m      1\u001b[0m \u001b[0;31m#CoM\u001b[0m\u001b[0;34m\u001b[0m\u001b[0;34m\u001b[0m\u001b[0;34m\u001b[0m\u001b[0m\n\u001b[1;32m      2\u001b[0m \u001b[0mm7\u001b[0m \u001b[0;34m=\u001b[0m \u001b[0mMarginal\u001b[0m\u001b[0;34m(\u001b[0m\u001b[0mliken_3\u001b[0m\u001b[0;34m,\u001b[0m \u001b[0mprior_kepler\u001b[0m\u001b[0;34m,\u001b[0m \u001b[0mdn\u001b[0m\u001b[0;34m.\u001b[0m\u001b[0mms\u001b[0m\u001b[0;34m,\u001b[0m \u001b[0mdn\u001b[0m\u001b[0;34m.\u001b[0m\u001b[0mmetal\u001b[0m\u001b[0;34m,\u001b[0m \u001b[0mdn\u001b[0m\u001b[0;34m.\u001b[0m\u001b[0mcom\u001b[0m\u001b[0;34m)\u001b[0m\u001b[0;34m\u001b[0m\u001b[0;34m\u001b[0m\u001b[0m\n\u001b[0;32m----> 3\u001b[0;31m \u001b[0mm7\u001b[0m\u001b[0;34m.\u001b[0m\u001b[0mmarginal\u001b[0m\u001b[0;34m(\u001b[0m\u001b[0;34m)\u001b[0m\u001b[0;34m\u001b[0m\u001b[0;34m\u001b[0m\u001b[0m\n\u001b[0m\u001b[1;32m      4\u001b[0m \u001b[0mm8\u001b[0m \u001b[0;34m=\u001b[0m \u001b[0mMarginal\u001b[0m\u001b[0;34m(\u001b[0m\u001b[0mlikel_3\u001b[0m\u001b[0;34m,\u001b[0m \u001b[0mprior_kepler\u001b[0m\u001b[0;34m,\u001b[0m \u001b[0mdl\u001b[0m\u001b[0;34m.\u001b[0m\u001b[0mms\u001b[0m\u001b[0;34m,\u001b[0m \u001b[0mdl\u001b[0m\u001b[0;34m.\u001b[0m\u001b[0mmetal\u001b[0m\u001b[0;34m,\u001b[0m \u001b[0mdl\u001b[0m\u001b[0;34m.\u001b[0m\u001b[0mcom\u001b[0m\u001b[0;34m)\u001b[0m\u001b[0;34m\u001b[0m\u001b[0;34m\u001b[0m\u001b[0m\n\u001b[1;32m      5\u001b[0m \u001b[0mm8\u001b[0m\u001b[0;34m.\u001b[0m\u001b[0mmarginal\u001b[0m\u001b[0;34m(\u001b[0m\u001b[0;34m)\u001b[0m\u001b[0;34m\u001b[0m\u001b[0;34m\u001b[0m\u001b[0m\n",
      "\u001b[0;32m<ipython-input-64-375381bcd46f>\u001b[0m in \u001b[0;36mmarginal\u001b[0;34m(self)\u001b[0m\n\u001b[1;32m     22\u001b[0m \u001b[0;34m\u001b[0m\u001b[0m\n\u001b[1;32m     23\u001b[0m     \u001b[0;32mdef\u001b[0m \u001b[0mmarginal\u001b[0m\u001b[0;34m(\u001b[0m\u001b[0mself\u001b[0m\u001b[0;34m)\u001b[0m\u001b[0;34m:\u001b[0m\u001b[0;34m\u001b[0m\u001b[0;34m\u001b[0m\u001b[0m\n\u001b[0;32m---> 24\u001b[0;31m         \u001b[0mself\u001b[0m\u001b[0;34m.\u001b[0m\u001b[0mposterior\u001b[0m\u001b[0;34m(\u001b[0m\u001b[0;34m)\u001b[0m\u001b[0;34m\u001b[0m\u001b[0;34m\u001b[0m\u001b[0m\n\u001b[0m\u001b[1;32m     25\u001b[0m         \u001b[0mM\u001b[0m  \u001b[0;34m=\u001b[0m \u001b[0;34m(\u001b[0m\u001b[0mself\u001b[0m\u001b[0;34m.\u001b[0m\u001b[0mpost\u001b[0m\u001b[0;34m.\u001b[0m\u001b[0msum\u001b[0m\u001b[0;34m(\u001b[0m\u001b[0maxis\u001b[0m\u001b[0;34m=\u001b[0m\u001b[0;36m0\u001b[0m\u001b[0;34m)\u001b[0m\u001b[0;34m*\u001b[0m\u001b[0mself\u001b[0m\u001b[0;34m.\u001b[0m\u001b[0mdiff\u001b[0m\u001b[0;34m[\u001b[0m\u001b[0;36m0\u001b[0m\u001b[0;34m]\u001b[0m\u001b[0;34m)\u001b[0m\u001b[0;34m.\u001b[0m\u001b[0msum\u001b[0m\u001b[0;34m(\u001b[0m\u001b[0maxis\u001b[0m\u001b[0;34m=\u001b[0m\u001b[0;36m0\u001b[0m\u001b[0;34m)\u001b[0m\u001b[0;34m*\u001b[0m\u001b[0mself\u001b[0m\u001b[0;34m.\u001b[0m\u001b[0mdiff\u001b[0m\u001b[0;34m[\u001b[0m\u001b[0;36m1\u001b[0m\u001b[0;34m]\u001b[0m\u001b[0;34m\u001b[0m\u001b[0;34m\u001b[0m\u001b[0m\n\u001b[1;32m     26\u001b[0m         \u001b[0mnorm\u001b[0m \u001b[0;34m=\u001b[0m \u001b[0;34m(\u001b[0m\u001b[0mM\u001b[0m\u001b[0;34m*\u001b[0m\u001b[0mself\u001b[0m\u001b[0;34m.\u001b[0m\u001b[0mdz\u001b[0m\u001b[0;34m)\u001b[0m\u001b[0;34m.\u001b[0m\u001b[0msum\u001b[0m\u001b[0;34m(\u001b[0m\u001b[0;34m)\u001b[0m\u001b[0;34m\u001b[0m\u001b[0;34m\u001b[0m\u001b[0m\n",
      "\u001b[0;32m<ipython-input-64-375381bcd46f>\u001b[0m in \u001b[0;36mposterior\u001b[0;34m(self)\u001b[0m\n\u001b[1;32m     17\u001b[0m \u001b[0;34m\u001b[0m\u001b[0m\n\u001b[1;32m     18\u001b[0m     \u001b[0;32mdef\u001b[0m \u001b[0mposterior\u001b[0m\u001b[0;34m(\u001b[0m\u001b[0mself\u001b[0m\u001b[0;34m)\u001b[0m\u001b[0;34m:\u001b[0m\u001b[0;34m\u001b[0m\u001b[0;34m\u001b[0m\u001b[0m\n\u001b[0;32m---> 19\u001b[0;31m         \u001b[0mpost\u001b[0m \u001b[0;34m=\u001b[0m \u001b[0;34m(\u001b[0m\u001b[0mself\u001b[0m\u001b[0;34m.\u001b[0m\u001b[0mlike\u001b[0m\u001b[0;34m.\u001b[0m\u001b[0mT\u001b[0m\u001b[0;34m*\u001b[0m\u001b[0mself\u001b[0m\u001b[0;34m.\u001b[0m\u001b[0mprior\u001b[0m\u001b[0;34m.\u001b[0m\u001b[0mT\u001b[0m\u001b[0;34m)\u001b[0m\u001b[0;34m.\u001b[0m\u001b[0mT\u001b[0m\u001b[0;34m\u001b[0m\u001b[0;34m\u001b[0m\u001b[0m\n\u001b[0m\u001b[1;32m     20\u001b[0m         \u001b[0mnorm\u001b[0m \u001b[0;34m=\u001b[0m \u001b[0;34m(\u001b[0m\u001b[0;34m(\u001b[0m\u001b[0mpost\u001b[0m\u001b[0;34m.\u001b[0m\u001b[0msum\u001b[0m\u001b[0;34m(\u001b[0m\u001b[0maxis\u001b[0m\u001b[0;34m=\u001b[0m\u001b[0;36m0\u001b[0m\u001b[0;34m)\u001b[0m\u001b[0;34m*\u001b[0m\u001b[0;34m(\u001b[0m\u001b[0mself\u001b[0m\u001b[0;34m.\u001b[0m\u001b[0mdiff\u001b[0m\u001b[0;34m[\u001b[0m\u001b[0;36m0\u001b[0m\u001b[0;34m]\u001b[0m\u001b[0;34m)\u001b[0m\u001b[0;34m)\u001b[0m\u001b[0;34m.\u001b[0m\u001b[0msum\u001b[0m\u001b[0;34m(\u001b[0m\u001b[0maxis\u001b[0m\u001b[0;34m=\u001b[0m\u001b[0;36m0\u001b[0m\u001b[0;34m)\u001b[0m\u001b[0;34m*\u001b[0m\u001b[0;34m(\u001b[0m\u001b[0mself\u001b[0m\u001b[0;34m.\u001b[0m\u001b[0mdiff\u001b[0m\u001b[0;34m[\u001b[0m\u001b[0;36m1\u001b[0m\u001b[0;34m]\u001b[0m\u001b[0;34m)\u001b[0m\u001b[0;34m)\u001b[0m\u001b[0;34m.\u001b[0m\u001b[0msum\u001b[0m\u001b[0;34m(\u001b[0m\u001b[0;34m)\u001b[0m\u001b[0;34m*\u001b[0m\u001b[0;34m(\u001b[0m\u001b[0mself\u001b[0m\u001b[0;34m.\u001b[0m\u001b[0mdiff\u001b[0m\u001b[0;34m[\u001b[0m\u001b[0;36m2\u001b[0m\u001b[0;34m]\u001b[0m\u001b[0;34m)\u001b[0m\u001b[0;34m\u001b[0m\u001b[0;34m\u001b[0m\u001b[0m\n\u001b[1;32m     21\u001b[0m         \u001b[0mself\u001b[0m\u001b[0;34m.\u001b[0m\u001b[0mpost\u001b[0m \u001b[0;34m=\u001b[0m \u001b[0mpost\u001b[0m\u001b[0;34m/\u001b[0m\u001b[0mnorm\u001b[0m\u001b[0;34m\u001b[0m\u001b[0;34m\u001b[0m\u001b[0m\n",
      "\u001b[0;31mAttributeError\u001b[0m: 'optimal_pdf' object has no attribute 'T'"
     ]
    }
   ],
   "source": [
    "#CoM\n",
    "m7 = Marginal(liken_3, prior_kepler, dn.ms, dn.metal, dn.com)\n",
    "m7.marginal()\n",
    "m8 = Marginal(likel_3, prior_kepler, dl.ms, dl.metal, dl.com)\n",
    "m8.marginal()\n",
    "m9 = Marginal(likeh_3, prior_kepler, dh.ms, dh.metal, dh.com)\n",
    "m9.marginal()"
   ]
  },
  {
   "cell_type": "code",
   "execution_count": 120,
   "metadata": {},
   "outputs": [
    {
     "data": {
      "text/plain": [
       "<matplotlib.legend.Legend at 0x7f335a66ec10>"
      ]
     },
     "execution_count": 120,
     "metadata": {},
     "output_type": "execute_result"
    },
    {
     "data": {
      "image/png": "[encoded data removed]",
      "text/plain": [
       "<Figure size 1080x288 with 2 Axes>"
      ]
     },
     "metadata": {
      "needs_background": "light"
     },
     "output_type": "display_data"
    }
   ],
   "source": [
    "fig, ax = plt.subplots(1, 2, figsize=(15,4))\n",
    "\n",
    "ax[0].plot(liken_1.real_interval[2], m1.marginal/m1.marginal.max(), label=\"p(nplanets)\")\n",
    "ax[0].set_xlabel(\"nplanets\")\n",
    "ax[0].set_ylabel(\"Normal distribution\")\n",
    "ax[0].axvline(x = systm.n_planets.values, ls='--', c=\"k\", label = \"Observed planets = 3\")\n",
    "ax[0].axvline(x = m1.z_mean, ls='--', c=\"C1\", label = r\"$\\mu = 11$\")\n",
    "ax[0].axvline(x = m1.z_mean+m1.z_std, ls=':', c=\"C1\", label = r\"$\\sigma$\")\n",
    "ax[0].axvline(x = m1.z_mean+2*m1.z_std, ls=':', c=\"C2\", label = r\"$2\\sigma$\")\n",
    "ax[0].axvline(x = m1.z_mean-2*m1.z_std, ls=':', c=\"C2\")\n",
    "ax[0].legend()\n",
    "\n",
    "\n",
    "ax[1].plot(liken_1.real_interval[2], m1.marginal/m1.marginal.max(), label=\"p(nplanets)\")\n",
    "ax[1].set_xlabel(\"nplanets\")\n",
    "ax[1].set_ylabel(\"Normal distribution\")\n",
    "\n",
    "ax[1].axvline(x = systm.n_planets.values, ls='--', c=\"k\", label = \"Observed planets = 3\")\n",
    "ax[1].axvline(x = m1.p_25, ls='--', c=\"C1\", label = r\"$25\\%$\")\n",
    "ax[1].axvline(x = m1.p_50, ls='--', c=\"C2\", label = r\"$50\\%$\")\n",
    "ax[1].axvline(x = m1.p_75, ls='--', c=\"C3\", label = r\"$75\\%$\")\n",
    "\n",
    "ax[1].legend()"
   ]
  },
  {
   "cell_type": "code",
   "execution_count": 80,
   "metadata": {},
   "outputs": [
    {
     "ename": "AttributeError",
     "evalue": "'function' object has no attribute 'max'",
     "output_type": "error",
     "traceback": [
      "\u001b[0;31m---------------------------------------------------------------------------\u001b[0m",
      "\u001b[0;31mAttributeError\u001b[0m                            Traceback (most recent call last)",
      "\u001b[0;32m<ipython-input-80-9bed662d2089>\u001b[0m in \u001b[0;36m<module>\u001b[0;34m\u001b[0m\n\u001b[1;32m     31\u001b[0m \u001b[0;34m\u001b[0m\u001b[0m\n\u001b[1;32m     32\u001b[0m \u001b[0mplt\u001b[0m\u001b[0;34m.\u001b[0m\u001b[0msubplot\u001b[0m\u001b[0;34m(\u001b[0m\u001b[0;36m3\u001b[0m\u001b[0;34m,\u001b[0m \u001b[0;36m3\u001b[0m\u001b[0;34m,\u001b[0m \u001b[0;36m7\u001b[0m\u001b[0;34m)\u001b[0m\u001b[0;34m\u001b[0m\u001b[0;34m\u001b[0m\u001b[0m\n\u001b[0;32m---> 33\u001b[0;31m \u001b[0mm_plot\u001b[0m\u001b[0;34m(\u001b[0m\u001b[0mliken_3\u001b[0m\u001b[0;34m.\u001b[0m\u001b[0mreal_interval\u001b[0m\u001b[0;34m[\u001b[0m\u001b[0;36m2\u001b[0m\u001b[0;34m]\u001b[0m\u001b[0;34m,\u001b[0m \u001b[0mm7\u001b[0m\u001b[0;34m,\u001b[0m \u001b[0;34mr\"$r_{cm}$\"\u001b[0m\u001b[0;34m)\u001b[0m\u001b[0;34m\u001b[0m\u001b[0;34m\u001b[0m\u001b[0m\n\u001b[0m\u001b[1;32m     34\u001b[0m \u001b[0mplt\u001b[0m\u001b[0;34m.\u001b[0m\u001b[0mylabel\u001b[0m\u001b[0;34m(\u001b[0m\u001b[0;34mr\"$p\\left(r_{cm}\\right)$\"\u001b[0m\u001b[0;34m,\u001b[0m \u001b[0mfontsize\u001b[0m\u001b[0;34m=\u001b[0m\u001b[0mlat\u001b[0m\u001b[0;34m)\u001b[0m\u001b[0;34m\u001b[0m\u001b[0;34m\u001b[0m\u001b[0m\n\u001b[1;32m     35\u001b[0m \u001b[0mplt\u001b[0m\u001b[0;34m.\u001b[0m\u001b[0msubplot\u001b[0m\u001b[0;34m(\u001b[0m\u001b[0;36m3\u001b[0m\u001b[0;34m,\u001b[0m \u001b[0;36m3\u001b[0m\u001b[0;34m,\u001b[0m \u001b[0;36m8\u001b[0m\u001b[0;34m)\u001b[0m\u001b[0;34m\u001b[0m\u001b[0;34m\u001b[0m\u001b[0m\n",
      "\u001b[0;32m<ipython-input-68-f9ded030c010>\u001b[0m in \u001b[0;36mm_plot\u001b[0;34m(like_z, marginal, name)\u001b[0m\n\u001b[1;32m      2\u001b[0m \u001b[0;34m\u001b[0m\u001b[0m\n\u001b[1;32m      3\u001b[0m     \u001b[0mlat\u001b[0m \u001b[0;34m=\u001b[0m \u001b[0;36m12\u001b[0m\u001b[0;34m\u001b[0m\u001b[0;34m\u001b[0m\u001b[0m\n\u001b[0;32m----> 4\u001b[0;31m     plt.plot(like_z, marginal.marginal/marginal.marginal.max(), \n\u001b[0m\u001b[1;32m      5\u001b[0m              label = \"PDF distribution\")\n\u001b[1;32m      6\u001b[0m \u001b[0;34m\u001b[0m\u001b[0m\n",
      "\u001b[0;31mAttributeError\u001b[0m: 'function' object has no attribute 'max'"
     ]
    },
    {
     "data": {
      "image/png": "[encoded data removed]",
      "text/plain": [
       "<Figure size 864x648 with 7 Axes>"
      ]
     },
     "metadata": {
      "needs_background": "light"
     },
     "output_type": "display_data"
    }
   ],
   "source": [
    "fig, ax = plt.subplots(sharey='row', figsize=(12,9))\n",
    "\n",
    "lat=12\n",
    "\n",
    "plt.subplot(3, 3, 1)\n",
    "m_plot(liken_1.real_interval[2], m1, r\"$N_t$\")\n",
    "plt.title(\"No-perturbations\")\n",
    "plt.ylabel(r\"$p\\left(N_t\\right)$\", fontsize=lat)\n",
    "\n",
    "plt.subplot(3, 3, 2)\n",
    "plt.title(\"Low perturbations\")\n",
    "m_plot(liken_1.real_interval[2], m2, r\"$N_t$\")\n",
    "plt.yticks([])\n",
    "\n",
    "plt.subplot(3, 3, 3)\n",
    "plt.title(\"High perturbations\")\n",
    "m_plot(liken_1.real_interval[2], m3, r\"$N_t$\")\n",
    "plt.yticks([])\n",
    "\n",
    "\n",
    "plt.subplot(3, 3, 4)\n",
    "m_plot(liken_2.real_interval[2], m4, r\"$M_d$\")\n",
    "plt.ylabel(r\"$p\\left(M_d\\right)$\", fontsize=lat)\n",
    "plt.subplot(3, 3, 5)\n",
    "m_plot(liken_2.real_interval[2], m5, r\"$M_d$\")\n",
    "plt.yticks([])\n",
    "plt.subplot(3, 3, 6)\n",
    "m_plot(liken_2.real_interval[2], m6, r\"$M_d$\")\n",
    "plt.yticks([])\n",
    "\n",
    "\n",
    "plt.subplot(3, 3, 7)\n",
    "m_plot(liken_3.real_interval[2], m7, r\"$r_{cm}$\")\n",
    "plt.ylabel(r\"$p\\left(r_{cm}\\right)$\", fontsize=lat)\n",
    "plt.subplot(3, 3, 8)\n",
    "m_plot(liken_3.real_interval[2], m8, r\"$r_{cm}$\")\n",
    "plt.yticks([])\n",
    "plt.subplot(3, 3, 9)\n",
    "m_plot(liken_3.real_interval[2], m9, r\"$r_{cm}$\")\n",
    "plt.yticks([])\n",
    "\n",
    "plt.subplots_adjust(hspace=0.35)\n",
    "\n",
    "fig.tight_layout()"
   ]
  },
  {
   "cell_type": "code",
   "execution_count": null,
   "metadata": {},
   "outputs": [],
   "source": []
  },
  {
   "cell_type": "code",
   "execution_count": null,
   "metadata": {},
   "outputs": [],
   "source": []
  }
 ],
 "metadata": {
  "kernelspec": {
   "display_name": "Python 3",
   "language": "python",
   "name": "python3"
  },
  "language_info": {
   "codemirror_mode": {
    "name": "ipython",
    "version": 3
   },
   "file_extension": ".py",
   "mimetype": "text/x-python",
   "name": "python",
   "nbconvert_exporter": "python",
   "pygments_lexer": "ipython3",
   "version": "3.8.3"
  }
 },
 "nbformat": 4,
 "nbformat_minor": 4
}
