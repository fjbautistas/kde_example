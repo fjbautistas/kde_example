{
 "cells": [
  {
   "cell_type": "markdown",
   "metadata": {},
   "source": [
    "# Bandwidths "
   ]
  },
  {
   "cell_type": "markdown",
   "metadata": {},
   "source": [
    "Based on kde_tutorial from https://notebooks.gesis.org/binder/jupyter/user/saint-germain-p-ation_synthesis-uu00810x/tree/prep"
   ]
  },
  {
   "cell_type": "code",
   "execution_count": 1,
   "metadata": {},
   "outputs": [],
   "source": [
    "from sklearn.neighbors import KernelDensity\n",
    "from sklearn.model_selection import GridSearchCV"
   ]
  },
  {
   "cell_type": "code",
   "execution_count": 2,
   "metadata": {},
   "outputs": [],
   "source": [
    "import numpy as np\n",
    "import pandas as pd\n",
    "import seaborn as sns\n",
    "import matplotlib.pyplot as plt\n",
    "%matplotlib inline"
   ]
  },
  {
   "cell_type": "code",
   "execution_count": 3,
   "metadata": {},
   "outputs": [],
   "source": [
    "import warnings\n",
    "warnings.simplefilter('ignore')"
   ]
  },
  {
   "cell_type": "code",
   "execution_count": 4,
   "metadata": {},
   "outputs": [],
   "source": [
    "dn=pd.read_csv('proc_no_pert.csv',index_col=None) #without pertubtations \n",
    "dn[\"gia\"]=dn.ngi>0\n",
    "dl=pd.read_csv('proc_lo_pert.csv',index_col=None) #with low pertubtations \n",
    "dl[\"gia\"]=dl.ngi>0\n",
    "dh=pd.read_csv('proc_hi_pert.csv',index_col=None) #with high pertubtations \n",
    "dh[\"gia\"]=dh.ngi>0"
   ]
  },
  {
   "cell_type": "code",
   "execution_count": 5,
   "metadata": {},
   "outputs": [],
   "source": [
    "#Terrestrial\n",
    "dnt=dn[~dn[\"gia\"]] # without pertubtations \n",
    "dlt=dl[~dl[\"gia\"]] # low pertubtations \n",
    "dht=dh[~dh[\"gia\"]] # high pertubtations \n",
    "\n",
    "#Giant \n",
    "dng=dn[dn[\"gia\"]]  # without pertubtations \n",
    "dlg=dl[dl[\"gia\"]]  # low pertubtations \n",
    "dhg=dh[dh[\"gia\"]]  # high without pertubtations "
   ]
  },
  {
   "cell_type": "code",
   "execution_count": 6,
   "metadata": {},
   "outputs": [
    {
     "name": "stdout",
     "output_type": "stream",
     "text": [
      "***************************************\n",
      "Total systems                  : 1221\n",
      "***************************************\n",
      "Total planets - no             : 15887\n",
      "Giant planets - no             : 330\n",
      "Systems with giant planets - no: 268\n",
      "***************************************\n",
      "Total planets - lo             : 15732\n",
      "Giant planets - lo             : 374\n",
      "Systems with giant planets - lo: 306\n",
      "***************************************\n",
      "Total planets - hi             : 15441\n",
      "Giant planets - hi             : 388\n",
      "Systems with giant planets - hi: 309\n"
     ]
    }
   ],
   "source": [
    "print(\"***************************************\")\n",
    "print(\"Total systems                  : \"+str(len(dn)))\n",
    "print(\"***************************************\")\n",
    "print(\"Total planets - no             : \"+str(dn.nplanets.sum().astype(int)))\n",
    "print(\"Giant planets - no             : \"+str(dn.ngi.sum().astype(int)))\n",
    "print(\"Systems with giant planets - no: \"+str(dn.gia.sum()))\n",
    "print(\"***************************************\")\n",
    "\n",
    "print(\"Total planets - lo             : \"+str(dl.nplanets.sum().astype(int)))\n",
    "print(\"Giant planets - lo             : \"+str(dl.ngi.sum().astype(int)))\n",
    "print(\"Systems with giant planets - lo: \"+str(dl.gia.sum()))\n",
    "print(\"***************************************\")\n",
    "print(\"Total planets - hi             : \"+str(dh.nplanets.sum().astype(int)))\n",
    "print(\"Giant planets - hi             : \"+str(dh.ngi.sum().astype(int)))\n",
    "print(\"Systems with giant planets - hi: \"+str(dh.gia.sum()))"
   ]
  },
  {
   "cell_type": "markdown",
   "metadata": {},
   "source": [
    "Some important variables: "
   ]
  },
  {
   "cell_type": "code",
   "execution_count": 7,
   "metadata": {},
   "outputs": [],
   "source": [
    "#log_10 of mass efficiency and center of mass\n",
    "#log_10 mass efficiency giant and terrestrial \n",
    "dng['logeff']=np.log10(dng.massefficiency)\n",
    "dlg['logeff']=np.log10(dlg.massefficiency)\n",
    "dhg['logeff']=np.log10(dhg.massefficiency)\n",
    "dnt['logeff']=np.log10(dnt.massefficiency)\n",
    "dlt['logeff']=np.log10(dlt.massefficiency)\n",
    "dht['logeff']=np.log10(dht.massefficiency)#\n",
    "#log_10 total mass efficiency\n",
    "dn['logeff']=np.log10(dn.massefficiency)\n",
    "dl['logeff']=np.log10(dl.massefficiency)\n",
    "dh['logeff']=np.log10(dh.massefficiency)\n",
    "\n",
    "#log_10 total com\n",
    "dn['logcom']=np.log10(dn.com)\n",
    "dl['logcom']=np.log10(dl.com)\n",
    "dh['logcom']=np.log10(dh.com)\n",
    "\n",
    "#log_10 com giant and terrestrial \n",
    "dng['logcom']=np.log10(dng.com)\n",
    "dlg['logcom']=np.log10(dlg.com)\n",
    "dhg['logcom']=np.log10(dhg.com)\n",
    "dnt['logcom']=np.log10(dnt.com)\n",
    "dlt['logcom']=np.log10(dlt.com)\n",
    "dht['logcom']=np.log10(dht.com)"
   ]
  },
  {
   "cell_type": "code",
   "execution_count": 8,
   "metadata": {
    "scrolled": false
   },
   "outputs": [
    {
     "data": {
      "text/html": [
       "<div>\n",
       "<style scoped>\n",
       "    .dataframe tbody tr th:only-of-type {\n",
       "        vertical-align: middle;\n",
       "    }\n",
       "\n",
       "    .dataframe tbody tr th {\n",
       "        vertical-align: top;\n",
       "    }\n",
       "\n",
       "    .dataframe thead th {\n",
       "        text-align: right;\n",
       "    }\n",
       "</style>\n",
       "<table border=\"1\" class=\"dataframe\">\n",
       "  <thead>\n",
       "    <tr style=\"text-align: right;\">\n",
       "      <th></th>\n",
       "      <th>Unnamed: 0</th>\n",
       "      <th>ident</th>\n",
       "      <th>com</th>\n",
       "      <th>nplanets</th>\n",
       "      <th>massbudget</th>\n",
       "      <th>massefficiency</th>\n",
       "      <th>sigmag0</th>\n",
       "      <th>md</th>\n",
       "      <th>rc</th>\n",
       "      <th>ms</th>\n",
       "      <th>metal</th>\n",
       "      <th>taugas</th>\n",
       "      <th>qest</th>\n",
       "      <th>ngi</th>\n",
       "      <th>mtr</th>\n",
       "      <th>apert</th>\n",
       "      <th>gia</th>\n",
       "      <th>logeff</th>\n",
       "      <th>logcom</th>\n",
       "    </tr>\n",
       "  </thead>\n",
       "  <tbody>\n",
       "    <tr>\n",
       "      <th>0</th>\n",
       "      <td>0</td>\n",
       "      <td>3.0</td>\n",
       "      <td>1.081461</td>\n",
       "      <td>10.0</td>\n",
       "      <td>10770.309627</td>\n",
       "      <td>0.576981</td>\n",
       "      <td>90.793337</td>\n",
       "      <td>0.056</td>\n",
       "      <td>29.539343</td>\n",
       "      <td>0.880114</td>\n",
       "      <td>0.328146</td>\n",
       "      <td>1644710.625</td>\n",
       "      <td>8.421395</td>\n",
       "      <td>4.0</td>\n",
       "      <td>12.004623</td>\n",
       "      <td>0.0</td>\n",
       "      <td>True</td>\n",
       "      <td>-0.238839</td>\n",
       "      <td>0.034011</td>\n",
       "    </tr>\n",
       "    <tr>\n",
       "      <th>2</th>\n",
       "      <td>2</td>\n",
       "      <td>6.0</td>\n",
       "      <td>0.110789</td>\n",
       "      <td>12.0</td>\n",
       "      <td>2422.342359</td>\n",
       "      <td>0.060559</td>\n",
       "      <td>75.740878</td>\n",
       "      <td>0.120</td>\n",
       "      <td>47.343380</td>\n",
       "      <td>0.861595</td>\n",
       "      <td>0.021273</td>\n",
       "      <td>1790533.125</td>\n",
       "      <td>4.412694</td>\n",
       "      <td>1.0</td>\n",
       "      <td>29.771089</td>\n",
       "      <td>0.0</td>\n",
       "      <td>True</td>\n",
       "      <td>-1.217824</td>\n",
       "      <td>-0.955504</td>\n",
       "    </tr>\n",
       "    <tr>\n",
       "      <th>4</th>\n",
       "      <td>4</td>\n",
       "      <td>13.0</td>\n",
       "      <td>0.172211</td>\n",
       "      <td>13.0</td>\n",
       "      <td>2905.457535</td>\n",
       "      <td>0.051273</td>\n",
       "      <td>178.830700</td>\n",
       "      <td>0.170</td>\n",
       "      <td>36.672222</td>\n",
       "      <td>1.206445</td>\n",
       "      <td>-0.174039</td>\n",
       "      <td>3956707.500</td>\n",
       "      <td>3.998513</td>\n",
       "      <td>1.0</td>\n",
       "      <td>14.220447</td>\n",
       "      <td>0.0</td>\n",
       "      <td>True</td>\n",
       "      <td>-1.290113</td>\n",
       "      <td>-0.763939</td>\n",
       "    </tr>\n",
       "    <tr>\n",
       "      <th>16</th>\n",
       "      <td>16</td>\n",
       "      <td>31.0</td>\n",
       "      <td>4.377862</td>\n",
       "      <td>11.0</td>\n",
       "      <td>41.578462</td>\n",
       "      <td>0.001299</td>\n",
       "      <td>86.546084</td>\n",
       "      <td>0.096</td>\n",
       "      <td>39.613728</td>\n",
       "      <td>0.993549</td>\n",
       "      <td>-0.031508</td>\n",
       "      <td>1439538.875</td>\n",
       "      <td>5.991912</td>\n",
       "      <td>1.0</td>\n",
       "      <td>17.716253</td>\n",
       "      <td>0.0</td>\n",
       "      <td>True</td>\n",
       "      <td>-2.886282</td>\n",
       "      <td>0.641262</td>\n",
       "    </tr>\n",
       "    <tr>\n",
       "      <th>23</th>\n",
       "      <td>23</td>\n",
       "      <td>40.0</td>\n",
       "      <td>2.144859</td>\n",
       "      <td>13.0</td>\n",
       "      <td>181.982608</td>\n",
       "      <td>0.006578</td>\n",
       "      <td>57.698437</td>\n",
       "      <td>0.083</td>\n",
       "      <td>45.111870</td>\n",
       "      <td>1.037112</td>\n",
       "      <td>0.039315</td>\n",
       "      <td>2374519.750</td>\n",
       "      <td>7.413428</td>\n",
       "      <td>1.0</td>\n",
       "      <td>14.782324</td>\n",
       "      <td>0.0</td>\n",
       "      <td>True</td>\n",
       "      <td>-2.181927</td>\n",
       "      <td>0.331399</td>\n",
       "    </tr>\n",
       "  </tbody>\n",
       "</table>\n",
       "</div>"
      ],
      "text/plain": [
       "    Unnamed: 0  ident       com  nplanets    massbudget  massefficiency  \\\n",
       "0            0    3.0  1.081461      10.0  10770.309627        0.576981   \n",
       "2            2    6.0  0.110789      12.0   2422.342359        0.060559   \n",
       "4            4   13.0  0.172211      13.0   2905.457535        0.051273   \n",
       "16          16   31.0  4.377862      11.0     41.578462        0.001299   \n",
       "23          23   40.0  2.144859      13.0    181.982608        0.006578   \n",
       "\n",
       "       sigmag0     md         rc        ms     metal       taugas      qest  \\\n",
       "0    90.793337  0.056  29.539343  0.880114  0.328146  1644710.625  8.421395   \n",
       "2    75.740878  0.120  47.343380  0.861595  0.021273  1790533.125  4.412694   \n",
       "4   178.830700  0.170  36.672222  1.206445 -0.174039  3956707.500  3.998513   \n",
       "16   86.546084  0.096  39.613728  0.993549 -0.031508  1439538.875  5.991912   \n",
       "23   57.698437  0.083  45.111870  1.037112  0.039315  2374519.750  7.413428   \n",
       "\n",
       "    ngi        mtr  apert   gia    logeff    logcom  \n",
       "0   4.0  12.004623    0.0  True -0.238839  0.034011  \n",
       "2   1.0  29.771089    0.0  True -1.217824 -0.955504  \n",
       "4   1.0  14.220447    0.0  True -1.290113 -0.763939  \n",
       "16  1.0  17.716253    0.0  True -2.886282  0.641262  \n",
       "23  1.0  14.782324    0.0  True -2.181927  0.331399  "
      ]
     },
     "execution_count": 8,
     "metadata": {},
     "output_type": "execute_result"
    }
   ],
   "source": [
    "dng.head()"
   ]
  },
  {
   "cell_type": "markdown",
   "metadata": {},
   "source": [
    "## Bandwidth problem\n",
    "\n",
    "an example with kernel density"
   ]
  },
  {
   "cell_type": "code",
   "execution_count": 9,
   "metadata": {},
   "outputs": [
    {
     "name": "stdout",
     "output_type": "stream",
     "text": [
      "{'bandwidth': 0.4}\n",
      "bw g_kde: 0.17399675736725956\n"
     ]
    }
   ],
   "source": [
    "# an example with kernel density\n",
    "x=dng.ngi\n",
    "grid = GridSearchCV(KernelDensity(), \n",
    "                    {'bandwidth': np.linspace(x.min(),x.max()/10,30)},\n",
    "                    cv=50) # 20-fold cross-validation\n",
    "grid.fit(x[:, None])\n",
    "print(grid.best_params_)\n",
    "\n",
    "# other example with gaussian_kde method. \n",
    "from scipy.stats import gaussian_kde\n",
    "kde = gaussian_kde(x)\n",
    "f = kde.covariance_factor()\n",
    "bw = f * x.std()\n",
    "print(\"bw g_kde: \"+str(bw))"
   ]
  },
  {
   "cell_type": "code",
   "execution_count": 10,
   "metadata": {},
   "outputs": [
    {
     "data": {
      "text/plain": [
       "(array([2.71144279, 0.        , 0.        , 0.49751244, 0.        ,\n",
       "        0.        , 0.09950249, 0.        , 0.        , 0.02487562]),\n",
       " array([1. , 1.3, 1.6, 1.9, 2.2, 2.5, 2.8, 3.1, 3.4, 3.7, 4. ]),\n",
       " <a list of 10 Patch objects>)"
      ]
     },
     "execution_count": 10,
     "metadata": {},
     "output_type": "execute_result"
    },
    {
     "data": {
      "image/png": "[encoded data removed]",
      "text/plain": [
       "<Figure size 720x360 with 2 Axes>"
      ]
     },
     "metadata": {
      "needs_background": "light"
     },
     "output_type": "display_data"
    }
   ],
   "source": [
    "f, axes = plt.subplots(1, 2, figsize=(10, 5), sharex=True)\n",
    "sns.kdeplot(dng.ngi,bw=.32688, ax=axes[0], label=\"bw KD\"); axes[0].hist(dng.ngi, density=True)\n",
    "sns.kdeplot(dng.ngi,bw=bw, ax=axes[1],label=\"bw g_kde\"); axes[1].hist(dng.ngi, density=True)"
   ]
  },
  {
   "cell_type": "markdown",
   "metadata": {},
   "source": [
    "Now, a function to compare this methods: "
   ]
  },
  {
   "cell_type": "code",
   "execution_count": 50,
   "metadata": {},
   "outputs": [
    {
     "data": {
      "text/plain": [
       "\"\\n        x_i  = variables[index]/(variables[index].min())\\n        #CV\\n        grid = GridSearchCV(KernelDensity(), \\n                            {'bandwidth': np.linspace(x_i.min(),x_i.max()/norm,size)}, \\n                            cv=cv)\\n        grid.fit(x_i[:, None])\\n        bw_CV = list(grid.best_params_.values())[0]\\n        bw_optimal_CV.append(bw_CV)\\n        \\n        #KDE:\\n        kde = gaussian_kde(x_i)\\n        f = kde.covariance_factor()\\n        bw_kde = f * x_i.std()\\n        bw_optimal_kde.append(bw_kde)\\n    \\n    return [bw_optimal_CV, bw_optimal_kde]\""
      ]
     },
     "execution_count": 50,
     "metadata": {},
     "output_type": "execute_result"
    }
   ],
   "source": [
    "x_variables = [dng,dlg,dhg,dnt,dlt,dht,dn,dl,dh]\n",
    "#columns     = [str(logeff), str(logcom)]\n",
    "\n",
    "def bw_optimal(variables): \n",
    "    bw_optimal_CV, bw_optimal_kde = [],[]\n",
    "    norm, size, cv = 10, 30, 20 # 20-fold cross-validation\n",
    "    \n",
    "    for index,variable in enumerate(variables):\n",
    "        x = variable.logeff/variable.logeff.min()\n",
    "        \n",
    "        #-------------With CrossValidation:\n",
    "        grid = GridSearchCV(KernelDensity(), \n",
    "                            {'bandwidth': np.linspace(x.min(),x.max()/norm,size)}, \n",
    "                            cv=cv)\n",
    "        grid.fit(x[:, None])\n",
    "        bw_optimal_CV.append(list(grid.best_params_.values())[0])\n",
    "        \n",
    "        #-------------Gaussian_KDE:\n",
    "        kde = gaussian_kde(x)\n",
    "        f = kde.covariance_factor()\n",
    "        bw_optimal_kde.append(f * x.std())\n",
    "        \n",
    "    return bw_optimal_CV\n",
    "'''\n",
    "        x_i  = variables[index]/(variables[index].min())\n",
    "        #CV\n",
    "        grid = GridSearchCV(KernelDensity(), \n",
    "                            {'bandwidth': np.linspace(x_i.min(),x_i.max()/norm,size)}, \n",
    "                            cv=cv)\n",
    "        grid.fit(x_i[:, None])\n",
    "        bw_CV = list(grid.best_params_.values())[0]\n",
    "        bw_optimal_CV.append(bw_CV)\n",
    "        \n",
    "        #KDE:\n",
    "        kde = gaussian_kde(x_i)\n",
    "        f = kde.covariance_factor()\n",
    "        bw_kde = f * x_i.std()\n",
    "        bw_optimal_kde.append(bw_kde)\n",
    "    \n",
    "    return [bw_optimal_CV, bw_optimal_kde]'''"
   ]
  },
  {
   "cell_type": "code",
   "execution_count": 51,
   "metadata": {
    "scrolled": true
   },
   "outputs": [
    {
     "name": "stdout",
     "output_type": "stream",
     "text": [
      "CPU times: user 18.1 s, sys: 63.7 ms, total: 18.2 s\n",
      "Wall time: 18 s\n"
     ]
    },
    {
     "data": {
      "text/plain": [
       "[0.06861681279645619,\n",
       " 0.06651027180474715,\n",
       " 0.1,\n",
       " 0.1,\n",
       " 0.1,\n",
       " 0.1,\n",
       " 0.04159322848746282,\n",
       " 0.04718116625880585,\n",
       " 0.06989983400956606]"
      ]
     },
     "execution_count": 51,
     "metadata": {},
     "output_type": "execute_result"
    }
   ],
   "source": [
    "%%time\n",
    "AA =  bw_optimal(x_variables)\n",
    "AA"
   ]
  },
  {
   "cell_type": "code",
   "execution_count": 13,
   "metadata": {},
   "outputs": [
    {
     "data": {
      "text/plain": [
       "[[0.06861681279645619,\n",
       "  0.06651027180474715,\n",
       "  0.1,\n",
       "  0.1,\n",
       "  0.1,\n",
       "  0.1,\n",
       "  0.04159322848746282,\n",
       "  0.04718116625880585,\n",
       "  0.06989983400956606],\n",
       " [0.07616826615220967,\n",
       "  0.07283586344782506,\n",
       "  0.0766064903211836,\n",
       "  0.01528846088540147,\n",
       "  0.016623501511828866,\n",
       "  0.015880643899511,\n",
       "  0.03638012506581476,\n",
       "  0.043349312602960134,\n",
       "  0.04384632923104626]]"
      ]
     },
     "execution_count": 13,
     "metadata": {},
     "output_type": "execute_result"
    }
   ],
   "source": [
    "'''\n",
    "f, axes = plt.subplots(1, 2, figsize=(10, 5), sharey=True)\n",
    "\n",
    "sns.kdeplot(AA[0],bw=AA[1], ax=axes[0], label=\"bw CV\"); axes[0].hist(AA[0], density=True)\n",
    "sns.kdeplot(AA[0],bw=AA[2], ax=axes[1],label=\"bw g_kde\"); axes[1].hist(AA[0], density=True)\n",
    "axes[0].set_xlim(-0.,1.05)\n",
    "axes[1].set_xlim(-0.,1.05)\n",
    "'''"
   ]
  },
  {
   "cell_type": "code",
   "execution_count": 14,
   "metadata": {},
   "outputs": [
    {
     "name": "stdout",
     "output_type": "stream",
     "text": [
      "{'bandwidth': 0.1}\n"
     ]
    },
    {
     "data": {
      "image/png": "[encoded data removed]",
      "text/plain": [
       "<Figure size 432x288 with 1 Axes>"
      ]
     },
     "metadata": {
      "needs_background": "light"
     },
     "output_type": "display_data"
    }
   ],
   "source": [
    "x=dnt.logeff/dnt.logeff.values.min() # maping data through normalization\n",
    "grid = GridSearchCV(KernelDensity(), \n",
    "                    {'bandwidth': np.linspace(x.min(),x.max()/10,30)},\n",
    "                    cv=20) # 20-fold cross-validation\n",
    "grid.fit(x[:, None])\n",
    "print(grid.best_params_)\n",
    "\n",
    "sns.kdeplot(x,bw=list(grid.best_params_.values())[0])\n",
    "plt.hist(x, density=True)\n",
    "plt.show()"
   ]
  },
  {
   "cell_type": "code",
   "execution_count": 15,
   "metadata": {},
   "outputs": [
    {
     "data": {
      "text/plain": [
       "1       0.576749\n",
       "3       0.659488\n",
       "5       0.585149\n",
       "6       0.637203\n",
       "7       0.538279\n",
       "          ...   \n",
       "1215    0.595577\n",
       "1217    0.520010\n",
       "1218    0.554502\n",
       "1219    0.592505\n",
       "1220    0.572600\n",
       "Name: logeff, Length: 953, dtype: float64"
      ]
     },
     "execution_count": 15,
     "metadata": {},
     "output_type": "execute_result"
    }
   ],
   "source": [
    "x"
   ]
  },
  {
   "cell_type": "code",
   "execution_count": 16,
   "metadata": {},
   "outputs": [
    {
     "name": "stdout",
     "output_type": "stream",
     "text": [
      "0.01528846088540147\n"
     ]
    },
    {
     "data": {
      "image/png": "[encoded data removed]",
      "text/plain": [
       "<Figure size 432x288 with 1 Axes>"
      ]
     },
     "metadata": {
      "needs_background": "light"
     },
     "output_type": "display_data"
    }
   ],
   "source": [
    "kde = gaussian_kde(x)\n",
    "f = kde.covariance_factor()\n",
    "bw = f * x.std()\n",
    "f\n",
    "print(bw)\n",
    "\n",
    "sns.kdeplot(x,bw=bw)\n",
    "plt.hist(x, density=True)\n",
    "plt.show()\n"
   ]
  },
  {
   "cell_type": "code",
   "execution_count": 17,
   "metadata": {},
   "outputs": [],
   "source": [
    "\n",
    "\n",
    "\n",
    "dng['logeff']=np.log10(dng.massefficiency)\n",
    "dlg['logeff']=np.log10(dlg.massefficiency)\n",
    "dhg['logeff']=np.log10(dhg.massefficiency)\n",
    "dnt['logeff']=np.log10(dnt.massefficiency)\n",
    "dlt['logeff']=np.log10(dlt.massefficiency)\n",
    "dht['logeff']=np.log10(dht.massefficiency)#\n",
    "#log_10 total mass efficiency\n",
    "dn['logeff']=np.log10(dn.massefficiency)\n",
    "dl['logeff']=np.log10(dl.massefficiency)\n",
    "dh['logeff']=np.log10(dh.massefficiency)\n",
    "\n",
    "#log_10 total com\n",
    "dn['logcom']=np.log10(dn.com)\n",
    "dl['logcom']=np.log10(dl.com)\n",
    "dh['logcom']=np.log10(dh.com)\n",
    "\n",
    "#log_10 com giant and terrestrial \n",
    "dng['logcom']=np.log10(dng.com)\n",
    "dlg['logcom']=np.log10(dlg.com)\n",
    "dhg['logcom']=np.log10(dhg.com)\n",
    "dnt['logcom']=np.log10(dnt.com)\n",
    "dlt['logcom']=np.log10(dlt.com)\n",
    "dht['logcom']=np.log10(dht.com)"
   ]
  },
  {
   "cell_type": "code",
   "execution_count": 18,
   "metadata": {},
   "outputs": [
    {
     "name": "stdout",
     "output_type": "stream",
     "text": [
      "{'bandwidth': 0.4}\n"
     ]
    }
   ],
   "source": [
    "x=dng.ngi\n",
    "grid = GridSearchCV(KernelDensity(),\n",
    "                    {'bandwidth': np.linspace(x.min(),x.max()/10,30)},\n",
    "                    cv=20) # 20-fold cross-validation\n",
    "grid.fit(x[:, None])\n",
    "print(grid.best_params_)"
   ]
  },
  {
   "cell_type": "code",
   "execution_count": 19,
   "metadata": {},
   "outputs": [
    {
     "data": {
      "text/plain": [
       "dict_values([0.4])"
      ]
     },
     "execution_count": 19,
     "metadata": {},
     "output_type": "execute_result"
    }
   ],
   "source": [
    "grid.best_params_.values()"
   ]
  },
  {
   "cell_type": "code",
   "execution_count": 20,
   "metadata": {},
   "outputs": [
    {
     "data": {
      "image/png": "[encoded data removed]",
      "text/plain": [
       "<Figure size 432x288 with 1 Axes>"
      ]
     },
     "metadata": {
      "needs_background": "light"
     },
     "output_type": "display_data"
    },
    {
     "data": {
      "image/png": "[encoded data removed]",
      "text/plain": [
       "<Figure size 432x288 with 1 Axes>"
      ]
     },
     "metadata": {
      "needs_background": "light"
     },
     "output_type": "display_data"
    }
   ],
   "source": [
    "#comparative of bw estimation\n",
    "sns.kdeplot(dng.ngi,bw='silverman')\n",
    "plt.hist(dng.ngi, density=True)\n",
    "plt.show()\n",
    "sns.kdeplot(dng.ngi,bw=0.4)\n",
    "plt.hist(dng.ngi, density=True)\n",
    "plt.show()"
   ]
  },
  {
   "cell_type": "code",
   "execution_count": 21,
   "metadata": {},
   "outputs": [
    {
     "data": {
      "text/plain": [
       "<matplotlib.axes._subplots.AxesSubplot at 0x7f2f9a15ab80>"
      ]
     },
     "execution_count": 21,
     "metadata": {},
     "output_type": "execute_result"
    },
    {
     "data": {
      "image/png": "[encoded data removed]",
      "text/plain": [
       "<Figure size 432x288 with 1 Axes>"
      ]
     },
     "metadata": {
      "needs_background": "light"
     },
     "output_type": "display_data"
    }
   ],
   "source": [
    "var='md'\n",
    "sns.distplot(dnt[var])\n",
    "sns.distplot(dng[var])\n",
    "sns.distplot(dn[var])"
   ]
  },
  {
   "cell_type": "code",
   "execution_count": 22,
   "metadata": {},
   "outputs": [
    {
     "name": "stdout",
     "output_type": "stream",
     "text": [
      "{'bandwidth': 0.01}\n"
     ]
    }
   ],
   "source": [
    "x=dn.md/dn.ms\n",
    "grid = GridSearchCV(KernelDensity(),\n",
    "                {'bandwidth': np.linspace(0.01, 0.5, 30)},\n",
    "                cv=20) # 20-fold cross-validation\n",
    "grid.fit(x[:, None])\n",
    "print(grid.best_params_)"
   ]
  },
  {
   "cell_type": "code",
   "execution_count": 23,
   "metadata": {},
   "outputs": [
    {
     "data": {
      "text/plain": [
       "(array([2.24576629, 6.30542074, 7.94655764, 6.91005012, 6.34860855,\n",
       "        5.83035479, 5.61441573, 4.2324057 , 4.01646663, 3.28227381]),\n",
       " array([0.01005764, 0.02902134, 0.04798505, 0.06694875, 0.08591245,\n",
       "        0.10487615, 0.12383985, 0.14280356, 0.16176726, 0.18073096,\n",
       "        0.19969466]),\n",
       " <a list of 10 Patch objects>)"
      ]
     },
     "execution_count": 23,
     "metadata": {},
     "output_type": "execute_result"
    },
    {
     "data": {
      "image/png": "[encoded data removed]",
      "text/plain": [
       "<Figure size 432x288 with 1 Axes>"
      ]
     },
     "metadata": {
      "needs_background": "light"
     },
     "output_type": "display_data"
    }
   ],
   "source": [
    "sns.kdeplot(x,bw=0.24)\n",
    "plt.hist(x, density=True)"
   ]
  },
  {
   "cell_type": "code",
   "execution_count": null,
   "metadata": {},
   "outputs": [],
   "source": []
  },
  {
   "cell_type": "code",
   "execution_count": null,
   "metadata": {},
   "outputs": [],
   "source": []
  }
 ],
 "metadata": {
  "kernelspec": {
   "display_name": "Python 3",
   "language": "python",
   "name": "python3"
  },
  "language_info": {
   "codemirror_mode": {
    "name": "ipython",
    "version": 3
   },
   "file_extension": ".py",
   "mimetype": "text/x-python",
   "name": "python",
   "nbconvert_exporter": "python",
   "pygments_lexer": "ipython3",
   "version": "3.8.3"
  }
 },
 "nbformat": 4,
 "nbformat_minor": 4
}
