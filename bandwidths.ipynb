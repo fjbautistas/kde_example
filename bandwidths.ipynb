{
 "cells": [
  {
   "cell_type": "markdown",
   "metadata": {},
   "source": [
    "#  How to obtain ideal Bandwidths\n",
    "\n",
    "Based on kde_tutorial from https://notebooks.gesis.org/binder/jupyter/user/saint-germain-p-ation_synthesis-uu00810x/tree/prep\n",
    "\n",
    "### Libraries and data\n",
    "The data trataiment:"
   ]
  },
  {
   "cell_type": "code",
   "execution_count": 25,
   "metadata": {},
   "outputs": [],
   "source": [
    "from sklearn.neighbors import KernelDensity\n",
    "from sklearn.model_selection import GridSearchCV\n",
    "from scipy.stats import gaussian_kde"
   ]
  },
  {
   "cell_type": "code",
   "execution_count": 26,
   "metadata": {},
   "outputs": [],
   "source": [
    "import numpy as np\n",
    "import pandas as pd\n",
    "import seaborn as sns\n",
    "import matplotlib.pyplot as plt\n",
    "%matplotlib inline"
   ]
  },
  {
   "cell_type": "code",
   "execution_count": 27,
   "metadata": {},
   "outputs": [],
   "source": [
    "import warnings\n",
    "warnings.simplefilter('ignore')"
   ]
  },
  {
   "cell_type": "code",
   "execution_count": 28,
   "metadata": {},
   "outputs": [],
   "source": [
    "dn=pd.read_csv('proc_no_pert.csv',index_col=None) #without pertubtations \n",
    "dn[\"gia\"]=dn.ngi>0\n",
    "dl=pd.read_csv('proc_lo_pert.csv',index_col=None) #with low pertubtations \n",
    "dl[\"gia\"]=dl.ngi>0\n",
    "dh=pd.read_csv('proc_hi_pert.csv',index_col=None) #with high pertubtations \n",
    "dh[\"gia\"]=dh.ngi>0"
   ]
  },
  {
   "cell_type": "code",
   "execution_count": 29,
   "metadata": {},
   "outputs": [],
   "source": [
    "#Terrestrial\n",
    "dnt=dn[~dn[\"gia\"]] # without pertubtations \n",
    "dlt=dl[~dl[\"gia\"]] # low pertubtations \n",
    "dht=dh[~dh[\"gia\"]] # high pertubtations \n",
    "\n",
    "#Giant \n",
    "dng=dn[dn[\"gia\"]]  # without pertubtations \n",
    "dlg=dl[dl[\"gia\"]]  # low pertubtations \n",
    "dhg=dh[dh[\"gia\"]]  # high without pertubtations "
   ]
  },
  {
   "cell_type": "code",
   "execution_count": 30,
   "metadata": {},
   "outputs": [
    {
     "name": "stdout",
     "output_type": "stream",
     "text": [
      "***************************************\n",
      "Total systems                  : 1221\n",
      "***************************************\n",
      "Total planets - no             : 15887\n",
      "Giant planets - no             : 330\n",
      "Systems with giant planets - no: 268\n",
      "***************************************\n",
      "Total planets - lo             : 15732\n",
      "Giant planets - lo             : 374\n",
      "Systems with giant planets - lo: 306\n",
      "***************************************\n",
      "Total planets - hi             : 15441\n",
      "Giant planets - hi             : 388\n",
      "Systems with giant planets - hi: 309\n"
     ]
    }
   ],
   "source": [
    "print(\"***************************************\")\n",
    "print(\"Total systems                  : \"+str(len(dn)))\n",
    "print(\"***************************************\")\n",
    "print(\"Total planets - no             : \"+str(dn.nplanets.sum().astype(int)))\n",
    "print(\"Giant planets - no             : \"+str(dn.ngi.sum().astype(int)))\n",
    "print(\"Systems with giant planets - no: \"+str(dn.gia.sum()))\n",
    "print(\"***************************************\")\n",
    "\n",
    "print(\"Total planets - lo             : \"+str(dl.nplanets.sum().astype(int)))\n",
    "print(\"Giant planets - lo             : \"+str(dl.ngi.sum().astype(int)))\n",
    "print(\"Systems with giant planets - lo: \"+str(dl.gia.sum()))\n",
    "print(\"***************************************\")\n",
    "print(\"Total planets - hi             : \"+str(dh.nplanets.sum().astype(int)))\n",
    "print(\"Giant planets - hi             : \"+str(dh.ngi.sum().astype(int)))\n",
    "print(\"Systems with giant planets - hi: \"+str(dh.gia.sum()))"
   ]
  },
  {
   "cell_type": "markdown",
   "metadata": {},
   "source": [
    "Some important variables: "
   ]
  },
  {
   "cell_type": "code",
   "execution_count": 31,
   "metadata": {},
   "outputs": [],
   "source": [
    "#log_10 of mass efficiency and center of mass\n",
    "#log_10 mass efficiency giant and terrestrial \n",
    "dng['logeff']=np.log10(dng.massefficiency)\n",
    "dlg['logeff']=np.log10(dlg.massefficiency)\n",
    "dhg['logeff']=np.log10(dhg.massefficiency)\n",
    "dnt['logeff']=np.log10(dnt.massefficiency)\n",
    "dlt['logeff']=np.log10(dlt.massefficiency)\n",
    "dht['logeff']=np.log10(dht.massefficiency)#\n",
    "#log_10 total mass efficiency\n",
    "dn['logeff']=np.log10(dn.massefficiency)\n",
    "dl['logeff']=np.log10(dl.massefficiency)\n",
    "dh['logeff']=np.log10(dh.massefficiency)\n",
    "\n",
    "#log_10 total com\n",
    "dn['logcom']=np.log10(dn.com)\n",
    "dl['logcom']=np.log10(dl.com)\n",
    "dh['logcom']=np.log10(dh.com)\n",
    "\n",
    "#log_10 com giant and terrestrial \n",
    "dng['logcom']=np.log10(dng.com)\n",
    "dlg['logcom']=np.log10(dlg.com)\n",
    "dhg['logcom']=np.log10(dhg.com)\n",
    "dnt['logcom']=np.log10(dnt.com)\n",
    "dlt['logcom']=np.log10(dlt.com)\n",
    "dht['logcom']=np.log10(dht.com)"
   ]
  },
  {
   "cell_type": "code",
   "execution_count": 32,
   "metadata": {
    "scrolled": false
   },
   "outputs": [
    {
     "data": {
      "text/html": [
       "<div>\n",
       "<style scoped>\n",
       "    .dataframe tbody tr th:only-of-type {\n",
       "        vertical-align: middle;\n",
       "    }\n",
       "\n",
       "    .dataframe tbody tr th {\n",
       "        vertical-align: top;\n",
       "    }\n",
       "\n",
       "    .dataframe thead th {\n",
       "        text-align: right;\n",
       "    }\n",
       "</style>\n",
       "<table border=\"1\" class=\"dataframe\">\n",
       "  <thead>\n",
       "    <tr style=\"text-align: right;\">\n",
       "      <th></th>\n",
       "      <th>Unnamed: 0</th>\n",
       "      <th>ident</th>\n",
       "      <th>com</th>\n",
       "      <th>nplanets</th>\n",
       "      <th>massbudget</th>\n",
       "      <th>massefficiency</th>\n",
       "      <th>sigmag0</th>\n",
       "      <th>md</th>\n",
       "      <th>rc</th>\n",
       "      <th>ms</th>\n",
       "      <th>metal</th>\n",
       "      <th>taugas</th>\n",
       "      <th>qest</th>\n",
       "      <th>ngi</th>\n",
       "      <th>mtr</th>\n",
       "      <th>apert</th>\n",
       "      <th>gia</th>\n",
       "      <th>logeff</th>\n",
       "      <th>logcom</th>\n",
       "    </tr>\n",
       "  </thead>\n",
       "  <tbody>\n",
       "    <tr>\n",
       "      <th>0</th>\n",
       "      <td>0</td>\n",
       "      <td>3.0</td>\n",
       "      <td>1.081461</td>\n",
       "      <td>10.0</td>\n",
       "      <td>10770.309627</td>\n",
       "      <td>0.576981</td>\n",
       "      <td>90.793337</td>\n",
       "      <td>0.056</td>\n",
       "      <td>29.539343</td>\n",
       "      <td>0.880114</td>\n",
       "      <td>0.328146</td>\n",
       "      <td>1644710.625</td>\n",
       "      <td>8.421395</td>\n",
       "      <td>4.0</td>\n",
       "      <td>12.004623</td>\n",
       "      <td>0.0</td>\n",
       "      <td>True</td>\n",
       "      <td>-0.238839</td>\n",
       "      <td>0.034011</td>\n",
       "    </tr>\n",
       "    <tr>\n",
       "      <th>2</th>\n",
       "      <td>2</td>\n",
       "      <td>6.0</td>\n",
       "      <td>0.110789</td>\n",
       "      <td>12.0</td>\n",
       "      <td>2422.342359</td>\n",
       "      <td>0.060559</td>\n",
       "      <td>75.740878</td>\n",
       "      <td>0.120</td>\n",
       "      <td>47.343380</td>\n",
       "      <td>0.861595</td>\n",
       "      <td>0.021273</td>\n",
       "      <td>1790533.125</td>\n",
       "      <td>4.412694</td>\n",
       "      <td>1.0</td>\n",
       "      <td>29.771089</td>\n",
       "      <td>0.0</td>\n",
       "      <td>True</td>\n",
       "      <td>-1.217824</td>\n",
       "      <td>-0.955504</td>\n",
       "    </tr>\n",
       "    <tr>\n",
       "      <th>4</th>\n",
       "      <td>4</td>\n",
       "      <td>13.0</td>\n",
       "      <td>0.172211</td>\n",
       "      <td>13.0</td>\n",
       "      <td>2905.457535</td>\n",
       "      <td>0.051273</td>\n",
       "      <td>178.830700</td>\n",
       "      <td>0.170</td>\n",
       "      <td>36.672222</td>\n",
       "      <td>1.206445</td>\n",
       "      <td>-0.174039</td>\n",
       "      <td>3956707.500</td>\n",
       "      <td>3.998513</td>\n",
       "      <td>1.0</td>\n",
       "      <td>14.220447</td>\n",
       "      <td>0.0</td>\n",
       "      <td>True</td>\n",
       "      <td>-1.290113</td>\n",
       "      <td>-0.763939</td>\n",
       "    </tr>\n",
       "    <tr>\n",
       "      <th>16</th>\n",
       "      <td>16</td>\n",
       "      <td>31.0</td>\n",
       "      <td>4.377862</td>\n",
       "      <td>11.0</td>\n",
       "      <td>41.578462</td>\n",
       "      <td>0.001299</td>\n",
       "      <td>86.546084</td>\n",
       "      <td>0.096</td>\n",
       "      <td>39.613728</td>\n",
       "      <td>0.993549</td>\n",
       "      <td>-0.031508</td>\n",
       "      <td>1439538.875</td>\n",
       "      <td>5.991912</td>\n",
       "      <td>1.0</td>\n",
       "      <td>17.716253</td>\n",
       "      <td>0.0</td>\n",
       "      <td>True</td>\n",
       "      <td>-2.886282</td>\n",
       "      <td>0.641262</td>\n",
       "    </tr>\n",
       "    <tr>\n",
       "      <th>23</th>\n",
       "      <td>23</td>\n",
       "      <td>40.0</td>\n",
       "      <td>2.144859</td>\n",
       "      <td>13.0</td>\n",
       "      <td>181.982608</td>\n",
       "      <td>0.006578</td>\n",
       "      <td>57.698437</td>\n",
       "      <td>0.083</td>\n",
       "      <td>45.111870</td>\n",
       "      <td>1.037112</td>\n",
       "      <td>0.039315</td>\n",
       "      <td>2374519.750</td>\n",
       "      <td>7.413428</td>\n",
       "      <td>1.0</td>\n",
       "      <td>14.782324</td>\n",
       "      <td>0.0</td>\n",
       "      <td>True</td>\n",
       "      <td>-2.181927</td>\n",
       "      <td>0.331399</td>\n",
       "    </tr>\n",
       "  </tbody>\n",
       "</table>\n",
       "</div>"
      ],
      "text/plain": [
       "    Unnamed: 0  ident       com  nplanets    massbudget  massefficiency  \\\n",
       "0            0    3.0  1.081461      10.0  10770.309627        0.576981   \n",
       "2            2    6.0  0.110789      12.0   2422.342359        0.060559   \n",
       "4            4   13.0  0.172211      13.0   2905.457535        0.051273   \n",
       "16          16   31.0  4.377862      11.0     41.578462        0.001299   \n",
       "23          23   40.0  2.144859      13.0    181.982608        0.006578   \n",
       "\n",
       "       sigmag0     md         rc        ms     metal       taugas      qest  \\\n",
       "0    90.793337  0.056  29.539343  0.880114  0.328146  1644710.625  8.421395   \n",
       "2    75.740878  0.120  47.343380  0.861595  0.021273  1790533.125  4.412694   \n",
       "4   178.830700  0.170  36.672222  1.206445 -0.174039  3956707.500  3.998513   \n",
       "16   86.546084  0.096  39.613728  0.993549 -0.031508  1439538.875  5.991912   \n",
       "23   57.698437  0.083  45.111870  1.037112  0.039315  2374519.750  7.413428   \n",
       "\n",
       "    ngi        mtr  apert   gia    logeff    logcom  \n",
       "0   4.0  12.004623    0.0  True -0.238839  0.034011  \n",
       "2   1.0  29.771089    0.0  True -1.217824 -0.955504  \n",
       "4   1.0  14.220447    0.0  True -1.290113 -0.763939  \n",
       "16  1.0  17.716253    0.0  True -2.886282  0.641262  \n",
       "23  1.0  14.782324    0.0  True -2.181927  0.331399  "
      ]
     },
     "execution_count": 32,
     "metadata": {},
     "output_type": "execute_result"
    }
   ],
   "source": [
    "dng.head()"
   ]
  },
  {
   "cell_type": "markdown",
   "metadata": {},
   "source": [
    "## Bandwidth problem\n",
    "So far we have our data. Now we need to construct their probability density distributions. To do this we employ Kernel Density Estimation (KDE), here the bandwidth take importance. Let's study how to estimate the shape $\\widehat{f}_{h}(x)$ of the funtion which could represents the probability density function: \n",
    "\n",
    "$$\\widehat{f}_{h}(x)=\\frac{1}{n} \\sum_{i=1}^{n} K_{h}\\left(x-x_{i}\\right)=\\frac{1}{n h} \\sum_{i=1}^{n} K\\left(\\frac{x-x_{i}}{h}\\right).$$\n",
    "\n",
    "Here $K_{h}$ is a kernel (non-negative function), commonly used: uniform, triangular, biweight, triweight, Epanechnikov, normal, among others. The $h$ parameters is a smoothing constant, it is also called _bandwidth_ (mor information of KDE <a href=\"https://cran.r-project.org/web/packages/kedd/vignettes/kedd.pdf\">here</a>). \n",
    " \n",
    "\n",
    "### The Bandwidth definition\n",
    "A very brief definition, from <a href=\"https://en.wikipedia.org/wiki/Kernel_density_estimation\">wikipedia</a>: The bandwidth of the kernel is a free parameter which exhibits a strong influence on the resulting estimate. T\n",
    "\n",
    "he most common optimality criterion used to select this parameter is the expected risk function employing cross validation: \n",
    "\n",
    "$$\\operatorname{MISE}(h)=\\mathrm{E}\\left[\\int\\left(\\hat{f}_{h}(x)-f(x)\\right)^{2} d x\\right].$$\n",
    "\n",
    "Also is used the rule-of-thumb bandwidth estimator:\n",
    "\n",
    "$$h=\\left(\\frac{4 \\hat{\\sigma}^{5}}{3 n}\\right)^{\\frac{1}{5}} \\approx 1.06 \\hat{\\sigma} n^{-1 / 5}.$$\n",
    "\n",
    "Or Silverman's (1986) rule of thumb:\n",
    "\n",
    "$$h=0.9 \\min \\left(\\hat{\\sigma}, \\frac{I Q R}{1.34}\\right) n^{-\\frac{1}{5}}$$\n",
    "\n",
    "\n",
    "Now, let's estudy some examples with cross validation and gaussian_de: "
   ]
  },
  {
   "cell_type": "code",
   "execution_count": 39,
   "metadata": {},
   "outputs": [
    {
     "name": "stdout",
     "output_type": "stream",
     "text": [
      "{'bandwidth': 0.4}\n",
      "bw g_kde: 0.17399675736725956\n"
     ]
    }
   ],
   "source": [
    "# an example with kernel density\n",
    "x=dng.ngi\n",
    "grid = GridSearchCV(KernelDensity(), \n",
    "                    {'bandwidth': np.linspace(x.min(),x.max()/10,30)},\n",
    "                    cv=50) # 20-fold cross-validation\n",
    "grid.fit(x[:, None])\n",
    "print(grid.best_params_)\n",
    "\n",
    "# other example with gaussian_kde method. \n",
    "kde = gaussian_kde(x)\n",
    "f = kde.covariance_factor()\n",
    "bw = f * x.std()\n",
    "print(\"bw g_kde: \"+str(bw))"
   ]
  },
  {
   "cell_type": "markdown",
   "metadata": {},
   "source": [
    "A comparison plot"
   ]
  },
  {
   "cell_type": "code",
   "execution_count": 40,
   "metadata": {},
   "outputs": [
    {
     "data": {
      "text/plain": [
       "(array([2.71144279, 0.        , 0.        , 0.49751244, 0.        ,\n",
       "        0.        , 0.09950249, 0.        , 0.        , 0.02487562]),\n",
       " array([1. , 1.3, 1.6, 1.9, 2.2, 2.5, 2.8, 3.1, 3.4, 3.7, 4. ]),\n",
       " <a list of 10 Patch objects>)"
      ]
     },
     "execution_count": 40,
     "metadata": {},
     "output_type": "execute_result"
    },
    {
     "data": {
      "image/png": "[encoded data removed]",
      "text/plain": [
       "<Figure size 720x360 with 2 Axes>"
      ]
     },
     "metadata": {
      "needs_background": "light"
     },
     "output_type": "display_data"
    }
   ],
   "source": [
    "f, axes = plt.subplots(1, 2, figsize=(10, 5), sharex=True)\n",
    "\n",
    "sns.kdeplot(dng.ngi,bw='silverman', ax=axes[0], label=\"bw KD\"); \n",
    "axes[0].hist(dng.ngi, density=True)\n",
    "\n",
    "sns.kdeplot(dng.ngi,bw=bw, ax=axes[1],label=\"bw g_kde\"); \n",
    "axes[1].hist(dng.ngi, density=True)"
   ]
  },
  {
   "cell_type": "markdown",
   "metadata": {},
   "source": [
    "Now, a comparative example. "
   ]
  },
  {
   "cell_type": "code",
   "execution_count": 13,
   "metadata": {
    "scrolled": true
   },
   "outputs": [
    {
     "name": "stdout",
     "output_type": "stream",
     "text": [
      "0.06861681279645619 0.07616826615220967\n"
     ]
    },
    {
     "data": {
      "text/plain": [
       "Text(0.5, 0.98, '  variable sdg.logeff')"
      ]
     },
     "execution_count": 13,
     "metadata": {},
     "output_type": "execute_result"
    },
    {
     "data": {
      "image/png": "[encoded data removed]",
      "text/plain": [
       "<Figure size 792x288 with 3 Axes>"
      ]
     },
     "metadata": {
      "needs_background": "light"
     },
     "output_type": "display_data"
    }
   ],
   "source": [
    "variable = dng.logeff/dng.logeff.min()\n",
    "x_grid = np.around(np.arange(variable.min()-.2,variable.max()+.2,0.001),2)\n",
    "\n",
    "#===CV:\n",
    "grid = GridSearchCV(KernelDensity(),\n",
    "                    {'bandwidth': np.linspace(variable.min(),variable.max(),40)},\n",
    "                    cv=20) # 20-fold cross-validation\n",
    "grid.fit(variable[:, None])\n",
    "kde_CV = grid.best_estimator_\n",
    "pdf_CV = np.exp(kde_CV.score_samples(x_grid[:,None])) #kde.score() returns the log_10 of pdf\n",
    "\n",
    "#===Gaussian_KDE:\n",
    "kde_G = gaussian_kde(variable)\n",
    "f = kde_G.covariance_factor()\n",
    "bw_kde = f * variable.std()\n",
    "pdf_kde = kde_G.evaluate(x_grid)\n",
    "\n",
    "print(kde_CV.bandwidth,bw_kde)\n",
    "\n",
    "#Comparative plot\n",
    "fig, ax = plt.subplots(1,3, figsize=(11, 4), constrained_layout=True,\n",
    "                      sharex=True, sharey=True)\n",
    "#-------CV_plot:\n",
    "ax[0].plot(x_grid, pdf_CV, linewidth=2, label='bw=%.4f'%kde_CV.bandwidth)\n",
    "ax[0].hist(variable,8,density=True, alpha=.3)\n",
    "ax[0].legend(loc=\"upper right\")\n",
    "ax[0].set_title(\"Cross Validation\")\n",
    "#-------kde_plot:\n",
    "ax[1].plot(x_grid, pdf_kde, linewidth=2, label='bw=%.4f'%bw_kde)\n",
    "ax[1].hist(variable,8,density=True, alpha=.3)\n",
    "ax[1].legend(loc=\"upper right\")\n",
    "ax[1].set_title(\"Gausian_kde\")\n",
    "#-------sns_plot:\n",
    "sns.distplot(variable,  ax=ax[2], axlabel=False,\n",
    "             hist_kws={\"alpha\": .3, \"color\": 'C1'}, label='default distplot') \n",
    "ax[2].legend(loc=\"upper right\")\n",
    "ax[2].set_title(\"displot\")\n",
    "#-------\n",
    "fig.suptitle(\"  variable sdg.logeff\", fontsize=15, horizontalalignment='center')"
   ]
  },
  {
   "cell_type": "markdown",
   "metadata": {},
   "source": [
    "Now we introduce a new funtoion that obtain the bandwidths through `Gaussian_kde` and `CrossValidation`"
   ]
  },
  {
   "cell_type": "markdown",
   "metadata": {},
   "source": [
    "Then, the optimal bandwidhts came from `bw_optimal` function"
   ]
  },
  {
   "cell_type": "code",
   "execution_count": 22,
   "metadata": {},
   "outputs": [],
   "source": [
    "#The variable is a column from dataFrames: 'dng','dlg','dhg','dnt','dlt','dht','dn','dl','dh'\n",
    "def bw_opt(variable, name, plot=False):\n",
    "\n",
    "    m=.2; dvariable=0.05; deciamls=2\n",
    "    \n",
    "    x = variable/variable.min() \n",
    "    x_grid = np.around(np.arange(x.min()-m,x.max()+m,dvariable),deciamls)\n",
    "    norm, size, cv = 10, 30, 30 # 30-fold cross-validation     \n",
    "        \n",
    "    #-------------With CrossValidation:\n",
    "    #x = \n",
    "    grid = GridSearchCV(KernelDensity(), \n",
    "                        {'bandwidth': np.linspace(x.min(),x.max()/\\\n",
    "                                                  norm,size)},\n",
    "                        cv=cv) # max-min (grid)\n",
    "    grid.fit(x[:, None])\n",
    "    kde_CV = grid.best_estimator_\n",
    "    bw_CV  = list(grid.best_params_.values())[0]\n",
    "    pdf_CV = np.exp(kde_CV.score_samples(x_grid[:,None]))\n",
    "    \n",
    "    #-------------Gaussian_KDE:\n",
    "    kde_G = gaussian_kde(x)\n",
    "    f = kde.covariance_factor()\n",
    "    bw_KDE =  f * x.std()\n",
    "    pdf_kde = kde_G.evaluate(x_grid)\n",
    "    \n",
    "    #---------Comparative plot: \n",
    "    if plot == True: \n",
    "        fig, ax = plt.subplots(1,3, figsize=(11, 4), constrained_layout=True, sharex=True, sharey=True)\n",
    "        #-------CV_plot:\n",
    "        ax[0].plot(x_grid, pdf_CV, linewidth=2, label='bw=%.4f'%kde_CV.bandwidth)\n",
    "        ax[0].hist(x,8,density=True, alpha=.3)\n",
    "        ax[0].legend(loc=\"upper right\")\n",
    "        ax[0].set_title(\"Cross Validation\")\n",
    "        #-------kde_plot:\n",
    "        ax[1].plot(x_grid, pdf_kde, linewidth=2, label='bw=%.4f'%bw_kde)\n",
    "        ax[1].hist(x,8,density=True, alpha=.3)\n",
    "        ax[1].legend(loc=\"upper right\")\n",
    "        ax[1].set_title(\"Gausian_kde\")\n",
    "        #-------sns_plot:\n",
    "        sns.distplot(x,  ax=ax[2], axlabel=False, bins=8,\n",
    "                     hist_kws={\"alpha\": .3, \"color\": 'C1'}, \n",
    "                     label='default distplot') \n",
    "        ax[2].legend(loc=\"upper right\")\n",
    "        ax[2].set_title(\"displot\")\n",
    "        #---------------\n",
    "        fig.suptitle(\"variable: \"+name, \n",
    "                     fontsize=15, horizontalalignment='center')\n",
    "        plt.show()\n",
    "    return [bw_CV, bw_KDE]"
   ]
  },
  {
   "cell_type": "code",
   "execution_count": 23,
   "metadata": {},
   "outputs": [],
   "source": [
    "#%%time\n",
    "x_variables = [dng,dlg,dhg,dnt,dlt,dht,dn,dl,dh]\n",
    "names       = [\"dng\",\"dlg\",\"dhg\",\"dnt\",\"dlt\",\"dht\",\"dn\",\"dl\",\"dh\"]\n",
    "opt_bw_eff  = [] \n",
    "#opt_bw_logcom  = [] \n",
    "\n",
    "#for index,variable in enumerate(x_variables):\n",
    "#    print(names[index]+\".\"+str(variable.logeff.name))\n",
    "#    bw = bw_opt(variable.logeff, names[index], plot=True)\n",
    "#    opt_bw_eff.append(bw)\n"
   ]
  },
  {
   "cell_type": "code",
   "execution_count": 24,
   "metadata": {},
   "outputs": [
    {
     "data": {
      "image/png": "[encoded data removed]",
      "text/plain": [
       "<Figure size 792x288 with 3 Axes>"
      ]
     },
     "metadata": {
      "needs_background": "light"
     },
     "output_type": "display_data"
    }
   ],
   "source": [
    "dng_logcom = bw_opt(dhg.logeff, name=\"dng.logcom\", plot=True)"
   ]
  },
  {
   "cell_type": "markdown",
   "metadata": {},
   "source": [
    "\n",
    "### Using the standarization and normalization\n",
    "\n",
    "Now, through phyton classes we implements the `GridSearchCV` and `gaussian_kde` as methods of a class `bw_optimal` with th normalization and the standarization of the data. Let's remember some definitions:\n",
    "\n",
    "- **Normalization**: It is a scaling technique in which values are shifted and rescaled so that they end up ranging between 0 to 1.  \n",
    "$$X^{\\prime}=\\frac{X-X_{\\min }}{X_{\\max }-X_{\\min }}$$\n",
    "\n",
    "- **Standarization**: It is another scaling technique where the values are centered around the mean with a unit standard deviation. \n",
    "$$X^{\\prime}=\\frac{X-\\mu}{\\sigma}$$\n",
    "\n",
    "In order to compare the data, we implement normalization and standarization.\n",
    "\n",
    "\n",
    "\n",
    "\n",
    "#### The minimum distance between data\n",
    "\n",
    "To obtain de ideal bandwith, we estimate the minimun distance between our data to star from this value to \n",
    "\n",
    "\n",
    "It is obtained through the minimum difference between data. It helps to understand the minumum bandwidth for the distribution. It is implementend into the init method in the class `bw_optimal`."
   ]
  },
  {
   "cell_type": "code",
   "execution_count": 14,
   "metadata": {},
   "outputs": [],
   "source": [
    "class bw_optimal(object):\n",
    "    \n",
    "    def __init__(self, variable, size, norm=True):\n",
    "        \n",
    "        self.n = size\n",
    "        dx, length, deciamls, cv = .2, 100, 2, 20\n",
    "    \n",
    "        if norm == True:#norm_variable:\n",
    "            self.x = (variable.values-variable.values.min())/\\\n",
    "            (variable.values.max()-variable.values.min())\n",
    "        else: #stardarization variable:     \n",
    "            self.x = (variable.values-variable.values.mean())/variable.values.std()\n",
    "       \n",
    "        self.x_grid = np.around(np.linspace(self.x.min()-dx,self.x.max()+dx,\n",
    "                                           length),deciamls)\n",
    "        \n",
    "        self.dlength = (np.unique(self.x)[1:]-np.unique(self.x)[:-1]).min()\n",
    "        #print(self.dlength, len(self.x))\n",
    "    \n",
    "    def cv_pdf(self):\n",
    "        cv = 30\n",
    "        grid = GridSearchCV(KernelDensity(), \n",
    "                        {'bandwidth': np.linspace(self.dlength,self.x.max(),\n",
    "                                                 self.n)}, cv=cv)\n",
    "        grid.fit(self.x[:, None])\n",
    "        \n",
    "        self.kde_CV = grid.best_estimator_\n",
    "        self.bw_CV  = list(grid.best_params_.values())[0]\n",
    "        self.pdf_CV = np.exp(self.kde_CV.score_samples(self.x_grid[:,None]))\n",
    "\n",
    "    def kde_pdf(self):\n",
    "        kde_G = gaussian_kde(self.x)\n",
    "        f = kde.covariance_factor()\n",
    "        self.bw_KDE =  f * self.x.std()\n",
    "        self.pdf_kde = kde_G.evaluate(self.x_grid)"
   ]
  },
  {
   "cell_type": "code",
   "execution_count": 15,
   "metadata": {},
   "outputs": [
    {
     "data": {
      "text/plain": [
       "0.029462576409423447"
      ]
     },
     "execution_count": 15,
     "metadata": {},
     "output_type": "execute_result"
    }
   ],
   "source": [
    "ex = bw_optimal(dnt.logeff,100, True)\n",
    "bw = 1.06*ex.x.std()*len(ex.x)**(-1/5)\n",
    "bw"
   ]
  },
  {
   "cell_type": "code",
   "execution_count": 16,
   "metadata": {},
   "outputs": [],
   "source": [
    "class pfd_plots(bw_optimal):\n",
    "    \n",
    "    def __init__(self, variable, size, norm=True):\n",
    "        bw_optimal.__init__(self,variable, size, norm=True)\n",
    "        self.cv_pdf()\n",
    "        self.kde_pdf()\n",
    "        #plot_pdf()\n",
    "        \n",
    "    def plot_pdf(self):\n",
    "        \n",
    "        fig, ax = plt.subplots(1,3,figsize=(12, 4), \n",
    "                               constrained_layout=True, \n",
    "                               sharex=True, sharey=True)\n",
    "        #-------CV_plot:\n",
    "        ax[0].plot(self.x_grid, self.pdf_CV, linewidth=2, \n",
    "                label='bw=%.5f'%self.kde_CV.bandwidth)\n",
    "        ax[0].hist(self.x, density=True, alpha=.3)\n",
    "        ax[0].legend(loc=\"upper right\"); ax[0].set_title(\"Cross Validation\")\n",
    "        #-------kde_plot:\n",
    "        ax[1].plot(self.x_grid, self.pdf_kde, linewidth=2, label='bw=%.5f'%self.bw_KDE)\n",
    "        ax[1].hist(self.x, density=True, alpha=.3)\n",
    "        ax[1].legend(loc=\"upper right\"); ax[1].set_title(\"Gausian_kde\")    \n",
    "        #-------sns_plot:\n",
    "        sns.distplot(self.x,  ax=ax[2], axlabel=False,\n",
    "                     hist_kws={\"alpha\": .3, \"color\": 'C1'}, label='default distplot', \n",
    "                    kde_kws={'bw':0.029462576409423447}) \n",
    "        ax[2].legend(loc=\"upper right\"); ax[2].set_title(\"displot\")\n",
    "        \n",
    "        plt.show()"
   ]
  },
  {
   "cell_type": "code",
   "execution_count": 17,
   "metadata": {},
   "outputs": [
    {
     "data": {
      "image/png": "[encoded data removed]",
      "text/plain": [
       "<Figure size 864x288 with 3 Axes>"
      ]
     },
     "metadata": {
      "needs_background": "light"
     },
     "output_type": "display_data"
    }
   ],
   "source": [
    "A_plots = pfd_plots(dnt.logeff, 100,False)\n",
    "A_plots.plot_pdf()"
   ]
  },
  {
   "cell_type": "code",
   "execution_count": 18,
   "metadata": {},
   "outputs": [
    {
     "data": {
      "text/plain": [
       "array([5.98684885e-01, 2.24900563e-01, 2.91163390e-02, 1.52675774e-01,\n",
       "       2.69320037e-02, 1.11528583e-02, 5.45872643e-02, 2.71052177e-02,\n",
       "       7.72021839e-02, 8.22455294e-02, 2.23819626e-04, 7.45505793e-02,\n",
       "       1.91676119e-02, 2.75826556e-03, 2.40079638e-03, 6.92952429e-03,\n",
       "       2.42411347e-02, 1.14777291e-02, 1.66006156e-02, 9.81940449e-03,\n",
       "       2.50938002e-02, 5.57402305e-03, 1.52092606e-03, 2.78715146e-03,\n",
       "       5.59902083e-03, 1.52444461e-02, 2.00493416e-02, 1.42090201e-02,\n",
       "       3.16588348e-02, 9.69576183e-03, 7.43742291e-03, 4.92253278e-03,\n",
       "       1.91840565e-02, 1.28452937e-03, 7.26615804e-03, 1.00083268e-03,\n",
       "       1.95736108e-04, 2.98334642e-02, 2.08587835e-03, 3.56809708e-04,\n",
       "       3.22305672e-03, 7.44490829e-03, 3.03727032e-03, 2.88951063e-02,\n",
       "       1.68682038e-03, 1.26144824e-03, 6.73188726e-03, 3.63476172e-03,\n",
       "       3.08040929e-03, 2.48987920e-03, 2.93710718e-03, 1.10357935e-02,\n",
       "       3.14357102e-03, 1.58481917e-03, 1.13419884e-03, 7.29110927e-03,\n",
       "       1.21260785e-03, 4.09531251e-03, 7.17183581e-03, 5.48326318e-03,\n",
       "       4.72569817e-03, 9.29011491e-04, 3.67909539e-03, 6.44497870e-03,\n",
       "       6.34355901e-04, 5.35088696e-03, 2.51524969e-03, 1.27333071e-02,\n",
       "       2.16872674e-04, 1.65024738e-03, 2.86202620e-03, 1.44290932e-04,\n",
       "       4.63661651e-03, 3.85315132e-03, 1.39623529e-03, 4.43164884e-03,\n",
       "       4.37993152e-03, 1.72483960e-03, 4.42374608e-03, 3.13248311e-03,\n",
       "       1.31709699e-04, 3.08023460e-03, 5.03150137e-03, 2.31794437e-03,\n",
       "       3.07481102e-04, 7.85708120e-04, 2.95255044e-03, 4.26111298e-05,\n",
       "       4.53824265e-03, 3.70088989e-03, 2.06410635e-03, 1.93811972e-03,\n",
       "       2.26780899e-03, 2.21886707e-05, 4.94467850e-03, 4.56807390e-03,\n",
       "       1.15550704e-03, 3.14348761e-03, 3.64227731e-03, 1.78269148e-04,\n",
       "       7.66202305e-04, 3.84060645e-05, 1.05078615e-03, 2.60852518e-03,\n",
       "       1.80402672e-03, 2.12628268e-04, 9.84735814e-03, 1.16005887e-03,\n",
       "       2.86941795e-03, 4.02842170e-03, 9.35802272e-04, 4.59878743e-04,\n",
       "       6.21774438e-03, 1.51518611e-03, 2.62879431e-03, 2.71684003e-04,\n",
       "       2.72293208e-04, 3.18725580e-03, 2.71735262e-04, 2.19554562e-03,\n",
       "       6.21624823e-03, 3.05746003e-03, 3.60829738e-03, 2.67460912e-03,\n",
       "       1.49903460e-03, 5.28687936e-04, 1.58238031e-03, 1.17811014e-03,\n",
       "       1.38138553e-03, 1.53602920e-03, 1.39649329e-03, 2.96403491e-04,\n",
       "       3.08461089e-03, 2.92630294e-03, 7.91354919e-04, 1.82241351e-04,\n",
       "       2.06823590e-04, 1.74252987e-03, 6.99353505e-04, 2.98168206e-03,\n",
       "       1.36948221e-03, 6.24942721e-04, 2.36475196e-04, 5.73040080e-04,\n",
       "       3.71763299e-03, 2.02287766e-03, 2.53088682e-04, 1.42379436e-02,\n",
       "       1.03363364e-03, 6.12534613e-05, 5.76115660e-05, 2.66988215e-04,\n",
       "       1.93359567e-03, 1.18255950e-03, 2.67942880e-03, 2.22293904e-04,\n",
       "       3.49767448e-03, 3.02768100e-04, 4.59335074e-04, 4.47093754e-04,\n",
       "       4.52569391e-04, 2.62474077e-03, 1.52063756e-03, 2.67480844e-03,\n",
       "       6.09952955e-05, 2.94778923e-04, 2.63252698e-03, 1.03365590e-03,\n",
       "       6.87407056e-06, 1.28463367e-03, 3.55083337e-05, 7.02046430e-04,\n",
       "       8.51168183e-04, 2.13880491e-03, 3.39755706e-03, 1.48208557e-03,\n",
       "       1.33815947e-03, 6.95406836e-04, 2.04287925e-04, 1.95637130e-03,\n",
       "       2.43879205e-03, 7.02843675e-04, 7.63410732e-04, 2.17276027e-03,\n",
       "       5.43312780e-04, 3.03066867e-04, 1.10581876e-03, 1.93373699e-04,\n",
       "       9.85112904e-04, 5.21717699e-04, 1.16217527e-03, 2.13577283e-04,\n",
       "       1.28886644e-03, 1.85032476e-03, 5.00549091e-04, 1.99103223e-03,\n",
       "       1.08814677e-03, 2.48757876e-03, 2.57032924e-04, 8.52270484e-04,\n",
       "       1.66654682e-03, 1.80631334e-03, 1.72578777e-03, 2.05352143e-04,\n",
       "       9.34160742e-04, 4.31249113e-03, 2.07457661e-04, 4.43481036e-03,\n",
       "       6.15568724e-04, 3.98218116e-04, 4.35939255e-04, 1.10031379e-03,\n",
       "       7.54896145e-04, 9.64650569e-04, 1.15669760e-03, 2.03873352e-03,\n",
       "       9.38680457e-04, 1.12703132e-03, 9.02155553e-04, 1.05796745e-03,\n",
       "       3.19870357e-03, 2.77085995e-04, 1.16280049e-03, 1.81002575e-03,\n",
       "       1.14218117e-04, 6.95909628e-04, 1.58691518e-03, 5.29164911e-04,\n",
       "       1.77918574e-04, 9.96870482e-04, 5.07079602e-04, 2.24151969e-03,\n",
       "       2.62564322e-04, 2.85301948e-03, 7.44218718e-04, 6.62480485e-04,\n",
       "       1.25257213e-03, 5.62151541e-04, 7.64488226e-04, 2.38213747e-04,\n",
       "       2.08439926e-03, 2.23793226e-03, 3.13450207e-04, 2.15101613e-03,\n",
       "       6.40927361e-04, 2.59643052e-03, 1.75204188e-03, 4.99654224e-04,\n",
       "       3.70553072e-04, 4.58628104e-04, 2.09301670e-03, 6.50361371e-06,\n",
       "       6.98679796e-04, 8.85541455e-04, 1.43592788e-04, 6.59225471e-04,\n",
       "       6.70553090e-04, 1.31977588e-03, 1.49266212e-04, 1.22874792e-03,\n",
       "       1.10172405e-03, 7.49535834e-05, 1.50524437e-03, 3.17860613e-04,\n",
       "       1.72839317e-03, 7.95666887e-04, 1.92732761e-04, 9.58575655e-04,\n",
       "       2.71336072e-04, 8.06338140e-04, 1.32405723e-03, 1.07343977e-03,\n",
       "       3.44338312e-05, 7.91236310e-04, 1.42440459e-03, 3.16205168e-04,\n",
       "       1.46767124e-04, 6.43675778e-04, 4.33777790e-04, 5.72227866e-04,\n",
       "       4.28263522e-03, 2.34177359e-04, 2.38107751e-04, 2.03751308e-04,\n",
       "       2.35692771e-04, 1.28545599e-03, 5.52196000e-04, 7.89362553e-05,\n",
       "       1.44671395e-03, 8.10694941e-04, 5.15826845e-04, 1.55837367e-03,\n",
       "       4.61754536e-04, 8.90934218e-06, 7.66960381e-04, 1.04556763e-03,\n",
       "       5.26110572e-04, 1.30433996e-03, 8.73266939e-04, 1.55634104e-04,\n",
       "       5.35331748e-04, 1.00641882e-03, 2.76355880e-03, 1.98547319e-05,\n",
       "       3.36506184e-03, 3.02132328e-04, 9.04103538e-04, 6.99786260e-04,\n",
       "       1.19408250e-03, 1.87652971e-03, 6.49901880e-04, 2.21717956e-03,\n",
       "       3.93327948e-04, 4.31681607e-04, 1.20985007e-03, 1.94157902e-03,\n",
       "       1.00303287e-03, 1.04419077e-05, 3.55169896e-04, 3.29160696e-03,\n",
       "       5.40150694e-04, 1.63179752e-03, 1.27709856e-03, 1.37149340e-03,\n",
       "       2.21739233e-03, 1.69666387e-03, 5.54963632e-04, 3.77698549e-04,\n",
       "       2.70327051e-03, 1.88499073e-03, 7.16237882e-04, 9.85551535e-05,\n",
       "       1.47245030e-03, 3.36458048e-03, 3.43374048e-04, 7.29441593e-04,\n",
       "       1.02623795e-04, 5.60665959e-04, 2.17802370e-03, 2.13448667e-03,\n",
       "       8.75694770e-04, 3.66606944e-04, 3.92825266e-04, 1.72261275e-04,\n",
       "       1.52081350e-03, 3.88270832e-04, 2.05583980e-03, 1.98083969e-04,\n",
       "       7.77557715e-04, 3.39055354e-04, 1.38547122e-04, 5.75488206e-04,\n",
       "       2.29076841e-03, 1.40738731e-03, 9.19337201e-04, 3.91501133e-05,\n",
       "       1.62215792e-03, 2.20215142e-04, 1.23743436e-03, 1.42451488e-03,\n",
       "       1.26278843e-03, 5.86270705e-05, 1.28676980e-05, 7.67789687e-04,\n",
       "       1.71298669e-04, 3.03378587e-05, 2.00656480e-03, 9.18527074e-04,\n",
       "       1.77391714e-03, 8.84792311e-04, 1.29420592e-03, 1.25990015e-03,\n",
       "       3.31595326e-04, 7.75469092e-04, 5.08244830e-04, 1.33154674e-04,\n",
       "       1.28133881e-03, 1.33786816e-03, 2.39426197e-05, 1.40466693e-04,\n",
       "       1.20973594e-03, 1.01328628e-03, 1.75862464e-03, 9.21400538e-05,\n",
       "       1.68934584e-03, 1.30722388e-04, 8.66341714e-04, 3.44429031e-04,\n",
       "       2.37360152e-05, 4.03559378e-05, 1.70620214e-03, 1.69678707e-03,\n",
       "       1.95218784e-04, 2.64377347e-04, 5.29027393e-05, 1.75888639e-03,\n",
       "       9.08445264e-04, 1.48220594e-03, 4.56105043e-04, 1.89934839e-05,\n",
       "       2.00701782e-04, 6.23891683e-04, 2.68719362e-05, 2.10336142e-04,\n",
       "       4.86821184e-05, 4.09369711e-04, 8.40503829e-04, 2.38985589e-04,\n",
       "       1.67714974e-04, 5.96629881e-04, 1.25781194e-03, 2.88286635e-03,\n",
       "       2.14157852e-04, 6.85622107e-04, 3.03890733e-04, 2.95037617e-04,\n",
       "       1.90778263e-06, 9.87948349e-04, 1.03115655e-03, 5.70791817e-04,\n",
       "       7.63654631e-04, 1.21608437e-04, 2.04574253e-04, 2.94090108e-04,\n",
       "       1.59722957e-03, 2.26072418e-04, 5.52935063e-04, 9.12226685e-04,\n",
       "       6.69538855e-05, 3.04580531e-04, 1.07697599e-03, 2.33140499e-04,\n",
       "       2.18610459e-03, 7.23455615e-05, 8.88350411e-04, 1.36584032e-03,\n",
       "       1.02863380e-03, 4.34497204e-04, 2.31504406e-04, 8.32573856e-05,\n",
       "       6.74435849e-05, 8.94676203e-05, 2.04433835e-03, 3.98422745e-04,\n",
       "       4.16945176e-04, 1.17295690e-03, 1.82698054e-03, 1.95775971e-03,\n",
       "       1.57739836e-03, 7.59296370e-04, 2.24280729e-03, 5.21811923e-04,\n",
       "       1.32478528e-03, 5.10308635e-04, 6.58573863e-04, 4.71360688e-04,\n",
       "       2.49390693e-04, 2.11658803e-03, 2.56555859e-04, 1.36257271e-03,\n",
       "       3.69292109e-04, 3.32146424e-04, 1.16596818e-03, 3.59295490e-04,\n",
       "       2.97124211e-05, 1.77468589e-03, 1.20689200e-06, 5.91152631e-04,\n",
       "       1.46354062e-03, 2.37382618e-04, 1.02713558e-04, 5.75738172e-04,\n",
       "       3.74774408e-04, 7.94350514e-04, 1.86419525e-04, 1.56236611e-03,\n",
       "       1.65682877e-03, 7.92280119e-04, 1.23767142e-03, 2.54215266e-03,\n",
       "       3.55935658e-05, 1.20911914e-03, 5.99798560e-04, 7.14956123e-04,\n",
       "       8.97111256e-04, 1.11547553e-03, 7.92601584e-04, 3.97787023e-03,\n",
       "       8.37670626e-05, 1.09344706e-03, 4.78976609e-05, 1.01405167e-03,\n",
       "       7.18181867e-04, 6.63221643e-05, 3.88188682e-04, 8.28066979e-04,\n",
       "       3.97078285e-04, 2.03822501e-04, 5.59479555e-05, 2.31184571e-04,\n",
       "       3.52967102e-04, 1.89389697e-03, 1.86793339e-03, 8.10371303e-04,\n",
       "       6.05929899e-04, 1.70223323e-03, 2.39456801e-03, 3.02961545e-04,\n",
       "       1.17690885e-03, 2.20307573e-04, 6.50981646e-05, 2.51071141e-03,\n",
       "       6.11210199e-05, 1.64698958e-03, 2.13264772e-03, 4.52598414e-04,\n",
       "       1.01712270e-03, 9.34527840e-05, 1.09368730e-03, 1.86551820e-03,\n",
       "       1.39828004e-04, 1.44690329e-03, 1.02020345e-03, 1.46446470e-04,\n",
       "       9.32738201e-05, 5.98862948e-04, 3.76419469e-04, 2.85424789e-04,\n",
       "       2.23088949e-04, 1.58225042e-03, 8.12679051e-05, 1.78846024e-03,\n",
       "       1.37056335e-04, 1.03968091e-03, 8.00684163e-04, 2.15496185e-03,\n",
       "       5.39687105e-03, 4.15460345e-04, 2.48974414e-04, 5.84396548e-04,\n",
       "       1.66550441e-03, 1.12809178e-04, 1.28107466e-03, 9.54372616e-04,\n",
       "       2.11512798e-04, 1.03284602e-03, 1.28971168e-03, 7.40535421e-05,\n",
       "       1.10456753e-04, 3.53575411e-04, 1.02839052e-03, 3.72174139e-04,\n",
       "       1.13135806e-03, 1.23775444e-03, 4.27081602e-04, 1.73274354e-04,\n",
       "       3.30750668e-05, 3.78223744e-04, 1.43113777e-04, 3.37642355e-04,\n",
       "       1.97211426e-04, 6.26517932e-04, 3.80733905e-04, 1.16065573e-04,\n",
       "       8.85737401e-05, 5.10433344e-06, 8.14144307e-04, 6.80617590e-05,\n",
       "       3.10303985e-03, 2.87821013e-04, 3.29577833e-04, 8.42328659e-04,\n",
       "       4.33908293e-04, 2.68569704e-04, 6.24467691e-04, 2.90238220e-04,\n",
       "       2.17032633e-03, 7.26006134e-04, 1.40165842e-03, 1.37529433e-04,\n",
       "       4.06472382e-04, 6.23076259e-04, 5.93464751e-04, 3.10519152e-04,\n",
       "       1.46792208e-04, 3.00852691e-04, 1.59230670e-03, 3.33128439e-04,\n",
       "       1.95344530e-03, 1.08332146e-04, 1.55551054e-03, 1.61039050e-03,\n",
       "       8.40434437e-05, 4.12913618e-04, 1.13930124e-03, 2.34606630e-04,\n",
       "       2.40514468e-04, 1.85264063e-04, 1.00252882e-03, 1.80816446e-04,\n",
       "       2.11504231e-04, 3.87715009e-04, 2.12904217e-03, 5.56665380e-04,\n",
       "       1.42778743e-03, 1.28485876e-04, 1.59687811e-04, 1.04008395e-04,\n",
       "       2.01497638e-04, 1.16001756e-03, 1.14107140e-03, 4.40359325e-04,\n",
       "       4.06360262e-04, 1.14833344e-04, 9.70784933e-04, 3.24602364e-03,\n",
       "       6.16696436e-04, 2.13131786e-04, 8.02715887e-04, 2.11905686e-03,\n",
       "       9.71256011e-04, 1.47595268e-04, 2.29479680e-03, 2.79790885e-04,\n",
       "       9.50343285e-05, 1.37545049e-03, 3.28527811e-03, 9.57742273e-04,\n",
       "       4.97619872e-04, 2.12895095e-03, 2.03440167e-03, 7.06617130e-04,\n",
       "       1.47379171e-03, 3.74259671e-04, 1.89784829e-04, 8.20398602e-04,\n",
       "       1.37776096e-04, 3.99705974e-04, 4.00986516e-04, 8.47494955e-04,\n",
       "       2.89979792e-04, 1.55897548e-03, 1.93494371e-03, 1.07490483e-03,\n",
       "       1.08649192e-03, 5.88031725e-05, 2.86738977e-03, 2.86055065e-04,\n",
       "       5.59856003e-04, 5.11728923e-04, 5.04645268e-04, 1.50157881e-03,\n",
       "       1.44887785e-04, 1.47840464e-04, 7.05723537e-04, 1.24720749e-04,\n",
       "       3.04471839e-03, 2.99431359e-04, 2.18546945e-03, 2.66921178e-04,\n",
       "       3.28318343e-03, 1.67690282e-03, 5.79380482e-05, 3.28988249e-03,\n",
       "       2.56407643e-04, 1.02720889e-03, 2.14615155e-04, 1.49199706e-03,\n",
       "       1.11469245e-03, 5.52392325e-04, 3.07579292e-04, 3.02845936e-05,\n",
       "       1.19539877e-03, 6.23978568e-04, 6.72598968e-04, 8.40513783e-04,\n",
       "       8.13340062e-04, 5.05893033e-04, 1.84745764e-03, 1.06360975e-05,\n",
       "       3.71773159e-04, 5.21755700e-05, 1.28368691e-03, 7.24512260e-06,\n",
       "       2.98105366e-03, 1.28632119e-03, 1.30233463e-03, 3.98010113e-03,\n",
       "       1.30357034e-04, 1.16366485e-04, 9.98878689e-04, 1.80565610e-04,\n",
       "       6.11175931e-04, 9.97326346e-04, 1.92623609e-04, 7.84619462e-04,\n",
       "       1.12062226e-03, 4.04495791e-03, 3.79484592e-03, 6.72407645e-04,\n",
       "       7.68973183e-04, 6.58301560e-04, 6.14917466e-04, 7.51270884e-04,\n",
       "       6.89810408e-04, 3.22577924e-03, 7.37163221e-04, 3.63489278e-05,\n",
       "       2.50956030e-04, 1.64310374e-03, 1.36013769e-03, 2.37356059e-04,\n",
       "       1.91463889e-03, 1.47451310e-03, 8.83799800e-04, 4.41353227e-04,\n",
       "       1.41733032e-03, 7.75250734e-05, 2.28049550e-03, 2.09268167e-03,\n",
       "       9.08401231e-04, 1.79405193e-04, 7.21352881e-04, 4.21843781e-05,\n",
       "       5.63032194e-03, 3.38616629e-03, 4.64077386e-04, 1.04573015e-03,\n",
       "       3.47840731e-04, 2.19578496e-03, 2.45806714e-03, 1.93405815e-03,\n",
       "       1.62449989e-03, 4.08284862e-04, 2.96468953e-04, 1.10967201e-05,\n",
       "       1.49024006e-03, 1.59720305e-03, 8.97368812e-04, 1.14773603e-03,\n",
       "       1.28152747e-03, 7.19032215e-04, 9.30516274e-04, 9.79316625e-04,\n",
       "       2.26632686e-03, 1.09642066e-03, 4.42267556e-04, 6.49319902e-05,\n",
       "       3.85332086e-04, 8.39037895e-04, 1.34242438e-04, 9.74593936e-04,\n",
       "       1.37369956e-03, 1.87011654e-03, 1.03463107e-04, 2.35847786e-03,\n",
       "       1.05836943e-04, 7.78950613e-04, 3.00150503e-03, 1.83038283e-03,\n",
       "       8.14349917e-04, 1.55809236e-03, 5.18036790e-04, 1.09773928e-03,\n",
       "       3.20508602e-04, 3.37373626e-03, 1.10807911e-04, 5.96100241e-04,\n",
       "       1.89669462e-03, 3.62811014e-03, 1.84557528e-03, 3.38121696e-03,\n",
       "       3.46158129e-04, 3.05268064e-05, 1.20024981e-03, 1.59447072e-03,\n",
       "       1.59041871e-03, 1.58192060e-03, 1.08753316e-03, 9.61746453e-04,\n",
       "       1.06726028e-03, 1.13782533e-04, 2.38776804e-04, 2.84833174e-04,\n",
       "       2.66345091e-04, 4.23384532e-04, 2.09829631e-03, 1.85943116e-04,\n",
       "       2.85064280e-03, 2.12755981e-03, 5.13680779e-04, 2.87364925e-04,\n",
       "       6.45533853e-04, 3.64444407e-04, 2.03525912e-03, 1.19680069e-04,\n",
       "       4.68427573e-04, 4.41292738e-03, 4.80466216e-04, 3.99274695e-04,\n",
       "       1.46937249e-03, 1.39604667e-04, 6.17149995e-04, 2.13862417e-03,\n",
       "       8.23604615e-04, 1.26178113e-03, 3.46379070e-05, 1.49470971e-03,\n",
       "       1.29316732e-03, 1.46614014e-03, 3.07306327e-04, 1.00108780e-03,\n",
       "       2.29897478e-03, 1.48510475e-04, 1.13480824e-03, 1.01813887e-03,\n",
       "       1.49124732e-03, 6.90825689e-04, 1.65922945e-04, 1.80644702e-03,\n",
       "       7.91929568e-06, 9.64948520e-04, 3.36795713e-04, 2.24098319e-04,\n",
       "       2.96144050e-03, 2.71135310e-04, 6.89000139e-04, 6.16475228e-04,\n",
       "       9.34817676e-04, 8.17125425e-04, 3.54668358e-04, 4.69800788e-04,\n",
       "       4.00955128e-06, 6.63505020e-03, 3.91346990e-03, 5.19590602e-04,\n",
       "       3.40903847e-04, 4.46725818e-03, 3.43650846e-03, 1.94071756e-03,\n",
       "       6.10507755e-06, 1.22292654e-03, 9.29061113e-04, 2.41467311e-03,\n",
       "       4.42988207e-04, 6.52811701e-04, 3.96308842e-04, 6.84895376e-03,\n",
       "       6.34218807e-03, 1.34598439e-04, 2.14376317e-03, 2.54286178e-03,\n",
       "       1.54135132e-03, 2.04765046e-03, 2.73914951e-05, 4.08048559e-06,\n",
       "       8.23458956e-04, 1.19667411e-03, 2.17465639e-04, 2.14801344e-03,\n",
       "       1.14074160e-04, 5.19158257e-04, 1.49751125e-03, 5.47338181e-04,\n",
       "       5.62525599e-03, 9.04194249e-05, 1.06390618e-03, 2.68578380e-04,\n",
       "       9.33964459e-03, 5.09944842e-04, 4.86817738e-04, 2.11184110e-03,\n",
       "       1.85765607e-03, 1.80819408e-03, 1.60340242e-03, 6.44203095e-04,\n",
       "       5.90156677e-04, 7.18324988e-03, 5.61800402e-04, 1.05053927e-02,\n",
       "       3.51503765e-04, 2.96182441e-03, 5.66942748e-04, 3.90338851e-04,\n",
       "       1.35492518e-03, 1.05002843e-04, 7.02080407e-04, 1.95000133e-03,\n",
       "       2.33854453e-04, 1.67556561e-04, 5.51401449e-04, 1.28784871e-03,\n",
       "       4.19376491e-03, 8.87616686e-04, 1.27650582e-04, 4.17809723e-03,\n",
       "       1.40397356e-03, 6.41691069e-04, 3.89931968e-03, 6.30068989e-03,\n",
       "       8.10633459e-03, 4.80648547e-04, 1.47912394e-03, 3.85826629e-03,\n",
       "       5.76436475e-03, 5.66213999e-05, 3.29757122e-03, 3.93328198e-03,\n",
       "       7.56884622e-03, 2.77437500e-04, 1.50284947e-03, 1.09146372e-03,\n",
       "       4.12001566e-03, 5.69842914e-03, 1.77876649e-04, 3.14300688e-04,\n",
       "       4.52554852e-03, 1.12058979e-03, 6.96915511e-05, 6.16973301e-04,\n",
       "       1.10422757e-02, 1.79429622e-03, 8.42840207e-04, 4.05072371e-03,\n",
       "       8.22906252e-03, 7.96506145e-03, 1.41502063e-03, 5.85156319e-03,\n",
       "       1.74961916e-03, 3.00445287e-03, 1.41093020e-03, 7.70344902e-03,\n",
       "       1.42458031e-03, 1.21169661e-04, 6.42003757e-03, 6.63877597e-03,\n",
       "       1.24353838e-02, 3.53301797e-03, 1.21405738e-04, 6.38738401e-05,\n",
       "       3.84748965e-03, 2.64252110e-03, 1.74055802e-02, 1.03425910e-02,\n",
       "       7.74348430e-03, 1.93461803e-02, 2.23742922e-02, 1.16484201e-03,\n",
       "       1.20058264e-03, 4.73778606e-02, 6.09344183e-02, 4.98140563e-02])"
      ]
     },
     "execution_count": 18,
     "metadata": {},
     "output_type": "execute_result"
    }
   ],
   "source": [
    "AA = np.unique(dnt.logeff.values)\n",
    "AA[1:]-AA[:-1]"
   ]
  },
  {
   "cell_type": "code",
   "execution_count": 19,
   "metadata": {},
   "outputs": [
    {
     "name": "stdout",
     "output_type": "stream",
     "text": [
      "best bandwidth: 3.79269019073225\n"
     ]
    }
   ],
   "source": [
    "from sklearn.datasets import load_digits\n",
    "from sklearn.decomposition import PCA\n",
    "digits = load_digits()\n",
    "\n",
    "# project the 64-dimensional data to a lower dimension\n",
    "pca = PCA(n_components=15, whiten=False)\n",
    "data = pca.fit_transform(digits.data)\n",
    "\n",
    "# use grid search cross-validation to optimize the bandwidth\n",
    "params = {'bandwidth': np.logspace(-1, 1, 20)}\n",
    "grid = GridSearchCV(KernelDensity(), params)\n",
    "grid.fit(data)\n",
    "\n",
    "print(\"best bandwidth: {0}\".format(grid.best_estimator_.bandwidth))"
   ]
  },
  {
   "cell_type": "code",
   "execution_count": null,
   "metadata": {},
   "outputs": [],
   "source": []
  },
  {
   "cell_type": "code",
   "execution_count": null,
   "metadata": {},
   "outputs": [],
   "source": []
  },
  {
   "cell_type": "code",
   "execution_count": null,
   "metadata": {},
   "outputs": [],
   "source": []
  },
  {
   "cell_type": "code",
   "execution_count": null,
   "metadata": {},
   "outputs": [],
   "source": []
  },
  {
   "cell_type": "code",
   "execution_count": null,
   "metadata": {},
   "outputs": [],
   "source": []
  },
  {
   "cell_type": "code",
   "execution_count": null,
   "metadata": {},
   "outputs": [],
   "source": []
  },
  {
   "cell_type": "code",
   "execution_count": null,
   "metadata": {},
   "outputs": [],
   "source": []
  },
  {
   "cell_type": "code",
   "execution_count": null,
   "metadata": {},
   "outputs": [],
   "source": []
  },
  {
   "cell_type": "code",
   "execution_count": 20,
   "metadata": {},
   "outputs": [],
   "source": [
    "variable = dng.logeff.values\n",
    "\n",
    "norm_variable = (variable-variable.min())/(variable.max()-variable.min())\n",
    "\n",
    "#norm_variable = (variable-variable.mean())/variable.std()\n",
    "#norm_variable\n",
    "#sns.distplot(norm_variable)\n",
    "#normal_variable = preprocessing.normalize().fit(variable[:,None])"
   ]
  },
  {
   "cell_type": "code",
   "execution_count": 21,
   "metadata": {},
   "outputs": [
    {
     "name": "stdout",
     "output_type": "stream",
     "text": [
      "0.0625\n"
     ]
    }
   ],
   "source": [
    "#variable = dng.logcom\n",
    "deciamls=2\n",
    "nbins = 15    \n",
    "#x = variable/variable.min() \n",
    "\n",
    "x_grid = np.around(np.linspace(norm_variable.min()-.2,\n",
    "                               norm_variable.max()+.2,100),\n",
    "                   deciamls)\n",
    "norm, size, cv = 10, 30, 30 # 30-fold cross-validation     \n",
    "\n",
    "wbins = (norm_variable.max()-norm_variable.min())/(nbins+1)\n",
    "print(wbins)\n",
    "#-------------With CrossValidation:\n",
    "#x = \n",
    "grid = GridSearchCV(KernelDensity(), \n",
    "                    {'bandwidth': np.linspace(2*wbins,\n",
    "                                              5*wbins,50)}, cv=cv) # max-min (grid)\n",
    "grid.fit(norm_variable[:, None])\n",
    "kde_CV = grid.best_estimator_\n",
    "bw_CV  = list(grid.best_params_.values())[0]\n",
    "pdf_CV = np.exp(kde_CV.score_samples(x_grid[:,None]))"
   ]
  },
  {
   "cell_type": "code",
   "execution_count": 22,
   "metadata": {},
   "outputs": [],
   "source": [
    "#np.linspace(norm_variable.min(),norm_variable.max(),100)"
   ]
  },
  {
   "cell_type": "code",
   "execution_count": 23,
   "metadata": {},
   "outputs": [
    {
     "data": {
      "text/plain": [
       "Text(0.5, 1.0, 'Cross Validation')"
      ]
     },
     "execution_count": 23,
     "metadata": {},
     "output_type": "execute_result"
    },
    {
     "data": {
      "image/png": "[encoded data removed]",
      "text/plain": [
       "<Figure size 288x288 with 1 Axes>"
      ]
     },
     "metadata": {
      "needs_background": "light"
     },
     "output_type": "display_data"
    }
   ],
   "source": [
    "fig, ax = plt.subplots(1,1, figsize=(4, 4), constrained_layout=True, sharex=True, sharey=True)\n",
    "ax.plot(x_grid, pdf_CV, linewidth=2, label='bw=%.4f'%kde_CV.bandwidth)\n",
    "ax.hist(norm_variable,15,density=True, alpha=.3)\n",
    "ax.legend(loc=\"upper right\")\n",
    "ax.set_title(\"Cross Validation\")"
   ]
  },
  {
   "cell_type": "code",
   "execution_count": 24,
   "metadata": {},
   "outputs": [
    {
     "data": {
      "text/plain": [
       "268"
      ]
     },
     "execution_count": 24,
     "metadata": {},
     "output_type": "execute_result"
    }
   ],
   "source": [
    "len(norm_variable)"
   ]
  },
  {
   "cell_type": "code",
   "execution_count": 25,
   "metadata": {},
   "outputs": [],
   "source": [
    "kde_G = gaussian_kde(norm_variable)\n",
    "f = kde.covariance_factor()\n",
    "bw_KDE =  f * norm_variable.std()\n",
    "pdf_kde = kde_G.evaluate(x_grid)"
   ]
  },
  {
   "cell_type": "code",
   "execution_count": 26,
   "metadata": {},
   "outputs": [
    {
     "data": {
      "text/plain": [
       "Text(0.5, 1.0, 'Gausian_kde')"
      ]
     },
     "execution_count": 26,
     "metadata": {},
     "output_type": "execute_result"
    },
    {
     "data": {
      "image/png": "[encoded data removed]",
      "text/plain": [
       "<Figure size 288x288 with 1 Axes>"
      ]
     },
     "metadata": {
      "needs_background": "light"
     },
     "output_type": "display_data"
    }
   ],
   "source": [
    "fig, ax = plt.subplots(1,1, figsize=(4, 4), constrained_layout=True, sharex=True, sharey=True)\n",
    "ax.plot(x_grid, pdf_kde, linewidth=2, label='bw=%.4f'%bw_kde)\n",
    "ax.hist(norm_variable,15,density=True, alpha=.3)\n",
    "ax.legend(loc=\"upper right\")\n",
    "ax.set_title(\"Gausian_kde\")"
   ]
  },
  {
   "cell_type": "code",
   "execution_count": 27,
   "metadata": {},
   "outputs": [
    {
     "data": {
      "text/plain": [
       "<matplotlib.axes._subplots.AxesSubplot at 0x7f6222747430>"
      ]
     },
     "execution_count": 27,
     "metadata": {},
     "output_type": "execute_result"
    },
    {
     "data": {
      "image/png": "[encoded data removed]",
      "text/plain": [
       "<Figure size 432x288 with 1 Axes>"
      ]
     },
     "metadata": {
      "needs_background": "light"
     },
     "output_type": "display_data"
    }
   ],
   "source": [
    "sns.distplot(norm_variable, bins=20)"
   ]
  },
  {
   "cell_type": "code",
   "execution_count": null,
   "metadata": {},
   "outputs": [],
   "source": []
  },
  {
   "cell_type": "code",
   "execution_count": null,
   "metadata": {},
   "outputs": [],
   "source": []
  },
  {
   "cell_type": "code",
   "execution_count": null,
   "metadata": {},
   "outputs": [],
   "source": []
  },
  {
   "cell_type": "code",
   "execution_count": null,
   "metadata": {},
   "outputs": [],
   "source": []
  },
  {
   "cell_type": "code",
   "execution_count": null,
   "metadata": {},
   "outputs": [],
   "source": []
  },
  {
   "cell_type": "code",
   "execution_count": null,
   "metadata": {},
   "outputs": [],
   "source": []
  },
  {
   "cell_type": "code",
   "execution_count": 28,
   "metadata": {},
   "outputs": [
    {
     "data": {
      "image/png": "[encoded data removed]",
      "text/plain": [
       "<Figure size 792x288 with 3 Axes>"
      ]
     },
     "metadata": {
      "needs_background": "light"
     },
     "output_type": "display_data"
    }
   ],
   "source": [
    "dng_logeff = bw_opt(dng.logeff, name=\"dng.logeff\", plot=True)"
   ]
  },
  {
   "cell_type": "markdown",
   "metadata": {},
   "source": [
    "Now, for all the variables"
   ]
  },
  {
   "cell_type": "code",
   "execution_count": 30,
   "metadata": {},
   "outputs": [
    {
     "name": "stdout",
     "output_type": "stream",
     "text": [
      "dng.logcom\n"
     ]
    },
    {
     "ename": "TypeError",
     "evalue": "__init__() got an unexpected keyword argument 'plot'",
     "output_type": "error",
     "traceback": [
      "\u001b[0;31m---------------------------------------------------------------------------\u001b[0m",
      "\u001b[0;31mTypeError\u001b[0m                                 Traceback (most recent call last)",
      "\u001b[0;32m<ipython-input-30-e98ff9aefde1>\u001b[0m in \u001b[0;36m<module>\u001b[0;34m\u001b[0m\n\u001b[1;32m      5\u001b[0m \u001b[0;32mfor\u001b[0m \u001b[0mindex\u001b[0m\u001b[0;34m,\u001b[0m\u001b[0mvariable\u001b[0m \u001b[0;32min\u001b[0m \u001b[0menumerate\u001b[0m\u001b[0;34m(\u001b[0m\u001b[0mx_variables\u001b[0m\u001b[0;34m)\u001b[0m\u001b[0;34m:\u001b[0m\u001b[0;34m\u001b[0m\u001b[0;34m\u001b[0m\u001b[0m\n\u001b[1;32m      6\u001b[0m     \u001b[0mprint\u001b[0m\u001b[0;34m(\u001b[0m\u001b[0mnames\u001b[0m\u001b[0;34m[\u001b[0m\u001b[0mindex\u001b[0m\u001b[0;34m]\u001b[0m\u001b[0;34m+\u001b[0m\u001b[0;34m\".\"\u001b[0m\u001b[0;34m+\u001b[0m\u001b[0mstr\u001b[0m\u001b[0;34m(\u001b[0m\u001b[0mvariable\u001b[0m\u001b[0;34m.\u001b[0m\u001b[0mlogcom\u001b[0m\u001b[0;34m.\u001b[0m\u001b[0mname\u001b[0m\u001b[0;34m)\u001b[0m\u001b[0;34m)\u001b[0m\u001b[0;34m\u001b[0m\u001b[0;34m\u001b[0m\u001b[0m\n\u001b[0;32m----> 7\u001b[0;31m     \u001b[0mbw\u001b[0m \u001b[0;34m=\u001b[0m \u001b[0mbw_optimal\u001b[0m\u001b[0;34m(\u001b[0m\u001b[0mvariable\u001b[0m\u001b[0;34m.\u001b[0m\u001b[0mlogcom\u001b[0m\u001b[0;34m,\u001b[0m \u001b[0mnames\u001b[0m\u001b[0;34m[\u001b[0m\u001b[0mindex\u001b[0m\u001b[0;34m]\u001b[0m\u001b[0;34m,\u001b[0m \u001b[0mplot\u001b[0m\u001b[0;34m=\u001b[0m\u001b[0;32mTrue\u001b[0m\u001b[0;34m)\u001b[0m\u001b[0;34m\u001b[0m\u001b[0;34m\u001b[0m\u001b[0m\n\u001b[0m\u001b[1;32m      8\u001b[0m     \u001b[0mopt_bw_com\u001b[0m\u001b[0;34m.\u001b[0m\u001b[0mappend\u001b[0m\u001b[0;34m(\u001b[0m\u001b[0mbw\u001b[0m\u001b[0;34m)\u001b[0m\u001b[0;34m\u001b[0m\u001b[0;34m\u001b[0m\u001b[0m\n",
      "\u001b[0;31mTypeError\u001b[0m: __init__() got an unexpected keyword argument 'plot'"
     ]
    }
   ],
   "source": [
    "#%%time\n",
    "opt_bw_com      = [] \n",
    "#opt_bw_logcom  = [] \n",
    "\n",
    "for index,variable in enumerate(x_variables):\n",
    "    print(names[index]+\".\"+str(variable.logcom.name))\n",
    "    bw = bw_optimal(variable.logcom, names[index], plot=True)\n",
    "    opt_bw_com.append(bw)"
   ]
  },
  {
   "cell_type": "markdown",
   "metadata": {},
   "source": [
    "The comparative plot for the log_10 of efficiency"
   ]
  },
  {
   "cell_type": "markdown",
   "metadata": {},
   "source": [
    "## Bandwiths for  2D, 3D and mode dimensions"
   ]
  },
  {
   "cell_type": "markdown",
   "metadata": {},
   "source": [
    "### 2D Example\n",
    "For 2d, we have the function:"
   ]
  },
  {
   "cell_type": "code",
   "execution_count": null,
   "metadata": {},
   "outputs": [],
   "source": [
    "def uni_kde(x,y,tickno=5,nlev=30):\n",
    "    \n",
    "    x_grid=np.around(np.arange(x.min(),x.max(),0.1),2)\n",
    "    y_grid=np.linspace(y.min(),y.max(),len(x_grid))\n",
    "    conv=(x.max()-x.min())/(y.max()-y.min())\n",
    "    yori=y\n",
    "    y=y*conv\n",
    "    y_grid=y_grid*conv\n",
    "    \n",
    "    grid = GridSearchCV(KernelDensity(),\n",
    "                    {'bandwidth': np.linspace(x.min(),x.max()/10,30)},\n",
    "                    cv=20) # 20-fold cross-validation\n",
    "    \n",
    "    grid.fit(np.vstack([x,y]).T)\n",
    "    print(grid.best_params_)\n",
    "    \n",
    "    X, Y = np.meshgrid(x_grid, y_grid)\n",
    "  \n",
    "    xy = np.vstack([X.ravel(), Y.ravel()]).T\n",
    "    \n",
    "    kde2d = grid.best_estimator_\n",
    "    pdf2d = np.exp(kde2d.score_samples(xy)).reshape(X.shape) #get the pdf\n",
    "    \n",
    "    plt.figure(figsize=(5,5))\n",
    "    levels = np.linspace(0, pdf2d.max(), nlev)\n",
    "    plt.contourf(X, Y, pdf2d, levels=levels, cmap=plt.cm.Reds)\n",
    "    \n",
    "    old_ticks=np.linspace(y.max(), y.min(), tickno)\n",
    "    major_ticks = 10**np.linspace(yori.max(), yori.min(), tickno)\n",
    "    myticks=[]\n",
    "    for i in major_ticks:\n",
    "        myticks+=[\"%.e\"%i]\n",
    "    e=plt.yticks(old_ticks,myticks) "
   ]
  },
  {
   "cell_type": "code",
   "execution_count": null,
   "metadata": {},
   "outputs": [],
   "source": [
    "uni_kde(dng.logcom,dng.logeff)"
   ]
  },
  {
   "cell_type": "markdown",
   "metadata": {},
   "source": [
    "### 3D example"
   ]
  },
  {
   "cell_type": "code",
   "execution_count": null,
   "metadata": {},
   "outputs": [],
   "source": [
    "from mpl_toolkits import mplot3d\n",
    "#---------------------Data:\n",
    "x = dng.logeff/dng.logeff.min()\n",
    "y = dng.logcom#/dng.logcom.min()\n",
    "z = dng.nplanets\n",
    "\n",
    "data = np.vstack((x,y,z)).T\n",
    "\n",
    "#---------------------Grid:\n",
    "x_grid=np.around(np.arange(x.min(),x.max(),0.1),2)\n",
    "y_grid=np.linspace(y.min(),y.max(),len(x_grid))\n",
    "z_grid=np.linspace(z.min(),z.max(),len(x_grid))\n",
    "\n",
    "X,Y,Z = np.meshgrid(x_grid, y_grid, z_grid)\n",
    "xyz   = np.vstack([X.ravel(), Y.ravel(), Z.ravel()]).T\n",
    "\n",
    "#----------------------CV:\n",
    "\n",
    "grid = GridSearchCV(KernelDensity(),\n",
    "                    {'bandwidth': np.linspace(x.min(),x.max()/10,30)},\n",
    "                    cv=20) # 20-fold cross-validation\n",
    "grid.fit(data)\n",
    "\n",
    "    \n",
    "kde3d = grid.best_estimator_\n",
    "pdf3d = np.exp(kde3d.score_samples(xyz)).reshape(X.shape) #get the pdf"
   ]
  },
  {
   "cell_type": "code",
   "execution_count": null,
   "metadata": {},
   "outputs": [],
   "source": [
    "density = pdf3d.ravel()\n",
    "\n",
    "fig, ax = plt.subplots(subplot_kw=dict(projection='3d'))\n",
    "x, y, z = X.ravel(), Y.ravel(), Z.ravel()\n",
    "ax.scatter(x, y, z, c=density, alpha=1, cmap= 'seismic',\n",
    "           vmin=-np.abs(np.max(density)),vmax=np.abs(np.max(density)))"
   ]
  },
  {
   "cell_type": "code",
   "execution_count": null,
   "metadata": {},
   "outputs": [],
   "source": [
    "import plotly.graph_objects as go\n",
    "import numpy as np\n",
    "\n",
    "fig = go.Figure(data=go.Volume(\n",
    "    x=X.flatten(),\n",
    "    y=Y.flatten(),\n",
    "    z=Z.flatten(),\n",
    "    value=density.flatten(),\n",
    "    isomin=0.1,\n",
    "    isomax=0.8,\n",
    "    opacity=0.1, # needs to be small to see through all surfaces\n",
    "    surface_count=25, # needs to be a large number for good volume rendering\n",
    "    ))\n",
    "fig.show()"
   ]
  },
  {
   "cell_type": "code",
   "execution_count": null,
   "metadata": {},
   "outputs": [],
   "source": [
    "#-------------Gaussian_KDE:\n",
    "'''\n",
    "kde_G = gaussian_kde(data)\n",
    "f = kde.covariance_factor()\n",
    "bw_KDE =  f * data.std()\n",
    "pdf3_kde = kde_G.evaluate(xyz)\n",
    "pdf3_kde = kde_G.evaluate()\n",
    "'''"
   ]
  },
  {
   "cell_type": "code",
   "execution_count": null,
   "metadata": {},
   "outputs": [],
   "source": []
  },
  {
   "cell_type": "code",
   "execution_count": null,
   "metadata": {},
   "outputs": [],
   "source": []
  },
  {
   "cell_type": "code",
   "execution_count": null,
   "metadata": {},
   "outputs": [],
   "source": []
  },
  {
   "cell_type": "code",
   "execution_count": null,
   "metadata": {},
   "outputs": [],
   "source": []
  },
  {
   "cell_type": "code",
   "execution_count": null,
   "metadata": {},
   "outputs": [],
   "source": []
  },
  {
   "cell_type": "code",
   "execution_count": null,
   "metadata": {},
   "outputs": [],
   "source": []
  },
  {
   "cell_type": "code",
   "execution_count": null,
   "metadata": {},
   "outputs": [],
   "source": []
  }
 ],
 "metadata": {
  "kernelspec": {
   "display_name": "Python 3",
   "language": "python",
   "name": "python3"
  },
  "language_info": {
   "codemirror_mode": {
    "name": "ipython",
    "version": 3
   },
   "file_extension": ".py",
   "mimetype": "text/x-python",
   "name": "python",
   "nbconvert_exporter": "python",
   "pygments_lexer": "ipython3",
   "version": "3.8.3"
  }
 },
 "nbformat": 4,
 "nbformat_minor": 4
}
