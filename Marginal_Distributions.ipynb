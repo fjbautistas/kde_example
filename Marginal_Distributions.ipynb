{
 "cells": [
  {
   "cell_type": "markdown",
   "metadata": {},
   "source": [
    "# Posterior and Marginal distributions\n",
    "\n",
    "This notebook is the continuation of `bandwidths.ipynb` notebook, apliying the bw results and the class for get the n-dimentional PDF. \n",
    "\n",
    "#### Some considerations: \n",
    "1. As **prior** information we will take the cleaned (without NaN or inf values) information from exoplanet.eu, this is the first part of notebook.\n",
    "\n",
    "2. The PDF from `oiptimal_pdf` class  fulfills the functions of **likelihood** for a certain number of variables in synthetic systems with no-pertutbation, low perturbation and high perturbation. \n",
    "\n",
    "3. To get the **marginal** distributions of a variable of interest, we go in the same way that the example marginalization in the notebook `3D.ipynb`."
   ]
  },
  {
   "cell_type": "code",
   "execution_count": 1,
   "metadata": {},
   "outputs": [],
   "source": [
    "import numpy as np\n",
    "import pandas as pd\n",
    "from scipy import stats\n",
    "import matplotlib.pyplot as plt\n",
    "import warnings; warnings.simplefilter('ignore')"
   ]
  },
  {
   "cell_type": "code",
   "execution_count": 2,
   "metadata": {},
   "outputs": [
    {
     "data": {
      "text/html": [
       "\n",
       "<style>\n",
       ".output_png {\n",
       "    display: table-cell;\n",
       "    text-align: center;\n",
       "    vertical-align: middle;\n",
       "}\n",
       "</style>\n"
      ],
      "text/plain": [
       "<IPython.core.display.HTML object>"
      ]
     },
     "execution_count": 2,
     "metadata": {},
     "output_type": "execute_result"
    }
   ],
   "source": [
    "from IPython.core.display import HTML\n",
    "HTML(\"\"\"\n",
    "<style>\n",
    ".output_png {\n",
    "    display: table-cell;\n",
    "    text-align: center;\n",
    "    vertical-align: middle;\n",
    "}\n",
    "</style>\n",
    "\"\"\")"
   ]
  },
  {
   "cell_type": "markdown",
   "metadata": {},
   "source": [
    "## 1. Data Cleaning\n",
    "\n",
    "### 1.1 Simulation data   \n",
    "\n",
    "see the notation according to <a href=\"https://github.com/saint-germain/population_synthesis/blob/master/README.md \">Readme.md</a> from `Population_synthesis` project.\n",
    "\n",
    "\n",
    "\n"
   ]
  },
  {
   "cell_type": "code",
   "execution_count": 3,
   "metadata": {},
   "outputs": [],
   "source": [
    "#========================== Simulation Data ==========================\n",
    "dn=pd.read_csv('data/proc_no_pert.csv',index_col=None); dn[\"gia\"]=dn.ngi>0 #without pertubtations \n",
    "dl=pd.read_csv('data/proc_lo_pert.csv',index_col=None); dl[\"gia\"]=dl.ngi>0 #with low pertubtations \n",
    "dh=pd.read_csv('data/proc_hi_pert.csv',index_col=None); dh[\"gia\"]=dh.ngi>0 #with high pertubtations"
   ]
  },
  {
   "cell_type": "code",
   "execution_count": 4,
   "metadata": {},
   "outputs": [],
   "source": [
    "#======================= Simulation variables ========================\n",
    "##Terrestrial: t; giant;g\n",
    "dnt=dn[~dn[\"gia\"]]; dng=dn[dn[\"gia\"]] # without pertubtations \n",
    "dlt=dl[~dl[\"gia\"]]; dlg=dl[dl[\"gia\"]] # low pertubtations \n",
    "dht=dh[~dh[\"gia\"]]; dhg=dh[dh[\"gia\"]] # high pertubtations \n",
    "\n",
    "x_variables = [dng,dlg,dhg,dnt,dlt,dht,dn,dl,dh]\n",
    "\n",
    "for i, var in enumerate(x_variables):\n",
    "    var['logeff'] = np.log10(var.massefficiency)\n",
    "    var['logcom'] = np.log10(var.com)"
   ]
  },
  {
   "cell_type": "code",
   "execution_count": 5,
   "metadata": {},
   "outputs": [
    {
     "data": {
      "text/html": [
       "<div>\n",
       "<style scoped>\n",
       "    .dataframe tbody tr th:only-of-type {\n",
       "        vertical-align: middle;\n",
       "    }\n",
       "\n",
       "    .dataframe tbody tr th {\n",
       "        vertical-align: top;\n",
       "    }\n",
       "\n",
       "    .dataframe thead th {\n",
       "        text-align: right;\n",
       "    }\n",
       "</style>\n",
       "<table border=\"1\" class=\"dataframe\">\n",
       "  <thead>\n",
       "    <tr style=\"text-align: right;\">\n",
       "      <th></th>\n",
       "      <th>Unnamed: 0</th>\n",
       "      <th>ident</th>\n",
       "      <th>com</th>\n",
       "      <th>nplanets</th>\n",
       "      <th>massbudget</th>\n",
       "      <th>massefficiency</th>\n",
       "      <th>sigmag0</th>\n",
       "      <th>md</th>\n",
       "      <th>rc</th>\n",
       "      <th>ms</th>\n",
       "      <th>metal</th>\n",
       "      <th>taugas</th>\n",
       "      <th>qest</th>\n",
       "      <th>ngi</th>\n",
       "      <th>mtr</th>\n",
       "      <th>apert</th>\n",
       "      <th>gia</th>\n",
       "      <th>logeff</th>\n",
       "      <th>logcom</th>\n",
       "    </tr>\n",
       "  </thead>\n",
       "  <tbody>\n",
       "    <tr>\n",
       "      <th>1</th>\n",
       "      <td>1</td>\n",
       "      <td>5.0</td>\n",
       "      <td>2.932894</td>\n",
       "      <td>12.0</td>\n",
       "      <td>17.882769</td>\n",
       "      <td>0.000488</td>\n",
       "      <td>102.431593</td>\n",
       "      <td>0.110</td>\n",
       "      <td>38.977428</td>\n",
       "      <td>1.075269</td>\n",
       "      <td>-0.150160</td>\n",
       "      <td>1.014449e+06</td>\n",
       "      <td>5.464831</td>\n",
       "      <td>0.0</td>\n",
       "      <td>17.882769</td>\n",
       "      <td>0.0</td>\n",
       "      <td>False</td>\n",
       "      <td>-3.311837</td>\n",
       "      <td>0.467296</td>\n",
       "    </tr>\n",
       "    <tr>\n",
       "      <th>3</th>\n",
       "      <td>3</td>\n",
       "      <td>8.0</td>\n",
       "      <td>5.740174</td>\n",
       "      <td>9.0</td>\n",
       "      <td>8.166382</td>\n",
       "      <td>0.000163</td>\n",
       "      <td>62.737337</td>\n",
       "      <td>0.150</td>\n",
       "      <td>58.158928</td>\n",
       "      <td>1.076658</td>\n",
       "      <td>-0.282408</td>\n",
       "      <td>6.017040e+06</td>\n",
       "      <td>4.704798</td>\n",
       "      <td>0.0</td>\n",
       "      <td>8.166382</td>\n",
       "      <td>0.0</td>\n",
       "      <td>False</td>\n",
       "      <td>-3.786940</td>\n",
       "      <td>0.758925</td>\n",
       "    </tr>\n",
       "    <tr>\n",
       "      <th>5</th>\n",
       "      <td>5</td>\n",
       "      <td>15.0</td>\n",
       "      <td>8.394027</td>\n",
       "      <td>8.0</td>\n",
       "      <td>16.003091</td>\n",
       "      <td>0.000436</td>\n",
       "      <td>106.824759</td>\n",
       "      <td>0.110</td>\n",
       "      <td>38.167542</td>\n",
       "      <td>0.986003</td>\n",
       "      <td>0.388613</td>\n",
       "      <td>2.435406e+06</td>\n",
       "      <td>5.218175</td>\n",
       "      <td>0.0</td>\n",
       "      <td>16.003091</td>\n",
       "      <td>0.0</td>\n",
       "      <td>False</td>\n",
       "      <td>-3.360068</td>\n",
       "      <td>0.923970</td>\n",
       "    </tr>\n",
       "    <tr>\n",
       "      <th>6</th>\n",
       "      <td>6</td>\n",
       "      <td>16.0</td>\n",
       "      <td>4.289089</td>\n",
       "      <td>24.0</td>\n",
       "      <td>12.426573</td>\n",
       "      <td>0.000219</td>\n",
       "      <td>118.543720</td>\n",
       "      <td>0.170</td>\n",
       "      <td>45.042137</td>\n",
       "      <td>1.258747</td>\n",
       "      <td>-0.352459</td>\n",
       "      <td>1.107032e+06</td>\n",
       "      <td>4.469478</td>\n",
       "      <td>0.0</td>\n",
       "      <td>12.426573</td>\n",
       "      <td>0.0</td>\n",
       "      <td>False</td>\n",
       "      <td>-3.658976</td>\n",
       "      <td>0.632365</td>\n",
       "    </tr>\n",
       "    <tr>\n",
       "      <th>7</th>\n",
       "      <td>7</td>\n",
       "      <td>17.0</td>\n",
       "      <td>3.771156</td>\n",
       "      <td>12.0</td>\n",
       "      <td>16.762554</td>\n",
       "      <td>0.000811</td>\n",
       "      <td>35.587738</td>\n",
       "      <td>0.062</td>\n",
       "      <td>49.645451</td>\n",
       "      <td>0.739731</td>\n",
       "      <td>0.121866</td>\n",
       "      <td>9.050091e+06</td>\n",
       "      <td>7.257983</td>\n",
       "      <td>0.0</td>\n",
       "      <td>16.762554</td>\n",
       "      <td>0.0</td>\n",
       "      <td>False</td>\n",
       "      <td>-3.090930</td>\n",
       "      <td>0.576474</td>\n",
       "    </tr>\n",
       "  </tbody>\n",
       "</table>\n",
       "</div>"
      ],
      "text/plain": [
       "   Unnamed: 0  ident       com  nplanets  massbudget  massefficiency  \\\n",
       "1           1    5.0  2.932894      12.0   17.882769        0.000488   \n",
       "3           3    8.0  5.740174       9.0    8.166382        0.000163   \n",
       "5           5   15.0  8.394027       8.0   16.003091        0.000436   \n",
       "6           6   16.0  4.289089      24.0   12.426573        0.000219   \n",
       "7           7   17.0  3.771156      12.0   16.762554        0.000811   \n",
       "\n",
       "      sigmag0     md         rc        ms     metal        taugas      qest  \\\n",
       "1  102.431593  0.110  38.977428  1.075269 -0.150160  1.014449e+06  5.464831   \n",
       "3   62.737337  0.150  58.158928  1.076658 -0.282408  6.017040e+06  4.704798   \n",
       "5  106.824759  0.110  38.167542  0.986003  0.388613  2.435406e+06  5.218175   \n",
       "6  118.543720  0.170  45.042137  1.258747 -0.352459  1.107032e+06  4.469478   \n",
       "7   35.587738  0.062  49.645451  0.739731  0.121866  9.050091e+06  7.257983   \n",
       "\n",
       "   ngi        mtr  apert    gia    logeff    logcom  \n",
       "1  0.0  17.882769    0.0  False -3.311837  0.467296  \n",
       "3  0.0   8.166382    0.0  False -3.786940  0.758925  \n",
       "5  0.0  16.003091    0.0  False -3.360068  0.923970  \n",
       "6  0.0  12.426573    0.0  False -3.658976  0.632365  \n",
       "7  0.0  16.762554    0.0  False -3.090930  0.576474  "
      ]
     },
     "execution_count": 5,
     "metadata": {},
     "output_type": "execute_result"
    }
   ],
   "source": [
    "dnt.head()"
   ]
  },
  {
   "cell_type": "markdown",
   "metadata": {},
   "source": [
    "### 1.2 Observational data \n",
    "\n",
    "Data get from <a href=\"http://exoplanet.eu/\">exoplanet.eu</a>"
   ]
  },
  {
   "cell_type": "code",
   "execution_count": 6,
   "metadata": {},
   "outputs": [],
   "source": [
    "data_o = pd.read_csv('data/exoplanet.eu_catalog.csv', \n",
    "                       usecols = ['mass','mass_error_min','semi_major_axis','semi_major_axis_error_min','star_name',\n",
    "                                  'star_metallicity','star_metallicity_error_min','star_mass','star_mass_error_min'])\n",
    "\n",
    "data_o = data_o.replace([np.inf, -np.inf], np.nan) \n",
    "data_o = data_o.replace([0], np.nan)\n",
    "data_o = data_o.dropna()"
   ]
  },
  {
   "cell_type": "code",
   "execution_count": 7,
   "metadata": {},
   "outputs": [],
   "source": [
    "data_o = data_o[['star_name','mass','mass_error_min', 'semi_major_axis', 'semi_major_axis_error_min', \n",
    "                 'star_metallicity', 'star_metallicity_error_min', 'star_mass', 'star_mass_error_min']]\n",
    "\n",
    "data_o = data_o.assign(CM_i = data_o[\"semi_major_axis\"]*data_o[\"mass\"])\n",
    "data_o = data_o.assign(dCM_i= data_o[\"CM_i\"]*(data_o[\"mass_error_min\"].divide(data_o[\"mass\"])+data_o[\"semi_major_axis_error_min\"].divide(data_o[\"semi_major_axis\"])))"
   ]
  },
  {
   "cell_type": "code",
   "execution_count": 8,
   "metadata": {},
   "outputs": [],
   "source": [
    "number=(data_o[\"star_name\"].value_counts()).to_frame()"
   ]
  },
  {
   "cell_type": "code",
   "execution_count": 9,
   "metadata": {},
   "outputs": [],
   "source": [
    "def NewData(data):\n",
    "   \n",
    "    p_system = data.groupby(\"star_name\")\n",
    "    \n",
    "    Mtp   = p_system['mass'].sum();             dMtp   = p_system['mass_error_min'].sum();  \n",
    "    ms    = p_system['star_mass'].mean();        dms    = p_system['star_mass_error_min'].mean()\n",
    "    metal = p_system['star_metallicity'].mean(); dmetal = p_system['star_metallicity_error_min'].mean()\n",
    "    \n",
    "    \n",
    "    CoM  = p_system['CM_i'].sum().divide(p_system[\"mass\"].sum())\n",
    "    dCoM = CoM*((p_system['dCM_i'].sum()/p_system['CM_i'].sum()) + (p_system['mass_error_min'].sum())/p_system['mass'].sum())\n",
    "    \n",
    "    NewData = pd.DataFrame({'sys_name':list(p_system.groups.keys()),\n",
    "                            'Mtp':Mtp, 'dMtp':dMtp,\n",
    "                            'com':CoM.tolist(), 'dcom':dCoM.tolist(), \n",
    "                            'ms':ms, 'dms':dms, 'metal':metal, 'dmetal':dmetal})\n",
    "    return NewData"
   ]
  },
  {
   "cell_type": "code",
   "execution_count": 10,
   "metadata": {},
   "outputs": [
    {
     "data": {
      "text/html": [
       "<div>\n",
       "<style scoped>\n",
       "    .dataframe tbody tr th:only-of-type {\n",
       "        vertical-align: middle;\n",
       "    }\n",
       "\n",
       "    .dataframe tbody tr th {\n",
       "        vertical-align: top;\n",
       "    }\n",
       "\n",
       "    .dataframe thead th {\n",
       "        text-align: right;\n",
       "    }\n",
       "</style>\n",
       "<table border=\"1\" class=\"dataframe\">\n",
       "  <thead>\n",
       "    <tr style=\"text-align: right;\">\n",
       "      <th></th>\n",
       "      <th>sys_name</th>\n",
       "      <th>Mtp</th>\n",
       "      <th>dMtp</th>\n",
       "      <th>com</th>\n",
       "      <th>dcom</th>\n",
       "      <th>ms</th>\n",
       "      <th>dms</th>\n",
       "      <th>metal</th>\n",
       "      <th>dmetal</th>\n",
       "      <th>n_planets</th>\n",
       "    </tr>\n",
       "    <tr>\n",
       "      <th>star_name</th>\n",
       "      <th></th>\n",
       "      <th></th>\n",
       "      <th></th>\n",
       "      <th></th>\n",
       "      <th></th>\n",
       "      <th></th>\n",
       "      <th></th>\n",
       "      <th></th>\n",
       "      <th></th>\n",
       "      <th></th>\n",
       "    </tr>\n",
       "  </thead>\n",
       "  <tbody>\n",
       "    <tr>\n",
       "      <th>TRAPPIST-1</th>\n",
       "      <td>TRAPPIST-1</td>\n",
       "      <td>0.017701</td>\n",
       "      <td>0.010374</td>\n",
       "      <td>0.029040</td>\n",
       "      <td>0.034407</td>\n",
       "      <td>0.080</td>\n",
       "      <td>0.007</td>\n",
       "      <td>0.04</td>\n",
       "      <td>0.08</td>\n",
       "      <td>7</td>\n",
       "    </tr>\n",
       "    <tr>\n",
       "      <th>K2-138</th>\n",
       "      <td>K2-138</td>\n",
       "      <td>0.113900</td>\n",
       "      <td>0.030500</td>\n",
       "      <td>0.083596</td>\n",
       "      <td>0.053756</td>\n",
       "      <td>0.930</td>\n",
       "      <td>0.060</td>\n",
       "      <td>0.16</td>\n",
       "      <td>0.04</td>\n",
       "      <td>6</td>\n",
       "    </tr>\n",
       "    <tr>\n",
       "      <th>GJ 876</th>\n",
       "      <td>GJ 876</td>\n",
       "      <td>2.861000</td>\n",
       "      <td>0.045000</td>\n",
       "      <td>0.185302</td>\n",
       "      <td>0.005413</td>\n",
       "      <td>0.334</td>\n",
       "      <td>0.030</td>\n",
       "      <td>0.05</td>\n",
       "      <td>0.20</td>\n",
       "      <td>4</td>\n",
       "    </tr>\n",
       "    <tr>\n",
       "      <th>WASP-47</th>\n",
       "      <td>WASP-47</td>\n",
       "      <td>2.511800</td>\n",
       "      <td>0.097400</td>\n",
       "      <td>0.760462</td>\n",
       "      <td>0.220362</td>\n",
       "      <td>1.110</td>\n",
       "      <td>0.490</td>\n",
       "      <td>0.18</td>\n",
       "      <td>0.07</td>\n",
       "      <td>4</td>\n",
       "    </tr>\n",
       "    <tr>\n",
       "      <th>Kepler-289</th>\n",
       "      <td>Kepler-289</td>\n",
       "      <td>0.451000</td>\n",
       "      <td>0.077000</td>\n",
       "      <td>0.489512</td>\n",
       "      <td>0.184174</td>\n",
       "      <td>1.080</td>\n",
       "      <td>0.020</td>\n",
       "      <td>0.05</td>\n",
       "      <td>0.04</td>\n",
       "      <td>3</td>\n",
       "    </tr>\n",
       "  </tbody>\n",
       "</table>\n",
       "</div>"
      ],
      "text/plain": [
       "              sys_name       Mtp      dMtp       com      dcom     ms    dms  \\\n",
       "star_name                                                                      \n",
       "TRAPPIST-1  TRAPPIST-1  0.017701  0.010374  0.029040  0.034407  0.080  0.007   \n",
       "K2-138          K2-138  0.113900  0.030500  0.083596  0.053756  0.930  0.060   \n",
       "GJ 876          GJ 876  2.861000  0.045000  0.185302  0.005413  0.334  0.030   \n",
       "WASP-47        WASP-47  2.511800  0.097400  0.760462  0.220362  1.110  0.490   \n",
       "Kepler-289  Kepler-289  0.451000  0.077000  0.489512  0.184174  1.080  0.020   \n",
       "\n",
       "            metal  dmetal  n_planets  \n",
       "star_name                             \n",
       "TRAPPIST-1   0.04    0.08          7  \n",
       "K2-138       0.16    0.04          6  \n",
       "GJ 876       0.05    0.20          4  \n",
       "WASP-47      0.18    0.07          4  \n",
       "Kepler-289   0.05    0.04          3  "
      ]
     },
     "execution_count": 10,
     "metadata": {},
     "output_type": "execute_result"
    }
   ],
   "source": [
    "obs_data = NewData(data_o)\n",
    "obs_data = obs_data.assign(n_planets = number)\n",
    "obs_data = obs_data.sort_values(by=['n_planets'], ascending=False)\n",
    "obs_data.head()"
   ]
  },
  {
   "cell_type": "code",
   "execution_count": 11,
   "metadata": {},
   "outputs": [],
   "source": [
    "#system_i = data_o[data_o.star_name == \"Kepler-289\"]  \n",
    "#system_i"
   ]
  },
  {
   "cell_type": "markdown",
   "metadata": {},
   "source": [
    "## 2. Posterior probability \n",
    "\n",
    "### 2.1 Likelihood"
   ]
  },
  {
   "cell_type": "code",
   "execution_count": 12,
   "metadata": {},
   "outputs": [
    {
     "name": "stdout",
     "output_type": "stream",
     "text": [
      "Importing Jupyter notebook from bandwidths.ipynb\n"
     ]
    }
   ],
   "source": [
    "import nbimporter\n",
    "from bandwidths import optimal_pdf #import the class for get the pdf."
   ]
  },
  {
   "cell_type": "markdown",
   "metadata": {},
   "source": [
    "In this example we take the variables `dng.ms`, `dng.metal` and `dng.nplanets` "
   ]
  },
  {
   "cell_type": "code",
   "execution_count": 13,
   "metadata": {},
   "outputs": [],
   "source": [
    "likel = optimal_pdf(dng.ms, dng.metal, dng.nplanets)\n",
    "likel.pdf()"
   ]
  },
  {
   "cell_type": "code",
   "execution_count": 14,
   "metadata": {},
   "outputs": [],
   "source": [
    "likelihood = likel.pdf_std #in standard space\n",
    "#likelihood"
   ]
  },
  {
   "cell_type": "markdown",
   "metadata": {},
   "source": [
    "### 2.2 Prior infromation"
   ]
  },
  {
   "cell_type": "code",
   "execution_count": 15,
   "metadata": {},
   "outputs": [],
   "source": [
    "def bi_norm(x, y, x_mu, x_std, y_mu, y_std):\n",
    "    c = 1/(2*np.pi*x_std*y_std)\n",
    "    return c*np.exp(-((x-x_mu)/x_std)**2-((y-y_mu)/y_std)**2)#.reshape(int(len(x)**2/2),2)\n",
    "\n",
    "def tri_norm(x, y, z, x_mu, x_std, y_mu, y_std, z_mu, z_std):\n",
    "    c = 1/(2*np.pi*x_std*y_std*z_std)\n",
    "    return c*np.exp(-((x-x_mu)/x_std)**2-((y-y_mu)/y_std)**2-((z-z_mu)/z_std)**2)"
   ]
  },
  {
   "cell_type": "code",
   "execution_count": 16,
   "metadata": {},
   "outputs": [
    {
     "data": {
      "text/html": [
       "<div>\n",
       "<style scoped>\n",
       "    .dataframe tbody tr th:only-of-type {\n",
       "        vertical-align: middle;\n",
       "    }\n",
       "\n",
       "    .dataframe tbody tr th {\n",
       "        vertical-align: top;\n",
       "    }\n",
       "\n",
       "    .dataframe thead th {\n",
       "        text-align: right;\n",
       "    }\n",
       "</style>\n",
       "<table border=\"1\" class=\"dataframe\">\n",
       "  <thead>\n",
       "    <tr style=\"text-align: right;\">\n",
       "      <th></th>\n",
       "      <th>sys_name</th>\n",
       "      <th>Mtp</th>\n",
       "      <th>dMtp</th>\n",
       "      <th>com</th>\n",
       "      <th>dcom</th>\n",
       "      <th>ms</th>\n",
       "      <th>dms</th>\n",
       "      <th>metal</th>\n",
       "      <th>dmetal</th>\n",
       "      <th>n_planets</th>\n",
       "    </tr>\n",
       "    <tr>\n",
       "      <th>star_name</th>\n",
       "      <th></th>\n",
       "      <th></th>\n",
       "      <th></th>\n",
       "      <th></th>\n",
       "      <th></th>\n",
       "      <th></th>\n",
       "      <th></th>\n",
       "      <th></th>\n",
       "      <th></th>\n",
       "      <th></th>\n",
       "    </tr>\n",
       "  </thead>\n",
       "  <tbody>\n",
       "    <tr>\n",
       "      <th>K2-138</th>\n",
       "      <td>K2-138</td>\n",
       "      <td>0.1139</td>\n",
       "      <td>0.0305</td>\n",
       "      <td>0.083596</td>\n",
       "      <td>0.053756</td>\n",
       "      <td>0.93</td>\n",
       "      <td>0.06</td>\n",
       "      <td>0.16</td>\n",
       "      <td>0.04</td>\n",
       "      <td>6</td>\n",
       "    </tr>\n",
       "  </tbody>\n",
       "</table>\n",
       "</div>"
      ],
      "text/plain": [
       "          sys_name     Mtp    dMtp       com      dcom    ms   dms  metal  \\\n",
       "star_name                                                                   \n",
       "K2-138      K2-138  0.1139  0.0305  0.083596  0.053756  0.93  0.06   0.16   \n",
       "\n",
       "           dmetal  n_planets  \n",
       "star_name                     \n",
       "K2-138       0.04          6  "
      ]
     },
     "execution_count": 16,
     "metadata": {},
     "output_type": "execute_result"
    }
   ],
   "source": [
    "systm = obs_data[obs_data.sys_name == \"K2-138\"] \n",
    "systm"
   ]
  },
  {
   "cell_type": "code",
   "execution_count": 119,
   "metadata": {},
   "outputs": [],
   "source": [
    "# prior x\n",
    "mu_x, sigma_x = systm.ms, systm.dms\n",
    "\n",
    "x = np.linspace(mu_x-3*sigma_x, mu_x+3*sigma_x,100)\n",
    "\n",
    "x_s = (x-x.mean())/x.std()\n",
    "\n",
    "prior_x = stats.norm.pdf(x, loc = mu_x, scale = sigma_x)  "
   ]
  },
  {
   "cell_type": "code",
   "execution_count": 122,
   "metadata": {},
   "outputs": [],
   "source": [
    "# prior y\n",
    "mu_y, sigma_y = systm.metal, systm.dmetal\n",
    "\n",
    "y = np.linspace(mu_y-3*sigma_y, mu_y+3*sigma_y,100)\n",
    "\n",
    "y_s = (y-y.mean())/y.std()\n",
    "\n",
    "prior_y = stats.norm.pdf(y, loc = mu_y, scale = sigma_y)  "
   ]
  },
  {
   "cell_type": "code",
   "execution_count": 126,
   "metadata": {},
   "outputs": [],
   "source": [
    "X, Y = np.meshgrid(x,y)\n",
    "X_s, Y_s = np.meshgrid(x_s,y_s)"
   ]
  },
  {
   "cell_type": "code",
   "execution_count": 127,
   "metadata": {},
   "outputs": [
    {
     "data": {
      "text/plain": [
       "(100, 100)"
      ]
     },
     "execution_count": 127,
     "metadata": {},
     "output_type": "execute_result"
    }
   ],
   "source": [
    "Y.shape"
   ]
  },
  {
   "cell_type": "code",
   "execution_count": null,
   "metadata": {},
   "outputs": [],
   "source": []
  },
  {
   "cell_type": "code",
   "execution_count": 128,
   "metadata": {},
   "outputs": [],
   "source": [
    "eye = np.ones([100,100])"
   ]
  },
  {
   "cell_type": "code",
   "execution_count": 129,
   "metadata": {},
   "outputs": [],
   "source": [
    "prior = eye*prior_x*prior_y.T"
   ]
  },
  {
   "cell_type": "code",
   "execution_count": 130,
   "metadata": {},
   "outputs": [
    {
     "data": {
      "text/plain": [
       "<matplotlib.contour.QuadContourSet at 0x7fd7fb9818b0>"
      ]
     },
     "execution_count": 130,
     "metadata": {},
     "output_type": "execute_result"
    },
    {
     "data": {
      "image/png": "[encoded data removed]",
      "text/plain": [
       "<Figure size 432x288 with 1 Axes>"
      ]
     },
     "metadata": {
      "needs_background": "light"
     },
     "output_type": "display_data"
    }
   ],
   "source": [
    "plt.contour(X_s,Y_s,prior)"
   ]
  },
  {
   "cell_type": "code",
   "execution_count": null,
   "metadata": {},
   "outputs": [],
   "source": []
  },
  {
   "cell_type": "code",
   "execution_count": null,
   "metadata": {},
   "outputs": [],
   "source": [
    "x = np.linspace(systm.ms-3*systm.dms,systm.ms+3*systm.dms,100)\n",
    "y = np.linspace(systm.metal-systm.dmetal,systm.metal+systm.dmetal,100)\n",
    "\n",
    "X,Y = np.meshgrid(x,y)\n",
    "\n",
    "prior = bi_norm(X,Y,systm.Mtp.values, systm.dMtp.values, systm.metal.values, systm.dmetal.values)"
   ]
  },
  {
   "cell_type": "code",
   "execution_count": null,
   "metadata": {},
   "outputs": [],
   "source": [
    "prior"
   ]
  },
  {
   "cell_type": "code",
   "execution_count": null,
   "metadata": {},
   "outputs": [],
   "source": []
  },
  {
   "cell_type": "code",
   "execution_count": null,
   "metadata": {},
   "outputs": [],
   "source": []
  },
  {
   "cell_type": "code",
   "execution_count": null,
   "metadata": {},
   "outputs": [],
   "source": []
  },
  {
   "cell_type": "code",
   "execution_count": null,
   "metadata": {},
   "outputs": [],
   "source": []
  },
  {
   "cell_type": "code",
   "execution_count": null,
   "metadata": {},
   "outputs": [],
   "source": []
  },
  {
   "cell_type": "code",
   "execution_count": null,
   "metadata": {},
   "outputs": [],
   "source": [
    "prior_std = ((prior - np.mean(prior, axis=0))/np.std(prior, axis = 0)).reshape(X.shape)\n",
    "#prior_std"
   ]
  },
  {
   "cell_type": "code",
   "execution_count": null,
   "metadata": {},
   "outputs": [],
   "source": [
    "plt.contour(prior_std)\n",
    "#prior"
   ]
  },
  {
   "cell_type": "code",
   "execution_count": null,
   "metadata": {},
   "outputs": [],
   "source": [
    "x_y = stats.norm.pdf(x)\n",
    "y_y = stats.norm.pdf(y)"
   ]
  },
  {
   "cell_type": "code",
   "execution_count": null,
   "metadata": {},
   "outputs": [],
   "source": [
    "plt.plot(x,x_y)"
   ]
  },
  {
   "cell_type": "code",
   "execution_count": null,
   "metadata": {},
   "outputs": [],
   "source": [
    "prior_2=((np.ones([100,100]).T*prior_y).T)*prior_x\n",
    "plt.contour(prior_2)"
   ]
  },
  {
   "cell_type": "markdown",
   "metadata": {},
   "source": [
    "### 2.2 Likelihood"
   ]
  },
  {
   "cell_type": "code",
   "execution_count": null,
   "metadata": {},
   "outputs": [],
   "source": []
  },
  {
   "cell_type": "code",
   "execution_count": null,
   "metadata": {},
   "outputs": [],
   "source": []
  },
  {
   "cell_type": "code",
   "execution_count": null,
   "metadata": {},
   "outputs": [],
   "source": []
  },
  {
   "cell_type": "code",
   "execution_count": null,
   "metadata": {},
   "outputs": [],
   "source": []
  },
  {
   "cell_type": "code",
   "execution_count": null,
   "metadata": {},
   "outputs": [],
   "source": []
  },
  {
   "cell_type": "code",
   "execution_count": null,
   "metadata": {},
   "outputs": [],
   "source": []
  },
  {
   "cell_type": "code",
   "execution_count": null,
   "metadata": {},
   "outputs": [],
   "source": []
  },
  {
   "cell_type": "code",
   "execution_count": null,
   "metadata": {},
   "outputs": [],
   "source": []
  },
  {
   "cell_type": "code",
   "execution_count": null,
   "metadata": {},
   "outputs": [],
   "source": []
  },
  {
   "cell_type": "code",
   "execution_count": null,
   "metadata": {},
   "outputs": [],
   "source": []
  },
  {
   "cell_type": "code",
   "execution_count": null,
   "metadata": {},
   "outputs": [],
   "source": []
  },
  {
   "cell_type": "code",
   "execution_count": null,
   "metadata": {},
   "outputs": [],
   "source": []
  },
  {
   "cell_type": "code",
   "execution_count": null,
   "metadata": {},
   "outputs": [],
   "source": []
  },
  {
   "cell_type": "code",
   "execution_count": null,
   "metadata": {},
   "outputs": [],
   "source": []
  },
  {
   "cell_type": "code",
   "execution_count": null,
   "metadata": {},
   "outputs": [],
   "source": []
  },
  {
   "cell_type": "code",
   "execution_count": null,
   "metadata": {},
   "outputs": [],
   "source": []
  }
 ],
 "metadata": {
  "kernelspec": {
   "display_name": "Python 3",
   "language": "python",
   "name": "python3"
  },
  "language_info": {
   "codemirror_mode": {
    "name": "ipython",
    "version": 3
   },
   "file_extension": ".py",
   "mimetype": "text/x-python",
   "name": "python",
   "nbconvert_exporter": "python",
   "pygments_lexer": "ipython3",
   "version": "3.8.3"
  }
 },
 "nbformat": 4,
 "nbformat_minor": 4
}
