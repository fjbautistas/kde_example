{
 "cells": [
  {
   "cell_type": "markdown",
   "metadata": {},
   "source": [
    "#  Ideal bandwidths and PDF functions \n",
    "\n",
    "Based on kde_tutorial from https://notebooks.gesis.org/binder/jupyter/user/saint-germain-p-ation_synthesis-uu00810x/tree/prep\n",
    "\n",
    "## Libraries and data\n",
    "The data trataiment:"
   ]
  },
  {
   "cell_type": "code",
   "execution_count": 67,
   "metadata": {},
   "outputs": [
    {
     "data": {
      "text/html": [
       "\n",
       "<style>\n",
       ".output_png {\n",
       "    display: table-cell;\n",
       "    text-align: center;\n",
       "    vertical-align: middle;\n",
       "}\n",
       "</style>\n"
      ],
      "text/plain": [
       "<IPython.core.display.HTML object>"
      ]
     },
     "execution_count": 67,
     "metadata": {},
     "output_type": "execute_result"
    }
   ],
   "source": [
    "from IPython.core.display import HTML\n",
    "HTML(\"\"\"\n",
    "<style>\n",
    ".output_png {\n",
    "    display: table-cell;\n",
    "    text-align: center;\n",
    "    vertical-align: middle;\n",
    "}\n",
    "</style>\n",
    "\"\"\")"
   ]
  },
  {
   "cell_type": "code",
   "execution_count": 68,
   "metadata": {},
   "outputs": [],
   "source": [
    "from sklearn.neighbors import KernelDensity\n",
    "from sklearn.model_selection import GridSearchCV\n",
    "from scipy.stats import gaussian_kde"
   ]
  },
  {
   "cell_type": "code",
   "execution_count": 69,
   "metadata": {},
   "outputs": [],
   "source": [
    "import numpy as np\n",
    "import pandas as pd\n",
    "import seaborn as sns\n",
    "import matplotlib.pyplot as plt\n",
    "%matplotlib inline\n",
    "\n",
    "import warnings\n",
    "warnings.simplefilter('ignore')"
   ]
  },
  {
   "cell_type": "code",
   "execution_count": 70,
   "metadata": {},
   "outputs": [],
   "source": [
    "dn=pd.read_csv('data/proc_no_pert.csv',index_col=None) #without pertubtations \n",
    "dn[\"gia\"]=dn.ngi>0\n",
    "dl=pd.read_csv('data/proc_lo_pert.csv',index_col=None) #with low pertubtations \n",
    "dl[\"gia\"]=dl.ngi>0\n",
    "dh=pd.read_csv('data/proc_hi_pert.csv',index_col=None) #with high pertubtations \n",
    "dh[\"gia\"]=dh.ngi>0"
   ]
  },
  {
   "cell_type": "code",
   "execution_count": 71,
   "metadata": {},
   "outputs": [],
   "source": [
    "#Terrestrial\n",
    "dnt=dn[~dn[\"gia\"]] # without pertubtations \n",
    "dlt=dl[~dl[\"gia\"]] # low pertubtations \n",
    "dht=dh[~dh[\"gia\"]] # high pertubtations \n",
    "\n",
    "#Giant \n",
    "dng=dn[dn[\"gia\"]]  # without pertubtations \n",
    "dlg=dl[dl[\"gia\"]]  # low pertubtations \n",
    "dhg=dh[dh[\"gia\"]]  # high without pertubtations "
   ]
  },
  {
   "cell_type": "code",
   "execution_count": 72,
   "metadata": {},
   "outputs": [
    {
     "name": "stdout",
     "output_type": "stream",
     "text": [
      "***************************************\n",
      "Total systems                  : 1221\n",
      "***************************************\n",
      "Total planets - no             : 15887\n",
      "Giant planets - no             : 330\n",
      "Systems with giant planets - no: 268\n",
      "***************************************\n",
      "Total planets - lo             : 15732\n",
      "Giant planets - lo             : 374\n",
      "Systems with giant planets - lo: 306\n",
      "***************************************\n",
      "Total planets - hi             : 15441\n",
      "Giant planets - hi             : 388\n",
      "Systems with giant planets - hi: 309\n"
     ]
    }
   ],
   "source": [
    "print(\"***************************************\")\n",
    "print(\"Total systems                  : \"+str(len(dn)))\n",
    "print(\"***************************************\")\n",
    "print(\"Total planets - no             : \"+str(dn.nplanets.sum().astype(int)))\n",
    "print(\"Giant planets - no             : \"+str(dn.ngi.sum().astype(int)))\n",
    "print(\"Systems with giant planets - no: \"+str(dn.gia.sum()))\n",
    "print(\"***************************************\")\n",
    "\n",
    "print(\"Total planets - lo             : \"+str(dl.nplanets.sum().astype(int)))\n",
    "print(\"Giant planets - lo             : \"+str(dl.ngi.sum().astype(int)))\n",
    "print(\"Systems with giant planets - lo: \"+str(dl.gia.sum()))\n",
    "print(\"***************************************\")\n",
    "print(\"Total planets - hi             : \"+str(dh.nplanets.sum().astype(int)))\n",
    "print(\"Giant planets - hi             : \"+str(dh.ngi.sum().astype(int)))\n",
    "print(\"Systems with giant planets - hi: \"+str(dh.gia.sum()))"
   ]
  },
  {
   "cell_type": "code",
   "execution_count": 73,
   "metadata": {},
   "outputs": [],
   "source": [
    "x_variables = [dng,dlg,dhg,dnt,dlt,dht,dn,dl,dh]\n",
    "\n",
    "for i, var in enumerate(x_variables):\n",
    "    var['logeff'] = np.log10(var.massefficiency)\n",
    "    var['logcom'] = np.log10(var.com)"
   ]
  },
  {
   "cell_type": "code",
   "execution_count": 74,
   "metadata": {},
   "outputs": [
    {
     "data": {
      "text/html": [
       "<div>\n",
       "<style scoped>\n",
       "    .dataframe tbody tr th:only-of-type {\n",
       "        vertical-align: middle;\n",
       "    }\n",
       "\n",
       "    .dataframe tbody tr th {\n",
       "        vertical-align: top;\n",
       "    }\n",
       "\n",
       "    .dataframe thead th {\n",
       "        text-align: right;\n",
       "    }\n",
       "</style>\n",
       "<table border=\"1\" class=\"dataframe\">\n",
       "  <thead>\n",
       "    <tr style=\"text-align: right;\">\n",
       "      <th></th>\n",
       "      <th>Unnamed: 0</th>\n",
       "      <th>ident</th>\n",
       "      <th>com</th>\n",
       "      <th>nplanets</th>\n",
       "      <th>massbudget</th>\n",
       "      <th>massefficiency</th>\n",
       "      <th>sigmag0</th>\n",
       "      <th>md</th>\n",
       "      <th>rc</th>\n",
       "      <th>ms</th>\n",
       "      <th>metal</th>\n",
       "      <th>taugas</th>\n",
       "      <th>qest</th>\n",
       "      <th>ngi</th>\n",
       "      <th>mtr</th>\n",
       "      <th>apert</th>\n",
       "      <th>gia</th>\n",
       "      <th>logeff</th>\n",
       "      <th>logcom</th>\n",
       "    </tr>\n",
       "  </thead>\n",
       "  <tbody>\n",
       "    <tr>\n",
       "      <th>0</th>\n",
       "      <td>0</td>\n",
       "      <td>3.0</td>\n",
       "      <td>1.081461</td>\n",
       "      <td>10.0</td>\n",
       "      <td>10770.309627</td>\n",
       "      <td>0.576981</td>\n",
       "      <td>90.793337</td>\n",
       "      <td>0.056</td>\n",
       "      <td>29.539343</td>\n",
       "      <td>0.880114</td>\n",
       "      <td>0.328146</td>\n",
       "      <td>1644710.625</td>\n",
       "      <td>8.421395</td>\n",
       "      <td>4.0</td>\n",
       "      <td>12.004623</td>\n",
       "      <td>0.0</td>\n",
       "      <td>True</td>\n",
       "      <td>-0.238839</td>\n",
       "      <td>0.034011</td>\n",
       "    </tr>\n",
       "    <tr>\n",
       "      <th>2</th>\n",
       "      <td>2</td>\n",
       "      <td>6.0</td>\n",
       "      <td>0.110789</td>\n",
       "      <td>12.0</td>\n",
       "      <td>2422.342359</td>\n",
       "      <td>0.060559</td>\n",
       "      <td>75.740878</td>\n",
       "      <td>0.120</td>\n",
       "      <td>47.343380</td>\n",
       "      <td>0.861595</td>\n",
       "      <td>0.021273</td>\n",
       "      <td>1790533.125</td>\n",
       "      <td>4.412694</td>\n",
       "      <td>1.0</td>\n",
       "      <td>29.771089</td>\n",
       "      <td>0.0</td>\n",
       "      <td>True</td>\n",
       "      <td>-1.217824</td>\n",
       "      <td>-0.955504</td>\n",
       "    </tr>\n",
       "    <tr>\n",
       "      <th>4</th>\n",
       "      <td>4</td>\n",
       "      <td>13.0</td>\n",
       "      <td>0.172211</td>\n",
       "      <td>13.0</td>\n",
       "      <td>2905.457535</td>\n",
       "      <td>0.051273</td>\n",
       "      <td>178.830700</td>\n",
       "      <td>0.170</td>\n",
       "      <td>36.672222</td>\n",
       "      <td>1.206445</td>\n",
       "      <td>-0.174039</td>\n",
       "      <td>3956707.500</td>\n",
       "      <td>3.998513</td>\n",
       "      <td>1.0</td>\n",
       "      <td>14.220447</td>\n",
       "      <td>0.0</td>\n",
       "      <td>True</td>\n",
       "      <td>-1.290113</td>\n",
       "      <td>-0.763939</td>\n",
       "    </tr>\n",
       "    <tr>\n",
       "      <th>16</th>\n",
       "      <td>16</td>\n",
       "      <td>31.0</td>\n",
       "      <td>4.377862</td>\n",
       "      <td>11.0</td>\n",
       "      <td>41.578462</td>\n",
       "      <td>0.001299</td>\n",
       "      <td>86.546084</td>\n",
       "      <td>0.096</td>\n",
       "      <td>39.613728</td>\n",
       "      <td>0.993549</td>\n",
       "      <td>-0.031508</td>\n",
       "      <td>1439538.875</td>\n",
       "      <td>5.991912</td>\n",
       "      <td>1.0</td>\n",
       "      <td>17.716253</td>\n",
       "      <td>0.0</td>\n",
       "      <td>True</td>\n",
       "      <td>-2.886282</td>\n",
       "      <td>0.641262</td>\n",
       "    </tr>\n",
       "    <tr>\n",
       "      <th>23</th>\n",
       "      <td>23</td>\n",
       "      <td>40.0</td>\n",
       "      <td>2.144859</td>\n",
       "      <td>13.0</td>\n",
       "      <td>181.982608</td>\n",
       "      <td>0.006578</td>\n",
       "      <td>57.698437</td>\n",
       "      <td>0.083</td>\n",
       "      <td>45.111870</td>\n",
       "      <td>1.037112</td>\n",
       "      <td>0.039315</td>\n",
       "      <td>2374519.750</td>\n",
       "      <td>7.413428</td>\n",
       "      <td>1.0</td>\n",
       "      <td>14.782324</td>\n",
       "      <td>0.0</td>\n",
       "      <td>True</td>\n",
       "      <td>-2.181927</td>\n",
       "      <td>0.331399</td>\n",
       "    </tr>\n",
       "  </tbody>\n",
       "</table>\n",
       "</div>"
      ],
      "text/plain": [
       "    Unnamed: 0  ident       com  nplanets    massbudget  massefficiency  \\\n",
       "0            0    3.0  1.081461      10.0  10770.309627        0.576981   \n",
       "2            2    6.0  0.110789      12.0   2422.342359        0.060559   \n",
       "4            4   13.0  0.172211      13.0   2905.457535        0.051273   \n",
       "16          16   31.0  4.377862      11.0     41.578462        0.001299   \n",
       "23          23   40.0  2.144859      13.0    181.982608        0.006578   \n",
       "\n",
       "       sigmag0     md         rc        ms     metal       taugas      qest  \\\n",
       "0    90.793337  0.056  29.539343  0.880114  0.328146  1644710.625  8.421395   \n",
       "2    75.740878  0.120  47.343380  0.861595  0.021273  1790533.125  4.412694   \n",
       "4   178.830700  0.170  36.672222  1.206445 -0.174039  3956707.500  3.998513   \n",
       "16   86.546084  0.096  39.613728  0.993549 -0.031508  1439538.875  5.991912   \n",
       "23   57.698437  0.083  45.111870  1.037112  0.039315  2374519.750  7.413428   \n",
       "\n",
       "    ngi        mtr  apert   gia    logeff    logcom  \n",
       "0   4.0  12.004623    0.0  True -0.238839  0.034011  \n",
       "2   1.0  29.771089    0.0  True -1.217824 -0.955504  \n",
       "4   1.0  14.220447    0.0  True -1.290113 -0.763939  \n",
       "16  1.0  17.716253    0.0  True -2.886282  0.641262  \n",
       "23  1.0  14.782324    0.0  True -2.181927  0.331399  "
      ]
     },
     "execution_count": 74,
     "metadata": {},
     "output_type": "execute_result"
    }
   ],
   "source": [
    "dng.head()"
   ]
  },
  {
   "cell_type": "markdown",
   "metadata": {},
   "source": [
    "## Bandwidth problem\n",
    "So far we have our data. Now we need to construct their probability density distributions. To do this we employ Kernel Density Estimation (KDE), here the bandwidth take importance. Let's study how to estimate the shape $\\widehat{f}_{h}(x)$ of the funtion which could represents the probability density function: \n",
    "\n",
    "$$\\widehat{f}_{h}(x)=\\frac{1}{n} \\sum_{i=1}^{n} K_{h}\\left(x-x_{i}\\right)=\\frac{1}{n h} \\sum_{i=1}^{n} K\\left(\\frac{x-x_{i}}{h}\\right).$$\n",
    "\n",
    "Here $K_{h}$ is a kernel (non-negative function), commonly used: uniform, triangular, biweight, triweight, Epanechnikov, normal, among others. The $h$ parameters is a smoothing constant, it is also called _bandwidth_ (also $bw$) (mor information of KDE <a href=\"https://cran.r-project.org/web/packages/kedd/vignettes/kedd.pdf\">here</a>). \n",
    " \n",
    "\n",
    "### The Bandwidth definition\n",
    "A very brief definition, from <a href=\"https://en.wikipedia.org/wiki/Kernel_density_estimation\">wikipedia</a>: The bandwidth of the kernel is a free parameter which exhibits a strong influence on the resulting estimate. T\n",
    "\n",
    "The most common optimality criterion used to select this parameter is the expected risk function employing cross validation: \n",
    "\n",
    "$$\\operatorname{MISE}(h)=\\mathrm{E}\\left[\\int\\left(\\hat{f}_{h}(x)-f(x)\\right)^{2} d x\\right].$$\n",
    "\n",
    "Also is used the rule-of-thumb bandwidth estimator:\n",
    "\n",
    "$$h=\\left(\\frac{4 \\hat{\\sigma}^{5}}{3 n}\\right)^{\\frac{1}{5}} \\approx 1.06 \\hat{\\sigma} n^{-1 / 5}.$$\n",
    "\n",
    "Or Silverman's (1986) rule of thumb:\n",
    "\n",
    "$$h=0.9 \\min \\left(\\hat{\\sigma}, \\frac{I Q R}{1.34}\\right) n^{-\\frac{1}{5}}.$$\n",
    "\n",
    "Some considrations in the values of $h$. On the one hand, if $h\\rightarrow 0$ then we have overfitting, in other words there is no smoothing (plots like sum of delta fuctions).  On the other hand, if $h\\rightarrow \\infty$, we have a density function completily smoothed.\n",
    "\n",
    "Now, let's estudy some examples with `cross_validation` and `gaussian_kde`. To do this, we introduce a new funtoion that obtain the bandwidths through `Gaussian_kde` and `KernelDensity`. Then, the optimal bandwidhts came from `bw_opt` function: "
   ]
  },
  {
   "cell_type": "code",
   "execution_count": 77,
   "metadata": {},
   "outputs": [],
   "source": [
    "#The variable is a column from dataFrames: 'dng','dlg','dhg','dnt','dlt','dht','dn','dl','dh'\n",
    "def bw_opt(variable, name, plot=False):\n",
    "\n",
    "    m=.2; dvariable=0.05; deciamls=2\n",
    "    \n",
    "    x = variable/variable.min() \n",
    "    x_grid = np.around(np.arange(x.min()-m,x.max()+m,dvariable),deciamls)\n",
    "    norm, size, cv = 10, 30, 30 # 30-fold cross-validation     \n",
    "        \n",
    "    #-------------With CrossValidation:\n",
    "    #x = \n",
    "    grid = GridSearchCV(KernelDensity(), \n",
    "                        {'bandwidth': np.linspace(x.min(),x.max()/\\\n",
    "                                                  norm,size)},\n",
    "                        cv=cv) # max-min (grid)\n",
    "    grid.fit(x[:, None])\n",
    "    kde_CV = grid.best_estimator_\n",
    "    bw_CV  = list(grid.best_params_.values())[0]\n",
    "    pdf_CV = np.exp(kde_CV.score_samples(x_grid[:,None]))\n",
    "    \n",
    "    #-------------Gaussian_KDE:\n",
    "    kde_G = gaussian_kde(x)\n",
    "    f = kde_G.covariance_factor()\n",
    "    bw_KDE =  f * x.std()\n",
    "    pdf_kde = kde_G.evaluate(x_grid)\n",
    "    \n",
    "    #---------Comparative plot: \n",
    "    if plot == True: \n",
    "        fig, ax = plt.subplots(1,3, figsize=(11, 4), constrained_layout=True, sharex=True, sharey=True)\n",
    "        #-------CV_plot:\n",
    "        ax[0].plot(x_grid, pdf_CV, linewidth=2, label='bw=%.4f'%kde_CV.bandwidth)\n",
    "        ax[0].hist(x,8,density=True, alpha=.3)\n",
    "        ax[0].legend(loc=\"upper right\")\n",
    "        ax[0].set_title(\"Cross Validation\")\n",
    "        #-------kde_plot:\n",
    "        ax[1].plot(x_grid, pdf_kde, linewidth=2, label='bw=%.4f'%bw_KDE)\n",
    "        ax[1].hist(x,8,density=True, alpha=.3)\n",
    "        ax[1].legend(loc=\"upper right\")\n",
    "        ax[1].set_title(\"Gausian_kde\")\n",
    "        #-------sns_plot:\n",
    "        sns.distplot(x,  ax=ax[2], axlabel=False, bins=8,\n",
    "                     hist_kws={\"alpha\": .3, \"color\": 'C1'}, \n",
    "                     label='default distplot') \n",
    "        ax[2].legend(loc=\"upper right\")\n",
    "        ax[2].set_title(\"displot\")\n",
    "        #---------------\n",
    "        fig.suptitle(\"variable: \"+name, \n",
    "                     fontsize=15, horizontalalignment='center')\n",
    "        plt.show()\n",
    "    return [bw_CV, bw_KDE]"
   ]
  },
  {
   "cell_type": "code",
   "execution_count": 78,
   "metadata": {},
   "outputs": [
    {
     "data": {
      "image/png": "[encoded data removed]",
      "text/plain": [
       "<Figure size 792x288 with 3 Axes>"
      ]
     },
     "metadata": {
      "needs_background": "light"
     },
     "output_type": "display_data"
    }
   ],
   "source": [
    "dng_logcom = bw_opt(dhg.logcom, name=\"dng.logcom\", plot=True)"
   ]
  },
  {
   "cell_type": "markdown",
   "metadata": {},
   "source": [
    "To determine the bw for all data, we can uncomment the following lines."
   ]
  },
  {
   "cell_type": "code",
   "execution_count": 80,
   "metadata": {},
   "outputs": [],
   "source": [
    "#%%time\n",
    "#x_variables = [dng,dlg,dhg,dnt,dlt,dht,dn,dl,dh]\n",
    "#names       = [\"dng\",\"dlg\",\"dhg\",\"dnt\",\"dlt\",\"dht\",\"dn\",\"dl\",\"dh\"]\n",
    "#opt_bw_eff  = [] \n",
    "##opt_bw_logcom  = [] \n",
    "\n",
    "#for index,variable in enumerate(x_variables):\n",
    "#    print(names[index]+\".\"+str(variable.logeff.name))\n",
    "#    bw = bw_opt(variable.logeff, names[index], plot=True)\n",
    "#    opt_bw_eff.append(bw)"
   ]
  },
  {
   "cell_type": "markdown",
   "metadata": {},
   "source": [
    "Nevertheless, the results show overfiting, so, it is nessesary to study the bandwidth problem more thoroughly. We implement a seach vector in order to find the scalar hyperparameter of bandwidth. "
   ]
  },
  {
   "cell_type": "markdown",
   "metadata": {},
   "source": [
    "## Optimal bandwidth $bw$ and the PDF\n",
    "\n",
    "Now, we stablish a better way to determinie the $bw$ and the pdf for each variable. We implement the `KernelDansity` (through `SearchGridCV`) and `gaussian_kde` as methods of a new class `optimal_bw`. Here we will standarize the data, otherwise, variables measured at different scales do not contribute equally to the analysis. It also heps to determine the ideal bandwith in the search vector of `GridSearchCV`. Therefore, \n",
    "\n",
    "- **Standarization**: It is another scaling technique where the values are centered around the mean ($\\mu=0$) with a unit standard deviation ($\\sigma=1$). It is important when we compare measurements that have different units, because equalize the range and/or data variability. The standarization formula, \n",
    "\n",
    "\\begin{equation}\n",
    "X^{\\prime}=\\frac{X-\\mu}{\\sigma}.\n",
    "\\end{equation}\n",
    "\n",
    "#### GridSearchCV Method\n",
    "We use `GridSearchCV` to estimate the otimal bandwidth $bw$. As the best splitting strategy in cross validation, we take cv$=10$, according with documentaction split the data in more grups is not orthodox, because it does not allow the method to learn with a larger data set.\n",
    "\n",
    "Finally, in the grid search we employ `KernelDensity` with a Gaussian kernel to generate the pdf for the variable with the ideal bw.  \n",
    "\n",
    "###### The search vector\n",
    "In the `GridSearchCV` method we use a search vector to determine the optimal bw. The minimum distance between data is the initial value in the serarch vector. As maximum value of serach we use $3\\sigma$ of our data (remember that data are standarized). Finally, the number of steps in the search vector is taken as the ideal for the score of `KernelDensity`.   \n",
    "\n",
    "#### Gaussian_kde  Method\n",
    "we use this method as is described in the documentation. "
   ]
  },
  {
   "cell_type": "code",
   "execution_count": 14,
   "metadata": {},
   "outputs": [],
   "source": [
    "class optimal_bw(object):\n",
    "    \n",
    "    def __init__(self, variable):\n",
    "        \n",
    "        dx, length, deciamls = .2, 100, 2 #some constants for the grid of space\n",
    "        self.variable = variable.values   #original variable\n",
    "        #standarization:\n",
    "        self.x = (self.variable-self.variable.mean())/self.variable.std()\n",
    "        #grid in the original variable space:\n",
    "        self.O_space = np.around(np.linspace(self.variable.min()-dx,\n",
    "                                             self.variable.max()+dx,length),length)\n",
    "        #grid in the std space:\n",
    "        self.x_grid  = np.around(np.linspace(self.x.min()-dx,\n",
    "                                            self.x.max()+dx,length),length)\n",
    "        #distance between data\n",
    "        m = np.abs(np.diff(self.x))      \n",
    "        self.min = min(m[m>0])\n",
    "        \n",
    "    def cv_pdf(self):\n",
    "        cv, nsteps = 10, 50\n",
    "        grid = GridSearchCV(KernelDensity(),{'bandwidth': np.linspace(self.min, \n",
    "                                                                      3*self.x.std(), \n",
    "                                                                      nsteps)}, cv=cv)\n",
    "        grid.fit(self.x[:, None])\n",
    "        \n",
    "        self.bw_CV  = grid.best_estimator_.bandwidth # bw in the standarized space       \n",
    "        self.bw_1   = self.bw_CV*self.variable.std() # bw in the variable space\n",
    "        \n",
    "        self.pdf_CV = np.exp(grid.best_estimator_.score_samples(self.x_grid[:,None]))\n",
    "        \n",
    "        #KernelDensity in the variable space with the respective bw\n",
    "        kde_org = KernelDensity(bandwidth = self.bw_1).fit(self.variable[:, None])\n",
    "        self.PDF_1 = np.exp(kde_org.score_samples(self.O_space[:, None]))\n",
    "    \n",
    "    def kde_pdf(self):\n",
    "        kde_G = gaussian_kde(self.x)\n",
    "        \n",
    "        self.bw_KDE =  kde_G.covariance_factor()      # bw in the standarized space\n",
    "        self.bw_2 = self.bw_KDE*self.variable.std()   # bw in the variable space\n",
    "        \n",
    "        self.pdf_kde = kde_G.evaluate(self.x_grid)\n",
    "        "
   ]
  },
  {
   "cell_type": "markdown",
   "metadata": {},
   "source": [
    "So, we implement the methods from `bw_optimal` as, "
   ]
  },
  {
   "cell_type": "code",
   "execution_count": 15,
   "metadata": {},
   "outputs": [],
   "source": [
    "ex = optimal_bw(dng.logcom)  #dng.logeff, dng.com, dng.metal\n",
    "ex.cv_pdf(); \n",
    "ex.kde_pdf()"
   ]
  },
  {
   "cell_type": "markdown",
   "metadata": {},
   "source": [
    "Now, we make a funtion that generates the comparative plot between `gaussian_kde` and `GridSearchCV` methods for get the pdf in the standarized data. "
   ]
  },
  {
   "cell_type": "code",
   "execution_count": 16,
   "metadata": {},
   "outputs": [],
   "source": [
    "#needs an object from class bw_optimal\n",
    "def pdf1D_std(bw, nbins=25):\n",
    "    lat=12\n",
    "    fig, ax = plt.subplots(1,2, figsize=(12, 5), constrained_layout=True, sharey=True)\n",
    "\n",
    "    ax[0].plot(bw.x_grid, bw.pdf_CV, linewidth=2, label='bw=%.3f'%bw.bw_CV)\n",
    "    ax[0].hist(bw.x, nbins, density=True, alpha=.3, label=\"standarized data\")\n",
    "    ax[0].legend(loc=\"upper left\", fontsize =lat); ax[0].set_title(\"KernelDensity\", fontsize = lat)\n",
    "\n",
    "    ax[1].plot(bw.x_grid, bw.pdf_kde, linewidth=2, label='bw=%.3f'%bw.bw_KDE)\n",
    "    ax[1].hist(bw.x,nbins,density=True, alpha=.3, label=\"standarized data\")\n",
    "    ax[1].legend(loc=\"upper left\", fontsize=lat)\n",
    "    ax[1].set_title(\"Gausian_kde\", fontsize=lat)"
   ]
  },
  {
   "cell_type": "code",
   "execution_count": 17,
   "metadata": {},
   "outputs": [
    {
     "data": {
      "image/png": "[encoded data removed]",
      "text/plain": [
       "<Figure size 864x360 with 2 Axes>"
      ]
     },
     "metadata": {
      "needs_background": "light"
     },
     "output_type": "display_data"
    }
   ],
   "source": [
    "plot = pdf1D_std(ex)"
   ]
  },
  {
   "cell_type": "markdown",
   "metadata": {},
   "source": [
    "For all the information in the variable `x_variables`"
   ]
  },
  {
   "cell_type": "code",
   "execution_count": 18,
   "metadata": {
    "scrolled": true
   },
   "outputs": [],
   "source": [
    "x_variables = [dng,dlg,dhg,dnt,dlt,dht,dn,dl,dh]\n",
    "#for index,variable in enumerate(x_variables):\n",
    "#    #print(names[index]+\".\"+str(variable.logcom.name))\n",
    "#    bw = optimal_bw(variable.logeff)\n",
    "#    bw.cv_pdf()\n",
    "#    bw.kde_pdf()\n",
    "#    plot = pdfs_plot(bw)"
   ]
  },
  {
   "cell_type": "markdown",
   "metadata": {},
   "source": [
    "### PDF in the variable space\n",
    "\n",
    "In order to get the pdf in the variable space, we have two possibilities: \n",
    "\n",
    "1. Make an reverse process as standarization for the pdf resulting in tyhe methods of `optimal_bw` class: \n",
    "\n",
    "$$X=Z\\sigma+\\mu$$\n",
    "\n",
    "Note that in this option we are not interested in bandwidth, just in take the pdf in the original space. \n",
    "\n",
    "2. Make the `KernelDensity` and `gaussian_kde` in the variable space, with the respective $bw$ obtained from standar space and transformed to the variable space. The bandwidth in the variable space $bw$ can be determined as,\n",
    "\n",
    "$$bw=\\sigma bw^\\prime.$$\n",
    "\n",
    "Here, the $bw^\\prime$ is the bandwidth in the standarized space, $\\sigma$ is the standar deviaton for our data. \n",
    "\n",
    "**Let's star with the first option:** "
   ]
  },
  {
   "cell_type": "code",
   "execution_count": 19,
   "metadata": {},
   "outputs": [
    {
     "data": {
      "text/plain": [
       "<matplotlib.legend.Legend at 0x7f4616785640>"
      ]
     },
     "execution_count": 19,
     "metadata": {},
     "output_type": "execute_result"
    },
    {
     "data": {
      "image/png": "[encoded data removed]",
      "text/plain": [
       "<Figure size 504x360 with 1 Axes>"
      ]
     },
     "metadata": {
      "needs_background": "light"
     },
     "output_type": "display_data"
    }
   ],
   "source": [
    "x=np.around(np.linspace(ex.variable.min(),ex.variable.max(),100),2)\n",
    "\n",
    "#pdf in the data space:\n",
    "y  = (ex.pdf_CV*ex.variable.std())+ex.variable.mean()\n",
    "y2 = (ex.pdf_kde*ex.variable.std())+ex.variable.mean()\n",
    "\n",
    "\n",
    "fig, ax = plt.subplots(1,1, figsize=(7, 5), constrained_layout=True, sharey=True)\n",
    "\n",
    "ax.plot(x,y, label='pdf-KernelDensity')\n",
    "ax.plot(x,y2, label='pdf-Gaussian_KDE')\n",
    "ax.hist(ex.variable, bins=25, color=\"C4\", density=True, alpha =.4, label=\"Real data\")\n",
    "plt.legend(fontsize=12)"
   ]
  },
  {
   "cell_type": "code",
   "execution_count": 20,
   "metadata": {},
   "outputs": [],
   "source": [
    "#class optimal_bw_org(optimal_bw):\n",
    "    \n",
    "#    def __init__(self, variable):\n",
    "#        optimal_bw.__init__(self, variable)\n",
    "#        optimal_bw.cv_pdf(self) \n",
    "#        optimal_bw.kde_pdf(self)\n",
    "#    \n",
    "#    def des_std(self):\n",
    "#        self.PDF_org_1 = self.pdf_CV*self.variable.std()+self.variable.mean()\n",
    "#        self.PDF_org_2 = self.pdf_kde*self.variable.std()+self.variable.mean()"
   ]
  },
  {
   "cell_type": "code",
   "execution_count": 21,
   "metadata": {},
   "outputs": [],
   "source": [
    "#pdf_org = optimal_bw_org(dlg.logcom)\n",
    "#pdf_org.des_std()"
   ]
  },
  {
   "cell_type": "code",
   "execution_count": 22,
   "metadata": {},
   "outputs": [],
   "source": [
    "#needs an object from class bw_optimal_org\n",
    "#def pdf1D_org(pdf_org, nbins=25):\n",
    "#    \n",
    "#    fig, ax = plt.subplots(1,2, figsize=(14, 4), constrained_layout=True, sharey=True)#\n",
    "#\n",
    "#    ax[0].plot(pdf_org.O_space, pdf_org.PDF_org_1, \n",
    "#               linewidth=2, label='bw=%.3f'%pdf_org.bw_1)\n",
    "#    ax[0].hist(pdf_org.variable, nbins, density=True, alpha=.3, label=\"Real data\")\n",
    "#    ax[0].legend(loc=\"upper left\"); ax[0].set_title(\"KernelDensity\")#\n",
    "#\n",
    "#    ax[1].plot(pdf_org.O_space,  pdf_org.PDF_org_2, \n",
    "#               linewidth=2, label='bw=%.3f'%pdf_org.bw_2)\n",
    "#    ax[1].hist(pdf_org.variable,nbins,density=True, alpha=.3, label=\"Real data\")\n",
    "#    ax[1].legend(loc=\"upper left\")\n",
    "#    ax[1].set_title(\"Gausian_kde\")"
   ]
  },
  {
   "cell_type": "code",
   "execution_count": 23,
   "metadata": {},
   "outputs": [],
   "source": [
    "#plot = pdf1D_std(ex)\n",
    "#plot2 = pdf1D_org(pdf_org)"
   ]
  },
  {
   "cell_type": "markdown",
   "metadata": {},
   "source": [
    "Therfore, the first option fails in the height of the PDF. It is a problem maybe because the traing data was in the standarized space, then when we change it to the original space the \"re-scaling\" through linear regression does not work.\n",
    "\n",
    "**Let's study the second option:**\n",
    "\n",
    "for the second option, we get the $bw^\\prime$ which is the bandwidth in the standarized space, to take it to the variable space, \n",
    "\n",
    "$$bw=\\sigma bw^\\prime.$$\n",
    "\n"
   ]
  },
  {
   "cell_type": "code",
   "execution_count": 24,
   "metadata": {},
   "outputs": [
    {
     "name": "stdout",
     "output_type": "stream",
     "text": [
      "0.08389739852553774 0.2173471509485891\n"
     ]
    }
   ],
   "source": [
    "#grid in the variable space\n",
    "x_space = np.around(np.linspace(ex.variable.min(),ex.variable.max(),100),2)\n",
    "\n",
    "#bw in the variable space\n",
    "BW_1 = ex.bw_CV*ex.variable.std()\n",
    "BW_2 = ex.bw_KDE*ex.variable.std()\n",
    "print(BW_1,BW_2)\n",
    "\n",
    "#pdf in the original space with the ideal bw employing Kernel Density\n",
    "kde_1d = KernelDensity(bandwidth = BW_1).fit(ex.variable[:, None])\n",
    "PDF_1  = np.exp(kde_1d.score_samples(x_space[:, None]))\n",
    "\n",
    "#pdf in the original space with the ideal bw employing Gaussian_KDE\n",
    "kde_G1d = gaussian_kde(ex.variable, bw_method = BW_2)\n",
    "PDF_2   = kde_G1d.evaluate(x_space)"
   ]
  },
  {
   "cell_type": "code",
   "execution_count": 25,
   "metadata": {},
   "outputs": [
    {
     "data": {
      "text/plain": [
       "<matplotlib.legend.Legend at 0x7f46163e0cd0>"
      ]
     },
     "execution_count": 25,
     "metadata": {},
     "output_type": "execute_result"
    },
    {
     "data": {
      "image/png": "[encoded data removed]",
      "text/plain": [
       "<Figure size 504x360 with 1 Axes>"
      ]
     },
     "metadata": {
      "needs_background": "light"
     },
     "output_type": "display_data"
    }
   ],
   "source": [
    "fig, ax = plt.subplots(1,1, figsize=(7, 5), constrained_layout=True, sharey=True)\n",
    "\n",
    "ax.hist(ex.variable, bins=25, color=\"C4\", density=True, alpha =.4, label=\"Real data\")\n",
    "plt.plot(x_space,PDF_1, label =\"KernelDensity,\" + \"bw=%.3f\"%BW_1)\n",
    "plt.plot(x_space,PDF_2, label =\"gaussian_kde,\" + \"bw=%.3f\"%BW_2)\n",
    "\n",
    "plt.legend(fontsize=12)"
   ]
  },
  {
   "cell_type": "markdown",
   "metadata": {},
   "source": [
    "## Bandwiths for  2-D and 3-D\n",
    "We are going to study the bw problem for more than one dimension"
   ]
  },
  {
   "cell_type": "markdown",
   "metadata": {},
   "source": [
    "### 2D Example\n",
    "For 2d, we have the function:"
   ]
  },
  {
   "cell_type": "code",
   "execution_count": 26,
   "metadata": {},
   "outputs": [],
   "source": [
    "def uni_kde(x,y,tickno=5,nlev=30):\n",
    "    \n",
    "    x_grid=np.around(np.arange(x.min(),x.max(),0.1),2)\n",
    "    y_grid=np.linspace(y.min(),y.max(),len(x_grid))\n",
    "    conv=(x.max()-x.min())/(y.max()-y.min())\n",
    "    yori=y\n",
    "    y=y*conv\n",
    "    y_grid=y_grid*conv\n",
    "    \n",
    "    grid = GridSearchCV(KernelDensity(),\n",
    "                    {'bandwidth': np.linspace(x.min(),x.max()/10,50)},\n",
    "                    cv=20) # 20-fold cross-validation\n",
    "    \n",
    "    grid.fit(np.vstack([x,y]).T)\n",
    "    \n",
    "    print(grid.best_params_)\n",
    "    \n",
    "    X, Y = np.meshgrid(x_grid, y_grid)\n",
    "  \n",
    "    xy = np.vstack([X.ravel(), Y.ravel()]).T\n",
    "    \n",
    "    kde2d = grid.best_estimator_\n",
    "    pdf2d = np.exp(kde2d.score_samples(xy)).reshape(X.shape) #get the pdf\n",
    "    \n",
    "    plt.figure(figsize=(5,5))\n",
    "    levels = np.linspace(0, pdf2d.max(), nlev)\n",
    "    plt.contourf(X, Y, pdf2d, levels=levels, cmap=plt.cm.Reds)\n",
    "    \n",
    "    old_ticks=np.linspace(y.max(), y.min(), tickno)\n",
    "    major_ticks = 10**np.linspace(yori.max(), yori.min(), tickno)\n",
    "    myticks=[]\n",
    "    for i in major_ticks:\n",
    "        myticks+=[\"%.e\"%i]\n",
    "    e=plt.yticks(old_ticks,myticks) "
   ]
  },
  {
   "cell_type": "markdown",
   "metadata": {},
   "source": [
    "similar function that has standarized data and emply the methods in the class `optimal_bw`"
   ]
  },
  {
   "cell_type": "code",
   "execution_count": 27,
   "metadata": {},
   "outputs": [],
   "source": [
    "#needs two objects from class bw_optimal, which are normalized or standarized \n",
    "def bi_kde(data_x,data_y):\n",
    "    \n",
    "    x_grid = data_x.x_grid\n",
    "    y_grid = data_y.x_grid\n",
    "    m = [data_x.min,data_y.min]\n",
    "    \n",
    "    #grid = KernelDensity() # para hacer pruebas\n",
    "    \n",
    "    grid = GridSearchCV(KernelDensity(), \n",
    "                        {'bandwidth': np.linspace(min(m),\n",
    "                                                  3*data_x.x.std(),\n",
    "                                                  50)}, cv=10)\n",
    "    #xx = np.vstack([data_x.x,data_y.x]).T\n",
    "    #print(len(xx))\n",
    "    grid.fit(np.vstack([data_x.x,data_y.x]).T)\n",
    "    print(grid.best_params_)\n",
    "    \n",
    "    X, Y = np.meshgrid(x_grid, y_grid)\n",
    "    xy = np.vstack([X.ravel(), Y.ravel()]).T\n",
    "    #print(len(xy))\n",
    "    kde2d = grid.best_estimator_\n",
    "    pdf2d = np.exp(kde2d.score_samples(xy)).reshape(X.shape) #get the pdf\n",
    "    \n",
    "    plt.figure(figsize=(5,5))\n",
    "    plt.contourf(X, Y, pdf2d, levels=30, cmap=plt.cm.Reds)\n",
    "    \n",
    "    return pdf2d"
   ]
  },
  {
   "cell_type": "code",
   "execution_count": 28,
   "metadata": {
    "scrolled": false
   },
   "outputs": [
    {
     "name": "stdout",
     "output_type": "stream",
     "text": [
      "{'bandwidth': 0.09996864449290914}\n",
      "{'bandwidth': 0.24846383182056772}\n"
     ]
    },
    {
     "data": {
      "image/png": "[encoded data removed]",
      "text/plain": [
       "<Figure size 360x360 with 1 Axes>"
      ]
     },
     "metadata": {
      "needs_background": "light"
     },
     "output_type": "display_data"
    },
    {
     "data": {
      "image/png": "[encoded data removed]",
      "text/plain": [
       "<Figure size 360x360 with 1 Axes>"
      ]
     },
     "metadata": {
      "needs_background": "light"
     },
     "output_type": "display_data"
    }
   ],
   "source": [
    "uni_kde(dng.logcom, dng.logeff)\n",
    "ex_2d = bi_kde(optimal_bw(dng.logcom),optimal_bw(dng.logeff))"
   ]
  },
  {
   "cell_type": "markdown",
   "metadata": {},
   "source": [
    "### 3D example\n",
    "\n",
    "Just an example with 3 variables, without standardized and standarized data. "
   ]
  },
  {
   "cell_type": "code",
   "execution_count": 29,
   "metadata": {},
   "outputs": [],
   "source": [
    "from mpl_toolkits import mplot3d\n",
    "#---------------------Data:\n",
    "x = dng.logeff/dng.logeff.min()\n",
    "y = dng.logcom#/dng.logcom.min()\n",
    "z = dng.nplanets\n",
    "\n",
    "data = np.vstack((x,y,z)).T\n",
    "#---------------------Grid:\n",
    "x_grid=np.around(np.linspace(x.min(),x.max(),30),2)\n",
    "y_grid=np.linspace(y.min(),y.max(),len(x_grid))\n",
    "z_grid=np.linspace(z.min(),z.max(),len(x_grid))\n",
    "\n",
    "X,Y,Z = np.meshgrid(x_grid, y_grid, z_grid)\n",
    "xyz   = np.vstack([X.ravel(), Y.ravel(), Z.ravel()]).T\n",
    "#----------------------CV:\n",
    "grid = GridSearchCV(KernelDensity(),\n",
    "                    {'bandwidth': np.linspace(x.min(),x.max()/10,30)},\n",
    "                    cv=20) # 20-fold cross-validation\n",
    "grid.fit(data)\n",
    "    \n",
    "kde3d_1 = grid.best_estimator_\n",
    "pdf3d_1 = np.exp(kde3d_1.score_samples(xyz)).reshape(X.shape) #get the pdf"
   ]
  },
  {
   "cell_type": "code",
   "execution_count": 30,
   "metadata": {},
   "outputs": [],
   "source": [
    "density_1 = pdf3d_1.ravel()\n",
    "#fig, ax = plt.subplots(subplot_kw=dict(projection='3d'))\n",
    "#x, y, z = X.ravel(), Y.ravel(), Z.ravel()\n",
    "#ax.scatter(x, y, z, c=density_1, alpha=1, cmap= 'seismic',\n",
    "#           vmin=-np.abs(np.max(density_1)),vmax=np.abs(np.max(density_1)))"
   ]
  },
  {
   "cell_type": "code",
   "execution_count": 31,
   "metadata": {},
   "outputs": [],
   "source": [
    "#import plotly.graph_objects as go\n",
    "#fig = go.Figure(data=go.Volume(\n",
    "#    x=X.flatten(),\n",
    "#    y=Y.flatten(),\n",
    "#    z=Z.flatten(),\n",
    "#    value=density_1.flatten(),\n",
    "#    opacity=0.1, # needs to be small to see through all surfaces\n",
    "#    surface_count=25, # needs to be a large number for good volume rendering\n",
    "#    ))\n",
    "#fig.show()"
   ]
  },
  {
   "cell_type": "code",
   "execution_count": 32,
   "metadata": {},
   "outputs": [],
   "source": [
    "#---------------------Data:\n",
    "x2 = (dng.logeff-dng.logeff.mean())/dng.logeff.std()\n",
    "y2 = (dng.logcom-dng.logcom.mean())/dng.logcom.std()\n",
    "z2 = (dng.nplanets-dng.nplanets.mean())/dng.nplanets.std()\n",
    "#z2 = dng.nplanets\n",
    "\n",
    "data2 = np.vstack([x2,y2,z2]).T\n",
    "\n",
    "#---------------------Grid:\n",
    "x2_grid=np.around(np.linspace(x2.min(),x2.max(),30),2)\n",
    "y2_grid=np.linspace(y2.min(),y2.max(),len(x2_grid))\n",
    "z2_grid=np.linspace(z2.min(),z2.max(),len(x2_grid))\n",
    "\n",
    "X2,Y2,Z2 = np.meshgrid(x2_grid, y2_grid, z2_grid)\n",
    "xyz2   = np.vstack([X2.ravel(), Y2.ravel(), Z2.ravel()]).T\n",
    "\n",
    "\n",
    "m=np.abs(np.diff([x2,y2,z2]))        #distance between data\n",
    "var_min=min(m[m>0])\n",
    "\n",
    "#----------------------CV:\n",
    "\n",
    "grid = GridSearchCV(KernelDensity(),\n",
    "                    {'bandwidth': np.linspace(var_min,3*x2.std(),50)},\n",
    "                    cv=20) # 20-fold cross-validation\n",
    "grid.fit(data2)\n",
    "\n",
    "kde3d_2 = grid.best_estimator_\n",
    "pdf3d_2 = np.exp(kde3d_2.score_samples(xyz2)).reshape(Z2.shape) #get the pdf"
   ]
  },
  {
   "cell_type": "code",
   "execution_count": 33,
   "metadata": {},
   "outputs": [
    {
     "data": {
      "text/plain": [
       "268"
      ]
     },
     "execution_count": 33,
     "metadata": {},
     "output_type": "execute_result"
    }
   ],
   "source": [
    "len(data2)"
   ]
  },
  {
   "cell_type": "markdown",
   "metadata": {},
   "source": [
    "A comparative plot, employing `plotly`."
   ]
  },
  {
   "cell_type": "code",
   "execution_count": 34,
   "metadata": {},
   "outputs": [
    {
     "data": {
      "text/plain": [
       "\"\\ndensity_2 = pdf3d_2.ravel()\\n\\nfig = make_subplots(rows=1, cols=2,  \\n                    specs=[[{'type': 'volume'}, {'type': 'volume'}]])\\n\\nfig.add_trace(\\n    \\n    go.Volume(\\n    x=X.flatten(),\\n    y=Y.flatten(),\\n    z=Z.flatten(),\\n    value=density_1.flatten(),\\n    opacity=0.1,     # needs to be small to see through all surfaces\\n    surface_count=25 # needs to be a large number for good volume rendering\\n    ), \\n    row=1, col=1\\n)\\nfig.update_layout(height=500, showlegend=False)\\n\\nfig.add_trace(\\n    \\n    go.Volume(\\n    x=X2.flatten(),\\n    y=Y2.flatten(),\\n    z=Z2.flatten(),\\n    value=density_2.flatten(),\\n    opacity=0.1,     # needs to be small to see through all surfaces\\n    surface_count=25 # needs to be a large number for good volume rendering\\n    ), \\n    row=1, col=2\\n)\\nfig.update_layout(height=500, showlegend=False)\\nfig.show()\\n\""
      ]
     },
     "execution_count": 34,
     "metadata": {},
     "output_type": "execute_result"
    }
   ],
   "source": [
    "import plotly.graph_objects as go\n",
    "from plotly.subplots import make_subplots\n",
    "'''\n",
    "density_2 = pdf3d_2.ravel()\n",
    "\n",
    "fig = make_subplots(rows=1, cols=2,  \n",
    "                    specs=[[{'type': 'volume'}, {'type': 'volume'}]])\n",
    "\n",
    "fig.add_trace(\n",
    "    \n",
    "    go.Volume(\n",
    "    x=X.flatten(),\n",
    "    y=Y.flatten(),\n",
    "    z=Z.flatten(),\n",
    "    value=density_1.flatten(),\n",
    "    opacity=0.1,     # needs to be small to see through all surfaces\n",
    "    surface_count=25 # needs to be a large number for good volume rendering\n",
    "    ), \n",
    "    row=1, col=1\n",
    ")\n",
    "fig.update_layout(height=500, showlegend=False)\n",
    "\n",
    "fig.add_trace(\n",
    "    \n",
    "    go.Volume(\n",
    "    x=X2.flatten(),\n",
    "    y=Y2.flatten(),\n",
    "    z=Z2.flatten(),\n",
    "    value=density_2.flatten(),\n",
    "    opacity=0.1,     # needs to be small to see through all surfaces\n",
    "    surface_count=25 # needs to be a large number for good volume rendering\n",
    "    ), \n",
    "    row=1, col=2\n",
    ")\n",
    "fig.update_layout(height=500, showlegend=False)\n",
    "fig.show()\n",
    "'''"
   ]
  },
  {
   "cell_type": "markdown",
   "metadata": {},
   "source": [
    "## Multidimensional case\n",
    "\n",
    "It is time to obtain the bw and the PDF for any dimensionality. At this point, we use the `GridSearchCV` for the `KernelDensity` method, to obtain the ideal bw and the PDF function. \n",
    "\n",
    "The search vector has the same the same spirit: an initial value which is the minimum disntance betweeen the data and 3 times the standard deviation of our normalized data. Finally, the number of steps in the search vector is taken as the ideal for the optimal score of `KernelDensity`. \n",
    "\n",
    "Again, we will use as the best splitting strategy in cross validation cv$=10$."
   ]
  },
  {
   "cell_type": "code",
   "execution_count": 35,
   "metadata": {},
   "outputs": [],
   "source": [
    "class multidim_bw(object):\n",
    "\n",
    "    def __init__(self, *args):\n",
    "        \n",
    "        self.dim = len(args)\n",
    "        dx, length, deciamls = .2, 30, 2  # some constants for the grid of space\n",
    "        self.diffmin, self.var_grids, self.var_values  = [], [], [] \n",
    "        self.means, self.stds = [],[]       # original values of mean and std.\n",
    "        \n",
    "        self.var_grids2 = []\n",
    "        \n",
    "        for i in range(len(args)):        \n",
    "            self.means.append(args[i].values.mean())\n",
    "            self.stds.append(args[i].values.std())\n",
    "            \n",
    "            # standarization:\n",
    "            self.x = (args[i].values - self.means[i]) / self.stds[i] \n",
    "            self.var_values.append(self.x)\n",
    "            # grids:\n",
    "            self.var_grids.append(np.around(np.linspace(self.x.min()-dx,\n",
    "                                                        self.x.max()+dx,\n",
    "                                                        length),deciamls))\n",
    "            self.var_grids2.append(np.around(np.linspace(args[i].values.min()-dx,\n",
    "                                                         args[i].values.max()+dx,\n",
    "                                                         length),deciamls))\n",
    "            # Distance between data (dx):\n",
    "            m = np.abs(np.diff(self.x))     \n",
    "            self.diffmin.append(min(m[m>0]))\n",
    "            \n",
    "        self.data   = np.vstack([*self.var_values]).T \n",
    "        \n",
    "        self.n_grid = np.meshgrid(*self.var_grids) #PROBLEM MEMORY FOR 5D,6D... nD.\n",
    "        self.n_grid2 = np.meshgrid(*self.var_grids2) #PROBLEM MEMORY FOR 5D,6D... nD.\n",
    "        #self.n_grid = np.meshgrid(*self.var_grids2) #PROBLEM MEMORY FOR 5D,6D... nD.\n",
    "        \n",
    "        # It generates the space for the pdf\n",
    "        ll = [self.n_grid[i].ravel() for i in range(len(self.n_grid))]\n",
    "        ll_2 = [self.n_grid2[i].ravel() for i in range(len(self.n_grid2))]\n",
    "\n",
    "        self.space  = np.vstack([*ll]).T   \n",
    "        self.space2  = np.vstack([*ll_2]).T   \n",
    "\n",
    "    def pdf_ndim(self):\n",
    "        ideal=50\n",
    "        self.grid = GridSearchCV(KernelDensity(),\n",
    "                                 {'bandwidth': np.linspace(min(self.diffmin), \n",
    "                                                           3*self.x.std(),\n",
    "                                                           ideal)}, cv=10)\n",
    "        self.grid.fit(self.data)\n",
    "        self.ndim_bw  = self.grid.best_estimator_.bandwidth\n",
    "        \n",
    "        self.pdf_std = np.exp(self.grid.best_estimator_.score_samples(self.space))#.reshape(self.n_grid[0].shape))  #get the pdf\n",
    "        self.ndim_pdf = self.pdf_std.reshape(self.n_grid[0].shape)"
   ]
  },
  {
   "cell_type": "code",
   "execution_count": 36,
   "metadata": {},
   "outputs": [],
   "source": [
    "ex2 = multidim_bw(dng.logeff, dng.logcom, dng.nplanets)\n",
    "ex2.pdf_ndim()"
   ]
  },
  {
   "cell_type": "code",
   "execution_count": 37,
   "metadata": {},
   "outputs": [
    {
     "data": {
      "text/plain": [
       "[0.8095864069754978, 0.664937629029433, 3.0335683207265873]"
      ]
     },
     "execution_count": 37,
     "metadata": {},
     "output_type": "execute_result"
    }
   ],
   "source": [
    "ex2.stds"
   ]
  },
  {
   "cell_type": "markdown",
   "metadata": {},
   "source": [
    "Let's to change the space to the variable space. To do this, we make the inverse process of standarization:"
   ]
  },
  {
   "cell_type": "code",
   "execution_count": 38,
   "metadata": {},
   "outputs": [
    {
     "data": {
      "text/plain": [
       "array([[2.36249533e-07, 2.71753807e-07, 1.07410214e-07],\n",
       "       [1.45874973e-08, 6.80740024e-10, 9.43087897e-12],\n",
       "       [6.87229835e-14, 7.97481427e-14, 1.73027996e-13],\n",
       "       ...,\n",
       "       [5.58585956e-11, 1.17101951e-11, 9.37586706e-13],\n",
       "       [2.59200680e-14, 2.46285691e-16, 8.05733228e-19],\n",
       "       [1.30108246e-20, 3.10761680e-20, 2.74054052e-20]])"
      ]
     },
     "execution_count": 38,
     "metadata": {},
     "output_type": "execute_result"
    }
   ],
   "source": [
    "#reshape the standar pdf\n",
    "pdf_std = ex2.pdf_std.reshape(int(len(ex2.space)/ex2.dim), ex2.dim)\n",
    "pdf_std"
   ]
  },
  {
   "cell_type": "code",
   "execution_count": 39,
   "metadata": {},
   "outputs": [
    {
     "data": {
      "text/plain": [
       "array([[  1.73672292,   0.01524128, -11.39925341],\n",
       "       [  1.73672274,   0.0152411 , -11.39925373],\n",
       "       [  1.73672273,   0.0152411 , -11.39925373],\n",
       "       ...,\n",
       "       [  1.73672273,   0.0152411 , -11.39925373],\n",
       "       [  1.73672273,   0.0152411 , -11.39925373],\n",
       "       [  1.73672273,   0.0152411 , -11.39925373]])"
      ]
     },
     "execution_count": 39,
     "metadata": {},
     "output_type": "execute_result"
    }
   ],
   "source": [
    "#original pdf\n",
    "pdf_original = (pdf_std*ex2.stds)-ex2.means\n",
    "pdf_original"
   ]
  },
  {
   "cell_type": "code",
   "execution_count": 40,
   "metadata": {},
   "outputs": [],
   "source": [
    "pdf_original = ex2.pdf_std.reshape(int(len(ex2.space)/ex2.dim), ex2.dim) \n",
    "pdf_original = (pdf_original*ex2.stds)-ex2.means\n",
    "AA = pdf_original.ravel()"
   ]
  },
  {
   "cell_type": "code",
   "execution_count": 41,
   "metadata": {},
   "outputs": [],
   "source": [
    "#fig = go.Figure(data=go.Volume(\n",
    "#    x=ex2.n_grid2[0].flatten(),\n",
    "#    y=ex2.n_grid2[1].flatten(),\n",
    "#    z=ex2.n_grid2[2].flatten(),\n",
    "#    value=AA.flatten(),\n",
    "#    opacity=0.1, # needs to be small to see through all surfaces\n",
    "#    surface_count=30, # needs to be a large number for good volume rendering\n",
    "#    ))\n",
    "#fig.show()"
   ]
  },
  {
   "cell_type": "markdown",
   "metadata": {},
   "source": [
    "My solution, apply the bandwidth obteined from the standarized space, but converted to the original space and make `KernelDensity`, with the original data and this bandwidth. Then, calculate the pdf for a grid in the original space"
   ]
  },
  {
   "cell_type": "code",
   "execution_count": 42,
   "metadata": {},
   "outputs": [],
   "source": [
    "BW_3d = ex2.ndim_bw*max(ex2.stds)"
   ]
  },
  {
   "cell_type": "code",
   "execution_count": 43,
   "metadata": {},
   "outputs": [],
   "source": [
    "data = np.vstack([dng.logeff, dng.logcom, dng.nplanets]).T\n",
    "\n",
    "kde = KernelDensity(bandwidth=BW_3d).fit(data) \n",
    "\n",
    "PDF = np.exp(kde.score_samples(ex2.space2))"
   ]
  },
  {
   "cell_type": "code",
   "execution_count": 44,
   "metadata": {},
   "outputs": [],
   "source": [
    "#fig = go.Figure(data=go.Volume(\n",
    "#    x=ex2.n_grid2[0].flatten(),\n",
    "#    y=ex2.n_grid2[1].flatten(),\n",
    "#    z=ex2.n_grid2[2].flatten(),\n",
    "#    value=PDF.flatten(),\n",
    "#    opacity=0.1, # needs to be small to see through all surfaces\n",
    "#    surface_count=30, # needs to be a large number for good volume rendering\n",
    "#    ))\n",
    "#fig.show()"
   ]
  },
  {
   "cell_type": "markdown",
   "metadata": {},
   "source": [
    "Due to call `numpy.meshgrid` requires a lot of memory, a n_dimentional grid will require a lot of  memory tooa and will produce a **MemoryError**, for that reason we only get the pdf for 3-dimentions. \n",
    "\n",
    "therfore, we determine the \"functional\" form of our pdf through `GridSearchCV.fit()`. Then, we determine a pdf for variables that we know using `numpy.exp(GridSearchCV.best_estimator_.score_samples(xxxx))`, where `xxxx` represents the known data. This way to work is the same as if we marginalize the n_dimentional pdf  over the unknown variables. "
   ]
  },
  {
   "cell_type": "code",
   "execution_count": 45,
   "metadata": {
    "scrolled": false
   },
   "outputs": [
    {
     "name": "stdout",
     "output_type": "stream",
     "text": [
      "CPU times: user 3.72 ms, sys: 13 µs, total: 3.74 ms\n",
      "Wall time: 3.27 ms\n"
     ]
    }
   ],
   "source": [
    "%%time\n",
    "ex2 = multidim_bw(dng.logeff, dng.logcom, dng.nplanets)#, dng.metal, dng.massefficiency)"
   ]
  },
  {
   "cell_type": "markdown",
   "metadata": {},
   "source": [
    "As a result we have the same information that "
   ]
  },
  {
   "cell_type": "code",
   "execution_count": 46,
   "metadata": {
    "scrolled": false
   },
   "outputs": [],
   "source": [
    "#fig = go.Figure(data=go.Volume(\n",
    "#    x=ex3.n_grid[0].flatten(),\n",
    "#    y=ex3.n_grid[1].flatten(),\n",
    "#    z=ex3.n_grid[2].flatten(),\n",
    "#    value=ex3.ndim_pdf.flatten(),\n",
    "#    opacity=0.1, # needs to be small to see through all surfaces\n",
    "#    surface_count=30, # needs to be a large number for good volume rendering\n",
    "#    ))\n",
    "#fig.show()"
   ]
  },
  {
   "cell_type": "markdown",
   "metadata": {},
   "source": [
    "# Posterior distribution and Marginalization"
   ]
  },
  {
   "cell_type": "markdown",
   "metadata": {},
   "source": [
    "Let's study  the prior distribution and the respective marginalization of an interest variable. To do this, we employ the observations as prior information, as likelihoog, we take the pdf obtained from `KernelDensity` and the bandwidth problem. The respective product will be the posterior distribution. "
   ]
  },
  {
   "cell_type": "code",
   "execution_count": 47,
   "metadata": {},
   "outputs": [],
   "source": [
    "dim = 30 "
   ]
  },
  {
   "cell_type": "code",
   "execution_count": 48,
   "metadata": {},
   "outputs": [],
   "source": [
    "example = multidim_bw(dng.logeff, dng.logcom, dng.nplanets)\n",
    "example.pdf_ndim()"
   ]
  },
  {
   "cell_type": "code",
   "execution_count": 49,
   "metadata": {},
   "outputs": [],
   "source": [
    "BW_example = example.ndim_bw*max(example.stds)\n",
    "\n",
    "data_example = np.vstack([dng.logeff, dng.logcom, dng.nplanets]).T\n",
    "\n",
    "kde_example = KernelDensity(bandwidth=BW_example).fit(data_example) \n",
    "\n",
    "PDF_example = np.exp(kde_example.score_samples(example.space2))"
   ]
  },
  {
   "cell_type": "code",
   "execution_count": 50,
   "metadata": {},
   "outputs": [
    {
     "name": "stdout",
     "output_type": "stream",
     "text": [
      "(30, 30, 30)\n"
     ]
    }
   ],
   "source": [
    "likelihood = PDF_example.reshape(example.n_grid2[0].shape) \n",
    "\n",
    "print(likelihood.shape)\n",
    "#print(example.pdf_ndim().ndim_bw)"
   ]
  },
  {
   "cell_type": "markdown",
   "metadata": {},
   "source": [
    "As prior we define a noise 2d matrix"
   ]
  },
  {
   "cell_type": "code",
   "execution_count": 51,
   "metadata": {},
   "outputs": [],
   "source": [
    "prior = np.eye(dim,dim)"
   ]
  },
  {
   "cell_type": "markdown",
   "metadata": {},
   "source": [
    "The posterior is proportonal to the product of: "
   ]
  },
  {
   "cell_type": "code",
   "execution_count": 52,
   "metadata": {
    "scrolled": true
   },
   "outputs": [],
   "source": [
    "posterior=likelihood*prior\n",
    "\n",
    "#fig = go.Figure(data=go.Volume(\n",
    "#    x=example.n_grid[0].flatten(),\n",
    "#    y=example.n_grid[1].flatten(),\n",
    "#    z=example.n_grid[2].flatten(),\n",
    "#    value=posterior.flatten(),\n",
    "#    opacity=0.1, # needs to be small to see through all surfaces\n",
    "#    surface_count=30, # needs to be a large number for good volume rendering\n",
    "#    ))\n",
    "#fig.show()"
   ]
  },
  {
   "cell_type": "markdown",
   "metadata": {},
   "source": [
    "Then we take the sum over other variables which are not of interest "
   ]
  },
  {
   "cell_type": "code",
   "execution_count": 53,
   "metadata": {},
   "outputs": [
    {
     "data": {
      "text/plain": [
       "[<matplotlib.lines.Line2D at 0x7f46161b5f40>]"
      ]
     },
     "execution_count": 53,
     "metadata": {},
     "output_type": "execute_result"
    },
    {
     "data": {
      "image/png": "[encoded data removed]",
      "text/plain": [
       "<Figure size 432x288 with 1 Axes>"
      ]
     },
     "metadata": {
      "needs_background": "light"
     },
     "output_type": "display_data"
    }
   ],
   "source": [
    "post = np.sum(np.sum(posterior, axis=0), axis=0)\n",
    "plt.plot(post)"
   ]
  },
  {
   "cell_type": "code",
   "execution_count": 54,
   "metadata": {},
   "outputs": [],
   "source": [
    "#post_2=np.einsum('xyz,xy->z',likelihood, prior)"
   ]
  },
  {
   "cell_type": "code",
   "execution_count": 55,
   "metadata": {},
   "outputs": [],
   "source": [
    "#ex = optimal_bw(dng.nplanets)#dng.logeff, dng.com, dng.metal\n",
    "#ex.cv_pdf();ex.kde_pdf()\n",
    "#pdf1D_std(ex)"
   ]
  },
  {
   "cell_type": "markdown",
   "metadata": {},
   "source": [
    "Now we make a new class for obtain the bandwidth $bw$ in the standarized space, then pass it to the variable space and make the pdf employing `KernelDensity`."
   ]
  },
  {
   "cell_type": "code",
   "execution_count": 56,
   "metadata": {},
   "outputs": [
    {
     "ename": "IndentationError",
     "evalue": "unexpected indent (<ipython-input-56-ebea4fc952c9>, line 45)",
     "output_type": "error",
     "traceback": [
      "\u001b[0;36m  File \u001b[0;32m\"<ipython-input-56-ebea4fc952c9>\"\u001b[0;36m, line \u001b[0;32m45\u001b[0m\n\u001b[0;31m    ll_2 = [self.n_grid2[i].ravel() for i in range(len(self.n_grid2))]\u001b[0m\n\u001b[0m    ^\u001b[0m\n\u001b[0;31mIndentationError\u001b[0m\u001b[0;31m:\u001b[0m unexpected indent\n"
     ]
    }
   ],
   "source": [
    "class optimal_pdf(object):\n",
    "\n",
    "    def __init__(self, *args):\n",
    "        \n",
    "        self.dim  = len(args)\n",
    "        self.data = np.vstack([*args]).T\n",
    "        #Standarization\n",
    "        self.data_std = (self.data-np.mean(self.data, axis=0))\\\n",
    "                        /np.std(self.data, axis=0)\n",
    "    \n",
    "    def bw(self):\n",
    "        # Variables:\n",
    "        lenght, size, deciamls, ds , cv = 50, 30, 2, .2, 10  \n",
    "    \n",
    "        # Grids:\n",
    "        self.std_grids = []             \n",
    "        for i in range(self.dim):\n",
    "            self.std_grids.append(np.around(np.linspace(self.data_std[:,i].min()-ds,\n",
    "                                                        self.data_std[:,i].max()+ds,\n",
    "                                                        size),deciamls))\n",
    "        n_grid = np.meshgrid(*self.std_grids) #PROBLEM MEMORY FOR 5D,6D... nD.\n",
    "        \n",
    "        #bandwidth_std\n",
    "        V_search = {'bandwidth':np.linspace(abs(self.data_std).min(), \n",
    "                                            3*self.data_std.std(), lenght)}\n",
    "        \n",
    "        grid_std = GridSearchCV(KernelDensity(),V_search, cv = cv).fit(self.data_std)\n",
    "        bw_std  = grid_std.best_estimator_.bandwidth\n",
    "        \n",
    "        #bandwidth_real\n",
    "        self.bw = bw_std*abs(np.std(self.data, axis=0)).max()\n",
    "        \n",
    "        return self.bw\n",
    "    \n",
    "    def pdf(self):\n",
    "        \n",
    "        ideal= 5; self.bw()\n",
    "        kde  = KernelDensity(bandwidth=self.bw).fit(self.data) \n",
    "        \n",
    "        self.pdf = np.exp(kde.score_samples(example.space2))\n",
    "                            \n",
    "    \n",
    "    \n",
    "    ll = [self.n_grid[i].ravel() for i in range(len(self.n_grid))]\n",
    "        ll_2 = [self.n_grid2[i].ravel() for i in range(len(self.n_grid2))]\n",
    "\n",
    "        self.space  = np.vstack([*ll]).T   \n",
    "        self.space2  = np.vstack([*ll_2]).T   \n",
    "    \n",
    "    \n",
    "    \n",
    "    \n",
    "    \n",
    "    \n",
    "    '''     \n",
    "    self.grid = GridSearchCV(KernelDensity(),\n",
    "                                 {'bandwidth': np.linspace(min(self.diffmin), \n",
    "                                                           3*self.x.std(),\n",
    "                                                           ideal)}, cv=10)\n",
    "        self.grid.fit(self.data)\n",
    "        self.ndim_bw  = self.grid.best_estimator_.bandwidth\n",
    "        \n",
    "        self.pdf_std = np.exp(self.grid.best_estimator_.score_samples(self.space))#.reshape(self.n_grid[0].shape))  #get the pdf\n",
    "        self.ndim_pdf = self.pdf_std.reshape(self.n_grid[0].shape)\n",
    "        \n",
    "        \n",
    "        \n",
    "            self.var_grids2.append(np.around(np.linspace(args[i].values.min()-dx,\n",
    "                                                         args[i].values.max()+dx,\n",
    "                                                         length),deciamls))\n",
    "            # Distance between data (dx):\n",
    "            m = np.abs(np.diff(self.x))     \n",
    "            self.diffmin.append(min(m[m>0]))\n",
    "            \n",
    "        self.data   = np.vstack([*self.var_values]).T \n",
    "        \n",
    "        self.n_grid = np.meshgrid(*self.var_grids) #PROBLEM MEMORY FOR 5D,6D... nD.\n",
    "        self.n_grid2 = np.meshgrid(*self.var_grids2) #PROBLEM MEMORY FOR 5D,6D... nD.\n",
    "        #self.n_grid = np.meshgrid(*self.var_grids2) #PROBLEM MEMORY FOR 5D,6D... nD.\n",
    "        \n",
    "        # It generates the space for the pdf\n",
    "        ll = [self.n_grid[i].ravel() for i in range(len(self.n_grid))]\n",
    "        ll_2 = [self.n_grid2[i].ravel() for i in range(len(self.n_grid2))]\n",
    "\n",
    "        self.space  = np.vstack([*ll]).T   \n",
    "        self.space2  = np.vstack([*ll_2]).T   \n",
    "    \n",
    "       \n",
    "    def bw(self):\n",
    "        lenght  = 50\n",
    "        V_serch = {'bandwidth':np.linspace(min(self.diffmin), 3*self.x.std(), lenght)}\n",
    "        self.grid_std\n",
    "        \n",
    "        self.grid.fit(self.data)\n",
    "    \n",
    "        \n",
    "    def pdf(self):\n",
    "        ideal=50\n",
    "        self.grid = GridSearchCV(KernelDensity(),\n",
    "                                 {'bandwidth': np.linspace(min(self.diffmin), \n",
    "                                                           3*self.x.std(),\n",
    "                                                           ideal)}, cv=10)\n",
    "        self.grid.fit(self.data)\n",
    "        self.ndim_bw  = self.grid.best_estimator_.bandwidth\n",
    "        \n",
    "        self.pdf_std = np.exp(self.grid.best_estimator_.score_samples(self.space))#.reshape(self.n_grid[0].shape))  #get the pdf\n",
    "        self.ndim_pdf = self.pdf_std.reshape(self.n_grid[0].shape)\n",
    "        ''' "
   ]
  },
  {
   "cell_type": "code",
   "execution_count": null,
   "metadata": {},
   "outputs": [],
   "source": [
    "AA = optimal_pdf(dng.logcom)\n",
    "AA.bw()"
   ]
  },
  {
   "cell_type": "code",
   "execution_count": null,
   "metadata": {},
   "outputs": [],
   "source": [
    "AA.std_grids"
   ]
  },
  {
   "cell_type": "code",
   "execution_count": null,
   "metadata": {},
   "outputs": [],
   "source": [
    "class multidim_bw(object):\n",
    "\n",
    "    def __init__(self, *args):\n",
    "        \n",
    "        self.dim = len(args)\n",
    "        dx, length, deciamls = .2, 60, 2  # some constants for the grid of space\n",
    "        self.diffmin, self.var_grids, self.var_values  = [], [], [] \n",
    "        self.means, self.stds = [],[]       # original values of mean and std.\n",
    "        \n",
    "        self.var_grids2 = []\n",
    "        \n",
    "        for i in range(len(args)):        \n",
    "            self.means.append(args[i].values.mean())\n",
    "            self.stds.append(args[i].values.std())\n",
    "            \n",
    "            # standarization:\n",
    "            self.x = (args[i].values - self.means[i]) / self.stds[i] \n",
    "            self.var_values.append(self.x)\n",
    "            # grids:\n",
    "            self.var_grids.append(np.around(np.linspace(self.x.min()-dx,\n",
    "                                                        self.x.max()+dx,\n",
    "                                                        length),deciamls))\n",
    "            self.var_grids2.append(np.around(np.linspace(args[i].values.min()-dx,\n",
    "                                                         args[i].values.max()+dx,\n",
    "                                                         length),deciamls))\n",
    "            # Distance between data (dx):\n",
    "            m = np.abs(np.diff(self.x))     \n",
    "            self.diffmin.append(min(m[m>0]))\n",
    "            \n",
    "        self.data   = np.vstack([*self.var_values]).T \n",
    "        \n",
    "        self.n_grid = np.meshgrid(*self.var_grids) #PROBLEM MEMORY FOR 5D,6D... nD.\n",
    "        self.n_grid2 = np.meshgrid(*self.var_grids2) #PROBLEM MEMORY FOR 5D,6D... nD.\n",
    "        #self.n_grid = np.meshgrid(*self.var_grids2) #PROBLEM MEMORY FOR 5D,6D... nD.\n",
    "        \n",
    "        # It generates the space for the pdf\n",
    "        ll = [self.n_grid[i].ravel() for i in range(len(self.n_grid))]\n",
    "        ll_2 = [self.n_grid2[i].ravel() for i in range(len(self.n_grid2))]\n",
    "\n",
    "        self.space  = np.vstack([*ll]).T   \n",
    "        self.space2  = np.vstack([*ll_2]).T   \n",
    "\n",
    "    def pdf_ndim(self):\n",
    "        ideal=50\n",
    "        self.grid = GridSearchCV(KernelDensity(),\n",
    "                                 {'bandwidth': np.linspace(min(self.diffmin), \n",
    "                                                           3*self.x.std(),\n",
    "                                                           ideal)}, cv=10)\n",
    "        self.grid.fit(self.data)\n",
    "        self.ndim_bw  = self.grid.best_estimator_.bandwidth\n",
    "        \n",
    "        self.pdf_std = np.exp(self.grid.best_estimator_.score_samples(self.space))#.reshape(self.n_grid[0].shape))  #get the pdf\n",
    "        self.ndim_pdf = self.pdf_std.reshape(self.n_grid[0].shape)"
   ]
  },
  {
   "cell_type": "markdown",
   "metadata": {},
   "source": [
    "## Real example \n",
    "For example we take the aviable information of exoplanet system **TRAPPIST-1** as prior information. As likelihoood, the pdf from no preturvations systems, low perturbation systems and high perturbation systems. "
   ]
  },
  {
   "cell_type": "code",
   "execution_count": null,
   "metadata": {
    "scrolled": true
   },
   "outputs": [],
   "source": [
    "data =  pd.read_csv('data/exoplanet.eu_catalog.csv')\n",
    "TRAPPIST_1 = data[data.star_name == \"TRAPPIST-1\"]   \n",
    "TRAPPIST_1.head()"
   ]
  },
  {
   "cell_type": "markdown",
   "metadata": {},
   "source": [
    "Aleatory standarized values for the center of mass and the metallicity of the system **TRAPPIST_1**"
   ]
  },
  {
   "cell_type": "code",
   "execution_count": null,
   "metadata": {},
   "outputs": [],
   "source": [
    "#standarize\n",
    "#Mtp = (TRAPPIST_1.mass-TRAPPIST_1.mass.mean())/TRAPPIST_1.mass_error_min.mean()\n",
    "#TRAPPIST_std =(TRAPPIST_1-TRAPPIST_1.mean())/TRAPPIST_1.std()"
   ]
  },
  {
   "cell_type": "code",
   "execution_count": null,
   "metadata": {},
   "outputs": [],
   "source": [
    "#TRAPPIST_std =(TRAPPIST_1-TRAPPIST_1.mean())/TRAPPIST_1.std()\n",
    "#Mt = TRAPPIST_std.mass.sum()\n",
    "#Metal = TRAPPIST_std.star_metallicity\n",
    "#CoM = (TRAPPIST_std.mass*TRAPPIST_std.semi_major_axis)/Mt\n",
    "#CoM_1 = np.random.normal(CoM.mean(),CoM.std(),(30))\n",
    "#Met = np.random.normal(TRAPPIST_std.star_metallicity.mean(),\n",
    "#                       TRAPPIST_std.star_metallicity_error_min.mean(), (30))"
   ]
  },
  {
   "cell_type": "code",
   "execution_count": null,
   "metadata": {},
   "outputs": [],
   "source": [
    "mean = [TRAPPIST_1.mass.mean(),TRAPPIST_1.star_metallicity.mean()]\n",
    "cov  = [[TRAPPIST_1.mass_error_min.mean(),0],\n",
    "        [0,TRAPPIST_1.star_metallicity_error_min.mean()]]\n",
    "prior_1 = np.random.multivariate_normal(mean, cov, (dim,dim))\n",
    "prior_1.shape"
   ]
  },
  {
   "cell_type": "markdown",
   "metadata": {},
   "source": [
    "However, the `np.random.multivariate_normal`, generates a different shape for data. So let's suppose that we know the functional form of the prior, as the following function shows:"
   ]
  },
  {
   "cell_type": "code",
   "execution_count": null,
   "metadata": {},
   "outputs": [],
   "source": [
    "def bi_norm(x, y, x_mu, x_std, y_mu, y_std):\n",
    "    c = 1/(2*np.pi*x_std*y_std)\n",
    "    return c*np.exp(-((x-x_mu)/x_std)**2-((y-y_mu)/y_std)**2)"
   ]
  },
  {
   "cell_type": "code",
   "execution_count": null,
   "metadata": {},
   "outputs": [],
   "source": [
    "x = np.linspace(-3*TRAPPIST_1.mass_error_min.mean(),3*TRAPPIST_1.mass_error_min.mean(),dim)\n",
    "y = np.linspace(-3*TRAPPIST_1.star_metallicity_error_min.mean(),\n",
    "                3*TRAPPIST_1.star_metallicity_error_min.mean(),dim)\n",
    "\n",
    "X,Y=np.meshgrid(x,y)"
   ]
  },
  {
   "cell_type": "markdown",
   "metadata": {},
   "source": [
    "As a result we get the prior"
   ]
  },
  {
   "cell_type": "code",
   "execution_count": null,
   "metadata": {},
   "outputs": [],
   "source": [
    "#Falta marginalizar \n",
    "\n",
    "prior_2 = bi_norm(X,Y,\n",
    "                  TRAPPIST_1.mass.mean(),\n",
    "                  TRAPPIST_1.mass_error_min.mean(),\n",
    "                  TRAPPIST_1.star_metallicity.mean(),\n",
    "                  TRAPPIST_1.star_metallicity_error_min.mean())\n",
    "\n",
    "prior_2.shape"
   ]
  },
  {
   "cell_type": "markdown",
   "metadata": {},
   "source": [
    "Now the likelihood:"
   ]
  },
  {
   "cell_type": "code",
   "execution_count": null,
   "metadata": {},
   "outputs": [],
   "source": [
    "#like = multidim_bw(dng.com, dng.metal, dng.ms)\n",
    "#like.pdf_ndim()\n",
    "likelihood_2 = PDF.reshape(ex2.n_grid[0].shape) "
   ]
  },
  {
   "cell_type": "code",
   "execution_count": null,
   "metadata": {
    "scrolled": false
   },
   "outputs": [],
   "source": [
    "#fig = go.Figure(data=go.Volume(\n",
    "#    x=like.n_grid[0].flatten(),\n",
    "#    y=like.n_grid[1].flatten(),\n",
    "#    z=like.n_grid[2].flatten(),\n",
    "#    value=likelihood_2.flatten(),\n",
    "#    opacity=0.1, # needs to be small to see through all surfaces\n",
    "#    surface_count=30, # needs to be a large number for good volume rendering\n",
    "#    ))\n",
    "#fig.show()"
   ]
  },
  {
   "cell_type": "markdown",
   "metadata": {},
   "source": [
    "The posterior"
   ]
  },
  {
   "cell_type": "code",
   "execution_count": null,
   "metadata": {
    "scrolled": true
   },
   "outputs": [],
   "source": [
    "posterior_2 = likelihood_2*prior_2\n",
    "\n",
    "#fig = go.Figure(data=go.Volume(\n",
    "#    x=like.n_grid[0].flatten(),\n",
    "#    y=like.n_grid[1].flatten(),\n",
    "#    z=like.n_grid[2].flatten(),\n",
    "#    value=posterior_2.flatten(),\n",
    "#    opacity=0.1, # needs to be small to see through all surfaces\n",
    "#    surface_count=30, # needs to be a large number for good volume rendering\n",
    "#    ))\n",
    "#fig.show()"
   ]
  },
  {
   "cell_type": "markdown",
   "metadata": {},
   "source": [
    "The marginal distribution over the mass disk"
   ]
  },
  {
   "cell_type": "code",
   "execution_count": null,
   "metadata": {},
   "outputs": [],
   "source": [
    "#Marginal_md=np.einsum('xyz,xy->z',likelihood_2, prior_2)\n",
    "#plt.plot(Marginal_md)#, kde_kws={\"bw\":0.309})"
   ]
  },
  {
   "cell_type": "code",
   "execution_count": null,
   "metadata": {},
   "outputs": [],
   "source": [
    "marginal_md = np.sum(np.sum(posterior_2, axis=0), axis=1)\n",
    "#sns.distplot(marginal_md, hist=False)\n",
    "plt.plot(marginal_md)"
   ]
  },
  {
   "cell_type": "code",
   "execution_count": null,
   "metadata": {},
   "outputs": [],
   "source": []
  },
  {
   "cell_type": "code",
   "execution_count": null,
   "metadata": {},
   "outputs": [],
   "source": []
  },
  {
   "cell_type": "code",
   "execution_count": null,
   "metadata": {},
   "outputs": [],
   "source": []
  },
  {
   "cell_type": "code",
   "execution_count": null,
   "metadata": {},
   "outputs": [],
   "source": []
  }
 ],
 "metadata": {
  "kernelspec": {
   "display_name": "Python 3",
   "language": "python",
   "name": "python3"
  },
  "language_info": {
   "codemirror_mode": {
    "name": "ipython",
    "version": 3
   },
   "file_extension": ".py",
   "mimetype": "text/x-python",
   "name": "python",
   "nbconvert_exporter": "python",
   "pygments_lexer": "ipython3",
   "version": "3.8.3"
  }
 },
 "nbformat": 4,
 "nbformat_minor": 4
}
