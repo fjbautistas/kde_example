{
 "cells": [
  {
   "cell_type": "markdown",
   "metadata": {},
   "source": [
    "#  How to obtain ideal Bandwidths\n",
    "\n",
    "Based on kde_tutorial from https://notebooks.gesis.org/binder/jupyter/user/saint-germain-p-ation_synthesis-uu00810x/tree/prep\n",
    "\n",
    "### Libraries and data\n",
    "The data trataiment:"
   ]
  },
  {
   "cell_type": "code",
   "execution_count": 1,
   "metadata": {},
   "outputs": [],
   "source": [
    "from sklearn.neighbors import KernelDensity\n",
    "from sklearn.model_selection import GridSearchCV\n",
    "from scipy.stats import gaussian_kde"
   ]
  },
  {
   "cell_type": "code",
   "execution_count": 2,
   "metadata": {},
   "outputs": [],
   "source": [
    "import numpy as np\n",
    "import pandas as pd\n",
    "import seaborn as sns\n",
    "import matplotlib.pyplot as plt\n",
    "%matplotlib inline"
   ]
  },
  {
   "cell_type": "code",
   "execution_count": 3,
   "metadata": {},
   "outputs": [],
   "source": [
    "import warnings\n",
    "warnings.simplefilter('ignore')"
   ]
  },
  {
   "cell_type": "code",
   "execution_count": 4,
   "metadata": {},
   "outputs": [],
   "source": [
    "dn=pd.read_csv('proc_no_pert.csv',index_col=None) #without pertubtations \n",
    "dn[\"gia\"]=dn.ngi>0\n",
    "dl=pd.read_csv('proc_lo_pert.csv',index_col=None) #with low pertubtations \n",
    "dl[\"gia\"]=dl.ngi>0\n",
    "dh=pd.read_csv('proc_hi_pert.csv',index_col=None) #with high pertubtations \n",
    "dh[\"gia\"]=dh.ngi>0"
   ]
  },
  {
   "cell_type": "code",
   "execution_count": 5,
   "metadata": {},
   "outputs": [],
   "source": [
    "#Terrestrial\n",
    "dnt=dn[~dn[\"gia\"]] # without pertubtations \n",
    "dlt=dl[~dl[\"gia\"]] # low pertubtations \n",
    "dht=dh[~dh[\"gia\"]] # high pertubtations \n",
    "\n",
    "#Giant \n",
    "dng=dn[dn[\"gia\"]]  # without pertubtations \n",
    "dlg=dl[dl[\"gia\"]]  # low pertubtations \n",
    "dhg=dh[dh[\"gia\"]]  # high without pertubtations "
   ]
  },
  {
   "cell_type": "code",
   "execution_count": 6,
   "metadata": {},
   "outputs": [
    {
     "name": "stdout",
     "output_type": "stream",
     "text": [
      "***************************************\n",
      "Total systems                  : 1221\n",
      "***************************************\n",
      "Total planets - no             : 15887\n",
      "Giant planets - no             : 330\n",
      "Systems with giant planets - no: 268\n",
      "***************************************\n",
      "Total planets - lo             : 15732\n",
      "Giant planets - lo             : 374\n",
      "Systems with giant planets - lo: 306\n",
      "***************************************\n",
      "Total planets - hi             : 15441\n",
      "Giant planets - hi             : 388\n",
      "Systems with giant planets - hi: 309\n"
     ]
    }
   ],
   "source": [
    "print(\"***************************************\")\n",
    "print(\"Total systems                  : \"+str(len(dn)))\n",
    "print(\"***************************************\")\n",
    "print(\"Total planets - no             : \"+str(dn.nplanets.sum().astype(int)))\n",
    "print(\"Giant planets - no             : \"+str(dn.ngi.sum().astype(int)))\n",
    "print(\"Systems with giant planets - no: \"+str(dn.gia.sum()))\n",
    "print(\"***************************************\")\n",
    "\n",
    "print(\"Total planets - lo             : \"+str(dl.nplanets.sum().astype(int)))\n",
    "print(\"Giant planets - lo             : \"+str(dl.ngi.sum().astype(int)))\n",
    "print(\"Systems with giant planets - lo: \"+str(dl.gia.sum()))\n",
    "print(\"***************************************\")\n",
    "print(\"Total planets - hi             : \"+str(dh.nplanets.sum().astype(int)))\n",
    "print(\"Giant planets - hi             : \"+str(dh.ngi.sum().astype(int)))\n",
    "print(\"Systems with giant planets - hi: \"+str(dh.gia.sum()))"
   ]
  },
  {
   "cell_type": "markdown",
   "metadata": {},
   "source": [
    "Some important variables: "
   ]
  },
  {
   "cell_type": "code",
   "execution_count": 7,
   "metadata": {},
   "outputs": [],
   "source": [
    "#log_10 of mass efficiency and center of mass\n",
    "#log_10 mass efficiency giant and terrestrial \n",
    "dng['logeff']=np.log10(dng.massefficiency)\n",
    "dlg['logeff']=np.log10(dlg.massefficiency)\n",
    "dhg['logeff']=np.log10(dhg.massefficiency)\n",
    "dnt['logeff']=np.log10(dnt.massefficiency)\n",
    "dlt['logeff']=np.log10(dlt.massefficiency)\n",
    "dht['logeff']=np.log10(dht.massefficiency)#\n",
    "#log_10 total mass efficiency\n",
    "dn['logeff']=np.log10(dn.massefficiency)\n",
    "dl['logeff']=np.log10(dl.massefficiency)\n",
    "dh['logeff']=np.log10(dh.massefficiency)\n",
    "\n",
    "#log_10 total com\n",
    "dn['logcom']=np.log10(dn.com)\n",
    "dl['logcom']=np.log10(dl.com)\n",
    "dh['logcom']=np.log10(dh.com)\n",
    "\n",
    "#log_10 com giant and terrestrial \n",
    "dng['logcom']=np.log10(dng.com)\n",
    "dlg['logcom']=np.log10(dlg.com)\n",
    "dhg['logcom']=np.log10(dhg.com)\n",
    "dnt['logcom']=np.log10(dnt.com)\n",
    "dlt['logcom']=np.log10(dlt.com)\n",
    "dht['logcom']=np.log10(dht.com)"
   ]
  },
  {
   "cell_type": "code",
   "execution_count": 8,
   "metadata": {
    "scrolled": false
   },
   "outputs": [
    {
     "data": {
      "text/html": [
       "<div>\n",
       "<style scoped>\n",
       "    .dataframe tbody tr th:only-of-type {\n",
       "        vertical-align: middle;\n",
       "    }\n",
       "\n",
       "    .dataframe tbody tr th {\n",
       "        vertical-align: top;\n",
       "    }\n",
       "\n",
       "    .dataframe thead th {\n",
       "        text-align: right;\n",
       "    }\n",
       "</style>\n",
       "<table border=\"1\" class=\"dataframe\">\n",
       "  <thead>\n",
       "    <tr style=\"text-align: right;\">\n",
       "      <th></th>\n",
       "      <th>Unnamed: 0</th>\n",
       "      <th>ident</th>\n",
       "      <th>com</th>\n",
       "      <th>nplanets</th>\n",
       "      <th>massbudget</th>\n",
       "      <th>massefficiency</th>\n",
       "      <th>sigmag0</th>\n",
       "      <th>md</th>\n",
       "      <th>rc</th>\n",
       "      <th>ms</th>\n",
       "      <th>metal</th>\n",
       "      <th>taugas</th>\n",
       "      <th>qest</th>\n",
       "      <th>ngi</th>\n",
       "      <th>mtr</th>\n",
       "      <th>apert</th>\n",
       "      <th>gia</th>\n",
       "      <th>logeff</th>\n",
       "      <th>logcom</th>\n",
       "    </tr>\n",
       "  </thead>\n",
       "  <tbody>\n",
       "    <tr>\n",
       "      <th>0</th>\n",
       "      <td>0</td>\n",
       "      <td>3.0</td>\n",
       "      <td>1.081461</td>\n",
       "      <td>10.0</td>\n",
       "      <td>10770.309627</td>\n",
       "      <td>0.576981</td>\n",
       "      <td>90.793337</td>\n",
       "      <td>0.056</td>\n",
       "      <td>29.539343</td>\n",
       "      <td>0.880114</td>\n",
       "      <td>0.328146</td>\n",
       "      <td>1644710.625</td>\n",
       "      <td>8.421395</td>\n",
       "      <td>4.0</td>\n",
       "      <td>12.004623</td>\n",
       "      <td>0.0</td>\n",
       "      <td>True</td>\n",
       "      <td>-0.238839</td>\n",
       "      <td>0.034011</td>\n",
       "    </tr>\n",
       "    <tr>\n",
       "      <th>2</th>\n",
       "      <td>2</td>\n",
       "      <td>6.0</td>\n",
       "      <td>0.110789</td>\n",
       "      <td>12.0</td>\n",
       "      <td>2422.342359</td>\n",
       "      <td>0.060559</td>\n",
       "      <td>75.740878</td>\n",
       "      <td>0.120</td>\n",
       "      <td>47.343380</td>\n",
       "      <td>0.861595</td>\n",
       "      <td>0.021273</td>\n",
       "      <td>1790533.125</td>\n",
       "      <td>4.412694</td>\n",
       "      <td>1.0</td>\n",
       "      <td>29.771089</td>\n",
       "      <td>0.0</td>\n",
       "      <td>True</td>\n",
       "      <td>-1.217824</td>\n",
       "      <td>-0.955504</td>\n",
       "    </tr>\n",
       "    <tr>\n",
       "      <th>4</th>\n",
       "      <td>4</td>\n",
       "      <td>13.0</td>\n",
       "      <td>0.172211</td>\n",
       "      <td>13.0</td>\n",
       "      <td>2905.457535</td>\n",
       "      <td>0.051273</td>\n",
       "      <td>178.830700</td>\n",
       "      <td>0.170</td>\n",
       "      <td>36.672222</td>\n",
       "      <td>1.206445</td>\n",
       "      <td>-0.174039</td>\n",
       "      <td>3956707.500</td>\n",
       "      <td>3.998513</td>\n",
       "      <td>1.0</td>\n",
       "      <td>14.220447</td>\n",
       "      <td>0.0</td>\n",
       "      <td>True</td>\n",
       "      <td>-1.290113</td>\n",
       "      <td>-0.763939</td>\n",
       "    </tr>\n",
       "    <tr>\n",
       "      <th>16</th>\n",
       "      <td>16</td>\n",
       "      <td>31.0</td>\n",
       "      <td>4.377862</td>\n",
       "      <td>11.0</td>\n",
       "      <td>41.578462</td>\n",
       "      <td>0.001299</td>\n",
       "      <td>86.546084</td>\n",
       "      <td>0.096</td>\n",
       "      <td>39.613728</td>\n",
       "      <td>0.993549</td>\n",
       "      <td>-0.031508</td>\n",
       "      <td>1439538.875</td>\n",
       "      <td>5.991912</td>\n",
       "      <td>1.0</td>\n",
       "      <td>17.716253</td>\n",
       "      <td>0.0</td>\n",
       "      <td>True</td>\n",
       "      <td>-2.886282</td>\n",
       "      <td>0.641262</td>\n",
       "    </tr>\n",
       "    <tr>\n",
       "      <th>23</th>\n",
       "      <td>23</td>\n",
       "      <td>40.0</td>\n",
       "      <td>2.144859</td>\n",
       "      <td>13.0</td>\n",
       "      <td>181.982608</td>\n",
       "      <td>0.006578</td>\n",
       "      <td>57.698437</td>\n",
       "      <td>0.083</td>\n",
       "      <td>45.111870</td>\n",
       "      <td>1.037112</td>\n",
       "      <td>0.039315</td>\n",
       "      <td>2374519.750</td>\n",
       "      <td>7.413428</td>\n",
       "      <td>1.0</td>\n",
       "      <td>14.782324</td>\n",
       "      <td>0.0</td>\n",
       "      <td>True</td>\n",
       "      <td>-2.181927</td>\n",
       "      <td>0.331399</td>\n",
       "    </tr>\n",
       "  </tbody>\n",
       "</table>\n",
       "</div>"
      ],
      "text/plain": [
       "    Unnamed: 0  ident       com  nplanets    massbudget  massefficiency  \\\n",
       "0            0    3.0  1.081461      10.0  10770.309627        0.576981   \n",
       "2            2    6.0  0.110789      12.0   2422.342359        0.060559   \n",
       "4            4   13.0  0.172211      13.0   2905.457535        0.051273   \n",
       "16          16   31.0  4.377862      11.0     41.578462        0.001299   \n",
       "23          23   40.0  2.144859      13.0    181.982608        0.006578   \n",
       "\n",
       "       sigmag0     md         rc        ms     metal       taugas      qest  \\\n",
       "0    90.793337  0.056  29.539343  0.880114  0.328146  1644710.625  8.421395   \n",
       "2    75.740878  0.120  47.343380  0.861595  0.021273  1790533.125  4.412694   \n",
       "4   178.830700  0.170  36.672222  1.206445 -0.174039  3956707.500  3.998513   \n",
       "16   86.546084  0.096  39.613728  0.993549 -0.031508  1439538.875  5.991912   \n",
       "23   57.698437  0.083  45.111870  1.037112  0.039315  2374519.750  7.413428   \n",
       "\n",
       "    ngi        mtr  apert   gia    logeff    logcom  \n",
       "0   4.0  12.004623    0.0  True -0.238839  0.034011  \n",
       "2   1.0  29.771089    0.0  True -1.217824 -0.955504  \n",
       "4   1.0  14.220447    0.0  True -1.290113 -0.763939  \n",
       "16  1.0  17.716253    0.0  True -2.886282  0.641262  \n",
       "23  1.0  14.782324    0.0  True -2.181927  0.331399  "
      ]
     },
     "execution_count": 8,
     "metadata": {},
     "output_type": "execute_result"
    }
   ],
   "source": [
    "dng.head()"
   ]
  },
  {
   "cell_type": "markdown",
   "metadata": {},
   "source": [
    "## Bandwidth problem\n",
    "So far we have our data. Now we need to construct their probability density distributions. To do this we employ Kernel Density Estimation (KDE), here the bandwidth take importance. Let's study how to estimate the shape $\\widehat{f}_{h}(x)$ of the funtion which could represents the probability density function: \n",
    "\n",
    "$$\\widehat{f}_{h}(x)=\\frac{1}{n} \\sum_{i=1}^{n} K_{h}\\left(x-x_{i}\\right)=\\frac{1}{n h} \\sum_{i=1}^{n} K\\left(\\frac{x-x_{i}}{h}\\right).$$\n",
    "\n",
    "Here $K_{h}$ is a kernel (non-negative function), commonly used: uniform, triangular, biweight, triweight, Epanechnikov, normal, among others. The $h$ parameters is a smoothing constant, it is also called _bandwidth_ (mor information of KDE <a href=\"https://cran.r-project.org/web/packages/kedd/vignettes/kedd.pdf\">here</a>). \n",
    " \n",
    "\n",
    "### The Bandwidth definition\n",
    "A very brief definition, from <a href=\"https://en.wikipedia.org/wiki/Kernel_density_estimation\">wikipedia</a>: The bandwidth of the kernel is a free parameter which exhibits a strong influence on the resulting estimate. T\n",
    "\n",
    "he most common optimality criterion used to select this parameter is the expected risk function employing cross validation: \n",
    "\n",
    "$$\\operatorname{MISE}(h)=\\mathrm{E}\\left[\\int\\left(\\hat{f}_{h}(x)-f(x)\\right)^{2} d x\\right].$$\n",
    "\n",
    "Also is used the rule-of-thumb bandwidth estimator:\n",
    "\n",
    "$$h=\\left(\\frac{4 \\hat{\\sigma}^{5}}{3 n}\\right)^{\\frac{1}{5}} \\approx 1.06 \\hat{\\sigma} n^{-1 / 5}.$$\n",
    "\n",
    "Or Silverman's (1986) rule of thumb:\n",
    "\n",
    "$$h=0.9 \\min \\left(\\hat{\\sigma}, \\frac{I Q R}{1.34}\\right) n^{-\\frac{1}{5}}.$$\n",
    "\n",
    "Some considrations in the values of $h$. On the one hand, if $h\\rightarrow 0$ then we have overfitting, in other words there is no smoothing (plots like sum of delta fuctions).  On the other hand, if $h\\rightarrow \\infty$, we have a density function completily smoothed.\n",
    "\n",
    "Now, let's estudy some examples with `cross_validation` and `gaussian_kde`: "
   ]
  },
  {
   "cell_type": "code",
   "execution_count": 9,
   "metadata": {},
   "outputs": [
    {
     "name": "stdout",
     "output_type": "stream",
     "text": [
      "{'bandwidth': 0.04}\n",
      "bw g_kde: 0.17399675736725956\n"
     ]
    }
   ],
   "source": [
    "# an example with kernel density\n",
    "x=dng.ngi\n",
    "grid = GridSearchCV(KernelDensity(), \n",
    "                    {'bandwidth': np.linspace(x.min(),x.max()/100,100)},\n",
    "                    cv=50) # 20-fold cross-validation\n",
    "grid.fit(x[:, None])\n",
    "print(grid.best_params_)\n",
    "\n",
    "# other example with gaussian_kde method. \n",
    "kde = gaussian_kde(x)\n",
    "f = kde.covariance_factor()\n",
    "bw = f * x.std()\n",
    "print(\"bw g_kde: \"+str(bw))"
   ]
  },
  {
   "cell_type": "markdown",
   "metadata": {},
   "source": [
    "A comparison plot"
   ]
  },
  {
   "cell_type": "code",
   "execution_count": 10,
   "metadata": {},
   "outputs": [
    {
     "data": {
      "text/plain": [
       "(array([2.71144279, 0.        , 0.        , 0.49751244, 0.        ,\n",
       "        0.        , 0.09950249, 0.        , 0.        , 0.02487562]),\n",
       " array([1. , 1.3, 1.6, 1.9, 2.2, 2.5, 2.8, 3.1, 3.4, 3.7, 4. ]),\n",
       " <a list of 10 Patch objects>)"
      ]
     },
     "execution_count": 10,
     "metadata": {},
     "output_type": "execute_result"
    },
    {
     "data": {
      "image/png": "[encoded data removed]",
      "text/plain": [
       "<Figure size 720x360 with 2 Axes>"
      ]
     },
     "metadata": {
      "needs_background": "light"
     },
     "output_type": "display_data"
    }
   ],
   "source": [
    "f, axes = plt.subplots(1, 2, figsize=(10, 5), sharex=True)\n",
    "\n",
    "sns.kdeplot(dng.ngi, bw=grid.best_params_['bandwidth'], ax=axes[0], label=\"bw CV\"); \n",
    "axes[0].hist(dng.ngi, density=True)\n",
    "\n",
    "sns.kdeplot(dng.ngi,bw=bw, ax=axes[1],label=\"bw g_kde\"); \n",
    "axes[1].hist(dng.ngi, density=True)"
   ]
  },
  {
   "cell_type": "markdown",
   "metadata": {},
   "source": [
    "Now we introduce a new funtoion that obtain the bandwidths through `Gaussian_kde` and `CrossValidation`. Then, the optimal bandwidhts came from `bw_opt` function:"
   ]
  },
  {
   "cell_type": "code",
   "execution_count": 11,
   "metadata": {},
   "outputs": [],
   "source": [
    "#The variable is a column from dataFrames: 'dng','dlg','dhg','dnt','dlt','dht','dn','dl','dh'\n",
    "def bw_opt(variable, name, plot=False):\n",
    "\n",
    "    m=.2; dvariable=0.05; deciamls=2\n",
    "    \n",
    "    x = variable/variable.min() \n",
    "    x_grid = np.around(np.arange(x.min()-m,x.max()+m,dvariable),deciamls)\n",
    "    norm, size, cv = 10, 30, 30 # 30-fold cross-validation     \n",
    "        \n",
    "    #-------------With CrossValidation:\n",
    "    #x = \n",
    "    grid = GridSearchCV(KernelDensity(), \n",
    "                        {'bandwidth': np.linspace(x.min(),x.max()/\\\n",
    "                                                  norm,size)},\n",
    "                        cv=cv) # max-min (grid)\n",
    "    grid.fit(x[:, None])\n",
    "    kde_CV = grid.best_estimator_\n",
    "    bw_CV  = list(grid.best_params_.values())[0]\n",
    "    pdf_CV = np.exp(kde_CV.score_samples(x_grid[:,None]))\n",
    "    \n",
    "    #-------------Gaussian_KDE:\n",
    "    kde_G = gaussian_kde(x)\n",
    "    f = kde.covariance_factor()\n",
    "    bw_KDE =  f * x.std()\n",
    "    pdf_kde = kde_G.evaluate(x_grid)\n",
    "    \n",
    "    #---------Comparative plot: \n",
    "    if plot == True: \n",
    "        fig, ax = plt.subplots(1,3, figsize=(11, 4), constrained_layout=True, sharex=True, sharey=True)\n",
    "        #-------CV_plot:\n",
    "        ax[0].plot(x_grid, pdf_CV, linewidth=2, label='bw=%.4f'%kde_CV.bandwidth)\n",
    "        ax[0].hist(x,8,density=True, alpha=.3)\n",
    "        ax[0].legend(loc=\"upper right\")\n",
    "        ax[0].set_title(\"Cross Validation\")\n",
    "        #-------kde_plot:\n",
    "        ax[1].plot(x_grid, pdf_kde, linewidth=2, label='bw=%.4f'%bw_KDE)\n",
    "        ax[1].hist(x,8,density=True, alpha=.3)\n",
    "        ax[1].legend(loc=\"upper right\")\n",
    "        ax[1].set_title(\"Gausian_kde\")\n",
    "        #-------sns_plot:\n",
    "        sns.distplot(x,  ax=ax[2], axlabel=False, bins=8,\n",
    "                     hist_kws={\"alpha\": .3, \"color\": 'C1'}, \n",
    "                     label='default distplot') \n",
    "        ax[2].legend(loc=\"upper right\")\n",
    "        ax[2].set_title(\"displot\")\n",
    "        #---------------\n",
    "        fig.suptitle(\"variable: \"+name, \n",
    "                     fontsize=15, horizontalalignment='center')\n",
    "        plt.show()\n",
    "    return [bw_CV, bw_KDE]"
   ]
  },
  {
   "cell_type": "code",
   "execution_count": 12,
   "metadata": {},
   "outputs": [
    {
     "data": {
      "image/png": "[encoded data removed]",
      "text/plain": [
       "<Figure size 792x288 with 3 Axes>"
      ]
     },
     "metadata": {
      "needs_background": "light"
     },
     "output_type": "display_data"
    }
   ],
   "source": [
    "dng_logcom = bw_opt(dhg.logcom, name=\"dng.logcom\", plot=True)"
   ]
  },
  {
   "cell_type": "code",
   "execution_count": 13,
   "metadata": {},
   "outputs": [],
   "source": [
    "#%%time\n",
    "x_variables = [dng,dlg,dhg,dnt,dlt,dht,dn,dl,dh]\n",
    "names       = [\"dng\",\"dlg\",\"dhg\",\"dnt\",\"dlt\",\"dht\",\"dn\",\"dl\",\"dh\"]\n",
    "opt_bw_eff  = [] \n",
    "##opt_bw_logcom  = [] \n",
    "\n",
    "#for index,variable in enumerate(x_variables):\n",
    "#    print(names[index]+\".\"+str(variable.logeff.name))\n",
    "#    bw = bw_opt(variable.logeff, names[index], plot=True)\n",
    "#    opt_bw_eff.append(bw)\n"
   ]
  },
  {
   "cell_type": "markdown",
   "metadata": {},
   "source": [
    "\n",
    "### Using the standarization and normalization\n",
    "\n",
    "Now, through phyton classes we implements the `GridSearchCV` and `gaussian_kde` as methods of a class `bw_optimal` with th normalization and the standarization of the data. Let's remember some definitions:\n",
    "\n",
    "- **Normalization**: It is a scaling technique in which values are shifted and rescaled so that they end up ranging between 0 to 1.  \n",
    "$$X^{\\prime}=\\frac{X-X_{\\min }}{X_{\\max }-X_{\\min }}$$\n",
    "\n",
    "- **Standarization**: It is another scaling technique where the values are centered around the mean with a unit standard deviation. \n",
    "$$X^{\\prime}=\\frac{X-\\mu}{\\sigma}$$\n",
    "\n",
    "In order to compare the data, we implement normalization and standarization.\n",
    "\n",
    "\n",
    "\n",
    "\n",
    "#### The minimum distance between data\n",
    "\n",
    "To obtain de ideal bandwith, we estimate the minimun distance between our data to star from this value to \n",
    "\n",
    "\n",
    "It is obtained through the minimum difference between data. It helps to understand the minumum bandwidth for the distribution. It is implementend into the init method in the class `bw_optimal`.\n",
    "\n",
    "#### The search vector\n",
    "\n",
    "In order to find the optimal search vector, we implement the minimum distance between data as the star value in the serarch vector.  \n"
   ]
  },
  {
   "cell_type": "code",
   "execution_count": 40,
   "metadata": {},
   "outputs": [],
   "source": [
    "class bw_optimal(object):\n",
    "    \n",
    "    def __init__(self, variable):\n",
    "        \n",
    "        dx, length, deciamls = .2, 100, 2 #some constants \n",
    "        self.variable = variable.values   #original variable\n",
    "        \n",
    "        #standarization:\n",
    "        self.x = (self.variable-self.variable.mean())/self.variable.std()\n",
    "        #grid\n",
    "        self.x_grid = np.around(np.linspace(self.x.min()-dx,self.x.max()+dx,length),deciamls)\n",
    "    \n",
    "    def cv_pdf(self):\n",
    "        cv, nsteps = 30, 100\n",
    "        grid = GridSearchCV(KernelDensity(),\n",
    "                            {'bandwidth': np.linspace(self.x.min(), self.x.max(), nsteps)}, cv=cv)\n",
    "        grid.fit(self.x[:, None])\n",
    "        \n",
    "        self.bw_CV = grid.best_estimator_.bandwidth\n",
    "        self.bw1   = (self.bw_CV*self.variable.std())+self.variable.mean() #bw in data space (autside of standarization)\n",
    "        \n",
    "        self.pdf_CV = np.exp(grid.best_estimator_.score_samples(self.x_grid[:,None]))\n",
    "        self.pdf_CV2 = (self.pdf_CV*self.variable.std())+self.variable.mean()  \n",
    "        \n",
    "    def kde_pdf(self):\n",
    "        kde_G = gaussian_kde(self.x)\n",
    "\n",
    "        self.bw_KDE =  kde_G.covariance_factor()*self.x.std()\n",
    "        self.bw2 = self.bw_KDE*self.variable.std()+self.variable.mean()    #bw in data space (autside of standarization)\n",
    "        \n",
    "        self.pdf_kde = kde_G.evaluate(self.x_grid)"
   ]
  },
  {
   "cell_type": "code",
   "execution_count": 52,
   "metadata": {},
   "outputs": [],
   "source": [
    "#needs an object from class bw_optimal\n",
    "def pdfs_plot(bw):\n",
    "    \n",
    "    nbins=15\n",
    "    fig, ax = plt.subplots(1,3, figsize=(14, 4), constrained_layout=True, sharey=True)\n",
    "\n",
    "    ax[0].plot(bw.x_grid, bw.pdf_CV, linewidth=2, label='bw=%.3f'%bw.bw_CV)\n",
    "    ax[0].hist(bw.x, nbins, density=True, alpha=.3, label=\"standarized data\")\n",
    "    ax[0].legend(loc=\"upper left\")\n",
    "    ax[0].set_title(\"Cross Validation\")\n",
    "    \n",
    "    sns.distplot(bw.variable, ax=ax[1], bins=nbins,\n",
    "                 kde_kws={'bw':bw.bw_CV,'label':'pdf in original data','color':'C1'},\n",
    "                 hist_kws = {'density':'True','label':'Original data'})\n",
    "    ax[1].legend(loc=\"upper left\")\n",
    "    \n",
    "    ax[2].plot(bw.x_grid, bw.pdf_kde, linewidth=2, label='bw=%.3f'%bw.bw_KDE)\n",
    "    ax[2].hist(bw.x,nbins,density=True, alpha=.3, label=\"standarized data\")\n",
    "    ax[2].legend(loc=\"upper left\")\n",
    "    ax[2].set_title(\"Gausian_kde\")"
   ]
  },
  {
   "cell_type": "markdown",
   "metadata": {},
   "source": [
    "So, an example of implementing the methods from `bw_optimal` "
   ]
  },
  {
   "cell_type": "code",
   "execution_count": 58,
   "metadata": {},
   "outputs": [],
   "source": [
    "ex = bw_optimal(dlg.logeff)\n",
    "ex.cv_pdf()\n",
    "ex.kde_pdf()"
   ]
  },
  {
   "cell_type": "markdown",
   "metadata": {},
   "source": [
    "Now a funtion that generates the comparative plot between `gaussian_kde` and `GridSearchCV`"
   ]
  },
  {
   "cell_type": "code",
   "execution_count": 59,
   "metadata": {},
   "outputs": [
    {
     "data": {
      "image/png": "[encoded data removed]",
      "text/plain": [
       "<Figure size 1008x288 with 3 Axes>"
      ]
     },
     "metadata": {
      "needs_background": "light"
     },
     "output_type": "display_data"
    }
   ],
   "source": [
    "plot = pdfs_plot(ex)"
   ]
  },
  {
   "cell_type": "markdown",
   "metadata": {},
   "source": [
    "For all the information in the variable `x_variables`"
   ]
  },
  {
   "cell_type": "code",
   "execution_count": 60,
   "metadata": {},
   "outputs": [],
   "source": [
    "x_variables = [dng,dlg,dhg,dnt,dlt,dht,dn,dl,dh]\n",
    "names       = [\"dng\",\"dlg\",\"dhg\",\"dnt\",\"dlt\",\"dht\",\"dn\",\"dl\",\"dh\"]"
   ]
  },
  {
   "cell_type": "code",
   "execution_count": 19,
   "metadata": {
    "scrolled": true
   },
   "outputs": [],
   "source": [
    "#for index,variable in enumerate(x_variables):\n",
    "#    print(names[index]+\".\"+str(variable.logeff.name))\n",
    "#    bw = bw_optimal(variable.logeff, False)\n",
    "#    bw.cv_pdf()\n",
    "#    bw.kde_pdf()\n",
    "#    plot = pdfs_plot(bw)"
   ]
  },
  {
   "cell_type": "code",
   "execution_count": 20,
   "metadata": {
    "scrolled": true
   },
   "outputs": [],
   "source": [
    "#for index,variable in enumerate(x_variables):\n",
    "#    print(names[index]+\".\"+str(variable.logcom.name))\n",
    "#    bw = bw_optimal(variable.logcom, False)\n",
    "#    bw.cv_pdf()\n",
    "#    bw.kde_pdf()\n",
    "#    plot = pdfs_plot(bw)"
   ]
  },
  {
   "cell_type": "markdown",
   "metadata": {},
   "source": [
    "## Bandwiths for  2D, 3D and mode dimensions"
   ]
  },
  {
   "cell_type": "markdown",
   "metadata": {},
   "source": [
    "### 2D Example\n",
    "For 2d, we have the function:"
   ]
  },
  {
   "cell_type": "code",
   "execution_count": 56,
   "metadata": {},
   "outputs": [],
   "source": [
    "def uni_kde(x,y,tickno=5,nlev=30):\n",
    "    \n",
    "    x_grid=np.around(np.arange(x.min(),x.max(),0.1),2)\n",
    "    y_grid=np.linspace(y.min(),y.max(),len(x_grid))\n",
    "    conv=(x.max()-x.min())/(y.max()-y.min())\n",
    "    yori=y\n",
    "    y=y*conv\n",
    "    y_grid=y_grid*conv\n",
    "    \n",
    "    grid = GridSearchCV(KernelDensity(),\n",
    "                    {'bandwidth': np.linspace(x.min(),x.max()/10,30)},\n",
    "                    cv=20) # 20-fold cross-validation\n",
    "    \n",
    "    grid.fit(np.vstack([x,y]).T)\n",
    "    \n",
    "    print(grid.best_params_)\n",
    "    \n",
    "    X, Y = np.meshgrid(x_grid, y_grid)\n",
    "  \n",
    "    xy = np.vstack([X.ravel(), Y.ravel()]).T\n",
    "    \n",
    "    kde2d = grid.best_estimator_\n",
    "    pdf2d = np.exp(kde2d.score_samples(xy)).reshape(X.shape) #get the pdf\n",
    "    \n",
    "    plt.figure(figsize=(5,5))\n",
    "    levels = np.linspace(0, pdf2d.max(), nlev)\n",
    "    plt.contourf(X, Y, pdf2d, levels=levels, cmap=plt.cm.Reds)\n",
    "    \n",
    "    old_ticks=np.linspace(y.max(), y.min(), tickno)\n",
    "    major_ticks = 10**np.linspace(yori.max(), yori.min(), tickno)\n",
    "    myticks=[]\n",
    "    for i in major_ticks:\n",
    "        myticks+=[\"%.e\"%i]\n",
    "    e=plt.yticks(old_ticks,myticks) "
   ]
  },
  {
   "cell_type": "code",
   "execution_count": 57,
   "metadata": {
    "scrolled": true
   },
   "outputs": [
    {
     "name": "stdout",
     "output_type": "stream",
     "text": [
      "{'bandwidth': 0.09996864449290914}\n"
     ]
    },
    {
     "data": {
      "image/png": "[encoded data removed]",
      "text/plain": [
       "<Figure size 360x360 with 1 Axes>"
      ]
     },
     "metadata": {
      "needs_background": "light"
     },
     "output_type": "display_data"
    }
   ],
   "source": [
    "uni_kde(dng.logcom, dng.logeff)"
   ]
  },
  {
   "cell_type": "code",
   "execution_count": 31,
   "metadata": {},
   "outputs": [],
   "source": [
    "class multidim(object):\n",
    "\n",
    "    def __init__(self, n_dim, *args):\n",
    "        \n",
    "        self.ndim=n_dim\n",
    "        self.min, self.max = [], []    # it will keep information of min and max values  \n",
    "        self.variables = []            # Their components are objects from class bw_optimal\n",
    "        self.grids     = []\n",
    "    \n",
    "        for i in range(len(args)):\n",
    "            \n",
    "            variable = bw_optimal(args[i])\n",
    "            \n",
    "            self.variables.append(variable)  ; self.grids.append(variable.x_grid)\n",
    "            self.min.append(variable.x.min()); self.max.append(variable.x.max()) \n",
    "        \n",
    "        #self.space = np.meshgrid()\n",
    "        \n",
    "    def pdf_dim(self):\n",
    "        \n",
    "        grid = GridSearchCV(KernelDensity(), \n",
    "                            {'bandwidth': np.linspace(min(self.min), max(self.max),100)}, cv=30)\n",
    "        grid.fit(np.vstack([data_x.x,data_y.x]).T)\n",
    "    "
   ]
  },
  {
   "cell_type": "code",
   "execution_count": 24,
   "metadata": {},
   "outputs": [],
   "source": [
    "x = dng.logeff\n",
    "y = dng.logcom"
   ]
  },
  {
   "cell_type": "code",
   "execution_count": null,
   "metadata": {},
   "outputs": [],
   "source": []
  },
  {
   "cell_type": "code",
   "execution_count": 25,
   "metadata": {},
   "outputs": [
    {
     "data": {
      "text/plain": [
       "array([[ 0.07      , -1.37071241,  1.        ],\n",
       "       [ 0.07      , -1.37071241,  4.        ],\n",
       "       [ 0.07      , -1.37071241,  7.        ],\n",
       "       ...,\n",
       "       [ 0.97      ,  0.99968644, 22.        ],\n",
       "       [ 0.97      ,  0.99968644, 25.        ],\n",
       "       [ 0.97      ,  0.99968644, 28.        ]])"
      ]
     },
     "execution_count": 25,
     "metadata": {},
     "output_type": "execute_result"
    }
   ],
   "source": [
    "x = dng.logeff/dng.logeff.min()\n",
    "y = dng.logcom#/dng.logcom.min()\n",
    "z = dng.nplanets\n",
    "\n",
    "data = np.vstack((x,y,z)).T\n",
    "\n",
    "#---------------------Grid:\n",
    "x_grid=np.around(np.arange(x.min(),x.max(),0.1),2)\n",
    "y_grid=np.linspace(y.min(),y.max(),len(x_grid))\n",
    "z_grid=np.linspace(z.min(),z.max(),len(x_grid))\n",
    "\n",
    "X = np.meshgrid(x_grid, y_grid, z_grid)\n",
    "xyz   = np.vstack([X[0].ravel(), X[1].ravel(), X[2].ravel()]).T\n",
    "xyz"
   ]
  },
  {
   "cell_type": "code",
   "execution_count": 26,
   "metadata": {},
   "outputs": [
    {
     "ename": "NameError",
     "evalue": "name 'data_x' is not defined",
     "output_type": "error",
     "traceback": [
      "\u001b[0;31m---------------------------------------------------------------------------\u001b[0m",
      "\u001b[0;31mNameError\u001b[0m                                 Traceback (most recent call last)",
      "\u001b[0;32m<ipython-input-26-16137e2ed766>\u001b[0m in \u001b[0;36m<module>\u001b[0;34m\u001b[0m\n\u001b[1;32m      1\u001b[0m grid = GridSearchCV(KernelDensity(), \n\u001b[0;32m----> 2\u001b[0;31m                     {'bandwidth': np.linspace(data_x.dw,\n\u001b[0m\u001b[1;32m      3\u001b[0m                                               \u001b[0mdata_x\u001b[0m\u001b[0;34m.\u001b[0m\u001b[0mx\u001b[0m\u001b[0;34m.\u001b[0m\u001b[0mmax\u001b[0m\u001b[0;34m(\u001b[0m\u001b[0;34m)\u001b[0m\u001b[0;34m,\u001b[0m\u001b[0;34m\u001b[0m\u001b[0;34m\u001b[0m\u001b[0m\n\u001b[1;32m      4\u001b[0m                                               data_x.nbins)}, cv=30)\n\u001b[1;32m      5\u001b[0m \u001b[0mgrid\u001b[0m\u001b[0;34m.\u001b[0m\u001b[0mfit\u001b[0m\u001b[0;34m(\u001b[0m\u001b[0mnp\u001b[0m\u001b[0;34m.\u001b[0m\u001b[0mvstack\u001b[0m\u001b[0;34m(\u001b[0m\u001b[0;34m[\u001b[0m\u001b[0mdata_x\u001b[0m\u001b[0;34m.\u001b[0m\u001b[0mx\u001b[0m\u001b[0;34m,\u001b[0m\u001b[0mdata_y\u001b[0m\u001b[0;34m.\u001b[0m\u001b[0mx\u001b[0m\u001b[0;34m]\u001b[0m\u001b[0;34m)\u001b[0m\u001b[0;34m.\u001b[0m\u001b[0mT\u001b[0m\u001b[0;34m)\u001b[0m\u001b[0;34m\u001b[0m\u001b[0;34m\u001b[0m\u001b[0m\n",
      "\u001b[0;31mNameError\u001b[0m: name 'data_x' is not defined"
     ]
    }
   ],
   "source": [
    "\n",
    "    \n",
    "    grid = GridSearchCV(KernelDensity(), \n",
    "                        {'bandwidth': np.linspace(data_x.dw,\n",
    "                                                  data_x.x.max(),\n",
    "                                                  data_x.nbins)}, cv=30)\n",
    "    grid.fit(np.vstack([data_x.x,data_y.x]).T)\n",
    "    print(grid.best_params_)\n",
    "    \n",
    "    X, Y = np.meshgrid(x_grid, y_grid)\n",
    "    xy = np.vstack([X.ravel(), Y.ravel()]).T\n",
    "    kde2d = grid.best_estimator_\n",
    "    pdf2d = np.exp(kde2d.score_samples(xy)).reshape(X.shape) #get the pdf\n",
    "    \n",
    "    plt.figure(figsize=(5,5))\n",
    "    plt.contourf(X, Y, pdf2d, levels=30, cmap=plt.cm.Reds)"
   ]
  },
  {
   "cell_type": "code",
   "execution_count": null,
   "metadata": {},
   "outputs": [],
   "source": [
    "AA.variables[2].x.min()"
   ]
  },
  {
   "cell_type": "code",
   "execution_count": null,
   "metadata": {},
   "outputs": [],
   "source": [
    "dng.logeff\n",
    "dng.logcom"
   ]
  },
  {
   "cell_type": "code",
   "execution_count": 27,
   "metadata": {},
   "outputs": [],
   "source": [
    "#needs two objects from class bw_optimal, which are normalized or standarized \n",
    "\n",
    "\n",
    "def bi_kde(data_x,data_y):\n",
    "    \n",
    "    x_grid = data_x.x_grid\n",
    "    y_grid = data_y.x_grid\n",
    "    \n",
    "    grid = GridSearchCV(KernelDensity(), \n",
    "                        {'bandwidth': np.linspace(data_x.x.min(),\n",
    "                                                  data_x.x.max(),\n",
    "                                                  15)}, cv=30)\n",
    "    grid.fit(np.vstack([data_x.x,data_y.x]).T)\n",
    "    print(grid.best_params_)\n",
    "    \n",
    "    X, Y = np.meshgrid(x_grid, y_grid)\n",
    "    xy = np.vstack([X.ravel(), Y.ravel()]).T\n",
    "    kde2d = grid.best_estimator_\n",
    "    pdf2d = np.exp(kde2d.score_samples(xy)).reshape(X.shape) #get the pdf\n",
    "    \n",
    "    plt.figure(figsize=(5,5))\n",
    "    plt.contourf(X, Y, pdf2d, levels=30, cmap=plt.cm.Reds)"
   ]
  },
  {
   "cell_type": "code",
   "execution_count": 28,
   "metadata": {},
   "outputs": [
    {
     "name": "stdout",
     "output_type": "stream",
     "text": [
      "bw_x = 0.122 bw_y = 0.192\n"
     ]
    }
   ],
   "source": [
    "bw_1 = bw_optimal(dng.logcom)\n",
    "bw_2 = bw_optimal(dng.logeff)\n",
    "bw_1.cv_pdf()\n",
    "bw_2.cv_pdf()\n",
    "print(\"bw_x = \"+str('%.3f'%bw_1.bw_CV), \"bw_y = \"+str('%.3f'%bw_2.bw_CV))"
   ]
  },
  {
   "cell_type": "code",
   "execution_count": 29,
   "metadata": {},
   "outputs": [
    {
     "name": "stdout",
     "output_type": "stream",
     "text": [
      "{'bandwidth': 0.2531914527525676}\n"
     ]
    },
    {
     "data": {
      "image/png": "[encoded data removed]",
      "text/plain": [
       "<Figure size 360x360 with 1 Axes>"
      ]
     },
     "metadata": {
      "needs_background": "light"
     },
     "output_type": "display_data"
    }
   ],
   "source": [
    "ex_2d = bi_kde(bw_optimal(dng.logcom),bw_optimal(dng.logeff))"
   ]
  },
  {
   "cell_type": "markdown",
   "metadata": {},
   "source": [
    "### 3D example"
   ]
  },
  {
   "cell_type": "code",
   "execution_count": null,
   "metadata": {},
   "outputs": [],
   "source": [
    "from mpl_toolkits import mplot3d\n",
    "#---------------------Data:\n",
    "x = dng.logeff/dng.logeff.min()\n",
    "y = dng.logcom#/dng.logcom.min()\n",
    "z = dng.nplanets\n",
    "\n",
    "data = np.vstack((x,y,z)).T\n",
    "\n",
    "#---------------------Grid:\n",
    "x_grid=np.around(np.arange(x.min(),x.max(),0.1),2)\n",
    "y_grid=np.linspace(y.min(),y.max(),len(x_grid))\n",
    "z_grid=np.linspace(z.min(),z.max(),len(x_grid))\n",
    "\n",
    "X,Y,Z = np.meshgrid(x_grid, y_grid, z_grid)\n",
    "xyz   = np.vstack([X.ravel(), Y.ravel(), Z.ravel()]).T\n",
    "\n",
    "#----------------------CV:\n",
    "\n",
    "grid = GridSearchCV(KernelDensity(),\n",
    "                    {'bandwidth': np.linspace(x.min(),x.max()/10,30)},\n",
    "                    cv=20) # 20-fold cross-validation\n",
    "grid.fit(data)\n",
    "\n",
    "    \n",
    "kde3d = grid.best_estimator_\n",
    "pdf3d = np.exp(kde3d.score_samples(xyz)).reshape(X.shape) #get the pdf"
   ]
  },
  {
   "cell_type": "code",
   "execution_count": null,
   "metadata": {},
   "outputs": [],
   "source": [
    "density = pdf3d.ravel()\n",
    "\n",
    "fig, ax = plt.subplots(subplot_kw=dict(projection='3d'))\n",
    "x, y, z = X.ravel(), Y.ravel(), Z.ravel()\n",
    "ax.scatter(x, y, z, c=density, alpha=1, cmap= 'seismic',\n",
    "           vmin=-np.abs(np.max(density)),vmax=np.abs(np.max(density)))"
   ]
  },
  {
   "cell_type": "code",
   "execution_count": null,
   "metadata": {},
   "outputs": [],
   "source": [
    "import plotly.graph_objects as go\n",
    "import numpy as np\n",
    "\n",
    "fig = go.Figure(data=go.Volume(\n",
    "    x=X.flatten(),\n",
    "    y=Y.flatten(),\n",
    "    z=Z.flatten(),\n",
    "    value=density.flatten(),\n",
    "    isomin=0.1,\n",
    "    isomax=0.8,\n",
    "    opacity=0.1, # needs to be small to see through all surfaces\n",
    "    surface_count=25, # needs to be a large number for good volume rendering\n",
    "    ))\n",
    "fig.show()"
   ]
  },
  {
   "cell_type": "code",
   "execution_count": null,
   "metadata": {},
   "outputs": [],
   "source": [
    "#-------------Gaussian_KDE:\n",
    "'''\n",
    "kde_G = gaussian_kde(data)\n",
    "f = kde.covariance_factor()\n",
    "bw_KDE =  f * data.std()\n",
    "pdf3_kde = kde_G.evaluate(xyz)\n",
    "pdf3_kde = kde_G.evaluate()\n",
    "'''"
   ]
  },
  {
   "cell_type": "code",
   "execution_count": null,
   "metadata": {},
   "outputs": [],
   "source": []
  },
  {
   "cell_type": "code",
   "execution_count": null,
   "metadata": {},
   "outputs": [],
   "source": []
  },
  {
   "cell_type": "code",
   "execution_count": null,
   "metadata": {},
   "outputs": [],
   "source": []
  },
  {
   "cell_type": "code",
   "execution_count": null,
   "metadata": {},
   "outputs": [],
   "source": []
  },
  {
   "cell_type": "code",
   "execution_count": null,
   "metadata": {},
   "outputs": [],
   "source": []
  },
  {
   "cell_type": "code",
   "execution_count": null,
   "metadata": {},
   "outputs": [],
   "source": []
  }
 ],
 "metadata": {
  "kernelspec": {
   "display_name": "Python 3",
   "language": "python",
   "name": "python3"
  },
  "language_info": {
   "codemirror_mode": {
    "name": "ipython",
    "version": 3
   },
   "file_extension": ".py",
   "mimetype": "text/x-python",
   "name": "python",
   "nbconvert_exporter": "python",
   "pygments_lexer": "ipython3",
   "version": "3.8.3"
  }
 },
 "nbformat": 4,
 "nbformat_minor": 4
}
