{
 "cells": [
  {
   "cell_type": "markdown",
   "metadata": {},
   "source": [
    "# Posterior and Marginal distributions\n",
    "\n",
    "This notebook is the continuation of `bandwidths.ipynb` notebook, apliying the bw results and the class for get the n-dimentional PDF. \n",
    "\n",
    "#### Some considerations: \n",
    "1. As **prior** information we will take the cleaned (without NaN or inf values) information from exoplanet.eu, this is the first part of notebook.\n",
    "\n",
    "2. The PDF from `oiptimal_pdf` class  fulfills the functions of **likelihood** for a certain number of variables in synthetic systems with no-pertutbation, low perturbation and high perturbation. \n",
    "\n",
    "3. To get the **marginal** distributions of a variable of interest, we go in the same way that the example marginalization in the notebook `3D.ipynb`."
   ]
  },
  {
   "cell_type": "code",
   "execution_count": 4,
   "metadata": {},
   "outputs": [],
   "source": [
    "import numpy as np\n",
    "import pandas as pd\n",
    "from scipy import stats\n",
    "import matplotlib.pyplot as plt\n",
    "import warnings; warnings.simplefilter('ignore')"
   ]
  },
  {
   "cell_type": "code",
   "execution_count": 5,
   "metadata": {},
   "outputs": [
    {
     "data": {
      "text/html": [
       "\n",
       "<style>\n",
       ".output_png {\n",
       "    display: table-cell;\n",
       "    text-align: center;\n",
       "    vertical-align: middle;\n",
       "}\n",
       "</style>\n"
      ],
      "text/plain": [
       "<IPython.core.display.HTML object>"
      ]
     },
     "execution_count": 5,
     "metadata": {},
     "output_type": "execute_result"
    }
   ],
   "source": [
    "from IPython.core.display import HTML\n",
    "HTML(\"\"\"\n",
    "<style>\n",
    ".output_png {\n",
    "    display: table-cell;\n",
    "    text-align: center;\n",
    "    vertical-align: middle;\n",
    "}\n",
    "</style>\n",
    "\"\"\")"
   ]
  },
  {
   "cell_type": "markdown",
   "metadata": {},
   "source": [
    "## 1. Data Cleaning\n",
    "\n",
    "### 1.1 Simulation data   \n",
    "\n",
    "see the notation according to <a href=\"https://github.com/saint-germain/population_synthesis/blob/master/README.md \">Readme.md</a> from `Population_synthesis` project.\n",
    "\n",
    "\n",
    "\n"
   ]
  },
  {
   "cell_type": "code",
   "execution_count": 6,
   "metadata": {},
   "outputs": [],
   "source": [
    "#========================== Simulation Data ==========================\n",
    "dn=pd.read_csv('data/proc_no_pert.csv',index_col=None); #without pertubtations \n",
    "dl=pd.read_csv('data/proc_lo_pert.csv',index_col=None); #with low pertubtations \n",
    "dh=pd.read_csv('data/proc_hi_pert.csv',index_col=None); #with high pertubtations"
   ]
  },
  {
   "cell_type": "code",
   "execution_count": 7,
   "metadata": {},
   "outputs": [
    {
     "data": {
      "text/html": [
       "<div>\n",
       "<style scoped>\n",
       "    .dataframe tbody tr th:only-of-type {\n",
       "        vertical-align: middle;\n",
       "    }\n",
       "\n",
       "    .dataframe tbody tr th {\n",
       "        vertical-align: top;\n",
       "    }\n",
       "\n",
       "    .dataframe thead th {\n",
       "        text-align: right;\n",
       "    }\n",
       "</style>\n",
       "<table border=\"1\" class=\"dataframe\">\n",
       "  <thead>\n",
       "    <tr style=\"text-align: right;\">\n",
       "      <th></th>\n",
       "      <th>Unnamed: 0</th>\n",
       "      <th>ident</th>\n",
       "      <th>com</th>\n",
       "      <th>nplanets</th>\n",
       "      <th>massbudget</th>\n",
       "      <th>massefficiency</th>\n",
       "      <th>sigmag0</th>\n",
       "      <th>md</th>\n",
       "      <th>rc</th>\n",
       "      <th>ms</th>\n",
       "      <th>metal</th>\n",
       "      <th>taugas</th>\n",
       "      <th>qest</th>\n",
       "      <th>ngi</th>\n",
       "      <th>mtr</th>\n",
       "      <th>apert</th>\n",
       "    </tr>\n",
       "  </thead>\n",
       "  <tbody>\n",
       "    <tr>\n",
       "      <th>0</th>\n",
       "      <td>0</td>\n",
       "      <td>3.0</td>\n",
       "      <td>0.528895</td>\n",
       "      <td>12.0</td>\n",
       "      <td>5818.115137</td>\n",
       "      <td>0.311685</td>\n",
       "      <td>90.793337</td>\n",
       "      <td>0.056</td>\n",
       "      <td>29.539343</td>\n",
       "      <td>0.880114</td>\n",
       "      <td>0.328146</td>\n",
       "      <td>1.644711e+06</td>\n",
       "      <td>8.421395</td>\n",
       "      <td>3.0</td>\n",
       "      <td>9.132650</td>\n",
       "      <td>0.3</td>\n",
       "    </tr>\n",
       "    <tr>\n",
       "      <th>1</th>\n",
       "      <td>1</td>\n",
       "      <td>5.0</td>\n",
       "      <td>2.406300</td>\n",
       "      <td>13.0</td>\n",
       "      <td>31.567339</td>\n",
       "      <td>0.000861</td>\n",
       "      <td>102.431593</td>\n",
       "      <td>0.110</td>\n",
       "      <td>38.977428</td>\n",
       "      <td>1.075269</td>\n",
       "      <td>-0.150160</td>\n",
       "      <td>1.014449e+06</td>\n",
       "      <td>5.464831</td>\n",
       "      <td>1.0</td>\n",
       "      <td>17.678581</td>\n",
       "      <td>0.3</td>\n",
       "    </tr>\n",
       "    <tr>\n",
       "      <th>2</th>\n",
       "      <td>2</td>\n",
       "      <td>6.0</td>\n",
       "      <td>1.082299</td>\n",
       "      <td>9.0</td>\n",
       "      <td>5886.747227</td>\n",
       "      <td>0.147169</td>\n",
       "      <td>75.740878</td>\n",
       "      <td>0.120</td>\n",
       "      <td>47.343380</td>\n",
       "      <td>0.861595</td>\n",
       "      <td>0.021273</td>\n",
       "      <td>1.790533e+06</td>\n",
       "      <td>4.412694</td>\n",
       "      <td>1.0</td>\n",
       "      <td>8.262408</td>\n",
       "      <td>0.3</td>\n",
       "    </tr>\n",
       "    <tr>\n",
       "      <th>3</th>\n",
       "      <td>3</td>\n",
       "      <td>8.0</td>\n",
       "      <td>7.503351</td>\n",
       "      <td>9.0</td>\n",
       "      <td>7.884462</td>\n",
       "      <td>0.000158</td>\n",
       "      <td>62.737337</td>\n",
       "      <td>0.150</td>\n",
       "      <td>58.158928</td>\n",
       "      <td>1.076658</td>\n",
       "      <td>-0.282408</td>\n",
       "      <td>6.017040e+06</td>\n",
       "      <td>4.704798</td>\n",
       "      <td>0.0</td>\n",
       "      <td>7.884462</td>\n",
       "      <td>0.3</td>\n",
       "    </tr>\n",
       "    <tr>\n",
       "      <th>4</th>\n",
       "      <td>4</td>\n",
       "      <td>13.0</td>\n",
       "      <td>5.247285</td>\n",
       "      <td>12.0</td>\n",
       "      <td>33.730980</td>\n",
       "      <td>0.000595</td>\n",
       "      <td>178.830700</td>\n",
       "      <td>0.170</td>\n",
       "      <td>36.672222</td>\n",
       "      <td>1.206445</td>\n",
       "      <td>-0.174039</td>\n",
       "      <td>3.956708e+06</td>\n",
       "      <td>3.998513</td>\n",
       "      <td>1.0</td>\n",
       "      <td>8.003117</td>\n",
       "      <td>0.3</td>\n",
       "    </tr>\n",
       "  </tbody>\n",
       "</table>\n",
       "</div>"
      ],
      "text/plain": [
       "   Unnamed: 0  ident       com  nplanets   massbudget  massefficiency  \\\n",
       "0           0    3.0  0.528895      12.0  5818.115137        0.311685   \n",
       "1           1    5.0  2.406300      13.0    31.567339        0.000861   \n",
       "2           2    6.0  1.082299       9.0  5886.747227        0.147169   \n",
       "3           3    8.0  7.503351       9.0     7.884462        0.000158   \n",
       "4           4   13.0  5.247285      12.0    33.730980        0.000595   \n",
       "\n",
       "      sigmag0     md         rc        ms     metal        taugas      qest  \\\n",
       "0   90.793337  0.056  29.539343  0.880114  0.328146  1.644711e+06  8.421395   \n",
       "1  102.431593  0.110  38.977428  1.075269 -0.150160  1.014449e+06  5.464831   \n",
       "2   75.740878  0.120  47.343380  0.861595  0.021273  1.790533e+06  4.412694   \n",
       "3   62.737337  0.150  58.158928  1.076658 -0.282408  6.017040e+06  4.704798   \n",
       "4  178.830700  0.170  36.672222  1.206445 -0.174039  3.956708e+06  3.998513   \n",
       "\n",
       "   ngi        mtr  apert  \n",
       "0  3.0   9.132650    0.3  \n",
       "1  1.0  17.678581    0.3  \n",
       "2  1.0   8.262408    0.3  \n",
       "3  0.0   7.884462    0.3  \n",
       "4  1.0   8.003117    0.3  "
      ]
     },
     "execution_count": 7,
     "metadata": {},
     "output_type": "execute_result"
    }
   ],
   "source": [
    "dh.head()"
   ]
  },
  {
   "cell_type": "markdown",
   "metadata": {},
   "source": [
    "### 1.2 Observational data \n",
    "\n",
    "Data get from <a href=\"http://exoplanet.eu/\">exoplanet.eu</a>"
   ]
  },
  {
   "cell_type": "code",
   "execution_count": 8,
   "metadata": {},
   "outputs": [],
   "source": [
    "data_o = pd.read_csv('data/exoplanet.eu_catalog.csv', \n",
    "                       usecols = ['mass','mass_error_min','semi_major_axis','semi_major_axis_error_min','star_name',\n",
    "                                  'star_metallicity','star_metallicity_error_min','star_mass','star_mass_error_min'])\n",
    "\n",
    "data_o = data_o.replace([np.inf, -np.inf], np.nan) \n",
    "data_o = data_o.replace([0], np.nan)\n",
    "data_o = data_o.dropna()"
   ]
  },
  {
   "cell_type": "code",
   "execution_count": 9,
   "metadata": {},
   "outputs": [],
   "source": [
    "data_o = data_o[['star_name','mass','mass_error_min', 'semi_major_axis', 'semi_major_axis_error_min', \n",
    "                 'star_metallicity', 'star_metallicity_error_min', 'star_mass', 'star_mass_error_min']]\n",
    "\n",
    "data_o = data_o.assign(CM_i = data_o[\"semi_major_axis\"]*data_o[\"mass\"])\n",
    "data_o = data_o.assign(dCM_i= data_o[\"CM_i\"]*(data_o[\"mass_error_min\"].divide(data_o[\"mass\"])+data_o[\"semi_major_axis_error_min\"].divide(data_o[\"semi_major_axis\"])))"
   ]
  },
  {
   "cell_type": "code",
   "execution_count": 10,
   "metadata": {},
   "outputs": [],
   "source": [
    "number=(data_o[\"star_name\"].value_counts()).to_frame()"
   ]
  },
  {
   "cell_type": "code",
   "execution_count": 11,
   "metadata": {},
   "outputs": [],
   "source": [
    "def NewData(data):\n",
    "   \n",
    "    p_system = data.groupby(\"star_name\")\n",
    "    \n",
    "    Mtp   = p_system['mass'].sum();             dMtp   = p_system['mass_error_min'].sum();  \n",
    "    ms    = p_system['star_mass'].mean();        dms    = p_system['star_mass_error_min'].mean()\n",
    "    metal = p_system['star_metallicity'].mean(); dmetal = p_system['star_metallicity_error_min'].mean()\n",
    "    \n",
    "    \n",
    "    CoM  = p_system['CM_i'].sum().divide(p_system[\"mass\"].sum())\n",
    "    dCoM = CoM*((p_system['dCM_i'].sum()/p_system['CM_i'].sum()) + (p_system['mass_error_min'].sum())/p_system['mass'].sum())\n",
    "    \n",
    "    NewData = pd.DataFrame({'sys_name':list(p_system.groups.keys()),\n",
    "                            'Mtp':Mtp, 'dMtp':dMtp,\n",
    "                            'com':CoM.tolist(), 'dcom':dCoM.tolist(), \n",
    "                            'ms':ms, 'dms':dms, 'metal':metal, 'dmetal':dmetal})\n",
    "    return NewData"
   ]
  },
  {
   "cell_type": "code",
   "execution_count": 12,
   "metadata": {},
   "outputs": [],
   "source": [
    "obs_data = NewData(data_o)\n",
    "obs_data = obs_data.assign(n_planets = number)\n",
    "obs_data = obs_data.sort_values(by=['n_planets'], ascending=False)"
   ]
  },
  {
   "cell_type": "code",
   "execution_count": 13,
   "metadata": {},
   "outputs": [],
   "source": [
    "#obs_data.to_csv(r\"data/observations.csv\", index = False)"
   ]
  },
  {
   "cell_type": "code",
   "execution_count": 14,
   "metadata": {},
   "outputs": [],
   "source": [
    "#system_i = data_o[data_o.star_name == \"Kepler-289\"]  \n",
    "#system_i"
   ]
  },
  {
   "cell_type": "markdown",
   "metadata": {},
   "source": [
    "## 2. Posterior probability \n",
    "\n",
    "At first example we take the system \"Kepler-289\" to get the prior information of stellar mass `ms` and its metallicity `metal`, reported in the catalog of <a href=\"http://exoplanet.eu/\">exoplanet.eu</a>"
   ]
  },
  {
   "cell_type": "code",
   "execution_count": 15,
   "metadata": {},
   "outputs": [
    {
     "data": {
      "text/html": [
       "<div>\n",
       "<style scoped>\n",
       "    .dataframe tbody tr th:only-of-type {\n",
       "        vertical-align: middle;\n",
       "    }\n",
       "\n",
       "    .dataframe tbody tr th {\n",
       "        vertical-align: top;\n",
       "    }\n",
       "\n",
       "    .dataframe thead th {\n",
       "        text-align: right;\n",
       "    }\n",
       "</style>\n",
       "<table border=\"1\" class=\"dataframe\">\n",
       "  <thead>\n",
       "    <tr style=\"text-align: right;\">\n",
       "      <th></th>\n",
       "      <th>sys_name</th>\n",
       "      <th>Mtp</th>\n",
       "      <th>dMtp</th>\n",
       "      <th>com</th>\n",
       "      <th>dcom</th>\n",
       "      <th>ms</th>\n",
       "      <th>dms</th>\n",
       "      <th>metal</th>\n",
       "      <th>dmetal</th>\n",
       "      <th>n_planets</th>\n",
       "    </tr>\n",
       "    <tr>\n",
       "      <th>star_name</th>\n",
       "      <th></th>\n",
       "      <th></th>\n",
       "      <th></th>\n",
       "      <th></th>\n",
       "      <th></th>\n",
       "      <th></th>\n",
       "      <th></th>\n",
       "      <th></th>\n",
       "      <th></th>\n",
       "      <th></th>\n",
       "    </tr>\n",
       "  </thead>\n",
       "  <tbody>\n",
       "    <tr>\n",
       "      <th>Kepler-289</th>\n",
       "      <td>Kepler-289</td>\n",
       "      <td>0.451</td>\n",
       "      <td>0.077</td>\n",
       "      <td>0.489512</td>\n",
       "      <td>0.184174</td>\n",
       "      <td>1.08</td>\n",
       "      <td>0.02</td>\n",
       "      <td>0.05</td>\n",
       "      <td>0.04</td>\n",
       "      <td>3</td>\n",
       "    </tr>\n",
       "  </tbody>\n",
       "</table>\n",
       "</div>"
      ],
      "text/plain": [
       "              sys_name    Mtp   dMtp       com      dcom    ms   dms  metal  \\\n",
       "star_name                                                                     \n",
       "Kepler-289  Kepler-289  0.451  0.077  0.489512  0.184174  1.08  0.02   0.05   \n",
       "\n",
       "            dmetal  n_planets  \n",
       "star_name                      \n",
       "Kepler-289    0.04          3  "
      ]
     },
     "execution_count": 15,
     "metadata": {},
     "output_type": "execute_result"
    }
   ],
   "source": [
    "systm = obs_data[obs_data.sys_name == \"Kepler-289\"] \n",
    "systm"
   ]
  },
  {
   "cell_type": "markdown",
   "metadata": {},
   "source": [
    "### 2.1 Likelihood\n",
    "In our formalism, for a variable of interest $x^i_k$, the likelihood of $x^i_k$ given $\\boldsymbol\\gamma^i$, comes from the model as the sum over unknown parameters $\\boldsymbol\\alpha^i_k$,\n",
    "\n",
    "$$p\\left(x^{i}_k \\mid \\boldsymbol\\gamma^{i}\\right)= \\int p_{\\text{model}}\\left(x^{i}_k, \\boldsymbol\\alpha^{i}_k \\mid \\boldsymbol\\gamma^{i}\\right) d\\boldsymbol\\alpha^{i}_k.$$\n",
    "\n",
    "This is implemented in the notebook `optimal_pdf`."
   ]
  },
  {
   "cell_type": "code",
   "execution_count": 16,
   "metadata": {},
   "outputs": [
    {
     "name": "stdout",
     "output_type": "stream",
     "text": [
      "Importing Jupyter notebook from bandwidths.ipynb\n"
     ]
    }
   ],
   "source": [
    "import nbimporter\n",
    "from bandwidths import optimal_pdf #import the class for get the pdf."
   ]
  },
  {
   "cell_type": "markdown",
   "metadata": {},
   "source": [
    "In this example we take the variables `dng.ms`, `dng.metal` and `dng.nplanets` "
   ]
  },
  {
   "cell_type": "code",
   "execution_count": 17,
   "metadata": {},
   "outputs": [],
   "source": [
    "likelihood = optimal_pdf(dn.ms, dn.metal, dn.nplanets)\n",
    "likelihood.pdf()"
   ]
  },
  {
   "cell_type": "code",
   "execution_count": 18,
   "metadata": {},
   "outputs": [],
   "source": [
    "#likelihood.pdf_std"
   ]
  },
  {
   "cell_type": "markdown",
   "metadata": {},
   "source": [
    "### 2.2 Prior infromation\n",
    "\n",
    "The prior information $p(\\boldsymbol\\gamma^{i})$ comes from observations of individual known properties in the pseudovector $\\boldsymbol\\gamma^{i}$."
   ]
  },
  {
   "cell_type": "markdown",
   "metadata": {},
   "source": [
    "To generate a 2D prior $p(\\boldsymbol\\gamma^{i})$, we multiply a 2D matrix of ones times each prior. Here, we multiply the first prior normaly but for the second prior it is necessary to transpose the previous result. \n",
    "\n",
    "$$\\text{prior} = ((1_{n\\times n}\\times Px_n)^{t}\\times Py_n)^{t}$$\n",
    "\n",
    "Finally, we transpose the result to get the prior distribution. For more dimensions the process is the same"
   ]
  },
  {
   "cell_type": "code",
   "execution_count": 19,
   "metadata": {},
   "outputs": [],
   "source": [
    "from scipy.stats import truncnorm"
   ]
  },
  {
   "cell_type": "code",
   "execution_count": 66,
   "metadata": {},
   "outputs": [],
   "source": [
    "# per data needs a list with [mu, sigma]: \n",
    "#var1 nd var 2 are the variables from simulations args are the list [mu, sigma]:\n",
    "class prior():\n",
    "    \n",
    "    def __init__(self, var1, var2, *args):\n",
    "        self.lenght = 150\n",
    "        self.org_data = np.array(args)\n",
    "        self.pdfs = []         \n",
    "        self.data = np.vstack([var1,var2]).T\n",
    "        self.data_std = (self.data-np.mean(self.data, axis=0))/np.std(self.data, axis=0) # standarization     \n",
    "        \n",
    "\n",
    "    def prior_pdf(self):\n",
    "        self.X = []\n",
    "        for i in range(len(self.org_data)):\n",
    "            self.x = np.linspace(self.data_std[:,i].min(),\n",
    "                                 self.data_std[:,i].max(),\n",
    "                                 self.lenght)\n",
    "            pdf = stats.norm.pdf(self.x,loc = self.org_data[i][0], \n",
    "                                 scale = self.org_data[i][1])       \n",
    "            self.X.append(self.x)\n",
    "            self.pdfs.append(pdf)\n",
    "            \n",
    "        if len(self.org_data) == 2:\n",
    "            M_ones = np.ones([self.lenght, self.lenght]) \n",
    "            prior = ((M_ones*self.pdfs[0]).T*self.pdfs[1]).T     \n",
    "            \n",
    "            self.pdf_prior = prior"
   ]
  },
  {
   "cell_type": "code",
   "execution_count": 67,
   "metadata": {},
   "outputs": [],
   "source": [
    "prueba = prior(dn.ms, dn.metal, [systm.ms, systm.dms], [systm.metal,systm.dmetal])\n",
    "prueba.prior_pdf()"
   ]
  },
  {
   "cell_type": "code",
   "execution_count": 86,
   "metadata": {},
   "outputs": [],
   "source": [
    "XX = (prueba.org_data[0][0] - np.mean(prueba.data, axis = 0)[0]) / np.std(prueba.data, axis = 0)[0]\n",
    "XY = ((prueba.org_data[0][1]+prueba.org_data[0][0]) - np.mean(prueba.data, axis = 0)[0]) / np.std(prueba.data, axis = 0)[0]\n",
    "\n",
    "YY = (prueba.org_data[1][0] - np.mean(prueba.data, axis = 0)[1]) / np.std(prueba.data, axis = 0)[1]\n",
    "YX = ((prueba.org_data[1][1]+prueba.org_data[1][0]) - np.mean(prueba.data, axis = 0)[1]) / np.std(prueba.data, axis = 0)[1]"
   ]
  },
  {
   "cell_type": "code",
   "execution_count": 87,
   "metadata": {},
   "outputs": [],
   "source": [
    "delta1 = np.abs(XX - XY)\n",
    "delta2 = np.abs(YY - YX)"
   ]
  },
  {
   "cell_type": "code",
   "execution_count": 94,
   "metadata": {},
   "outputs": [],
   "source": [
    "pdf1 = stats.norm.pdf(prueba.x,loc = XX, scale = delta)\n",
    "pdf2 = stats.norm.pdf(prueba.x,loc = XX, scale = delta)\n",
    "\n",
    "M_ones = np.ones([prueba.lenght, prueba.lenght]) \n",
    "prior = ((M_ones*pdf1).T*pdf2).T     "
   ]
  },
  {
   "cell_type": "code",
   "execution_count": 96,
   "metadata": {
    "scrolled": false
   },
   "outputs": [
    {
     "data": {
      "text/plain": [
       "Text(0, 0.5, 'metallicity')"
      ]
     },
     "execution_count": 96,
     "metadata": {},
     "output_type": "execute_result"
    },
    {
     "data": {
      "image/png": "[encoded data removed]",
      "text/plain": [
       "<Figure size 1080x288 with 3 Axes>"
      ]
     },
     "metadata": {
      "needs_background": "light"
     },
     "output_type": "display_data"
    }
   ],
   "source": [
    "fig, ax = plt.subplots(1, 3, figsize=(15,4))\n",
    "fig.subplots_adjust(wspace=.3)\n",
    "lat = 13\n",
    "#1\n",
    "ax[0].plot(prueba.X[0],pdf1/pdf1.max(),label = \"prior stellar mass\")\n",
    "#ax[0].plot(likelihood.std_interval[0], prueba.pdfs[0], label = \"prior stellar mass\")\n",
    "ax[0].set_xlabel(\"stellar mass\", fontsize =lat)\n",
    "ax[0].legend(fontsize =lat)\n",
    "\n",
    "#2\n",
    "#ax[1].plot(prueba.pdfs[1], likelihood.real_interval[1], label = \"prior metallicity\")\n",
    "ax[1].plot(pdf2/pdf2.max(), prueba.X[1], label = \"prior metallicity\")\n",
    "ax[1].legend(fontsize =lat)\n",
    "#3\n",
    "ax[2].contourf(prueba.X[0], prueba.X[1], prior)\n",
    "ax[2].set_xlabel(\"stellar mass\", fontsize =lat)\n",
    "ax[2].set_ylabel(\"metallicity\", fontsize =lat)\n"
   ]
  },
  {
   "cell_type": "code",
   "execution_count": 21,
   "metadata": {},
   "outputs": [],
   "source": [
    "import matplotlib.gridspec as gridspec\n",
    "from matplotlib import rc, cm, rcParams\n",
    "from mpl_toolkits.axes_grid1.inset_locator import inset_axes\n",
    "rcParams['text.latex.preamble']=[r\"\\usepackage{amsmath}\"]"
   ]
  },
  {
   "cell_type": "markdown",
   "metadata": {},
   "source": [
    "#### prior plot\n",
    "\n",
    "Plots for the prior distribution which comes from observations"
   ]
  },
  {
   "cell_type": "code",
   "execution_count": 22,
   "metadata": {},
   "outputs": [],
   "source": [
    "def prior_2d(x, xx, y, yy, z):\n",
    "     \n",
    "    X, Y =  np.meshgrid(x,y)    \n",
    "    Z = z     \n",
    "    \n",
    "    fig, axs = plt.subplots(1, 1, figsize = (7,5), constrained_layout=True)\n",
    "    gs = gridspec.GridSpec(3, 4)\n",
    "    ax_main = plt.subplot(gs[1:, 1:3])\n",
    "    \n",
    "    plot = ax_main.contour(X, Y, Z, 10, cmap=cm.PuBu_r)\n",
    "    \n",
    "    ax_main.set_xlabel(r\"$\\alpha^{i}_{k}$\")\n",
    "\n",
    "    axins = inset_axes(ax_main, width=\"4%\", # width = 10% of parent_bbox width\n",
    "                       height=\"100%\", # height : 50%\n",
    "                       loc=6, bbox_to_anchor=(1.02, 0., 1, 1), \n",
    "                       bbox_transform=ax_main.transAxes, borderpad=0)\n",
    "    \n",
    "    cbar = plt.colorbar(plot, cax=axins)\n",
    "    cbar.set_ticks([])\n",
    "    cbar.set_label(r'$p_i$', fontsize=lat)\n",
    "\n",
    "    ax_main.legend(loc=1, bbox_to_anchor=[0.95,0.95])\n",
    "    gs.update(wspace=0.05, hspace=0.05) #spaces\n",
    "\n",
    "    #---------------------------------Marginal-------------------------------------\n",
    "    \n",
    "    ax_xDist = plt.subplot(gs[0, 1:3])#,sharex=ax_main)  #Xdistribution with shared axis\n",
    "    ax_yDist = plt.subplot(gs[1:3, 0:1],sharey=ax_main) #Ydistribution with shared axis\n",
    "\n",
    "    #z = Z.sum(axis=0)\n",
    "\n",
    "    ax_xDist.plot(x,xx,color='C0')\n",
    "\n",
    "    #ax_xDist.set_xticks([]);\n",
    "    #ax_xDist.set_xticks(loc)\n",
    "    #ax_xDist.set_xticklabels(label, fontsize = lat-.5)\n",
    "    #ax_xDist.set_yticks([]) # no numbers on ticks\n",
    "    #ax_yDist.set_xticks([]); \n",
    "    \n",
    "    ax_yDist.set_ylabel(r\"$x^{i}_{k}$\")\n",
    "\n",
    "\n",
    "    ax_yDist.plot(y,yy, color='C4')\n",
    "    ax_yDist.invert_xaxis()\n",
    "    #ax_yDist.legend(fontsize=lat, loc=2); ax_xDist.legend(fontsize=lat)\n",
    "\n",
    "    #plt.savefig(\"Figures/join.pdf\", bbox_inches='tight')\n",
    "    plt.show()\n"
   ]
  },
  {
   "cell_type": "code",
   "execution_count": 23,
   "metadata": {
    "scrolled": true
   },
   "outputs": [
    {
     "name": "stderr",
     "output_type": "stream",
     "text": [
      "No handles with labels found to put in legend.\n"
     ]
    },
    {
     "data": {
      "image/png": "[encoded data removed]",
      "text/plain": [
       "<Figure size 504x360 with 4 Axes>"
      ]
     },
     "metadata": {
      "needs_background": "light"
     },
     "output_type": "display_data"
    }
   ],
   "source": [
    "prior_2d(likelihood.real_interval[0], prueba.pdfs[0], \n",
    "         likelihood.real_interval[1], prueba.pdfs[1], prueba.pdf_prior)"
   ]
  },
  {
   "cell_type": "code",
   "execution_count": null,
   "metadata": {},
   "outputs": [],
   "source": []
  },
  {
   "cell_type": "code",
   "execution_count": null,
   "metadata": {},
   "outputs": [],
   "source": []
  },
  {
   "cell_type": "code",
   "execution_count": null,
   "metadata": {},
   "outputs": [],
   "source": []
  },
  {
   "cell_type": "code",
   "execution_count": null,
   "metadata": {},
   "outputs": [],
   "source": []
  },
  {
   "cell_type": "markdown",
   "metadata": {},
   "source": [
    "### 2.3 Posterior and marginal distributions\n",
    "\n",
    "#### Posterior\n",
    "\n",
    "The posterior distribution comes form Bayes Theorem, then in our formalims:\n",
    "\n",
    "$$p^\\prime\\left(x^{i}_k \\mid \\boldsymbol\\gamma^{i}\\right) \\propto p\\left(x^{i}_k \\mid \\boldsymbol\\gamma^{i}\\right) p(\\boldsymbol\\gamma^{i})$$\n",
    "\n",
    "In therms of the length of data \n",
    "\n",
    "$$\\boxed{\\text{posterior}_{lmn} \\propto \\text{likelihood}_{lmn} \\times \\text{prior}_{mn}}$$\n",
    "\n",
    "Sum the posterior over $l$ is the `axis=0`, $n$ means the `axis=1` and $n$ is the `axis=2`. Finally if we normalize the posterior the above equation becomes into equality.  \n",
    "\n",
    "So, the posterior is the product of a likelihood with shape $l=100$, $m=100$ and $n=100$ times the prior with shape $m=100$ and $n=100$: "
   ]
  },
  {
   "cell_type": "code",
   "execution_count": 24,
   "metadata": {},
   "outputs": [],
   "source": [
    "# likelihood is an object from \"class optimal_pdf\"\n",
    "# prior is an object from class \"prior\"\n",
    "\n",
    "def posterior(likelihood,prior):\n",
    "    \n",
    "    diff = [np.abs(likelihood.data_std[:,i][1] - likelihood.data_std[:,i][0]) for i in range(len(likelihood.data_std[0]))] \n",
    "\n",
    "    post = (likelihood.pdf_std.T*prior.pdf_prior.T).T\n",
    "    \n",
    "    \n",
    "    if likelihood.dim == 3:\n",
    "        norm = ((post.sum(axis=0)*(diff[0])).sum(axis=0)*(diff[1])).sum()*(diff[2])\n",
    "    \n",
    "    elif likelihood.dim == 4:\n",
    "        norm = (((post.sum(axis=0)*(diff[0])).sum(axis=0)*(diff[1])).sum(axis=0)*(diff[2])).sum()*diff[3]\n",
    "    \n",
    "    #print((((post/norm)*diff[0]).sum(axis=0)*diff[1]).sum()*diff[2])\n",
    "    \n",
    "    return post/norm"
   ]
  },
  {
   "cell_type": "code",
   "execution_count": 25,
   "metadata": {},
   "outputs": [],
   "source": [
    "pr = prior(dn.ms, dn.metal, [systm.ms, systm.dms], [systm.metal,systm.dmetal])\n",
    "pr.prior_pdf()"
   ]
  },
  {
   "cell_type": "code",
   "execution_count": 26,
   "metadata": {},
   "outputs": [],
   "source": [
    "post = posterior(likelihood, pr)"
   ]
  },
  {
   "cell_type": "code",
   "execution_count": 27,
   "metadata": {},
   "outputs": [],
   "source": [
    "#import plotly.graph_objects as go\n",
    "#from plotly.subplots import make_subplots\n",
    "\n",
    "#fig = go.Figure(data=go.Volume(\n",
    "#    x=likelihood.std_grid[0].flatten(),\n",
    "#    y=likelihood.std_grid[0].flatten(),\n",
    "#    z=likelihood.std_grid[0].flatten(),\n",
    "#    value=post.flatten(),\n",
    "#    opacity=0.15,     # needs to be small to see through all surfaces\n",
    "#    surface_count=20, # needs to be a large number for good volume rendering\n",
    "#    ))\n",
    "#fig.write_image(\"images/fig1.pdf\")"
   ]
  },
  {
   "cell_type": "markdown",
   "metadata": {},
   "source": [
    "#### Marginal distriution \n",
    "\n",
    "The parginal distribution for a variable of interest is, \n",
    "\n",
    "$$p\\left(x^{i}_{k}\\right)=\\int p\\left(x^{i}_{k} \\mid \\boldsymbol\\gamma^{i}\\right) p(\\boldsymbol\\gamma^{i})\\ d\\boldsymbol\\gamma^{i}.$$\n",
    "\n",
    "in other words, \n",
    "\n",
    "$$p\\left(x^{i}_{k}\\right)=\\sum_{j=1}^{n} p\\left(x^{i}_{k_j} \\mid \\boldsymbol\\gamma^{i}_j\\right) p\\left(\\boldsymbol\\gamma^{i}_j\\right)\\ \\Delta \\boldsymbol\\gamma^{i}_j.$$\n",
    "\n",
    "\n",
    "\n",
    "In our example, we take stellar mass, metallicity and number of planets. The likelihood came from giant planets obervations without perturbations in its disk structure. \n",
    "\n",
    "We will get the marginal distribution $p(x^i_k)$ for our variable of interest $x^{i}_k$ which is the number of planets in the system \"Kepler-289\".\n",
    "\n",
    "\n",
    "\n",
    "\n",
    "\n"
   ]
  },
  {
   "cell_type": "code",
   "execution_count": 28,
   "metadata": {},
   "outputs": [],
   "source": [
    "def marginal(posterior, likelihood):\n",
    "    \n",
    "    diff = [np.abs(likelihood.data_std[:,i][1] - likelihood.data_std[:,i][0]) for i in range(len(likelihood.data_std[0]))] \n",
    "    #print(diff)\n",
    "    M  = (posterior.sum(axis=0)*diff[0]).sum(axis=0)*diff[1]\n",
    "    \n",
    "    dz = np.abs(likelihood.real_interval[2][1]-likelihood.real_interval[2][0])\n",
    "    #dz=diff[2] \n",
    "    \n",
    "    norm = (M*dz).sum()\n",
    "    marginal = M/norm # norm in the real space to work the variable in it space\n",
    "    \n",
    "    #print((marginal*dz).sum())\n",
    "    \n",
    "    return marginal"
   ]
  },
  {
   "cell_type": "code",
   "execution_count": 29,
   "metadata": {},
   "outputs": [],
   "source": [
    "Np_marginal = marginal(post, likelihood)"
   ]
  },
  {
   "cell_type": "code",
   "execution_count": 30,
   "metadata": {},
   "outputs": [],
   "source": [
    "dz = likelihood.real_interval[2][1]-likelihood.real_interval[2][0]\n",
    "mean = (Np_marginal*likelihood.real_interval[2]*(dz)).sum()"
   ]
  },
  {
   "cell_type": "code",
   "execution_count": 31,
   "metadata": {},
   "outputs": [],
   "source": [
    "std = ((Np_marginal)*((likelihood.real_interval[2]-mean)**2)*dz).sum()**(1/2.)"
   ]
  },
  {
   "cell_type": "code",
   "execution_count": 32,
   "metadata": {},
   "outputs": [],
   "source": [
    "inte = np.cumsum(Np_marginal)*dz\n",
    "\n",
    "p_25 = likelihood.real_interval[2][np.argmin((inte-0.25)**2)]\n",
    "p_50 = likelihood.real_interval[2][np.argmin((inte-0.50)**2)]\n",
    "p_75 = likelihood.real_interval[2][np.argmin((inte-0.75)**2)]"
   ]
  },
  {
   "cell_type": "code",
   "execution_count": 33,
   "metadata": {
    "scrolled": true
   },
   "outputs": [
    {
     "data": {
      "text/plain": [
       "<matplotlib.legend.Legend at 0x7fc421273580>"
      ]
     },
     "execution_count": 33,
     "metadata": {},
     "output_type": "execute_result"
    },
    {
     "data": {
      "image/png": "[encoded data removed]",
      "text/plain": [
       "<Figure size 1080x288 with 2 Axes>"
      ]
     },
     "metadata": {
      "needs_background": "light"
     },
     "output_type": "display_data"
    }
   ],
   "source": [
    "fig, ax = plt.subplots(1, 2, figsize=(15,4))\n",
    "\n",
    "ax[0].plot(likelihood.real_interval[2], Np_marginal/Np_marginal.max(), label=\"p(nplanets)\")\n",
    "ax[0].set_xlabel(\"nplanets\")\n",
    "ax[0].set_ylabel(\"distribution\")\n",
    "ax[0].axvline(x = systm.n_planets.values, ls='--', c=\"k\", label = \"Observed planets = 3\")\n",
    "ax[0].axvline(x = mean, ls='--', c=\"C1\", label = r\"$\\mu = 11$\")\n",
    "ax[0].axvline(x = mean+std, ls=':', c=\"C1\", label = r\"$\\sigma$\")\n",
    "ax[0].axvline(x = mean+2*std, ls=':', c=\"C2\", label = r\"$2\\sigma$\")\n",
    "ax[0].axvline(x = mean-2*std, ls=':', c=\"C2\")\n",
    "ax[0].legend()\n",
    "\n",
    "\n",
    "ax[1].plot(likelihood.real_interval[2], Np_marginal/Np_marginal.max(), label=\"p(nplanets)\")\n",
    "ax[1].set_xlabel(\"nplanets\")\n",
    "ax[1].set_ylabel(\"distribution\")\n",
    "\n",
    "ax[1].axvline(x = systm.n_planets.values, ls='--', c=\"k\", label = \"Observed planets = 3\")\n",
    "ax[1].axvline(x = p_25, ls='--', c=\"C1\", label = r\"$25\\%$\")\n",
    "ax[1].axvline(x = p_50, ls='--', c=\"C2\", label = r\"$50\\%$\")\n",
    "ax[1].axvline(x = p_75, ls='--', c=\"C3\", label = r\"$75\\%$\")\n",
    "\n",
    "ax[1].legend()"
   ]
  },
  {
   "cell_type": "markdown",
   "metadata": {},
   "source": [
    "#### Posterior and marginal distributions - the class and its methods"
   ]
  },
  {
   "cell_type": "code",
   "execution_count": 34,
   "metadata": {},
   "outputs": [],
   "source": [
    "#like and prior are pdfs from prior class and optimal_pdf class.\n",
    "#args are the variables in the same order than likelihood.\n",
    "\n",
    "class Marginal():\n",
    "    \n",
    "    def __init__(self, like, prior, *args):\n",
    "                \n",
    "        self.like = like; self.prior= prior \n",
    "        self.space = [np.linspace(args[i].min(),args[i].max(), \n",
    "                                  150) for i in range(len(args))]\n",
    "    \n",
    "        self.data = np.vstack([*args]).T\n",
    "        self.data_std = (self.data-np.mean(self.data, axis=0))/np.std(self.data, axis=0) # standarization\n",
    "        \n",
    "        self.diff  = [np.abs(self.data_std[:,i][1]-self.data_std[:,i][0]) for i in range(len(self.data_std[0]))] \n",
    "        self.dz = np.abs(self.space[2][1]-self.space[2][0])\n",
    "        self.z = self.space[2]\n",
    "        \n",
    "    def posterior(self):\n",
    "        post = (self.like.T*self.prior.T).T\n",
    "        norm = ((post.sum(axis=0)*(self.diff[0])).sum(axis=0)*(self.diff[1])).sum()*(self.diff[2])\n",
    "        self.post = post/norm\n",
    "    \n",
    "    def pdf(self):\n",
    "        self.posterior()\n",
    "        M  = (self.post.sum(axis=0)*self.diff[0]).sum(axis=0)*self.diff[1]\n",
    "        norm = (M*self.dz).sum()\n",
    "        self.marginal = M/norm\n",
    "\n",
    "        inte = np.cumsum(self.marginal)*self.dz\n",
    "\n",
    "        self.z_mean = (self.marginal*self.z*self.dz).sum()\n",
    "        self.z_std  = ((self.marginal)*((self.z-self.z_mean)**2)*self.dz).sum()**(1/2.)\n",
    "        \n",
    "        self.p_25 = self.z[np.argmin((inte-0.25)**2)]\n",
    "        self.p_50 = self.z[np.argmin((inte-0.50)**2)]\n",
    "        self.p_75 = self.z[np.argmin((inte-0.75)**2)]\n",
    "        \n",
    "        #return self.marginal"
   ]
  },
  {
   "cell_type": "code",
   "execution_count": 35,
   "metadata": {},
   "outputs": [],
   "source": [
    "def m_plot(marginal, name, i = False, sci = False, lims = []):\n",
    "    \n",
    "    like_z = marginal.space[2]\n",
    "    lat = 15\n",
    "    plt.plot(like_z, marginal.marginal/marginal.marginal.max(), \n",
    "             label = r\"Distribution\")\n",
    "    if i == True: \n",
    "        plt.axvline(x = round(marginal.p_25), ls='--', c=\"C1\",\n",
    "                    label = \"25\\% = \" + str(int(round(marginal.p_25))))\n",
    "        plt.axvline(x = round(marginal.p_50), ls='--', c=\"C2\", \n",
    "                    label = \"50\\% = \" + str(int(round(marginal.p_50))))\n",
    "        plt.axvline(x = round(marginal.p_75), ls='--', c=\"C3\", \n",
    "                    label = \"75\\% = \" + str(int(round(marginal.p_75))))\n",
    "    elif sci ==True:    \n",
    "        plt.axvline(x = marginal.p_25, ls='--', c=\"C1\", \n",
    "                    label = \"25\\% = \" + \"{:.2e}\".format(marginal.p_25))\n",
    "        plt.axvline(x = marginal.p_50, ls='--', c=\"C2\", \n",
    "                    label = \"50\\% = \" + \"{:.2e}\".format(marginal.p_50))\n",
    "        plt.axvline(x = marginal.p_75, ls='--', c=\"C3\", \n",
    "                    label = \"75\\% = \" + \"{:.2e}\".format(marginal.p_75))\n",
    "    \n",
    "    elif lims:\n",
    "        plt.xlim(lims[0], lims[1])\n",
    "        plt.axvline(x = marginal.p_25, ls='--', c=\"C1\", \n",
    "                    label = \"25\\% = \" + \"%.3f\"%marginal.p_25)\n",
    "        plt.axvline(x = marginal.p_50, ls='--', c=\"C2\", \n",
    "                    label = \"50\\% = \" + \"%.3f\"%marginal.p_50)\n",
    "        plt.axvline(x = marginal.p_75, ls='--', c=\"C3\", \n",
    "                    label = \"75\\% = \" + \"%.3f\"%marginal.p_75)\n",
    "    \n",
    "    else: \n",
    "        plt.axvline(x = marginal.p_25, ls='--', c=\"C1\", \n",
    "                    label = \"25\\% = \" + \"%.3f\"%marginal.p_25)\n",
    "        plt.axvline(x = marginal.p_50, ls='--', c=\"C2\", \n",
    "                    label = \"50\\% = \" + \"%.3f\"%marginal.p_50)\n",
    "        plt.axvline(x = marginal.p_75, ls='--', c=\"C3\", \n",
    "                    label = \"75\\% = \" + \"%.3f\"%marginal.p_75)\n",
    "    \n",
    "    #plt.axhline(0.25, lw=.5, ls=\":\")\n",
    "    #plt.axhline(0.5, lw=.5, ls=\":\")\n",
    "    #plt.axhline(0.75, lw=.5, ls=\":\")\n",
    "    #plt.plot(like_z, np.cumsum(marginal.marginal)*marginal.dz)\n",
    "    #plt.xticks(fontsize= lat-2); plt.yticks(fontsize= lat-2)\n",
    "\n",
    "    plt.xlabel(str(name), fontsize=lat+1)\n",
    "    \n",
    "    plt.tick_params(axis='both', which='minor', labelsize=lat-1)\n",
    "    plt.legend(fontsize=lat-1)"
   ]
  },
  {
   "cell_type": "markdown",
   "metadata": {},
   "source": [
    "# Marginal plots\n",
    "\n",
    "Below are marginal plots of the selected systems.\n",
    "The simulation information"
   ]
  },
  {
   "cell_type": "code",
   "execution_count": 36,
   "metadata": {},
   "outputs": [],
   "source": [
    "dn = pd.read_csv('data/no_p.csv',index_col=None)\n",
    "dl = pd.read_csv('data/low_p.csv',index_col=None)\n",
    "dh = pd.read_csv('data/high_p.csv',index_col=None)"
   ]
  },
  {
   "cell_type": "code",
   "execution_count": 37,
   "metadata": {},
   "outputs": [
    {
     "data": {
      "text/html": [
       "<div>\n",
       "<style scoped>\n",
       "    .dataframe tbody tr th:only-of-type {\n",
       "        vertical-align: middle;\n",
       "    }\n",
       "\n",
       "    .dataframe tbody tr th {\n",
       "        vertical-align: top;\n",
       "    }\n",
       "\n",
       "    .dataframe thead th {\n",
       "        text-align: right;\n",
       "    }\n",
       "</style>\n",
       "<table border=\"1\" class=\"dataframe\">\n",
       "  <thead>\n",
       "    <tr style=\"text-align: right;\">\n",
       "      <th></th>\n",
       "      <th>ms</th>\n",
       "      <th>metal</th>\n",
       "      <th>md</th>\n",
       "      <th>taugas</th>\n",
       "      <th>com</th>\n",
       "      <th>Mtp</th>\n",
       "      <th>Mjup</th>\n",
       "      <th>Mrock</th>\n",
       "      <th>nplanets</th>\n",
       "      <th>ngi</th>\n",
       "      <th>npt</th>\n",
       "    </tr>\n",
       "  </thead>\n",
       "  <tbody>\n",
       "    <tr>\n",
       "      <th>0</th>\n",
       "      <td>0.880114</td>\n",
       "      <td>0.328146</td>\n",
       "      <td>0.056</td>\n",
       "      <td>1.644711e+06</td>\n",
       "      <td>1.081461</td>\n",
       "      <td>0.032311</td>\n",
       "      <td>13.536323</td>\n",
       "      <td>6454.676716</td>\n",
       "      <td>10.0</td>\n",
       "      <td>4.0</td>\n",
       "      <td>6.0</td>\n",
       "    </tr>\n",
       "    <tr>\n",
       "      <th>1</th>\n",
       "      <td>1.075269</td>\n",
       "      <td>-0.150160</td>\n",
       "      <td>0.110</td>\n",
       "      <td>1.014449e+06</td>\n",
       "      <td>2.932894</td>\n",
       "      <td>0.000054</td>\n",
       "      <td>0.000000</td>\n",
       "      <td>17.861989</td>\n",
       "      <td>12.0</td>\n",
       "      <td>0.0</td>\n",
       "      <td>12.0</td>\n",
       "    </tr>\n",
       "    <tr>\n",
       "      <th>2</th>\n",
       "      <td>0.861595</td>\n",
       "      <td>0.021273</td>\n",
       "      <td>0.120</td>\n",
       "      <td>1.790533e+06</td>\n",
       "      <td>0.110789</td>\n",
       "      <td>0.007267</td>\n",
       "      <td>0.634259</td>\n",
       "      <td>2217.900297</td>\n",
       "      <td>12.0</td>\n",
       "      <td>1.0</td>\n",
       "      <td>11.0</td>\n",
       "    </tr>\n",
       "    <tr>\n",
       "      <th>3</th>\n",
       "      <td>1.076658</td>\n",
       "      <td>-0.282408</td>\n",
       "      <td>0.150</td>\n",
       "      <td>6.017040e+06</td>\n",
       "      <td>5.740174</td>\n",
       "      <td>0.000024</td>\n",
       "      <td>0.000000</td>\n",
       "      <td>8.156892</td>\n",
       "      <td>9.0</td>\n",
       "      <td>0.0</td>\n",
       "      <td>9.0</td>\n",
       "    </tr>\n",
       "    <tr>\n",
       "      <th>4</th>\n",
       "      <td>1.206445</td>\n",
       "      <td>-0.174039</td>\n",
       "      <td>0.170</td>\n",
       "      <td>3.956708e+06</td>\n",
       "      <td>0.172211</td>\n",
       "      <td>0.008716</td>\n",
       "      <td>0.702237</td>\n",
       "      <td>2678.844363</td>\n",
       "      <td>13.0</td>\n",
       "      <td>1.0</td>\n",
       "      <td>12.0</td>\n",
       "    </tr>\n",
       "  </tbody>\n",
       "</table>\n",
       "</div>"
      ],
      "text/plain": [
       "         ms     metal     md        taugas       com       Mtp       Mjup  \\\n",
       "0  0.880114  0.328146  0.056  1.644711e+06  1.081461  0.032311  13.536323   \n",
       "1  1.075269 -0.150160  0.110  1.014449e+06  2.932894  0.000054   0.000000   \n",
       "2  0.861595  0.021273  0.120  1.790533e+06  0.110789  0.007267   0.634259   \n",
       "3  1.076658 -0.282408  0.150  6.017040e+06  5.740174  0.000024   0.000000   \n",
       "4  1.206445 -0.174039  0.170  3.956708e+06  0.172211  0.008716   0.702237   \n",
       "\n",
       "         Mrock  nplanets  ngi   npt  \n",
       "0  6454.676716      10.0  4.0   6.0  \n",
       "1    17.861989      12.0  0.0  12.0  \n",
       "2  2217.900297      12.0  1.0  11.0  \n",
       "3     8.156892       9.0  0.0   9.0  \n",
       "4  2678.844363      13.0  1.0  12.0  "
      ]
     },
     "execution_count": 37,
     "metadata": {},
     "output_type": "execute_result"
    }
   ],
   "source": [
    "dn.head()"
   ]
  },
  {
   "cell_type": "markdown",
   "metadata": {},
   "source": [
    "Now we reshape the likelihood pdf for each variable:"
   ]
  },
  {
   "cell_type": "code",
   "execution_count": null,
   "metadata": {},
   "outputs": [],
   "source": [
    "Md  = pd.read_csv('data/likelihoods/like_md.csv',index_col=None)\n",
    "#tau = pd.read_csv('data/likelihoods/like_tgas.csv',index_col=None)\n",
    "#com = pd.read_csv('data/likelihoods/like_com.csv',index_col=None)\n",
    "#mtp = pd.read_csv('data/likelihoods/like_Mtp.csv',index_col=None)\n",
    "#mjup= pd.read_csv('data/likelihoods/like_Mjup.csv',index_col=None)\n",
    "#mrock = pd.read_csv('data/likelihoods/like_Mrock.csv',index_col=None)\n",
    "#ngi = pd.read_csv('data/likelihoods/like_ngi.csv',index_col=None)\n",
    "#ntp = pd.read_csv('data/likelihoods/like_ntp.csv',index_col=None)\n",
    "#nplanets = pd.read_csv('data/likelihoods/like_nplanets.csv',index_col=None)"
   ]
  },
  {
   "cell_type": "code",
   "execution_count": null,
   "metadata": {},
   "outputs": [],
   "source": [
    "# 1 to 4 because of the number of columns in DataFrames \n",
    "like_Md  = [Md[str(Md.columns[i])].values.reshape(150,150,150) for i in range(1,4)]\n",
    "#like_tau = [tau[str(tau.columns[i])].values.reshape(150,150,150) for i in range(1,4)]\n",
    "#like_com = [com[str(com.columns[i])].values.reshape(150,150,150) for i in range(1,4)]\n",
    "#like_mtp = [mtp[str(mtp.columns[i])].values.reshape(150,150,150) for i in range(1,4)]\n",
    "#like_mjup = [mjup[str(mjup.columns[i])].values.reshape(150,150,150) for i in range(1,4)]\n",
    "#like_mrock = [mrock[str(mrock.columns[i])].values.reshape(150,150,150) for i in range(1,4)]\n",
    "#like_ngi = [ngi[str(ngi.columns[i])].values.reshape(150,150,150) for i in range(1,4)]\n",
    "#like_ntp = [ntp[str(ntp.columns[i])].values.reshape(150,150,150) for i in range(1,4)]\n",
    "#like_nplanets = [nplanets[str(nplanets.columns[i])].values.reshape(150,150,150) for i in range(1,4)]\n",
    "\n",
    "likelihoods = [like_Md]#, like_tau, like_com, like_mtp, like_mjup, \n",
    "               #like_mrock, like_ngi, like_ntp, like_nplanets]"
   ]
  },
  {
   "cell_type": "markdown",
   "metadata": {},
   "source": [
    "## Kepler-289 \n",
    "\n",
    "this is just and example of  number of plants"
   ]
  },
  {
   "cell_type": "code",
   "execution_count": null,
   "metadata": {},
   "outputs": [],
   "source": [
    "# System and Prior:\n",
    "systm = obs_data[obs_data.sys_name == \"Kepler-289\"] \n",
    "\n",
    "prior_keplern = prior(dn.ms, dn.metal, \n",
    "                     [systm.ms, systm.dms], \n",
    "                     [systm.metal,systm.dmetal])\n",
    "\n",
    "prior_keplern.prior_pdf()\n",
    "prior_keplern = prior_keplern.pdf_prior\n",
    "\n",
    "prior_keplerl = prior(dl.ms, dl.metal, \n",
    "                     [systm.ms, systm.dms], \n",
    "                     [systm.metal,systm.dmetal])\n",
    "\n",
    "prior_keplerl.prior_pdf()\n",
    "prior_keplerl = prior_keplerl.pdf_prior\n",
    "\n",
    "prior_keplerh = prior(dh.ms, dh.metal, \n",
    "                     [systm.ms, systm.dms], \n",
    "                     [systm.metal,systm.dmetal])\n",
    "\n",
    "prior_keplerh.prior_pdf()\n",
    "prior_keplerh = prior_keplerh.pdf_prior"
   ]
  },
  {
   "cell_type": "code",
   "execution_count": null,
   "metadata": {},
   "outputs": [],
   "source": [
    "liken = like_mrock[0]"
   ]
  },
  {
   "cell_type": "code",
   "execution_count": null,
   "metadata": {},
   "outputs": [],
   "source": [
    "likel = like_mrock[1]"
   ]
  },
  {
   "cell_type": "code",
   "execution_count": null,
   "metadata": {},
   "outputs": [],
   "source": [
    "likeh = like_mrock[2]"
   ]
  },
  {
   "cell_type": "code",
   "execution_count": null,
   "metadata": {},
   "outputs": [],
   "source": [
    "m_nplanetsn = Marginal(liken, prior_keplern, dn.ms, dn.metal, dn.Mrock)\n",
    "m_nplanetsn.pdf()\n",
    "\n",
    "m_nplanetsl = Marginal(likel, prior_keplerl, dl.ms, dl.metal, dl.Mrock)\n",
    "m_nplanetsl.pdf()\n",
    "\n",
    "m_nplanetsh = Marginal(likeh, prior_keplerh, dh.ms, dh.metal, dh.Mrock)\n",
    "m_nplanetsh.pdf()"
   ]
  },
  {
   "cell_type": "code",
   "execution_count": null,
   "metadata": {},
   "outputs": [],
   "source": [
    "fig, ax = plt.subplots(sharey='row', figsize=(16,4))\n",
    "\n",
    "plt.subplot(1,3,1)\n",
    "m_plot(m_nplanetsn, r\"mrock$_n$\", lims = [-45, 1500])\n",
    "\n",
    "plt.subplot(1,3,2)\n",
    "plt.title(\"Low perturbations\")\n",
    "m_plot(m_nplanetsl, r\"mrock$_l$\", lims = [-45, 1500])\n",
    "plt.yticks([])\n",
    "\n",
    "plt.subplot(1,3,3)\n",
    "plt.title(\"high perturbations\")\n",
    "m_plot(m_nplanetsh, r\"mrock$_h$\", lims = [-45, 1500])\n",
    "plt.yticks([])"
   ]
  },
  {
   "cell_type": "code",
   "execution_count": null,
   "metadata": {},
   "outputs": [],
   "source": [
    "dn.head()"
   ]
  },
  {
   "cell_type": "code",
   "execution_count": null,
   "metadata": {},
   "outputs": [],
   "source": [
    "mar = Marginal(like_ngi[0], prior_keplern, dn.ms, dn.metal, dn.ngi)"
   ]
  },
  {
   "cell_type": "code",
   "execution_count": null,
   "metadata": {},
   "outputs": [],
   "source": [
    "mar.pdf()"
   ]
  },
  {
   "cell_type": "code",
   "execution_count": null,
   "metadata": {},
   "outputs": [],
   "source": [
    "plt.plot(mar.space[2],mar.marginal)\n",
    "plt.xlim(-0.005,4)"
   ]
  },
  {
   "cell_type": "markdown",
   "metadata": {},
   "source": [
    "The above plots only show the marginal behavior for the number of planets according to the type of perturbation. But we wan to observe the behavior for other variables. \n",
    "\n",
    "\n",
    "### For all variables"
   ]
  },
  {
   "cell_type": "code",
   "execution_count": null,
   "metadata": {},
   "outputs": [],
   "source": [
    "import matplotlib as mpl\n",
    "\n",
    "mpl.rcParams['text.usetex'] = True\n",
    "mpl.rcParams['text.latex.preamble'] = [r'\\usepackage{amsmath}', r'\\usepackage{wasysym}']"
   ]
  },
  {
   "cell_type": "code",
   "execution_count": null,
   "metadata": {},
   "outputs": [],
   "source": [
    "data = [dn, dl, dh]\n",
    "\n",
    "likelihoods = [like_Md, like_tau, like_com, like_mtp, like_mjup, \n",
    "               like_mrock, like_nplanets, like_ngi, like_ntp]"
   ]
  },
  {
   "cell_type": "code",
   "execution_count": null,
   "metadata": {},
   "outputs": [],
   "source": [
    "#priors:\n",
    "prior_kepler = []\n",
    "\n",
    "for i in range(len(data)):\n",
    "    \n",
    "    kepler = prior(data[i][\"ms\"], data[i][\"metal\"], \n",
    "                     [systm.ms, systm.dms], \n",
    "                     [systm.metal,systm.dmetal])\n",
    "    kepler.prior_pdf()\n",
    "    \n",
    "    prior_kepler.append(kepler.pdf_prior)"
   ]
  },
  {
   "cell_type": "code",
   "execution_count": null,
   "metadata": {},
   "outputs": [],
   "source": [
    "marginals = []\n",
    "variables = [\"md\",\"taugas\",\"com\",\"Mtp\",\"Mjup\",\"Mrock\",\"nplanets\",\"ngi\",\"npt\"]\n",
    "\n",
    "for n, var in enumerate(likelihoods):\n",
    "    \n",
    "    M = []\n",
    "    \n",
    "    for  i in range(len(data)):\n",
    "        marginal = Marginal(var[i], prior_kepler[i], data[i][\"ms\"], \n",
    "                            data[i][\"metal\"], data[i][variables[n]])\n",
    "        marginal.pdf()\n",
    "        M.append(marginal)\n",
    "        \n",
    "    marginals.append(M)"
   ]
  },
  {
   "cell_type": "code",
   "execution_count": null,
   "metadata": {},
   "outputs": [],
   "source": [
    "def m3_plot(marginals, name, yname):\n",
    "    \n",
    "    lat=15\n",
    "    fig, ax = plt.subplots(sharey='row', figsize=(13,4))\n",
    "    titles = [\"No perturbations\", \"Low perturbations\", \"High perturbations\"]\n",
    "    \n",
    "    for i in range(0,3):\n",
    "        \n",
    "        plt.subplot(1,3,i+1)\n",
    "        m_plot(marginals[i], name)\n",
    "        plt.title(titles[i], fontsize = lat)\n",
    "                    \n",
    "    plt.subplots_adjust(hspace=0.35)\n",
    "    fig.tight_layout()"
   ]
  },
  {
   "cell_type": "code",
   "execution_count": null,
   "metadata": {},
   "outputs": [],
   "source": [
    "m3_plot(marginals[0], r\"Mass of Disk $M_d$ ($M_\\odot$)\", r\"$p\\left(M_d\\right)$\")"
   ]
  },
  {
   "cell_type": "code",
   "execution_count": null,
   "metadata": {},
   "outputs": [],
   "source": [
    "m3_plot(marginals[1], r\"Dissipation time $\\tau_g$ (y)\", r\"$p\\left(\\tau_g\\right)$\")"
   ]
  },
  {
   "cell_type": "code",
   "execution_count": null,
   "metadata": {},
   "outputs": [],
   "source": [
    "m3_plot(marginals[2], r\"Center of mass $r_{\\text{cm}}$ (AU)\", \n",
    "        r\"$p\\left(r_\\text{cm}\\right)$\")"
   ]
  },
  {
   "cell_type": "code",
   "execution_count": null,
   "metadata": {},
   "outputs": [],
   "source": [
    "m3_plot(marginals[3], r\"Total planetary mass $M_{tp}$ ($M_\\odot$)\", \n",
    "        r\"$p\\left(M_{tp}\\right)$\")"
   ]
  },
  {
   "cell_type": "code",
   "execution_count": null,
   "metadata": {},
   "outputs": [],
   "source": [
    "m3_plot(marginals[4], r\"Gian planetary mass $M_{\\jupiter}$ ($M_\\text{jup}$)\", \n",
    "        r\"$p\\left(M_{\\jupiter}\\right)$\")"
   ]
  },
  {
   "cell_type": "code",
   "execution_count": null,
   "metadata": {},
   "outputs": [],
   "source": [
    "m3_plot(marginals[5], r\"Rocky planetary mass $M_{r}$ ($M_{\\oplus}$)\", \n",
    "        r\"$p\\left(M_{r}\\right)$\")"
   ]
  },
  {
   "cell_type": "code",
   "execution_count": null,
   "metadata": {},
   "outputs": [],
   "source": [
    "m3_plot(marginals[6], r\"Number of total planets $N_{t}$\", \n",
    "        r\"$p\\left(N_{t}\\right)$\")"
   ]
  },
  {
   "cell_type": "code",
   "execution_count": null,
   "metadata": {},
   "outputs": [],
   "source": [
    "m3_plot(marginals[7], r\"Number of giants $N_{\\jupiter}$\", \n",
    "        r\"$p\\left(N_{\\jupiter}\\right)$\")"
   ]
  },
  {
   "cell_type": "code",
   "execution_count": null,
   "metadata": {},
   "outputs": [],
   "source": [
    "m3_plot(marginals[8], r\"Number of giants $N_{t}$\", \n",
    "        r\"$p\\left(N_{\\oplus}\\right)$\")"
   ]
  },
  {
   "cell_type": "markdown",
   "metadata": {},
   "source": [
    " ### The multiplot "
   ]
  },
  {
   "cell_type": "code",
   "execution_count": null,
   "metadata": {},
   "outputs": [],
   "source": []
  },
  {
   "cell_type": "code",
   "execution_count": null,
   "metadata": {},
   "outputs": [],
   "source": []
  },
  {
   "cell_type": "code",
   "execution_count": null,
   "metadata": {},
   "outputs": [],
   "source": []
  },
  {
   "cell_type": "code",
   "execution_count": null,
   "metadata": {},
   "outputs": [],
   "source": []
  },
  {
   "cell_type": "code",
   "execution_count": null,
   "metadata": {},
   "outputs": [],
   "source": []
  },
  {
   "cell_type": "code",
   "execution_count": null,
   "metadata": {},
   "outputs": [],
   "source": []
  },
  {
   "cell_type": "code",
   "execution_count": null,
   "metadata": {},
   "outputs": [],
   "source": []
  },
  {
   "cell_type": "code",
   "execution_count": null,
   "metadata": {},
   "outputs": [],
   "source": []
  },
  {
   "cell_type": "code",
   "execution_count": null,
   "metadata": {},
   "outputs": [],
   "source": []
  },
  {
   "cell_type": "code",
   "execution_count": null,
   "metadata": {},
   "outputs": [],
   "source": []
  },
  {
   "cell_type": "code",
   "execution_count": null,
   "metadata": {},
   "outputs": [],
   "source": []
  }
 ],
 "metadata": {
  "kernelspec": {
   "display_name": "Python 3",
   "language": "python",
   "name": "python3"
  },
  "language_info": {
   "codemirror_mode": {
    "name": "ipython",
    "version": 3
   },
   "file_extension": ".py",
   "mimetype": "text/x-python",
   "name": "python",
   "nbconvert_exporter": "python",
   "pygments_lexer": "ipython3",
   "version": "3.8.3"
  }
 },
 "nbformat": 4,
 "nbformat_minor": 4
}
